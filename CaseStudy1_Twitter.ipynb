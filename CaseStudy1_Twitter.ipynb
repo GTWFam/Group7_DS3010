{
  "cells": [
    {
      "cell_type": "markdown",
      "metadata": {
        "id": "view-in-github",
        "colab_type": "text"
      },
      "source": [
        "<a href=\"https://colab.research.google.com/github/GTWFam/Group7_DS3010/blob/main/CaseStudy1_Twitter.ipynb\" target=\"_parent\"><img src=\"https://colab.research.google.com/assets/colab-badge.svg\" alt=\"Open In Colab\"/></a>"
      ]
    },
    {
      "cell_type": "markdown",
      "metadata": {
        "id": "fsjq366HA18T"
      },
      "source": [
        "# Case Study 1 : Collecting Data from Twitter\n",
        "\n",
        "Due Date: 2/1/2022, **BEFORE the beginning of class at 2:00pm EST**\n",
        "\n",
        "## **NOTE: There are *always* last minute issues submitting the case studies.  DO NOT WAIT UNTIL THE LAST MINUTE!**"
      ]
    },
    {
      "cell_type": "markdown",
      "metadata": {
        "id": "31lTqAzjA18W"
      },
      "source": [
        "<img src=\"https://logos-download.com/wp-content/uploads/2016/02/Twitter_Logo_new-700x569.png\" width=200>"
      ]
    },
    {
      "cell_type": "markdown",
      "metadata": {
        "id": "nRnGkCSRA18X"
      },
      "source": [
        "**TEAM Members:**\n",
        "\n",
        "    Jacob Bissonette\n",
        "    Austin Franklin \n",
        "    Yuriy Kamenivskyy \n",
        "    Garrett McMerriman\n",
        "    Bill Hoang Pham"
      ]
    },
    {
      "cell_type": "markdown",
      "metadata": {
        "id": "Fxc6cgPOA18Y"
      },
      "source": [
        "**Suggested Readings:** \n",
        "* Chapter 1 and Chapter 9 of the book \"Mining the Social Web\" can help a lot if you get stuck. \n",
        "* In fact, it is intentional that many of these questions can be answered directly from there (except for question 4)!\n",
        "* The idea is to ease you into the case studies :-)\n",
        "\n",
        "**Don't forget!**\n",
        "* You will need to install the twitter library to access the Twitter API\n",
        " * pip install twitter\n",
        "* NOTE: There is a package called \"python-twitter\" which will not work with this notebook!\n",
        "\n",
        "\n",
        "** NOTE **\n",
        "* **Please don't forget to save the notebook frequently when working in IPython Notebook, otherwise the changes you made can be lost**."
      ]
    },
    {
      "cell_type": "markdown",
      "metadata": {
        "id": "e-uJJaulA18Y"
      },
      "source": [
        "# Problem 1 (20 points): Sampling Twitter Data with the Search API about a certain topic"
      ]
    },
    {
      "cell_type": "markdown",
      "metadata": {
        "id": "jWqIK-0VA18Y"
      },
      "source": [
        "* Select a topic that you are interested in, for example, \"WPI\" or \"Lady Gaga\"\n",
        "* Use Twitter Search API to sample a collection of tweets about this topic. (It would be recommended that the number of tweets should be larger than 200, but smaller than 1 million.\n",
        "* Store the tweets you downloaded into a local file (txt file or json file) "
      ]
    },
    {
      "cell_type": "code",
      "execution_count": 1,
      "metadata": {
        "colab": {
          "base_uri": "https://localhost:8080/"
        },
        "id": "UHlfqylGDAEo",
        "outputId": "7521035f-dd8a-4403-c45a-6942be71068d"
      },
      "outputs": [
        {
          "output_type": "stream",
          "name": "stdout",
          "text": [
            "Collecting twitter\n",
            "  Downloading twitter-1.19.3-py2.py3-none-any.whl (50 kB)\n",
            "\u001b[?25l\r\u001b[K     |██████▌                         | 10 kB 18.9 MB/s eta 0:00:01\r\u001b[K     |█████████████                   | 20 kB 24.9 MB/s eta 0:00:01\r\u001b[K     |███████████████████▋            | 30 kB 16.3 MB/s eta 0:00:01\r\u001b[K     |██████████████████████████      | 40 kB 11.4 MB/s eta 0:00:01\r\u001b[K     |████████████████████████████████| 50 kB 3.5 MB/s \n",
            "\u001b[?25hInstalling collected packages: twitter\n",
            "Successfully installed twitter-1.19.3\n"
          ]
        }
      ],
      "source": [
        "! pip install twitter"
      ]
    },
    {
      "cell_type": "code",
      "execution_count": 2,
      "metadata": {
        "id": "3DcAmeG9A18Z",
        "colab": {
          "base_uri": "https://localhost:8080/"
        },
        "outputId": "722c19a3-2e47-42ac-a3b0-fd3bdd5b01e8"
      },
      "outputs": [
        {
          "output_type": "stream",
          "name": "stdout",
          "text": [
            "Mounted at /content/drive\n",
            "<class 'twitter.api.Twitter'>\n"
          ]
        }
      ],
      "source": [
        "import twitter\n",
        "import json\n",
        "import pprint\n",
        "from google.colab import drive\n",
        "\n",
        "drive.mount('/content/drive')\n",
        "#---------------------------------------------\n",
        "# Define a Function to Login Twitter API\n",
        "def oauth_login():\n",
        "    # Prof. Paffenroth has a developer account for the class.  He will provide the Twitter access tokens for\n",
        "    # each team\n",
        "    # See https://developer.twitter.com/docs/auth/oauth for more information \n",
        "    # on Twitter's OAuth implementation.\n",
        "    data = {}\n",
        "    \n",
        "    with open('drive/MyDrive/ds3010_2022/credentials.txt', 'r') as f:\n",
        "        data = json.load(f)\n",
        "    CONSUMER_KEY = data[\"consumer_key\"]\n",
        "    CONSUMER_SECRET = data[\"consumer_secret\"]\n",
        "    OAUTH_TOKEN = data[\"oauth_token\"]\n",
        "    OAUTH_TOKEN_SECRET = data[\"oauth_token_secret\"]\n",
        "\n",
        "    auth = twitter.oauth.OAuth(OAUTH_TOKEN, OAUTH_TOKEN_SECRET,\n",
        "                               CONSUMER_KEY, CONSUMER_SECRET)\n",
        "    \n",
        "    twitter_api = twitter.Twitter(auth=auth)\n",
        "    return twitter_api\n",
        "\n",
        "twitter_api = oauth_login()\n",
        "print(type(twitter_api))"
      ]
    },
    {
      "cell_type": "markdown",
      "source": [
        "### Interesting opertors to improve our search for tweets!\n",
        "https://developer.twitter.com/en/docs/twitter-api/v1/tweets/search/guides/standard-operators\n"
      ],
      "metadata": {
        "id": "4_MUdn94vED4"
      }
    },
    {
      "cell_type": "code",
      "source": [
        "# query = \"nutrition -filter:retweets\"\n",
        "\n",
        "# nutrition = twitter_api.search.tweets(q=query, lang='en', count=100)\n",
        "\n",
        "# min_id = nutrition['statuses'][99]['id']\n",
        "# nutrition2 = twitter_api.search.tweets(q=query, lang='en', max_id=min_id, count=100)\n",
        "# nutrition['statuses'] += nutrition2['statuses']\n",
        "\n",
        "# min_id = nutrition2['statuses'][99]['id']\n",
        "# nutrition3 = twitter_api.search.tweets(q=query, lang='en', max_id=min_id, count=100)\n",
        "# nutrition['statuses'] += nutrition3['statuses']\n",
        "\n",
        "# data = json.dumps(nutrition, indent=1)\n",
        "\n",
        "# file = open('drive/MyDrive/ds3010_2022/nutrition.txt','w')\n",
        "# file.write(data)\n",
        "# file.close()"
      ],
      "metadata": {
        "id": "Hd9KFLwrrpac"
      },
      "execution_count": 3,
      "outputs": []
    },
    {
      "cell_type": "code",
      "source": [
        "data = {}\n",
        "with open('drive/MyDrive/ds3010_2022/nutrition.txt','r') as f:\n",
        "    data = json.load(f)\n",
        "print(len(data['statuses']))"
      ],
      "metadata": {
        "id": "9neefn0t74cb",
        "outputId": "c1c5131d-3bf0-490b-d9ac-113cff332e2f",
        "colab": {
          "base_uri": "https://localhost:8080/"
        }
      },
      "execution_count": 4,
      "outputs": [
        {
          "output_type": "stream",
          "name": "stdout",
          "text": [
            "300\n"
          ]
        }
      ]
    },
    {
      "cell_type": "markdown",
      "source": [
        "### The following code is to display the text of each tweet gathered"
      ],
      "metadata": {
        "id": "YbcI52OKLS7S"
      }
    },
    {
      "cell_type": "code",
      "source": [
        "# for i in data['statuses']:\n",
        "#     print(i['text']+\"\\n\")"
      ],
      "metadata": {
        "id": "IVIrh-p1--di"
      },
      "execution_count": 5,
      "outputs": []
    },
    {
      "cell_type": "markdown",
      "metadata": {
        "id": "BgU_ryKOA18d"
      },
      "source": [
        "### Report some statistics about the tweets you collected \n",
        "\n",
        "* The topic of interest: Nutriotion and Health\n",
        "\n",
        "\n",
        "* The total number of tweets collected:  300"
      ]
    },
    {
      "cell_type": "markdown",
      "metadata": {
        "id": "BUNy7CEJA18d"
      },
      "source": [
        "*-----------------------"
      ]
    },
    {
      "cell_type": "markdown",
      "metadata": {
        "id": "xHvwKm5sA18e"
      },
      "source": [
        "# Problem 2 (20 points): Analyzing Tweets and Tweet Entities with Frequency Analysis\n",
        "\n",
        "**1. Word Count:** \n",
        "* Use the tweets you collected in Problem 1, and compute the frequencies of the words being used in these tweets. \n",
        "* Plot a table of the top 30 words with their counts"
      ]
    },
    {
      "cell_type": "code",
      "execution_count": 6,
      "metadata": {
        "id": "V_ZHKBRuA18e",
        "colab": {
          "base_uri": "https://localhost:8080/"
        },
        "outputId": "fda3e126-af7b-4c51-b1d0-79362c1333b6"
      },
      "outputs": [
        {
          "output_type": "stream",
          "name": "stdout",
          "text": [
            "Thank you @DietitiansCAN for the Oncology Network Award Excited to share learnings from #CNSTHEMATIC22 with our gr httpstcolsbV2AqazG\n",
            "@dietitianscan\n"
          ]
        }
      ],
      "source": [
        "#----------------------------------------------\n",
        "# Your code starts here\n",
        "#   Please add comments or text cells in between to explain the general idea of each block of the code.\n",
        "#   Please feel free to add more cells below this cell if necessary\n",
        "\n",
        "# Importing regex to remove punctuation from tweets to avoid stop words in our most common table\n",
        "import re\n",
        "statuses = data['statuses']\n",
        "exclude = ['rt', 'in', 'the', 'for','of', 'to', 'and', 'a', 'is', 'are', 'on', 'from', 'that', 'this', 'these', 'with', 'what', 'it', 'if', 'or', 'but', 'your', 'be', 'you', 'my', 'at', 'its']\n",
        "\n",
        "tweet_texts = [ re.sub(r'[^\\w\\s#@]', '', tweets['text']) for tweets in statuses ]\n",
        "print(tweet_texts[0])\n",
        "words = [ w for t in tweet_texts for w in t.lower().split() ]\n",
        "words = list(filter(lambda x: x not in exclude, words))\n",
        "print(words[1])"
      ]
    },
    {
      "cell_type": "code",
      "source": [
        "from prettytable import PrettyTable\n",
        "from collections import Counter\n",
        "\n",
        "c = Counter(words)\n",
        "print(c.most_common()[:30]) # top 30\n",
        "\n",
        "pt = PrettyTable(field_names=['Word', 'Count'])\n",
        "[ pt.add_row(kv) for kv in c.most_common()[:30] ]\n",
        "pt.align['Word'], pt.align['Count'] = 'l', 'r'\n",
        "print(pt)"
      ],
      "metadata": {
        "colab": {
          "base_uri": "https://localhost:8080/"
        },
        "id": "98DqJnR6NSGJ",
        "outputId": "15cf3a6d-e6be-4350-cf96-b47599751ad3"
      },
      "execution_count": 7,
      "outputs": [
        {
          "output_type": "stream",
          "name": "stdout",
          "text": [
            "[('nutrition', 140), ('i', 39), ('food', 36), ('when', 27), ('health', 27), ('up', 27), ('#nutrition', 26), ('some', 23), ('can', 23), ('heres', 21), ('sometimes', 20), ('about', 19), ('trendyand', 19), ('trendingits', 19), ('hard', 19), ('tell', 19), ('lives', 19), ('hype', 19), ('info', 19), ('oa', 19), ('have', 16), ('amp', 16), ('how', 16), ('our', 15), ('more', 15), ('new', 15), ('not', 15), ('get', 14), ('out', 14), ('we', 14)]\n",
            "+-------------+-------+\n",
            "| Word        | Count |\n",
            "+-------------+-------+\n",
            "| nutrition   |   140 |\n",
            "| i           |    39 |\n",
            "| food        |    36 |\n",
            "| when        |    27 |\n",
            "| health      |    27 |\n",
            "| up          |    27 |\n",
            "| #nutrition  |    26 |\n",
            "| some        |    23 |\n",
            "| can         |    23 |\n",
            "| heres       |    21 |\n",
            "| sometimes   |    20 |\n",
            "| about       |    19 |\n",
            "| trendyand   |    19 |\n",
            "| trendingits |    19 |\n",
            "| hard        |    19 |\n",
            "| tell        |    19 |\n",
            "| lives       |    19 |\n",
            "| hype        |    19 |\n",
            "| info        |    19 |\n",
            "| oa          |    19 |\n",
            "| have        |    16 |\n",
            "| amp         |    16 |\n",
            "| how         |    16 |\n",
            "| our         |    15 |\n",
            "| more        |    15 |\n",
            "| new         |    15 |\n",
            "| not         |    15 |\n",
            "| get         |    14 |\n",
            "| out         |    14 |\n",
            "| we          |    14 |\n",
            "+-------------+-------+\n"
          ]
        }
      ]
    },
    {
      "cell_type": "markdown",
      "metadata": {
        "id": "DMigKzFlA18e"
      },
      "source": [
        "**2. Find the most popular tweets in your collection of tweets**\n",
        "\n",
        "Please plot a table of the top 10 tweets that are the most popular among your collection, i.e., the tweets with the largest number of retweet counts.\n"
      ]
    },
    {
      "cell_type": "code",
      "execution_count": 8,
      "metadata": {
        "id": "JrxgbEBRA18f",
        "colab": {
          "base_uri": "https://localhost:8080/"
        },
        "outputId": "b70c772f-9b49-481c-d159-848c25b20470"
      },
      "outputs": [
        {
          "output_type": "stream",
          "name": "stdout",
          "text": [
            "+-------+-----------------+----------------------------------------------------+\n",
            "| Count | Screen Name     | Text                                               |\n",
            "+-------+-----------------+----------------------------------------------------+\n",
            "| 31    | adityadhimas48  | Is nutrition strength. Words could bite. When I    |\n",
            "|       |                 | look at                                            |\n",
            "|       |                 | And imagining comfortable position                 |\n",
            "|       |                 |                                                    |\n",
            "|       |                 | USE: QQQ : PP                                      |\n",
            "|       |                 | https://t.co/JINAwVSajy                            |\n",
            "| 9     | MotivationQF    | One of the top super .. my favorite .. Ginger      |\n",
            "|       |                 | benefits your health in so many ways #Nutrition    |\n",
            "|       |                 | #Superfood… https://t.co/dPjwMYXYOb                |\n",
            "| 8     | _Georgeobeid    | High-Fiber Diet Improve the Response of Melanoma   |\n",
            "|       |                 | Skin Cancer Patients to Immunotherapy #Cancer      |\n",
            "|       |                 | #𝒟𝒾𝑒𝒷𝒪1 #𝒟𝒾𝑒𝒷𝒪37… https://t.co/SupSwbRh37          |\n",
            "| 5     | thehealthb0t    | According to the Department of Nutrition for       |\n",
            "|       |                 | Health and Development, iodine deficiency is a     |\n",
            "|       |                 | public health problem in 54 countries.             |\n",
            "| 5     | TeeAirRa_       | Food allergies need to be discussed more when we   |\n",
            "|       |                 | talk about diet and nutrition. Eating food that    |\n",
            "|       |                 | you’re unknowingly… https://t.co/Ky1IG70iiw        |\n",
            "| 3     | CNS_SCN         | #CNSTHEMATIC22 “Advances in Nutrition and Immune   |\n",
            "|       |                 | Function” is NOW LIVE! Starting the day off is our |\n",
            "|       |                 | conference co-h… https://t.co/mwTEgJbjnQ           |\n",
            "| 2     | tariqtramboo    | Gout: What to eat ?                                |\n",
            "|       |                 |                                                    |\n",
            "|       |                 | •Vegetables: All vegetables are fine, including    |\n",
            "|       |                 | potatoes, peas, mushrooms, eggplants and dark…     |\n",
            "|       |                 | https://t.co/g0F0SHAKpU                            |\n",
            "| 2     | healthstepsonly | #smoothie #Food #Diet #dietplan #nutrition #Weight |\n",
            "|       |                 | #weightloss #weightlosstips #loseweight…           |\n",
            "|       |                 | https://t.co/QS29CFzPjX                            |\n",
            "| 2     | NHLBI_Translate | .@NIHgrants: #NIH awards $170 million for          |\n",
            "|       |                 | precision #nutrition study. The Nutrition for      |\n",
            "|       |                 | #Precision Health study lev…                       |\n",
            "|       |                 | https://t.co/tgZreaDQb9                            |\n",
            "| 2     | MyHealthy_Reach | Show up everyday, put in the work and the result   |\n",
            "|       |                 | will show. Make this your fitness guide for 2022.  |\n",
            "|       |                 | Visit for more:… https://t.co/ZaOYoVHYv0           |\n",
            "+-------+-----------------+----------------------------------------------------+\n"
          ]
        }
      ],
      "source": [
        "#----------------------------------------------\n",
        "# Your code starts here\n",
        "#   Please add comments or text cells in between to explain the general idea of each block of the code.\n",
        "#   Please feel free to add more cells below this cell if necessary\n",
        "\n",
        "tweets = [\n",
        "          (pop_tweet['retweet_count'], \n",
        "             pop_tweet['user']['screen_name'],\n",
        "             pop_tweet['text'])\n",
        "          for pop_tweet in statuses\n",
        "            if 'retweeted_status' not in pop_tweet\n",
        "]\n",
        "pt = PrettyTable(field_names=['Count', 'Screen Name', 'Text'])\n",
        "[ pt.add_row(row) for row in sorted(tweets, reverse=True)[:10] ]\n",
        "pt.max_width['Text'] = 50\n",
        "pt.align= 'l'\n",
        "print(pt)"
      ]
    },
    {
      "cell_type": "markdown",
      "metadata": {
        "id": "fbUOQT32A18f"
      },
      "source": [
        "**3. Find the most popular Tweet Entities in your collection of tweets**\n",
        "\n",
        "Please plot a table of the top 10 hashtags, top 10 user mentions that are the most popular in your collection of tweets."
      ]
    },
    {
      "cell_type": "code",
      "execution_count": 9,
      "metadata": {
        "id": "DKYkobrzA18f",
        "colab": {
          "base_uri": "https://localhost:8080/"
        },
        "outputId": "0910d347-b8e4-47cf-e5f7-d2376fe65f56"
      },
      "outputs": [
        {
          "output_type": "stream",
          "name": "stdout",
          "text": [
            "['#cnsthematic22', '#nih', '#nutrition', '#precision', '#recipefind', '#potassium', '#healthline', '#fruits', '#food', '#foodie', '#nutrition', '#pitaya', '#healthashra2022', '#swimming', '#peformance', '#labrada', '#supplements', '#food', '#nutrition', '#cooking', '#maine', '#pilates', '#ibd', '#1myth', '#1', '#5myth', '#5', '#6myth', '#6', 'foods#protein', '#shortsindia', '#youtubeshort#proteins#nutrition#proteinrichfood#', '#health', '#exercise', '#cnsthematic22', '#consumer', '#fishfood', '#aquafeed', '#weightloss', '#weightlossjourney', '#supplement', '#health', '#wellness', '#nutrition', '#eoe', '#nutrition', '#diet', '#weightloss', '#intermittentfasting', '#nutrition', '#nutrition', '#aging', '#immunity', '#fitness', '#nutrition', '#nutrition', '#charcuterie', '#board', '#food', '#diet', '#dietplan', '#meal', '#mealprep', '#nutrition', '#chefs', '#cooking', '#healthy', '#eating', '#tips', '#howto', '#culturedwarrior', '#over', '#eating', '#food', '#diet', '#dietplan', '#meal', '#mealprep', '#nutrition', '#healthy', '#tips', '#healthtips', '#people', '#health', '#bangladesh', '#smoothie', '#food', '#diet', '#dietplan', '#nutrition', '#weight', '#weightloss', '#weightlosstips', '#loseweight', '#cancer', '#𝒟𝒾𝑒𝒷𝒪1', '#𝒟𝒾𝑒𝒷𝒪37', '#nutrition', '#health', '#healthyfood', '#healthychoices', '#arthritis', '#food', '#diet', '#dietplan', '#meal', '#mealprep', '#nutrition', '#healthy', '#eating', '#habits', '#tips', '#healthtips', '#howto', '#sugar', '#lactose', '#health', '#sportscience', '#nutrition', '#physiotherapy', '#food', '#foodie', '#vegetables', '#veggies', '#spinalcordinjury', '#pregnancy', '#nutritionfish', '#webinar', '#birmingham', '#birmingham', '#gut', '#guts', '#guthealth', '#friendly', '#grocery', '#list', '#healthy', '#shopping', '#food', '#diet', '#dietplan', '#meal', '#mealprep', '#nutrition', '#nutrition', '#nutrition', '#minerals', '#mineral', '#rich', '#broth', '#food', '#diet', '#dietplan', '#meal', '#mealprep', '#nutrition', '#recipe', '#recipes', '#chef', '#chefs', '#diet', '#nutrition', '#foodsecurity', '#indonesia', '#walnutchile', '#walnuts', '#chileanwalnuts', '#nuts', '#fitfoodie', '#healthylifestyle', '#personalized', '#nutrition', '#supplements', '#vitaminb12deficiency', '#vitaminb12', '#nutrition', '#nutrition', '#syria', '#nutrition', '#superfood', '#vegetables', '#food', '#foodie', '#veggies', '#nutrition', '#mikeyfit', '#fitness', '#vegan', '#kahnchronicle', '#chitraloka', '#elearning', '#nutrition', '#training']\n"
          ]
        }
      ],
      "source": [
        "#----------------------------------------------\n",
        "# Your code starts here\n",
        "#   Please add comments or text cells in between to explain the general idea of each block of the code.\n",
        "#   Please feel free to add more cells below this cell if necessary\n",
        "include = '#'\n",
        "words = [ w for t in tweet_texts for w in t.lower().split() ]\n",
        "words = list(filter(lambda x: include in x, words))\n",
        "print(words)"
      ]
    },
    {
      "cell_type": "code",
      "source": [
        "c = Counter(words)\n",
        "print(c.most_common()[:10]) # top 10\n",
        "\n",
        "pt = PrettyTable(field_names=['Word', 'Count'])\n",
        "[ pt.add_row(kv) for kv in c.most_common()[:10] ]\n",
        "pt.align['Word'], pt.align['Count'] = 'l', 'r'\n",
        "print(pt)"
      ],
      "metadata": {
        "colab": {
          "base_uri": "https://localhost:8080/"
        },
        "id": "ZsORKK4pgSbm",
        "outputId": "25ec3b42-683b-42dc-d3ad-7d0ba8dd38e0"
      },
      "execution_count": 10,
      "outputs": [
        {
          "output_type": "stream",
          "name": "stdout",
          "text": [
            "[('#nutrition', 26), ('#food', 10), ('#diet', 8), ('#dietplan', 6), ('#health', 5), ('#meal', 5), ('#mealprep', 5), ('#healthy', 4), ('#foodie', 3), ('#weightloss', 3)]\n",
            "+-------------+-------+\n",
            "| Word        | Count |\n",
            "+-------------+-------+\n",
            "| #nutrition  |    26 |\n",
            "| #food       |    10 |\n",
            "| #diet       |     8 |\n",
            "| #dietplan   |     6 |\n",
            "| #health     |     5 |\n",
            "| #meal       |     5 |\n",
            "| #mealprep   |     5 |\n",
            "| #healthy    |     4 |\n",
            "| #foodie     |     3 |\n",
            "| #weightloss |     3 |\n",
            "+-------------+-------+\n"
          ]
        }
      ]
    },
    {
      "cell_type": "code",
      "source": [
        "include = '@'\n",
        "words = [ w for t in tweet_texts for w in t.lower().split() ]\n",
        "words = list(filter(lambda x: include in x, words))\n",
        "c = Counter(words)\n",
        "print(c.most_common()[:10]) # top 10\n",
        "\n",
        "pt = PrettyTable(field_names=['Word', 'Count'])\n",
        "[ pt.add_row(kv) for kv in c.most_common()[:10] ]\n",
        "pt.align['Word'], pt.align['Count'] = 'l', 'r'\n",
        "print(pt)"
      ],
      "metadata": {
        "colab": {
          "base_uri": "https://localhost:8080/"
        },
        "id": "8jQX9IL_gcaG",
        "outputId": "b8984f1d-e703-44cc-9b2f-dd6f59b948e9"
      },
      "execution_count": 11,
      "outputs": [
        {
          "output_type": "stream",
          "name": "stdout",
          "text": [
            "[('@leoubb', 3), ('@strong_science', 3), ('@hybridtraining', 3), ('@mondaynightibd', 2), ('@dcharabaty', 2), ('@janssenus', 2), ('@pfizer', 2), ('@takedapharma', 2), ('@fao', 2), ('@1bestgrandma', 2)]\n",
            "+-----------------+-------+\n",
            "| Word            | Count |\n",
            "+-----------------+-------+\n",
            "| @leoubb         |     3 |\n",
            "| @strong_science |     3 |\n",
            "| @hybridtraining |     3 |\n",
            "| @mondaynightibd |     2 |\n",
            "| @dcharabaty     |     2 |\n",
            "| @janssenus      |     2 |\n",
            "| @pfizer         |     2 |\n",
            "| @takedapharma   |     2 |\n",
            "| @fao            |     2 |\n",
            "| @1bestgrandma   |     2 |\n",
            "+-----------------+-------+\n"
          ]
        }
      ]
    },
    {
      "cell_type": "markdown",
      "metadata": {
        "id": "sLEC3fX_A18g"
      },
      "source": [
        "* ------------------------\n",
        "\n",
        "# Problem 3 (20 points): Getting \"All\" friends and \"All\" followers of a popular user in twitter\n"
      ]
    },
    {
      "cell_type": "markdown",
      "metadata": {
        "id": "-wTKbSAnA18g"
      },
      "source": [
        "* choose a popular twitter user who has many followers, such as \"ladygaga\".\n",
        "* Get the list of all friends and all followers of the twitter user.\n",
        "* Plot 20 out of the followers, plot their ID numbers and screen names in a table.\n",
        "* Plot 20 out of the friends (if the user has more than 20 friends), plot their ID numbers and screen names in a table."
      ]
    },
    {
      "cell_type": "code",
      "execution_count": 12,
      "metadata": {
        "id": "YI8np92oA18h",
        "colab": {
          "base_uri": "https://localhost:8080/"
        },
        "outputId": "a6dd9697-b8ba-4c51-d5b8-296a454e0b55"
      },
      "outputs": [
        {
          "output_type": "stream",
          "name": "stdout",
          "text": [
            "+---------------------+-----------------+\n",
            "| User ID             |        Username |\n",
            "+---------------------+-----------------+\n",
            "| 1485726534740717576 | BramVangeneugd3 |\n",
            "| 1485727488437276676 |   Roman20233765 |\n",
            "| 1485724948912029703 | CheilaS48187958 |\n",
            "| 1485725741488689166 |  Sarfrazshawani |\n",
            "| 1485727191925149702 |    kazakRealNFT |\n",
            "| 1485727765626298377 | YouTubeCentral9 |\n",
            "| 1485727693442273280 |  Alonso30327900 |\n",
            "| 1484989604923117576 |  Its_0nly_Chris |\n",
            "| 1483325028586426370 | odetesa97803732 |\n",
            "| 1485726666781564928 |    o_komnatskyi |\n",
            "| 1485727660516990981 |        12Hazper |\n",
            "| 1485727522901966848 |         Mush35G |\n",
            "| 1485727569370664969 | SeanCam65693861 |\n",
            "| 1485726470354120704 |    HariSupercar |\n",
            "| 1420810161644523520 |    kamrynlowrey |\n",
            "| 321641382           |     TCastillo85 |\n",
            "| 70906623            |         Taiye12 |\n",
            "| 1485727761968861185 |       LosPason1 |\n",
            "| 1485727251522019329 |  Djordje_Buldog |\n",
            "| 1485727297860685832 |        waflemet |\n",
            "+---------------------+-----------------+\n"
          ]
        }
      ],
      "source": [
        "#----------------------------------------------\n",
        "# Your code starts here\n",
        "#   Please add comments or text cells in between to explain the general idea of each block of the code.\n",
        "#   Please feel free to add more cells below this cell if necessary\n",
        "\n",
        "users = twitter_api.users.lookup(screen_name=\"elonmusk\")\n",
        "musk = users[0]\n",
        "followers = twitter_api.followers.ids(user_id=musk['id'])\n",
        "followers = followers['ids'][:20]\n",
        "follow_table = {}\n",
        "for follower_id in followers:\n",
        "    user = twitter_api.users.lookup(user_id=follower_id)\n",
        "    user = user[0]\n",
        "    follow_table[follower_id] = user['screen_name']\n",
        "\n",
        "pt = PrettyTable(field_names=['User ID', 'Username'])\n",
        "[ pt.add_row((kv, follow_table[kv])) for kv in follow_table ]\n",
        "pt.align['User ID'], pt.align['Username'] = 'l', 'r'\n",
        "print(pt)"
      ]
    },
    {
      "cell_type": "code",
      "source": [
        "friends = twitter_api.friends.ids(user_id=musk['id'])\n",
        "friends = friends['ids'][:20]\n",
        "friend_table = {}\n",
        "for friend_id in friends:\n",
        "    user = twitter_api.users.lookup(user_id=friend_id)\n",
        "    user = user[0]\n",
        "    friend_table[friend_id] = user['screen_name']\n",
        "\n",
        "pt = PrettyTable(field_names=['User ID', 'Username'])\n",
        "[ pt.add_row((kv, friend_table[kv])) for kv in friend_table ]\n",
        "pt.align['User ID'], pt.align['Username'] = 'l', 'r'\n",
        "print(pt)"
      ],
      "metadata": {
        "colab": {
          "base_uri": "https://localhost:8080/"
        },
        "id": "qC9NvzEVrGbQ",
        "outputId": "b96845fc-cae1-4dca-f459-d7986071a256"
      },
      "execution_count": 14,
      "outputs": [
        {
          "output_type": "stream",
          "name": "stdout",
          "text": [
            "+---------------------+-----------------+\n",
            "| User ID             |        Username |\n",
            "+---------------------+-----------------+\n",
            "| 76980293            |           moxie |\n",
            "| 958324785229934593  |          HGJart |\n",
            "| 1720046887          |         ilyasut |\n",
            "| 2997418453          |   EuropaClipper |\n",
            "| 14486697            |          paraga |\n",
            "| 4914384040          |   TheBabylonBee |\n",
            "| 30699048            |        BillyM2k |\n",
            "| 177101260           |   Rainmaker1973 |\n",
            "| 1346194631982247943 |   inspiration4x |\n",
            "| 1402156691186241538 |     CNSAWatcher |\n",
            "| 3669881952          |      gigadgets_ |\n",
            "| 1068831             |        slashdot |\n",
            "| 1359595748942372867 |   totalspace360 |\n",
            "| 822825713615175680  | redditSpacePorn |\n",
            "| 1279551125264445448 |    rookisaacman |\n",
            "| 16178922            |  TheMarsSociety |\n",
            "| 1333467482          |        CoinDesk |\n",
            "| 2445883045          |   dogecoin_devs |\n",
            "| 2235729541          |        dogecoin |\n",
            "| 17060015            |   cleantechnica |\n",
            "+---------------------+-----------------+\n"
          ]
        }
      ]
    },
    {
      "cell_type": "markdown",
      "metadata": {
        "id": "cGOvRwzxA18h"
      },
      "source": [
        "* Compute the mutual friends within the two groups, i.e., the users who are in both friend list and follower list, plot their ID numbers and screen names in a table"
      ]
    },
    {
      "cell_type": "code",
      "source": [
        "followers = twitter_api.followers.ids(user_id=musk['id'])['ids']\n",
        "friends = twitter_api.friends.ids(user_id=musk['id'])['ids']\n",
        "print(len(followers), len(friends))\n",
        "common = set(followers).intersection(set(friends))\n",
        "friend_table = {}\n",
        "for friend_id in common:\n",
        "    user = twitter_api.users.lookup(user_id=friend_id)\n",
        "    user = user[0]\n",
        "    friend_table[friend_id] = user['screen_name']\n",
        "\n",
        "pt = PrettyTable(field_names=['User ID', 'Username'])\n",
        "[ pt.add_row((kv, friend_table[kv])) for kv in friend_table ]\n",
        "pt.align['User ID'], pt.align['Username'] = 'l', 'r'\n",
        "print(pt)"
      ],
      "metadata": {
        "id": "vriFfAz6vKR8",
        "outputId": "516b1401-88ee-42f0-9806-338ec446cfad",
        "colab": {
          "base_uri": "https://localhost:8080/"
        }
      },
      "execution_count": 15,
      "outputs": [
        {
          "output_type": "stream",
          "name": "stdout",
          "text": [
            "5000 107\n",
            "+---------+----------+\n",
            "| User ID | Username |\n",
            "+---------+----------+\n",
            "+---------+----------+\n"
          ]
        }
      ]
    },
    {
      "cell_type": "code",
      "execution_count": 16,
      "metadata": {
        "id": "FGOM-EKTA18i",
        "colab": {
          "base_uri": "https://localhost:8080/"
        },
        "outputId": "8b1c1015-2761-4c50-af99-119d67c4cf65"
      },
      "outputs": [
        {
          "output_type": "stream",
          "name": "stdout",
          "text": [
            "+------------+----------------+\n",
            "| User ID    |       Username |\n",
            "+------------+----------------+\n",
            "| 3511430425 | fermatslibrary |\n",
            "| 3429950987 | engineers_feed |\n",
            "+------------+----------------+\n"
          ]
        }
      ],
      "source": [
        "#----------------------------------------------\n",
        "# Your code starts here\n",
        "#   Please add comments or text cells in between to explain the general idea of each block of the code.\n",
        "#   Please feel free to add more cells below this cell if necessary\n",
        "users = twitter_api.users.lookup(screen_name=\"lexfridman\")\n",
        "lex = users[0]\n",
        "friends_musk = twitter_api.friends.ids(user_id=musk['id'])['ids']\n",
        "friends_lex = twitter_api.friends.ids(user_id=lex['id'])['ids']\n",
        "common_friends = set(friends_musk).intersection(set(friends_lex))\n",
        "friend_table = {}\n",
        "for friend_id in common_friends:\n",
        "    user = twitter_api.users.lookup(user_id=friend_id)\n",
        "    user = user[0]\n",
        "    friend_table[friend_id] = user['screen_name']\n",
        "\n",
        "pt = PrettyTable(field_names=['User ID', 'Username'])\n",
        "[ pt.add_row((kv, friend_table[kv])) for kv in friend_table ]\n",
        "pt.align['User ID'], pt.align['Username'] = 'l', 'r'\n",
        "print(pt)"
      ]
    },
    {
      "cell_type": "markdown",
      "metadata": {
        "id": "4B53GdUzA18i"
      },
      "source": [
        "*------------------------\n",
        "\n",
        "# Problem 4 (20 points): Business question \n",
        "\n",
        "Run some additional experiments with your data to gain familiarity with the twitter data and twitter API.\n",
        "\n",
        "* Come up with a business question that Twitter data could help answer.\n",
        "* Decribe the business case.\n",
        "* How could Twitter data help a company decide how to spend its resources."
      ]
    },
    {
      "cell_type": "code",
      "execution_count": 17,
      "metadata": {
        "id": "FomaD-F0A18i",
        "outputId": "865308f4-3062-457a-bb71-e1d25a5c657b",
        "colab": {
          "base_uri": "https://localhost:8080/"
        }
      },
      "outputs": [
        {
          "output_type": "stream",
          "name": "stdout",
          "text": [
            "159\n"
          ]
        }
      ],
      "source": [
        "#----------------------------------------------\n",
        "# Your code starts here\n",
        "#   Please add comments or text cells in between to explain the general idea of each block of the code.\n",
        "#   Please feel free to add more cells below this cell if necessary\n",
        "\n",
        "query = \"Arcane :(\"\n",
        "\n",
        "tv = twitter_api.search.tweets(q=query, lang='en', count=100)\n",
        "\n",
        "min_id = tv['statuses'][-1]['id']\n",
        "\n",
        "for i in range(5):\n",
        "    tweets = twitter_api.search.tweets(q=query, lang='en', max_id=min_id, count=100)\n",
        "    min_id = tweets['statuses'][-1]['id']\n",
        "    tv['statuses'] += tweets['statuses']\n",
        "\n",
        "data = json.dumps(tv, indent=1)\n",
        "\n",
        "file = open('drive/MyDrive/ds3010_2022/tv.txt','w')\n",
        "file.write(data)\n",
        "file.close()\n",
        "\n",
        "data = {}\n",
        "with open('drive/MyDrive/ds3010_2022/tv.txt','r') as f:\n",
        "    data = json.load(f)\n",
        "print(len(data['statuses']))"
      ]
    },
    {
      "cell_type": "code",
      "source": [
        "statuses = data['statuses']\n",
        "exclude = ['rt', 'in', 'the', 'for','of', 'to', 'and', 'a', 'is', 'are', 'on', 'from', 'that', 'this', 'these', 'with', 'what', 'it', 'if', 'or', 'but', 'your', 'be', 'you', 'my', 'at', 'its']\n",
        "\n",
        "tweet_texts = [ re.sub(r'[^\\w\\s#@]', '', tweets['text']) for tweets in statuses ]\n",
        "print(tweet_texts[0])\n",
        "words = [ w for t in tweet_texts for w in t.lower().split() ]\n",
        "words = list(filter(lambda x: x not in exclude, words))\n",
        "print(words[1])"
      ],
      "metadata": {
        "id": "c8XzjgxroLIE",
        "outputId": "db983da9-039c-4f0f-976d-4e3a66f3bbf1",
        "colab": {
          "base_uri": "https://localhost:8080/"
        }
      },
      "execution_count": 18,
      "outputs": [
        {
          "output_type": "stream",
          "name": "stdout",
          "text": [
            "@Vanvan_oops Not avoiding you  im just trying to keep my mind occupied so i dont feel too bad \n",
            "not\n"
          ]
        }
      ]
    },
    {
      "cell_type": "code",
      "source": [
        "c = Counter(words)\n",
        "print(c.most_common()[:30]) # top 30\n",
        "\n",
        "pt = PrettyTable(field_names=['Word', 'Count'])\n",
        "[ pt.add_row(kv) for kv in c.most_common()[:30] ]\n",
        "pt.align['Word'], pt.align['Count'] = 'l', 'r'\n",
        "print(pt)"
      ],
      "metadata": {
        "id": "XVgupevBod22",
        "outputId": "d93316e5-cb27-4eb9-cd64-e2a947408910",
        "colab": {
          "base_uri": "https://localhost:8080/"
        }
      },
      "execution_count": 19,
      "outputs": [
        {
          "output_type": "stream",
          "name": "stdout",
          "text": [
            "[('arcane', 85), ('i', 66), ('im', 48), ('sad', 41), ('watching', 36), ('now', 35), ('finished', 33), ('@thedustyleaves', 32), ('httpstcorxyryrpqsf', 32), ('so', 22), ('#arcane', 21), ('them', 18), ('have', 15), ('me', 14), ('#arcanefanart', 14), ('httpstcoxjf0mngial', 13), ('vi', 12), ('@beauty_fer2', 12), ('hope', 9), ('just', 8), ('dont', 8), ('they', 8), ('his', 8), ('3', 8), ('will', 7), ('see', 7), ('was', 7), ('her', 7), ('@naeris_arcane', 7), ('today', 6)]\n",
            "+--------------------+-------+\n",
            "| Word               | Count |\n",
            "+--------------------+-------+\n",
            "| arcane             |    85 |\n",
            "| i                  |    66 |\n",
            "| im                 |    48 |\n",
            "| sad                |    41 |\n",
            "| watching           |    36 |\n",
            "| now                |    35 |\n",
            "| finished           |    33 |\n",
            "| @thedustyleaves    |    32 |\n",
            "| httpstcorxyryrpqsf |    32 |\n",
            "| so                 |    22 |\n",
            "| #arcane            |    21 |\n",
            "| them               |    18 |\n",
            "| have               |    15 |\n",
            "| me                 |    14 |\n",
            "| #arcanefanart      |    14 |\n",
            "| httpstcoxjf0mngial |    13 |\n",
            "| vi                 |    12 |\n",
            "| @beauty_fer2       |    12 |\n",
            "| hope               |     9 |\n",
            "| just               |     8 |\n",
            "| dont               |     8 |\n",
            "| they               |     8 |\n",
            "| his                |     8 |\n",
            "| 3                  |     8 |\n",
            "| will               |     7 |\n",
            "| see                |     7 |\n",
            "| was                |     7 |\n",
            "| her                |     7 |\n",
            "| @naeris_arcane     |     7 |\n",
            "| today              |     6 |\n",
            "+--------------------+-------+\n"
          ]
        }
      ]
    },
    {
      "cell_type": "code",
      "source": [
        "tweets = [\n",
        "          (pop_tweet['retweet_count'], \n",
        "             pop_tweet['user']['screen_name'],\n",
        "             pop_tweet['text'])\n",
        "          for pop_tweet in statuses\n",
        "            if 'retweeted_status' not in pop_tweet\n",
        "]\n",
        "pt = PrettyTable(field_names=['Count', 'Screen Name', 'Text'])\n",
        "[ pt.add_row(row) for row in sorted(tweets, reverse=True)[:10] ]\n",
        "pt.max_width['Text'] = 50\n",
        "pt.align= 'l'\n",
        "print(pt)"
      ],
      "metadata": {
        "id": "VNU9KcE3of3v",
        "outputId": "e7c7ec62-ac27-470a-cbd6-43a50b88fc6f",
        "colab": {
          "base_uri": "https://localhost:8080/"
        }
      },
      "execution_count": 20,
      "outputs": [
        {
          "output_type": "stream",
          "name": "stdout",
          "text": [
            "+-------+--------------+----------------------------------------------------+\n",
            "| Count | Screen Name  | Text                                               |\n",
            "+-------+--------------+----------------------------------------------------+\n",
            "| 12    | beauty_fer2  | them :( #arcane #arcanefanart                      |\n",
            "|       |              | https://t.co/XJf0mNgIAL                            |\n",
            "| 7     | Luc_Arcane   | Shattered Light and Shadow. page 194-196           |\n",
            "|       |              |                                                    |\n",
            "|       |              | (I made mistake in counting pages again :( )       |\n",
            "|       |              | #UndertaleAU #UndertaleSLAS…                       |\n",
            "|       |              | https://t.co/WDhpuBvwAt                            |\n",
            "| 3     | silcothinker | rlly want to rewatch arcane for them but then i'll |\n",
            "|       |              | have to see the whole of ep 3 and ep 9 again :(    |\n",
            "|       |              | #silco… https://t.co/8FNdgDrQY5                    |\n",
            "| 2     | Yumecha36    | I miss Silco :((((( ALSO, I WAS LOOKING AT HIS     |\n",
            "|       |              | ARMS TODAY AND THEY R PERFECT FOR HUGGING??? His   |\n",
            "|       |              | hugs must be so goo… https://t.co/tvRMGNTfls       |\n",
            "| 1     | roronoa_mano | episode 3 of arcane is no joke :((                 |\n",
            "| 1     | rinexart     | jumping in to a new fandom will never be easy but  |\n",
            "|       |              | damn, arcane people are just so so so good :(      |\n",
            "| 1     | eymlsanjr    | dopil set and dowoon arcane just got home! 🥰 grabe |\n",
            "|       |              | po yung spark sa poca pero mas grabe yung spark sa |\n",
            "|       |              | wonpil pola f… https://t.co/3UrU9SbdnH             |\n",
            "| 1     | arcane_she   | @lamponirossi i don't wanna see hailee doing drugs |\n",
            "|       |              | and smoke cigarettes :(                            |\n",
            "| 1     | BroCmon4     | I need the 1.5k vbucks for arcane vi :(            |\n",
            "| 1     | BroCmon4     | @ShiinaBR May ik about the myna pack tho? Sorry    |\n",
            "|       |              | guys don't flame me it's my only way to get the    |\n",
            "|       |              | arcane vi skin :(                                  |\n",
            "+-------+--------------+----------------------------------------------------+\n"
          ]
        }
      ]
    },
    {
      "cell_type": "code",
      "source": [
        "tweets = [\n",
        "          (pop_tweet['favorite_count'], \n",
        "             pop_tweet['user']['screen_name'],\n",
        "             pop_tweet['text'])\n",
        "          for pop_tweet in statuses\n",
        "            if 'retweeted_status' not in pop_tweet\n",
        "]\n",
        "pt = PrettyTable(field_names=['Count', 'Screen Name', 'Text'])\n",
        "[ pt.add_row(row) for row in sorted(tweets, reverse=True)[:10] ]\n",
        "pt.max_width['Text'] = 50\n",
        "pt.align= 'l'\n",
        "print(pt)"
      ],
      "metadata": {
        "id": "BYf7Kk4pokIB",
        "outputId": "758bef0d-7e4a-4dc6-de29-3ec4c61b9325",
        "colab": {
          "base_uri": "https://localhost:8080/"
        }
      },
      "execution_count": 21,
      "outputs": [
        {
          "output_type": "stream",
          "name": "stdout",
          "text": [
            "+-------+-----------------+----------------------------------------------------+\n",
            "| Count | Screen Name     | Text                                               |\n",
            "+-------+-----------------+----------------------------------------------------+\n",
            "| 161   | beauty_fer2     | them :( #arcane #arcanefanart                      |\n",
            "|       |                 | https://t.co/XJf0mNgIAL                            |\n",
            "| 155   | Luc_Arcane      | Shattered Light and Shadow. page 194-196           |\n",
            "|       |                 |                                                    |\n",
            "|       |                 | (I made mistake in counting pages again :( )       |\n",
            "|       |                 | #UndertaleAU #UndertaleSLAS…                       |\n",
            "|       |                 | https://t.co/WDhpuBvwAt                            |\n",
            "| 93    | silcothinker    | rlly want to rewatch arcane for them but then i'll |\n",
            "|       |                 | have to see the whole of ep 3 and ep 9 again :(    |\n",
            "|       |                 | #silco… https://t.co/8FNdgDrQY5                    |\n",
            "| 74    | Midnight_Tigerx | @IGotCaughtAgain @papuchochoe LOL fr I can't wait  |\n",
            "|       |                 | to see his full transformation in arcane and       |\n",
            "|       |                 | everyone's gonna be like &gt;:(                    |\n",
            "| 56    | naeris_arcane   | I want to draw Caitvi and i already have like two  |\n",
            "|       |                 | ideas but finals won't let me :(                   |\n",
            "| 47    | naeris_arcane   | I'm feeling a little sad today, i wish Vi gave me  |\n",
            "|       |                 | a hug :(                                           |\n",
            "| 20    | piltovertexts   | @UnStroy i know :( real sad that it’s only a skin  |\n",
            "|       |                 | line for LoR, they should’ve added this in league  |\n",
            "|       |                 | as well but i g… https://t.co/yZZsLmAsH1           |\n",
            "| 19    | rinexart        | jumping in to a new fandom will never be easy but  |\n",
            "|       |                 | damn, arcane people are just so so so good :(      |\n",
            "| 18    | naeris_arcane   | I'm so tired :(                                    |\n",
            "| 14    | roronoa_mano    | episode 3 of arcane is no joke :((                 |\n",
            "+-------+-----------------+----------------------------------------------------+\n"
          ]
        }
      ]
    },
    {
      "cell_type": "code",
      "source": [
        "users = twitter_api.users.lookup(screen_name=\"netflix\")\n",
        "netflix = users[0]\n",
        "users = twitter_api.users.lookup(screen_name=\"LeagueOfLegends\")\n",
        "lol = users[0]\n",
        "\n",
        "netflix_followers = twitter_api.followers.ids(user_id=netflix['id'])['ids']\n",
        "lol_followers = twitter_api.followers.ids(user_id=lol['id'])['ids']\n",
        "\n",
        "print(len(netflix_followers), len(lol_followers))\n",
        "\n",
        "common = set(netflix_followers).intersection(set(lol_followers))\n",
        "\n",
        "target_audience = {}\n",
        "for target_id in common:\n",
        "    user = twitter_api.users.lookup(user_id=target_id)\n",
        "    user = user[0]\n",
        "    target_audience[target_id] = user['screen_name']\n",
        "\n",
        "pt = PrettyTable(field_names=['User ID', 'Username'])\n",
        "[ pt.add_row((kv, target_audience[kv])) for kv in target_audience ]\n",
        "pt.align['User ID'], pt.align['Username'] = 'l', 'r'\n",
        "print(pt)"
      ],
      "metadata": {
        "id": "xZIecNA0o3pX",
        "outputId": "4707c895-4bb4-4b76-cf96-daf24068442b",
        "colab": {
          "base_uri": "https://localhost:8080/"
        }
      },
      "execution_count": 24,
      "outputs": [
        {
          "output_type": "stream",
          "name": "stdout",
          "text": [
            "5000 5000\n",
            "+---------------------+-----------------+\n",
            "| User ID             |        Username |\n",
            "+---------------------+-----------------+\n",
            "| 1485714614453415936 |          tftnz_ |\n",
            "| 1485714246474375169 |      CondeescuA |\n",
            "| 1485695527035486209 | Handsomecarrot7 |\n",
            "| 1485693865789116417 |       __noa31__ |\n",
            "| 1485695062281388033 |     feedthymeme |\n",
            "| 1485692320934764549 |   Ryan709685621 |\n",
            "| 1485725740503113734 |    Miah80461049 |\n",
            "| 1485704367235862534 |  coochslayerr45 |\n",
            "| 1485707895811489798 |        m0nalise |\n",
            "| 1485704412320444420 |          rsyao1 |\n",
            "| 1485692638162567170 |     myaz_Philly |\n",
            "| 1001437240147431425 |        440Berry |\n",
            "| 1485719394886033420 |        JayzinYt |\n",
            "| 1485710060894539778 |    KasieCullen2 |\n",
            "| 1485726139645575174 |      SexyQuan09 |\n",
            "| 1485697752118005768 |     mamakendoll |\n",
            "| 1401905264601747459 |       bremildo1 |\n",
            "| 1485697970926493698 |    EthanNickyyy |\n",
            "| 1485722874992369667 |       Nebo3Mark |\n",
            "| 1485722191585062914 |     genocide458 |\n",
            "| 1485722151231569923 |     Armandojo08 |\n",
            "| 1485706379763798016 |      slvdplandr |\n",
            "| 1485717529700048901 |          9rnfla |\n",
            "| 1485694785298079749 |    Jojo82576530 |\n",
            "| 1485721904220712965 |   daku_rairakku |\n",
            "| 1485713055908610054 |  lilian_tunnell |\n",
            "| 1485701774946320392 |   _rafabuassali |\n",
            "| 1220668400319352833 | KVsyhmyHEyMYDf7 |\n",
            "| 1485697012448182273 |  VanessaEmery11 |\n",
            "+---------------------+-----------------+\n"
          ]
        }
      ]
    },
    {
      "cell_type": "markdown",
      "metadata": {
        "id": "qCrHmit6A18j"
      },
      "source": [
        "*-----------------\n",
        "# Done\n",
        "\n",
        "All set! \n",
        "\n",
        "** What do you need to submit?**\n",
        "\n",
        "* **Notebook File**: Save this IPython notebook, and find the notebook file in your folder (for example, \"filename.ipynb\"). This is the file you need to submit. Please make sure all the plotted tables and figures are in the notebook. If you used \"ipython notebook --pylab=inline\" to open the notebook, all the figures and tables should have shown up in the notebook.\n",
        "\n",
        "\n",
        "* **PPT Slides**: please prepare PPT slides (for 10-15 minutes talk) to present about the case study . We will ask two teams which are randomly selected to present their case studies in class for this case study. \n",
        "\n",
        "* ** Report**: please prepare a report (less than 10 pages) to report what you found in the data.\n",
        "    * What data you collected? \n",
        "    * Why this topic is interesting or important to you? (Motivations)\n",
        "    * How did you analyse the data?\n",
        "    * What did you find in the data? \n",
        " \n",
        "     (please include figures or tables in the report, but no source code)\n",
        "\n",
        "Please compress all the files in a zipped file.\n",
        "\n",
        "\n",
        "** How to submit: **\n",
        "\n",
        "        Please submit through email to Prof. Paffenroth (rcpaffenroth@wpi.edu) *and* the TA (dyou@wpi.edu).\n",
        "\n",
        "#### We auto-process the submissions so make sure your subject line is *exactly*:\n",
        "\n",
        "### DS3010 Case Study 1 Team ??\n",
        "\n",
        "#### where ?? is your team number.\n",
        "        \n",
        "** Note: Each team just needs to submits one submission **"
      ]
    },
    {
      "cell_type": "markdown",
      "metadata": {
        "id": "w_y_VpkSA18j"
      },
      "source": [
        "# Grading Criteria:\n",
        "\n",
        "** Totoal Points: 100 **\n",
        "\n",
        "\n",
        "---------------------------------------------------------------------------\n",
        "** Notebook results:  **\n",
        "    Points: 80\n",
        "\n",
        "\n",
        "    -----------------------------------\n",
        "    Qestion 1:\n",
        "    Points: 20\n",
        "    -----------------------------------\n",
        "    \n",
        "    (1) Select a topic that you are interested in.\n",
        "    Points: 6 \n",
        "    \n",
        "    (2) Use Twitter Streaming API to sample a collection of tweets about this topic in real time. (It would be recommended that the number of tweets should be larger than 200, but smaller than 1 million. Please check whether the total number of tweets collected is larger than 200?\n",
        "    Points: 10 \n",
        "    \n",
        "    \n",
        "    (3) Store the tweets you downloaded into a local file (txt file or json file)\n",
        "    Points: 4 \n",
        "    \n",
        "    \n",
        "    -----------------------------------\n",
        "    Qestion 2:\n",
        "    Points: 20\n",
        "    -----------------------------------\n",
        "    \n",
        "    1. Word Count\n",
        "\n",
        "    (1) Use the tweets you collected in Problem 1, and compute the frequencies of the words being used in these tweets.\n",
        "    Points: 4 \n",
        "\n",
        "    (2) Plot a table of the top 30 words with their counts \n",
        "    Points: 4 \n",
        "    \n",
        "    2. Find the most popular tweets in your collection of tweets\n",
        "    plot a table of the top 10 tweets that are the most popular among your collection, i.e., the tweets with the largest number of retweet counts.\n",
        "    Points: 4 \n",
        "    \n",
        "    3. Find the most popular Tweet Entities in your collection of tweets\n",
        "\n",
        "    (1) plot a table of the top 10 hashtags, \n",
        "    Points: 4 \n",
        "\n",
        "    (2) top 10 user mentions that are the most popular in your collection of tweets.\n",
        "    Points: 4 \n",
        "    \n",
        "    \n",
        "    -----------------------------------\n",
        "    Qestion 3:\n",
        "    Points: 20\n",
        "    -----------------------------------\n",
        "    \n",
        "    (1) choose a popular twitter user who has many followers, such as \"ladygaga\".\n",
        "    Points: 4 \n",
        "\n",
        "    (2) Get the list of all friends and all followers of the twitter user.\n",
        "    Points: 4 \n",
        "\n",
        "    (3) Plot 20 out of the followers, plot their ID numbers and screen names in a table.\n",
        "    Points: 4 \n",
        "\n",
        "    (4) Plot 20 out of the friends (if the user has more than 20 friends), plot their ID numbers and screen names in a table.\n",
        "    Points: 4 \n",
        "    \n",
        "    (5) Compute the mutual friends within the two groups, i.e., the users who are in both friend list and follower list, plot their ID numbers and screen names in a table\n",
        "    Points: 4 \n",
        "  \n",
        "    -----------------------------------\n",
        "    Qestion 4:  Business question\n",
        "    Points: 20\n",
        "    -----------------------------------\n",
        "        Novelty: 10\n",
        "        Interestingness: 10\n",
        "    -----------------------------------\n",
        "    Run some additional experiments with your data to gain familiarity with the twitter data ant twitter API.  Come up with a business question and describe how Twitter data can help you answer that question.\n",
        "\n",
        "\n",
        "\n",
        "\n",
        "\n",
        "---------------------------------------------------------------------------\n",
        "**Slides (for presentation): Story-telling**\n",
        "    Points: 20\n",
        "\n",
        "\n",
        "1. Motivation about the data collection, why the topic is interesting to you.\n",
        "    Points: 5 \n",
        "\n",
        "2. Communicating Results (figure/table)\n",
        "    Points: 10 \n",
        "\n",
        "3. Story telling (How all the parts (data, analysis, result) fit together as a story?)\n",
        "    Points: 5 \n",
        "\n"
      ]
    },
    {
      "cell_type": "code",
      "execution_count": null,
      "metadata": {
        "id": "PscVSVMuA18j"
      },
      "outputs": [],
      "source": [
        ""
      ]
    }
  ],
  "metadata": {
    "anaconda-cloud": {},
    "colab": {
      "name": "CaseStudy1_Twitter_answer.ipynb",
      "provenance": [],
      "include_colab_link": true
    },
    "kernel_info": {
      "name": "python3"
    },
    "kernelspec": {
      "display_name": "Python 3",
      "language": "python",
      "name": "python3"
    },
    "language_info": {
      "codemirror_mode": {
        "name": "ipython",
        "version": 3
      },
      "file_extension": ".py",
      "mimetype": "text/x-python",
      "name": "python",
      "nbconvert_exporter": "python",
      "pygments_lexer": "ipython3",
      "version": "3.8.5"
    },
    "nteract": {
      "version": "0.2.0"
    }
  },
  "nbformat": 4,
  "nbformat_minor": 0
}