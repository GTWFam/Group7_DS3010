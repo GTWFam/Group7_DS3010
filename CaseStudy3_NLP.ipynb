{
  "cells": [
    {
      "cell_type": "markdown",
      "metadata": {
        "id": "view-in-github",
        "colab_type": "text"
      },
      "source": [
        "<a href=\"https://colab.research.google.com/github/GTWFam/Group7_DS3010/blob/main/CaseStudy3_NLP.ipynb\" target=\"_parent\"><img src=\"https://colab.research.google.com/assets/colab-badge.svg\" alt=\"Open In Colab\"/></a>"
      ]
    },
    {
      "cell_type": "markdown",
      "metadata": {
        "id": "e3AaPphVQtfQ"
      },
      "source": [
        "# Case Study 3 : Textual analysis of movie reviews"
      ]
    },
    {
      "cell_type": "markdown",
      "metadata": {
        "id": "v9xFcGCJQtfS"
      },
      "source": [
        "**Due Date: February 22, 2020, BEFORE the beginning of class at 2:00pm ET**\n",
        "\n",
        "NOTE: There are always last minute issues submitting the case studies. DO NOT WAIT UNTIL THE LAST MINUTE!"
      ]
    },
    {
      "cell_type": "markdown",
      "metadata": {
        "id": "W96Ki3enQtfT"
      },
      "source": [
        "<img src=\"https://getthematic.com/wp-content/uploads/2018/03/Harris-Word-Cloud-e1522406279125.png\">"
      ]
    },
    {
      "cell_type": "markdown",
      "metadata": {
        "id": "0z6U9nIKQtfT"
      },
      "source": [
        "**TEAM Members:** Please EDIT this cell and add the names of all the team members in your team\n",
        "\n",
        "    Jacob Bissonette\n",
        "    Austin Franklin \n",
        "    Yuriy Kamenivskyy \n",
        "    Garrett McMerriman\n",
        "    Bill Hoang Pham"
      ]
    },
    {
      "cell_type": "markdown",
      "metadata": {
        "id": "SeewMOzEQtfT"
      },
      "source": [
        "**Desired outcome of the case study.**\n",
        "* In this case study we will look at movie reviews from the v2.0 polarity dataset comes from\n",
        "the http://www.cs.cornell.edu/people/pabo/movie-review-data.\n",
        "    * It contains written reviews of movies divided into positive and negative reviews.\n",
        "* As in Case Study 2 idea is to *analyze* the data set, make *conjectures*, support or refute those conjectures with *data*, and *tell a story* about the data!\n",
        "    \n",
        "**Required Readings:** \n",
        "* This case study will be based upon the scikit-learn Python library\n",
        "* We will build upon the tutorial \"Working With Text Data\" which can be found at http://scikit-learn.org/stable/tutorial/text_analytics/working_with_text_data.html\n",
        "* In particular, this case study is quite similar to \"Exercise 2: Sentiment Analysis on movie reviews\" on the above web page.\n",
        "* Read about deep learning at https://scikit-learn.org/stable/modules/neural_networks_supervised.html\n",
        "\n",
        "\n",
        "**Case study assumptions:**\n",
        "* You have access to a python installation\n",
        "\n",
        "**Required Python libraries:**\n",
        "* Numpy (www.numpy.org) (should already be installed from Case Study 2)\n",
        "* Matplotlib (matplotlib.org) (should already be installed from Case Study 2)\n",
        "* Scikit-learn (scikit-learn.org).\n",
        "* You are also welcome to use the Python Natural Language Processing Toolkit (www.nltk.org) (though it is not required).\n",
        "\n",
        "** NOTE **\n",
        "* Please don't forget to save the notebook frequently when working in IPython Notebook, otherwise the changes you made can be lost."
      ]
    },
    {
      "cell_type": "markdown",
      "source": [
        "# Getting the data onto Colab example."
      ],
      "metadata": {
        "id": "WQQrXatF30aY"
      }
    },
    {
      "cell_type": "code",
      "source": [
        "! wget https://www.cs.cornell.edu/people/pabo/movie-review-data/review_polarity.tar.gz"
      ],
      "metadata": {
        "colab": {
          "base_uri": "https://localhost:8080/"
        },
        "id": "ludq2Spg3zdC",
        "outputId": "4a11ea2a-d971-47b9-8140-8e3269ae7bb5"
      },
      "execution_count": 3,
      "outputs": [
        {
          "output_type": "stream",
          "name": "stdout",
          "text": [
            "--2022-02-22 15:15:32--  https://www.cs.cornell.edu/people/pabo/movie-review-data/review_polarity.tar.gz\n",
            "Resolving www.cs.cornell.edu (www.cs.cornell.edu)... 132.236.207.36\n",
            "Connecting to www.cs.cornell.edu (www.cs.cornell.edu)|132.236.207.36|:443... connected.\n",
            "HTTP request sent, awaiting response... 200 OK\n",
            "Length: 3127238 (3.0M) [application/x-gzip]\n",
            "Saving to: ‘review_polarity.tar.gz’\n",
            "\n",
            "review_polarity.tar 100%[===================>]   2.98M  15.4MB/s    in 0.2s    \n",
            "\n",
            "2022-02-22 15:15:33 (15.4 MB/s) - ‘review_polarity.tar.gz’ saved [3127238/3127238]\n",
            "\n"
          ]
        }
      ]
    },
    {
      "cell_type": "markdown",
      "source": [
        "Look for the directory txt_sentoken"
      ],
      "metadata": {
        "id": "j6lyvK0T4HCk"
      }
    },
    {
      "cell_type": "code",
      "source": [
        "! tar xzf review_polarity.tar.gz\n",
        "! ls"
      ],
      "metadata": {
        "id": "QqAfVpEJ4A0P",
        "outputId": "0772a52b-105b-49c3-c392-153a3ec78714",
        "colab": {
          "base_uri": "https://localhost:8080/"
        }
      },
      "execution_count": 4,
      "outputs": [
        {
          "output_type": "stream",
          "name": "stdout",
          "text": [
            "poldata.README.2.0  review_polarity.tar.gz  sample_data  txt_sentoken\n"
          ]
        }
      ]
    },
    {
      "cell_type": "markdown",
      "metadata": {
        "id": "7m-jzLoyQtfU"
      },
      "source": [
        "## Problem 1 (10 points): Complete Exercise 2: Sentiment Analysis on movie reviews from http://scikit-learn.org/stable/tutorial/text_analytics/working_with_text_data.html"
      ]
    },
    {
      "cell_type": "markdown",
      "metadata": {
        "id": "QyZeq4COQtfU"
      },
      "source": [
        "* Installing scikit-learn using Anaconda does not necessarily download the example source-code.\n",
        "* Accordingly, you may need to download these directly from Github at https://github.com/scikit-learn/scikit-learn:\n",
        "    * The data can be downloaded using doc/tutorial/text_analytics/data/movie_reviews/fetch_data.py\n",
        "    * A skeleton for the solution can be found in doc/tutorial/text_analytics/skeletons/exercise_02_sentiment.py\n",
        "    * A completed solution can be found in doc/tutorial/text_analytics/solutions/exercise_02_sentiment.py\n",
        "* Here is a direct link to the code to help you out:  https://github.com/scikit-learn/scikit-learn/tree/main/doc/tutorial/text_analytics\n",
        "* **It is ok to use the solution provided in the scikit-learn distribution as a starting place for your work.**\n",
        "\n",
        "### Modify the solution to Exercise 2 so that it can run in this iPython notebook\n",
        "* This will likely involve moving around data files and/or small modifications to the script."
      ]
    },
    {
      "cell_type": "code",
      "execution_count": 5,
      "metadata": {
        "id": "x9rv82MAQtfV"
      },
      "outputs": [],
      "source": [
        "# Imports\n",
        "\n",
        "from sklearn.datasets import load_files\n",
        "from sklearn.feature_extraction.text import TfidfVectorizer\n",
        "from sklearn.svm import LinearSVC\n",
        "from sklearn.svm import SVC\n",
        "from sklearn.pipeline import Pipeline\n",
        "from sklearn.model_selection import GridSearchCV\n",
        "from sklearn.datasets import load_files\n",
        "from sklearn.model_selection import train_test_split\n",
        "from sklearn import metrics\n",
        "from sklearn.preprocessing import StandardScaler\n",
        "from sklearn.metrics import confusion_matrix\n",
        "import seaborn as sns"
      ]
    },
    {
      "cell_type": "code",
      "source": [
        "# Data Load\n",
        "\n",
        "movie_reviews_data_folder = \"/content/txt_sentoken\"\n",
        "dataset = load_files(movie_reviews_data_folder, shuffle=False)\n",
        "print(\"n_samples: %d\" % len(dataset.data))"
      ],
      "metadata": {
        "id": "Oqrdpl-FdT2t",
        "outputId": "20e4c56d-b87a-4e66-abed-9b0bf6ea1cb3",
        "colab": {
          "base_uri": "https://localhost:8080/"
        }
      },
      "execution_count": 6,
      "outputs": [
        {
          "output_type": "stream",
          "name": "stdout",
          "text": [
            "n_samples: 2000\n"
          ]
        }
      ]
    },
    {
      "cell_type": "code",
      "source": [
        "# Training and Testing split\n",
        " \n",
        "docs_train, docs_test, y_train, y_test = train_test_split(\n",
        "        dataset.data, dataset.target, test_size=0.25, random_state=None)"
      ],
      "metadata": {
        "id": "t7K9POlxdZ03"
      },
      "execution_count": 7,
      "outputs": []
    },
    {
      "cell_type": "code",
      "source": [
        "pipeline = Pipeline([\n",
        "        ('vect', TfidfVectorizer(min_df=3, max_df=0.95)),\n",
        "        ('clf', SVC(C=1000)),\n",
        "    ])\n",
        "\n",
        "parameters = {\n",
        "        'vect__ngram_range': [(1, 1), (1, 2)],\n",
        "    }\n",
        "grid_search = GridSearchCV(pipeline, parameters, n_jobs=-1)\n",
        "grid_search.fit(docs_train, y_train)\n",
        "\n",
        "n_candidates = len(grid_search.cv_results_['params'])\n",
        "for i in range(n_candidates):\n",
        "    print(i, 'params - %s; mean - %0.2f; std - %0.2f'\n",
        "                % (grid_search.cv_results_['params'][i],\n",
        "                grid_search.cv_results_['mean_test_score'][i],\n",
        "                grid_search.cv_results_['std_test_score'][i]))\n",
        "    \n",
        "y_predicted = grid_search.predict(docs_test)\n",
        "\n",
        "# Print the classification report\n",
        "print(metrics.classification_report(y_test, y_predicted,\n",
        "                                    target_names=dataset.target_names))\n",
        "\n",
        "# Print and plot the confusion matrix\n",
        "cm = confusion_matrix(y_test, y_predicted)\n",
        "x = sns.heatmap(cm, vmin=0, vmax=163, annot=True,fmt=\"d\", linewidths=0, cmap=\"GnBu\")\n",
        "x.xaxis.tick_top()\n",
        "x.set_title('Predicted', size=11)\n",
        "x.set_ylabel('Actual', size=11)"
      ],
      "metadata": {
        "id": "ZN1q9Kk5dslm",
        "outputId": "7fda510f-638c-45d2-f238-fa3455ed8ac0",
        "colab": {
          "base_uri": "https://localhost:8080/",
          "height": 493
        }
      },
      "execution_count": null,
      "outputs": [
        {
          "output_type": "stream",
          "name": "stdout",
          "text": [
            "0 params - {'vect__ngram_range': (1, 1)}; mean - 0.82; std - 0.01\n",
            "1 params - {'vect__ngram_range': (1, 2)}; mean - 0.84; std - 0.01\n",
            "              precision    recall  f1-score   support\n",
            "\n",
            "         neg       0.85      0.84      0.84       251\n",
            "         pos       0.84      0.85      0.84       249\n",
            "\n",
            "    accuracy                           0.84       500\n",
            "   macro avg       0.84      0.84      0.84       500\n",
            "weighted avg       0.84      0.84      0.84       500\n",
            "\n"
          ]
        },
        {
          "output_type": "execute_result",
          "data": {
            "text/plain": [
              "Text(33.0, 0.5, 'Actual')"
            ]
          },
          "metadata": {},
          "execution_count": 6
        },
        {
          "output_type": "display_data",
          "data": {
            "image/png": "[encoded data removed]",
            "text/plain": [
              "<Figure size 432x288 with 2 Axes>"
            ]
          },
          "metadata": {
            "needs_background": "light"
          }
        }
      ]
    },
    {
      "cell_type": "markdown",
      "metadata": {
        "id": "-1cVyJKHQtfV"
      },
      "source": [
        "## Problem 2 (10 points): Explore the scikit-learn TfidVectorizer class\n",
        "\n",
        "**Read the documentation for the TfidVectorizer class at http://scikit-learn.org/stable/modules/generated/sklearn.feature_extraction.text.TfidfVectorizer.html.** \n",
        "* Define the term frequency–inverse document frequency (TF-IDF) statistic (http://en.wikipedia.org/wiki/Tf%E2%80%93idf will likely help).\n",
        "* Run the TfidVectorizer class on the training data above (docs_train).\n",
        "* Explore the min_df and max_df parameters of TfidVectorizer.  What do they mean? How do they change the features you get?\n",
        "* Explore the ngram_range parameter of TfidVectorizer.  What does it mean? How does it change the features you get? (Note, large values  of ngram_range may take a long time to run!)"
      ]
    },
    {
      "cell_type": "code",
      "execution_count": null,
      "metadata": {
        "collapsed": true,
        "id": "YGCOW1yjQtfW",
        "outputId": "311557af-1342-4d5e-aa9d-84d5d98b8386",
        "colab": {
          "base_uri": "https://localhost:8080/",
          "height": 511
        }
      },
      "outputs": [
        {
          "output_type": "stream",
          "name": "stdout",
          "text": [
            "0 params - {'vect__ngram_range': (1, 1)}; mean - 0.75; std - 0.02\n",
            "1 params - {'vect__ngram_range': (1, 2)}; mean - 0.75; std - 0.02\n",
            "2 params - {'vect__ngram_range': (3, 3)}; mean - 0.56; std - 0.01\n",
            "              precision    recall  f1-score   support\n",
            "\n",
            "         neg       0.75      0.75      0.75       251\n",
            "         pos       0.75      0.74      0.75       249\n",
            "\n",
            "    accuracy                           0.75       500\n",
            "   macro avg       0.75      0.75      0.75       500\n",
            "weighted avg       0.75      0.75      0.75       500\n",
            "\n"
          ]
        },
        {
          "output_type": "execute_result",
          "data": {
            "text/plain": [
              "Text(33.0, 0.5, 'Actual')"
            ]
          },
          "metadata": {},
          "execution_count": 7
        },
        {
          "output_type": "display_data",
          "data": {
            "image/png": "[encoded data removed]",
            "text/plain": [
              "<Figure size 432x288 with 2 Axes>"
            ]
          },
          "metadata": {
            "needs_background": "light"
          }
        }
      ],
      "source": [
        "# min is 1/4 of 1500 which train and max is 3/4 of 1500\n",
        "pipeline = Pipeline([\n",
        "        ('vect', TfidfVectorizer(min_df=0.25, max_df=0.75)),\n",
        "        ('clf', SVC(C=1000)),\n",
        "    ])\n",
        "\n",
        "parameters = {\n",
        "        'vect__ngram_range': [(1, 1), (1, 2), (3, 3)],\n",
        "    }\n",
        "grid_search = GridSearchCV(pipeline, parameters, n_jobs=-1)\n",
        "grid_search.fit(docs_train, y_train)\n",
        "\n",
        "n_candidates = len(grid_search.cv_results_['params'])\n",
        "for i in range(n_candidates):\n",
        "    print(i, 'params - %s; mean - %0.2f; std - %0.2f'\n",
        "                % (grid_search.cv_results_['params'][i],\n",
        "                grid_search.cv_results_['mean_test_score'][i],\n",
        "                grid_search.cv_results_['std_test_score'][i]))\n",
        "    \n",
        "y_predicted = grid_search.predict(docs_test)\n",
        "\n",
        "# Print the classification report\n",
        "print(metrics.classification_report(y_test, y_predicted,\n",
        "                                    target_names=dataset.target_names))\n",
        "\n",
        "# Print and plot the confusion matrix\n",
        "cm = metrics.confusion_matrix(y_test, y_predicted)\n",
        "x = sns.heatmap(cm, vmin=0, vmax=163, annot=True,fmt=\"d\", linewidths=0, cmap=\"GnBu\")\n",
        "x.xaxis.tick_top()\n",
        "x.set_title('Predicted', size=11)\n",
        "x.set_ylabel('Actual', size=11)"
      ]
    },
    {
      "cell_type": "markdown",
      "metadata": {
        "id": "jVWQAJmsQtfW"
      },
      "source": [
        "## Problem 3 (15 points): Machine learning algorithms\n"
      ]
    },
    {
      "cell_type": "markdown",
      "metadata": {
        "id": "PNt6Ue6-QtfW"
      },
      "source": [
        "* Based upon Problem 2 pick some parameters for TfidfVectorizer\n",
        "    * \"fit\" your TfidfVectorizer using docs_train\n",
        "    * Compute \"Xtrain\", a Tf-idf-weighted document-term matrix using the transform function on docs_train\n",
        "    * Compute \"Xtest\", a Tf-idf-weighted document-term matrix using the transform function on docs_test\n",
        "    * Note, be sure to use the same Tf-idf-weighted class (**\"fit\" using docs_train**) to transform **both** docs_test and docs_train\n",
        "* Examine two classifiers provided by scikit-learn \n",
        "    * LinearSVC\n",
        "    * KNeighborsClassifier\n",
        "    * Why do you think it might be working better?\n",
        "* For a particular choice of parameters and classifier, look at 2 examples where the prediction was incorrect.\n",
        "    * Can you conjecture on why the classifier made a mistake for this prediction?"
      ]
    },
    {
      "cell_type": "markdown",
      "source": [
        "## Linear SVC\n",
        "\n",
        "The linear SVC works well, since the optimal seperation line will most likely result the similar number of false positive and false negative values on the each side of the line. We experiment with the regularization parametor since its value \"controls the trade off between smooth decision boundary and classifying training points correctly.\"\n",
        "https://towardsdatascience.com/https-medium-com-pupalerushikesh-svm-f4b42800e989\n",
        "Which means that high value of parametor would overfit the training data, so we changed our C from 100 to 1 which gave us best testing accuracy."
      ],
      "metadata": {
        "id": "99u_DPkrpB4X"
      }
    },
    {
      "cell_type": "code",
      "source": [
        "vectorizer = TfidfVectorizer(min_df=0.10, max_df=0.90, ngram_range=(1,2))\n",
        "Xtrain = vectorizer.fit_transform(docs_train)\n",
        "Xtest = vectorizer.transform(docs_test)\n",
        "\n",
        "svc_clf = LinearSVC(C=1, max_iter=5000)\n",
        "\n",
        "model = svc_clf.fit(Xtrain, y_train)\n",
        "y_predicted = model.predict(Xtest)\n",
        "\n",
        "print(metrics.classification_report(y_test, y_predicted,\n",
        "                                    target_names=dataset.target_names))\n",
        "\n",
        "cm = metrics.confusion_matrix(y_test, y_predicted)\n",
        "x = sns.heatmap(cm, vmin=0, vmax=163, annot=True, fmt=\"d\", linewidths=0, cmap=\"GnBu\")\n",
        "x.xaxis.tick_top()\n",
        "x.set_title('Predicted', size=11)\n",
        "x.set_ylabel('Actual', size=11)"
      ],
      "metadata": {
        "id": "1lLkFckGx4L-",
        "outputId": "f4629dba-fee8-47b9-8fa5-1a0e17293391",
        "colab": {
          "base_uri": "https://localhost:8080/",
          "height": 459
        }
      },
      "execution_count": null,
      "outputs": [
        {
          "output_type": "stream",
          "name": "stdout",
          "text": [
            "              precision    recall  f1-score   support\n",
            "\n",
            "         neg       0.78      0.81      0.80       251\n",
            "         pos       0.80      0.78      0.79       249\n",
            "\n",
            "    accuracy                           0.79       500\n",
            "   macro avg       0.79      0.79      0.79       500\n",
            "weighted avg       0.79      0.79      0.79       500\n",
            "\n"
          ]
        },
        {
          "output_type": "execute_result",
          "data": {
            "text/plain": [
              "Text(33.0, 0.5, 'Actual')"
            ]
          },
          "metadata": {},
          "execution_count": 8
        },
        {
          "output_type": "display_data",
          "data": {
            "image/png": "[encoded data removed]",
            "text/plain": [
              "<Figure size 432x288 with 2 Axes>"
            ]
          },
          "metadata": {
            "needs_background": "light"
          }
        }
      ]
    },
    {
      "cell_type": "code",
      "source": [
        "from sklearn.model_selection import cross_val_score\n",
        "from sklearn.ensemble import BaggingClassifier\n",
        "\n",
        "# vectorizer = TfidfVectorizer(min_df=1, max_df=0.95, ngram_range=(1,2))\n",
        "# X = vectorizer.fit_transform(dataset.data)\n",
        "\n",
        "# print(\"Testing c variable for SVC.\")\n",
        "# svc_clf = LinearSVC(C=1, max_iter = 5000)\n",
        "# svc_cv_scores = cross_val_score(svc_clf, X, dataset.target, cv=4)\n",
        "# print(\"Cross-validation of SVC model with c=1, min_df = 1 max_df=.95: %0.3f accuracy with a standard deviation of %0.3f\" % (svc_cv_scores.mean(), svc_cv_scores.std()))\n",
        "\n",
        "# svc_clf = LinearSVC(C=10, max_iter = 5000)\n",
        "# svc_cv_scores = cross_val_score(svc_clf, X, dataset.target, cv=4)\n",
        "# print(\"Cross-validation of SVC model with c=10, min_df = 1, max_df=.95: %0.3f accuracy with a standard deviation of %0.3f\" % (svc_cv_scores.mean(), svc_cv_scores.std()))\n",
        "\n",
        "# svc_clf = LinearSVC(C=100, max_iter = 5000)\n",
        "# svc_cv_scores = cross_val_score(svc_clf, X, dataset.target, cv=4)\n",
        "# print(\"Cross-validation of SVC model with c=100, min_df = 1, max_df=.95: %0.3f accuracy with a standard deviation of %0.3f\" % (svc_cv_scores.mean(), svc_cv_scores.std()))\n",
        "# print(\"C = 10 is the best parameter for the model. It is the standard for future testing.\")\n",
        "\n",
        "# print(\"Testing min_df variable for SVC.\")\n",
        "# vectorizer = TfidfVectorizer(min_df=.01, max_df=0.95, ngram_range=(1,2))\n",
        "# X = vectorizer.fit_transform(dataset.data)\n",
        "# svc_cv_scores = cross_val_score(svc_clf, X, dataset.target, cv=4)\n",
        "# print(\"Cross-validation of SVC model with min_df = .01, max_df=.95: %0.3f accuracy with a standard deviation of %0.3f\" % (svc_cv_scores.mean(), svc_cv_scores.std()))\n",
        "\n",
        "# vectorizer = TfidfVectorizer(min_df=.05, max_df=0.95, ngram_range=(1,2))\n",
        "# X = vectorizer.fit_transform(dataset.data)\n",
        "# svc_cv_scores = cross_val_score(svc_clf, X, dataset.target, cv=4)\n",
        "# print(\"Cross-validation of SVC model with min_df= .05, max_df=.95: %0.3f accuracy with a standard deviation of %0.3f\" % (svc_cv_scores.mean(), svc_cv_scores.std()))\n",
        "# print(\"Min_df = 1 is the best parameter for the model. It is the standard for future testing.\")\n",
        "\n",
        "# print(\"Testing max_df variable for SVC.\")\n",
        "# vectorizer = TfidfVectorizer(min_df=1, max_df=0.8, ngram_range=(1,2))\n",
        "# X = vectorizer.fit_transform(dataset.data)\n",
        "# svc_cv_scores = cross_val_score(svc_clf, X, dataset.target, cv=4)\n",
        "# print(\"Cross-validation of SVC model with max_df = .8: %0.3f accuracy with a standard deviation of %0.3f\" % (svc_cv_scores.mean(), svc_cv_scores.std()))\n",
        "\n",
        "vectorizer = TfidfVectorizer(min_df=1, max_df=0.75, ngram_range=(1,2))\n",
        "X = vectorizer.fit_transform(dataset.data)\n",
        "svc_clf = LinearSVC(C=10, max_iter = 5000)\n",
        "svc_cv_scores = cross_val_score(svc_clf, X, dataset.target, cv=4)\n",
        "print(\"Cross-validation of SVC model: %0.3f accuracy with a standard deviation of %0.3f\" % (svc_cv_scores.mean(), svc_cv_scores.std()))\n",
        "print(\"We found that the most important parameter in the model is the min_df. Followed by max_df. And lastly by c.\")\n",
        "print(\"The optimal model has min_df of 1, max_df of around .7-.75 and c of 10.\")"
      ],
      "metadata": {
        "id": "PxIzXV3_cd2t",
        "outputId": "fda99460-67c2-4e87-ef41-b28b386f1abe",
        "colab": {
          "base_uri": "https://localhost:8080/"
        }
      },
      "execution_count": 11,
      "outputs": [
        {
          "output_type": "stream",
          "name": "stdout",
          "text": [
            "Cross-validation of SVC model: 0.869 accuracy with a standard deviation of 0.009\n",
            "We found that the most important parameter in the model is the min_df. Followed by max_df. And lastly by c.\n",
            "The optimal model has min_df of 1, max_df of around .7-.75 and c of 10.\n"
          ]
        }
      ]
    },
    {
      "cell_type": "markdown",
      "source": [
        "## KNN Classefier\n",
        "The false positive is increasing as the number of neighbours are increasing. Even though the small number of neighbours result in similar number of errors, it produces a weak accuracy. Therefore, we tried to change the dimension of the vector because knn works better with smaller dimensions."
      ],
      "metadata": {
        "id": "coQ17sUJpfDj"
      }
    },
    {
      "cell_type": "code",
      "source": [
        "from sklearn.neighbors import KNeighborsClassifier\n",
        "\n",
        "vectorizer = TfidfVectorizer(min_df=0.10, max_df=0.90, ngram_range=(1,2))\n",
        "Xtrain = vectorizer.fit_transform(docs_train)\n",
        "Xtest = vectorizer.transform(docs_test)\n",
        "\n",
        "knn_clf = KNeighborsClassifier(n_neighbors=50)\n",
        "\n",
        "model = knn_clf.fit(Xtrain, y_train)\n",
        "y_predicted = model.predict(Xtest)\n",
        "\n",
        "print(metrics.classification_report(y_test, y_predicted,\n",
        "                                    target_names=dataset.target_names))\n",
        "\n",
        "cm = metrics.confusion_matrix(y_test, y_predicted)\n",
        "x = sns.heatmap(cm, vmin=0, vmax=163, annot=True, fmt=\"d\", linewidths=0, cmap=\"GnBu\")\n",
        "x.xaxis.tick_top()\n",
        "x.set_title('Predicted', size=11)\n",
        "x.set_ylabel('Actual', size=11)"
      ],
      "metadata": {
        "id": "Zph4CmNirAu2",
        "outputId": "738bfef6-85d1-4235-b5cb-be8ef35ae2bc",
        "colab": {
          "base_uri": "https://localhost:8080/",
          "height": 459
        }
      },
      "execution_count": 12,
      "outputs": [
        {
          "output_type": "stream",
          "name": "stdout",
          "text": [
            "              precision    recall  f1-score   support\n",
            "\n",
            "         neg       0.76      0.55      0.64       257\n",
            "         pos       0.63      0.82      0.71       243\n",
            "\n",
            "    accuracy                           0.68       500\n",
            "   macro avg       0.70      0.69      0.68       500\n",
            "weighted avg       0.70      0.68      0.68       500\n",
            "\n"
          ]
        },
        {
          "output_type": "execute_result",
          "data": {
            "text/plain": [
              "Text(33.0, 0.5, 'Actual')"
            ]
          },
          "metadata": {},
          "execution_count": 12
        },
        {
          "output_type": "display_data",
          "data": {
            "image/png": "[encoded data removed]",
            "text/plain": [
              "<Figure size 432x288 with 2 Axes>"
            ]
          },
          "metadata": {
            "needs_background": "light"
          }
        }
      ]
    },
    {
      "cell_type": "code",
      "source": [
        "vectorizer = TfidfVectorizer(min_df=1, max_df=0.70, ngram_range=(1,2))\n",
        "Xtrain = vectorizer.fit_transform(docs_train)\n",
        "Xtest = vectorizer.transform(docs_test)\n",
        "\n",
        "knn_clf = KNeighborsClassifier(n_neighbors=50)\n",
        "\n",
        "model = knn_clf.fit(Xtrain, y_train)\n",
        "y_predicted = model.predict(Xtest)\n",
        "\n",
        "print(metrics.classification_report(y_test, y_predicted,\n",
        "                                    target_names=dataset.target_names))\n",
        "\n",
        "cm = metrics.confusion_matrix(y_test, y_predicted)\n",
        "x = sns.heatmap(cm, vmin=0, vmax=163, annot=True, fmt=\"d\", linewidths=0, cmap=\"GnBu\")\n",
        "x.xaxis.tick_top()\n",
        "x.set_title('Predicted', size=11)\n",
        "x.set_ylabel('Actual', size=11)"
      ],
      "metadata": {
        "colab": {
          "base_uri": "https://localhost:8080/",
          "height": 459
        },
        "id": "dqEJCHR2jiE1",
        "outputId": "75783f68-aa27-4251-cd63-2fda01c22f4f"
      },
      "execution_count": 15,
      "outputs": [
        {
          "output_type": "stream",
          "name": "stdout",
          "text": [
            "              precision    recall  f1-score   support\n",
            "\n",
            "         neg       0.84      0.62      0.71       257\n",
            "         pos       0.69      0.87      0.77       243\n",
            "\n",
            "    accuracy                           0.74       500\n",
            "   macro avg       0.76      0.75      0.74       500\n",
            "weighted avg       0.76      0.74      0.74       500\n",
            "\n"
          ]
        },
        {
          "output_type": "execute_result",
          "data": {
            "text/plain": [
              "Text(33.0, 0.5, 'Actual')"
            ]
          },
          "metadata": {},
          "execution_count": 15
        },
        {
          "output_type": "display_data",
          "data": {
            "image/png": "[encoded data removed]",
            "text/plain": [
              "<Figure size 432x288 with 2 Axes>"
            ]
          },
          "metadata": {
            "needs_background": "light"
          }
        }
      ]
    },
    {
      "cell_type": "code",
      "source": [
        "from sklearn.neighbors import KNeighborsClassifier\n",
        "print(\"Determining best k-nearest value through 4-fold cross validation.\")\n",
        "# knn_clf = KNeighborsClassifier(n_neighbors=10)\n",
        "# knn_cv_scores = cross_val_score(knn_clf, X, dataset.target, cv=4)\n",
        "# print(\"kn = 10: %0.3f accuracy with a standard deviation of %0.3f\" % (knn_cv_scores.mean(), knn_cv_scores.std()))\n",
        "\n",
        "# knn_clf = KNeighborsClassifier(n_neighbors=50)\n",
        "# knn_cv_scores = cross_val_score(knn_clf, X, dataset.target, cv=4)\n",
        "# print(\"kn = 50: %0.3f accuracy with a standard deviation of %0.3f\" % (knn_cv_scores.mean(), knn_cv_scores.std()))\n",
        "\n",
        "# knn_clf = KNeighborsClassifier(n_neighbors=100)\n",
        "# knn_cv_scores = cross_val_score(knn_clf, X, dataset.target, cv=4)\n",
        "# print(\"kn = 100: %0.3f accuracy with a standard deviation of %0.3f\" % (knn_cv_scores.mean(), knn_cv_scores.std()))\n",
        "\n",
        "# knn_clf = KNeighborsClassifier(n_neighbors=200)\n",
        "# knn_cv_scores = cross_val_score(knn_clf, X, dataset.target, cv=4)\n",
        "# print(\"kn = 200: %0.3f accuracy with a standard deviation of %0.3f\" % (knn_cv_scores.mean(), knn_cv_scores.std()))\n",
        "\n",
        "# knn_clf = KNeighborsClassifier(n_neighbors=400)\n",
        "# knn_cv_scores = cross_val_score(knn_clf, X, dataset.target, cv=4)\n",
        "# print(\"kn = 400: %0.3f accuracy with a standard deviation of %0.3f\" % (knn_cv_scores.mean(), knn_cv_scores.std()))\n",
        "\n",
        "# knn_clf = KNeighborsClassifier(n_neighbors=700)\n",
        "# knn_cv_scores = cross_val_score(knn_clf, X, dataset.target, cv=4)\n",
        "# print(\"kn = 700: %0.3f accuracy with a standard deviation of %0.3f\" % (knn_cv_scores.mean(), knn_cv_scores.std()))\n",
        "\n",
        "knn_clf = KNeighborsClassifier(n_neighbors=600)\n",
        "knn_cv_scores = cross_val_score(knn_clf, X, dataset.target, cv=4)\n",
        "print(\"kn = 600: %0.3f accuracy with a standard deviation of %0.3f\" % (knn_cv_scores.mean(), knn_cv_scores.std()))\n",
        "\n",
        "print(\"Most accurate knn model is achieved at n = 600.\")"
      ],
      "metadata": {
        "id": "wuvFHhMoeSBM",
        "outputId": "a4c7cd19-c4cc-4e96-fa60-9bab1b8a5123",
        "colab": {
          "base_uri": "https://localhost:8080/"
        }
      },
      "execution_count": 28,
      "outputs": [
        {
          "output_type": "stream",
          "name": "stdout",
          "text": [
            "Determining best k-nearest value through 4-fold cross validation.\n",
            "kn = 600: 0.802 accuracy with a standard deviation of 0.026\n",
            "Most accurate knn model is achieved at n = 600.\n"
          ]
        }
      ]
    },
    {
      "cell_type": "markdown",
      "metadata": {
        "id": "BoicR0YeQx5x"
      },
      "source": [
        "## Problem 4 (15 points): Use a Multi-Layer Perceptron (MLP) for classifying the reviews.  Explore the parameters for the MLP and compare the accuracies against your baseline algorithms in Problem 1.\n",
        "\n",
        "**Read the documentation for the MLPClassifier class at https://scikit-learn.org/stable/modules/generated/sklearn.neural_network.MLPClassifier.html#sklearn.neural_network.MLPClassifier.** \n",
        "* Note: This is *very similar* to using the LinearSVC and KNeighborsClassifier classes above!\n",
        "* Try different values for \"hidden_layer_sizes\".  What do you observe in terms of accuracy?\n",
        "* Try different values for \"activation\". What do you observe in terms of accuracy?\n"
      ]
    },
    {
      "cell_type": "code",
      "source": [
        "vectorizer = TfidfVectorizer(min_df=1, max_df=0.70, ngram_range=(1,2))\n",
        "Xtrain = vectorizer.fit_transform(docs_train)\n",
        "Xtest = vectorizer.transform(docs_test)"
      ],
      "metadata": {
        "id": "i2IUb8MLu4BV"
      },
      "execution_count": 24,
      "outputs": []
    },
    {
      "cell_type": "code",
      "execution_count": 25,
      "metadata": {
        "id": "LaDYg8XNQx5y",
        "outputId": "a8ea77f9-d6e2-4ebc-e15b-fa2f9de29c83",
        "colab": {
          "base_uri": "https://localhost:8080/",
          "height": 459
        }
      },
      "outputs": [
        {
          "output_type": "stream",
          "name": "stdout",
          "text": [
            "              precision    recall  f1-score   support\n",
            "\n",
            "         neg       0.89      0.85      0.87       257\n",
            "         pos       0.85      0.89      0.87       243\n",
            "\n",
            "    accuracy                           0.87       500\n",
            "   macro avg       0.87      0.87      0.87       500\n",
            "weighted avg       0.87      0.87      0.87       500\n",
            "\n"
          ]
        },
        {
          "output_type": "execute_result",
          "data": {
            "text/plain": [
              "Text(33.0, 0.5, 'Actual')"
            ]
          },
          "metadata": {},
          "execution_count": 25
        },
        {
          "output_type": "display_data",
          "data": {
            "image/png": "[encoded data removed]",
            "text/plain": [
              "<Figure size 432x288 with 2 Axes>"
            ]
          },
          "metadata": {
            "needs_background": "light"
          }
        }
      ],
      "source": [
        "from sklearn.neural_network import MLPClassifier\n",
        "\n",
        "mlp_clf = MLPClassifier(random_state=1, max_iter=500)\n",
        "\n",
        "model = mlp_clf.fit(Xtrain, y_train)\n",
        "y_predicted = model.predict(Xtest)\n",
        "\n",
        "print(metrics.classification_report(y_test, y_predicted,\n",
        "                                    target_names=dataset.target_names))\n",
        "\n",
        "cm = metrics.confusion_matrix(y_test, y_predicted)\n",
        "x = sns.heatmap(cm, vmin=0, vmax=163, annot=True, fmt=\"d\", linewidths=0, cmap=\"GnBu\")\n",
        "x.xaxis.tick_top()\n",
        "x.set_title('Predicted', size=11)\n",
        "x.set_ylabel('Actual', size=11)"
      ]
    },
    {
      "cell_type": "code",
      "source": [
        "mlp_clf = MLPClassifier(hidden_layer_sizes=(200,), random_state=1, max_iter=300)\n",
        "\n",
        "model = mlp_clf.fit(Xtrain, y_train)\n",
        "y_predicted = model.predict(Xtest)\n",
        "\n",
        "print(metrics.classification_report(y_test, y_predicted,\n",
        "                                    target_names=dataset.target_names))\n",
        "\n",
        "cm = metrics.confusion_matrix(y_test, y_predicted)\n",
        "x = sns.heatmap(cm, vmin=0, vmax=163, annot=True, fmt=\"d\", linewidths=0, cmap=\"GnBu\")\n",
        "x.xaxis.tick_top()\n",
        "x.set_title('Predicted', size=11)\n",
        "x.set_ylabel('Actual', size=11)"
      ],
      "metadata": {
        "id": "caiulwMCzW0C",
        "outputId": "ff46ef56-d870-4b6c-8e77-e7af780f2bbf",
        "colab": {
          "base_uri": "https://localhost:8080/",
          "height": 493
        }
      },
      "execution_count": 26,
      "outputs": [
        {
          "output_type": "stream",
          "name": "stderr",
          "text": [
            "/usr/local/lib/python3.7/dist-packages/sklearn/neural_network/_multilayer_perceptron.py:699: UserWarning: Training interrupted by user.\n",
            "  warnings.warn(\"Training interrupted by user.\")\n"
          ]
        },
        {
          "output_type": "stream",
          "name": "stdout",
          "text": [
            "              precision    recall  f1-score   support\n",
            "\n",
            "         neg       0.88      0.86      0.87       257\n",
            "         pos       0.85      0.88      0.87       243\n",
            "\n",
            "    accuracy                           0.87       500\n",
            "   macro avg       0.87      0.87      0.87       500\n",
            "weighted avg       0.87      0.87      0.87       500\n",
            "\n"
          ]
        },
        {
          "output_type": "execute_result",
          "data": {
            "text/plain": [
              "Text(33.0, 0.5, 'Actual')"
            ]
          },
          "metadata": {},
          "execution_count": 26
        },
        {
          "output_type": "display_data",
          "data": {
            "image/png": "[encoded data removed]",
            "text/plain": [
              "<Figure size 432x288 with 2 Axes>"
            ]
          },
          "metadata": {
            "needs_background": "light"
          }
        }
      ]
    },
    {
      "cell_type": "code",
      "source": [
        "mlp_clf = MLPClassifier(hidden_layer_sizes=(50,),random_state=1, max_iter=500)\n",
        "\n",
        "model = mlp_clf.fit(Xtrain, y_train)\n",
        "y_predicted = model.predict(Xtest)\n",
        "\n",
        "print(metrics.classification_report(y_test, y_predicted,\n",
        "                                    target_names=dataset.target_names))\n",
        "\n",
        "cm = metrics.confusion_matrix(y_test, y_predicted)\n",
        "x = sns.heatmap(cm, vmin=0, vmax=163, annot=True, fmt=\"d\", linewidths=0, cmap=\"GnBu\")\n",
        "x.xaxis.tick_top()\n",
        "x.set_title('Predicted', size=11)\n",
        "x.set_ylabel('Actual', size=11)"
      ],
      "metadata": {
        "id": "MsOMXw_-zmAs",
        "outputId": "9f69150c-cfe5-4b4a-df4a-532f95ddd79f",
        "colab": {
          "base_uri": "https://localhost:8080/",
          "height": 513
        }
      },
      "execution_count": null,
      "outputs": [
        {
          "output_type": "stream",
          "name": "stdout",
          "text": [
            "              precision    recall  f1-score   support\n",
            "\n",
            "         neg       0.73      0.73      0.73       251\n",
            "         pos       0.73      0.73      0.73       249\n",
            "\n",
            "    accuracy                           0.73       500\n",
            "   macro avg       0.73      0.73      0.73       500\n",
            "weighted avg       0.73      0.73      0.73       500\n",
            "\n"
          ]
        },
        {
          "output_type": "stream",
          "name": "stderr",
          "text": [
            "/usr/local/lib/python3.7/dist-packages/sklearn/neural_network/_multilayer_perceptron.py:696: ConvergenceWarning: Stochastic Optimizer: Maximum iterations (500) reached and the optimization hasn't converged yet.\n",
            "  ConvergenceWarning,\n"
          ]
        },
        {
          "output_type": "execute_result",
          "data": {
            "text/plain": [
              "Text(33.0, 0.5, 'Actual')"
            ]
          },
          "metadata": {},
          "execution_count": 16
        },
        {
          "output_type": "display_data",
          "data": {
            "image/png": "[encoded data removed]",
            "text/plain": [
              "<Figure size 432x288 with 2 Axes>"
            ]
          },
          "metadata": {
            "needs_background": "light"
          }
        }
      ]
    },
    {
      "cell_type": "code",
      "source": [
        "mlp_clf = MLPClassifier(random_state=1, max_iter=750, activation='logistic')\n",
        "\n",
        "model = mlp_clf.fit(Xtrain, y_train)\n",
        "y_predicted = model.predict(Xtest)\n",
        "\n",
        "print(metrics.classification_report(y_test, y_predicted,\n",
        "                                    target_names=dataset.target_names))\n",
        "\n",
        "cm = metrics.confusion_matrix(y_test, y_predicted)\n",
        "x = sns.heatmap(cm, vmin=0, vmax=163, annot=True, fmt=\"d\", linewidths=0, cmap=\"GnBu\")\n",
        "x.xaxis.tick_top()\n",
        "x.set_title('Predicted', size=11)\n",
        "x.set_ylabel('Actual', size=11)"
      ],
      "metadata": {
        "id": "lknMFu7im_2P",
        "outputId": "69ce2c6f-9e6d-4fb9-df14-591edf7b421c",
        "colab": {
          "base_uri": "https://localhost:8080/",
          "height": 459
        }
      },
      "execution_count": null,
      "outputs": [
        {
          "output_type": "stream",
          "name": "stdout",
          "text": [
            "              precision    recall  f1-score   support\n",
            "\n",
            "         neg       0.76      0.75      0.75       251\n",
            "         pos       0.75      0.76      0.76       249\n",
            "\n",
            "    accuracy                           0.75       500\n",
            "   macro avg       0.75      0.75      0.75       500\n",
            "weighted avg       0.75      0.75      0.75       500\n",
            "\n"
          ]
        },
        {
          "output_type": "execute_result",
          "data": {
            "text/plain": [
              "Text(33.0, 0.5, 'Actual')"
            ]
          },
          "metadata": {},
          "execution_count": 17
        },
        {
          "output_type": "display_data",
          "data": {
            "image/png": "[encoded data removed]",
            "text/plain": [
              "<Figure size 432x288 with 2 Axes>"
            ]
          },
          "metadata": {
            "needs_background": "light"
          }
        }
      ]
    },
    {
      "cell_type": "code",
      "source": [
        "mlp_clf = MLPClassifier(random_state=1, max_iter=750, activation='tanh')\n",
        "\n",
        "model = mlp_clf.fit(Xtrain, y_train)\n",
        "y_predicted = model.predict(Xtest)\n",
        "\n",
        "print(metrics.classification_report(y_test, y_predicted,\n",
        "                                    target_names=dataset.target_names))\n",
        "\n",
        "cm = metrics.confusion_matrix(y_test, y_predicted)\n",
        "x = sns.heatmap(cm, vmin=0, vmax=163, annot=True, fmt=\"d\", linewidths=0, cmap=\"GnBu\")\n",
        "x.xaxis.tick_top()\n",
        "x.set_title('Predicted', size=11)\n",
        "x.set_ylabel('Actual', size=11)"
      ],
      "metadata": {
        "id": "B4IFWxLYzWcO",
        "outputId": "fdcab406-a61f-4721-f697-e4f493ca7717",
        "colab": {
          "base_uri": "https://localhost:8080/",
          "height": 459
        }
      },
      "execution_count": null,
      "outputs": [
        {
          "output_type": "stream",
          "name": "stdout",
          "text": [
            "              precision    recall  f1-score   support\n",
            "\n",
            "         neg       0.76      0.75      0.75       251\n",
            "         pos       0.75      0.76      0.75       249\n",
            "\n",
            "    accuracy                           0.75       500\n",
            "   macro avg       0.75      0.75      0.75       500\n",
            "weighted avg       0.75      0.75      0.75       500\n",
            "\n"
          ]
        },
        {
          "output_type": "execute_result",
          "data": {
            "text/plain": [
              "Text(33.0, 0.5, 'Actual')"
            ]
          },
          "metadata": {},
          "execution_count": 18
        },
        {
          "output_type": "display_data",
          "data": {
            "image/png": "[encoded data removed]",
            "text/plain": [
              "<Figure size 432x288 with 2 Axes>"
            ]
          },
          "metadata": {
            "needs_background": "light"
          }
        }
      ]
    },
    {
      "cell_type": "code",
      "source": [
        "from sklearn.neural_network import MLPClassifier\n",
        "mlp_clf = MLPClassifier(random_state=1, max_iter=750, activation='tanh', hidden_layer_sizes=(50,))\n",
        "\n",
        "mlp_cv_scores = cross_val_score(mlp_clf, X, dataset.target, cv=4)\n",
        "print(\"%0.2f accuracy with a standard deviation of %0.2f\" % (mlp_cv_scores.mean(), mlp_cv_scores.std()))"
      ],
      "metadata": {
        "id": "3psEdTMXepZm",
        "outputId": "c91e2710-3219-4b11-8f11-58773d4c06a8",
        "colab": {
          "base_uri": "https://localhost:8080/"
        }
      },
      "execution_count": null,
      "outputs": [
        {
          "output_type": "stream",
          "name": "stdout",
          "text": [
            "0.81 accuracy with a standard deviation of 0.01\n"
          ]
        }
      ]
    },
    {
      "cell_type": "markdown",
      "metadata": {
        "id": "_G65MbRfQx5y"
      },
      "source": [
        "## Problem 5 (10 points): Accuracy is not everything!  How fast are the algorithms versus their accuracy?\n",
        "**Compare the runtime of your  baseline algorithms to the runtime of the MLPClassifier** \n",
        "\n",
        "**The jupyter command %timeit can be used to measure how long a calculation takes https://ipython.readthedocs.io/en/stable/interactive/magics.html.**\n",
        "* Try different values for \"hidden_layer_sizes\".  What do you observe in terms of runtime?\n",
        "* Try different values for \"activation\". What do you observe in terms of runtime?\n",
        "* How long does the \"fit\" function take as opposed to the \"predict\" function?  Can you explain why?"
      ]
    },
    {
      "cell_type": "code",
      "execution_count": null,
      "metadata": {
        "id": "Smz1f8tyQtfX",
        "colab": {
          "base_uri": "https://localhost:8080/",
          "height": 722
        },
        "outputId": "91a66ac2-ec52-4e9b-c84e-25f0ac7dbe4a"
      },
      "outputs": [
        {
          "output_type": "stream",
          "name": "stderr",
          "text": [
            "/usr/local/lib/python3.7/dist-packages/sklearn/neural_network/_multilayer_perceptron.py:696: ConvergenceWarning: Stochastic Optimizer: Maximum iterations (500) reached and the optimization hasn't converged yet.\n",
            "  ConvergenceWarning,\n",
            "/usr/local/lib/python3.7/dist-packages/sklearn/neural_network/_multilayer_perceptron.py:696: ConvergenceWarning: Stochastic Optimizer: Maximum iterations (500) reached and the optimization hasn't converged yet.\n",
            "  ConvergenceWarning,\n",
            "/usr/local/lib/python3.7/dist-packages/sklearn/neural_network/_multilayer_perceptron.py:696: ConvergenceWarning: Stochastic Optimizer: Maximum iterations (500) reached and the optimization hasn't converged yet.\n",
            "  ConvergenceWarning,\n",
            "/usr/local/lib/python3.7/dist-packages/sklearn/neural_network/_multilayer_perceptron.py:696: ConvergenceWarning: Stochastic Optimizer: Maximum iterations (500) reached and the optimization hasn't converged yet.\n",
            "  ConvergenceWarning,\n",
            "/usr/local/lib/python3.7/dist-packages/sklearn/neural_network/_multilayer_perceptron.py:696: ConvergenceWarning: Stochastic Optimizer: Maximum iterations (500) reached and the optimization hasn't converged yet.\n",
            "  ConvergenceWarning,\n",
            "/usr/local/lib/python3.7/dist-packages/sklearn/neural_network/_multilayer_perceptron.py:696: ConvergenceWarning: Stochastic Optimizer: Maximum iterations (500) reached and the optimization hasn't converged yet.\n",
            "  ConvergenceWarning,\n"
          ]
        },
        {
          "output_type": "stream",
          "name": "stdout",
          "text": [
            "1 loop, best of 5: 21.5 s per loop\n",
            "100 loops, best of 5: 6.27 ms per loop\n",
            "              precision    recall  f1-score   support\n",
            "\n",
            "         neg       0.76      0.75      0.75       251\n",
            "         pos       0.75      0.76      0.75       249\n",
            "\n",
            "    accuracy                           0.75       500\n",
            "   macro avg       0.75      0.75      0.75       500\n",
            "weighted avg       0.75      0.75      0.75       500\n",
            "\n"
          ]
        },
        {
          "output_type": "execute_result",
          "data": {
            "text/plain": [
              "Text(33.0, 0.5, 'Actual')"
            ]
          },
          "metadata": {},
          "execution_count": 20
        },
        {
          "output_type": "display_data",
          "data": {
            "image/png": "[encoded data removed]",
            "text/plain": [
              "<Figure size 432x288 with 2 Axes>"
            ]
          },
          "metadata": {
            "needs_background": "light"
          }
        }
      ],
      "source": [
        "mlp_clf = MLPClassifier(random_state=1, max_iter=500)\n",
        "\n",
        "%timeit model = mlp_clf.fit(Xtrain, y_train)\n",
        "%timeit y_predicted = model.predict(Xtest)\n",
        "\n",
        "print(metrics.classification_report(y_test, y_predicted,\n",
        "                                    target_names=dataset.target_names))\n",
        "\n",
        "cm = metrics.confusion_matrix(y_test, y_predicted)\n",
        "x = sns.heatmap(cm, vmin=0, vmax=163, annot=True, fmt=\"d\", linewidths=0, cmap=\"GnBu\")\n",
        "x.xaxis.tick_top()\n",
        "x.set_title('Predicted', size=11)\n",
        "x.set_ylabel('Actual', size=11)"
      ]
    },
    {
      "cell_type": "code",
      "source": [
        "mlp_clf = MLPClassifier(hidden_layer_sizes=(200,), random_state=1, max_iter=500)\n",
        "\n",
        "%timeit model = mlp_clf.fit(Xtrain, y_train)\n",
        "%timeit y_predicted = model.predict(Xtest)\n",
        "\n",
        "print(metrics.classification_report(y_test, y_predicted,\n",
        "                                    target_names=dataset.target_names))\n",
        "\n",
        "cm = metrics.confusion_matrix(y_test, y_predicted)\n",
        "x = sns.heatmap(cm, vmin=0, vmax=163, annot=True, fmt=\"d\", linewidths=0, cmap=\"GnBu\")\n",
        "x.xaxis.tick_top()\n",
        "x.set_title('Predicted', size=11)\n",
        "x.set_ylabel('Actual', size=11)"
      ],
      "metadata": {
        "id": "B2JUMAJP0_u_",
        "outputId": "d74fcc9f-7dbb-4f15-c24d-a62ddd4b4d0d",
        "colab": {
          "base_uri": "https://localhost:8080/",
          "height": 493
        }
      },
      "execution_count": null,
      "outputs": [
        {
          "output_type": "stream",
          "name": "stdout",
          "text": [
            "1 loop, best of 5: 26.7 s per loop\n",
            "100 loops, best of 5: 6.29 ms per loop\n",
            "              precision    recall  f1-score   support\n",
            "\n",
            "         neg       0.76      0.75      0.75       251\n",
            "         pos       0.75      0.76      0.75       249\n",
            "\n",
            "    accuracy                           0.75       500\n",
            "   macro avg       0.75      0.75      0.75       500\n",
            "weighted avg       0.75      0.75      0.75       500\n",
            "\n"
          ]
        },
        {
          "output_type": "execute_result",
          "data": {
            "text/plain": [
              "Text(33.0, 0.5, 'Actual')"
            ]
          },
          "metadata": {},
          "execution_count": 21
        },
        {
          "output_type": "display_data",
          "data": {
            "image/png": "[encoded data removed]",
            "text/plain": [
              "<Figure size 432x288 with 2 Axes>"
            ]
          },
          "metadata": {
            "needs_background": "light"
          }
        }
      ]
    },
    {
      "cell_type": "code",
      "source": [
        "mlp_clf = MLPClassifier(hidden_layer_sizes=(50,), random_state=1, max_iter=500)\n",
        "\n",
        "%timeit model = mlp_clf.fit(Xtrain, y_train)\n",
        "%timeit y_predicted = model.predict(Xtest)\n",
        "\n",
        "print(metrics.classification_report(y_test, y_predicted,\n",
        "                                    target_names=dataset.target_names))\n",
        "\n",
        "cm = metrics.confusion_matrix(y_test, y_predicted)\n",
        "x = sns.heatmap(cm, vmin=0, vmax=163, annot=True, fmt=\"d\", linewidths=0, cmap=\"GnBu\")\n",
        "x.xaxis.tick_top()\n",
        "x.set_title('Predicted', size=11)\n",
        "x.set_ylabel('Actual', size=11)"
      ],
      "metadata": {
        "id": "2ma6b9bS1Iks",
        "outputId": "995befd6-c285-4621-d4fc-12639deee39c",
        "colab": {
          "base_uri": "https://localhost:8080/",
          "height": 739
        }
      },
      "execution_count": null,
      "outputs": [
        {
          "output_type": "stream",
          "name": "stderr",
          "text": [
            "/usr/local/lib/python3.7/dist-packages/sklearn/neural_network/_multilayer_perceptron.py:696: ConvergenceWarning: Stochastic Optimizer: Maximum iterations (500) reached and the optimization hasn't converged yet.\n",
            "  ConvergenceWarning,\n",
            "/usr/local/lib/python3.7/dist-packages/sklearn/neural_network/_multilayer_perceptron.py:696: ConvergenceWarning: Stochastic Optimizer: Maximum iterations (500) reached and the optimization hasn't converged yet.\n",
            "  ConvergenceWarning,\n",
            "/usr/local/lib/python3.7/dist-packages/sklearn/neural_network/_multilayer_perceptron.py:699: UserWarning: Training interrupted by user.\n",
            "  warnings.warn(\"Training interrupted by user.\")\n",
            "/usr/local/lib/python3.7/dist-packages/sklearn/neural_network/_multilayer_perceptron.py:699: UserWarning: Training interrupted by user.\n",
            "  warnings.warn(\"Training interrupted by user.\")\n",
            "/usr/local/lib/python3.7/dist-packages/sklearn/neural_network/_multilayer_perceptron.py:696: ConvergenceWarning: Stochastic Optimizer: Maximum iterations (500) reached and the optimization hasn't converged yet.\n",
            "  ConvergenceWarning,\n",
            "/usr/local/lib/python3.7/dist-packages/sklearn/neural_network/_multilayer_perceptron.py:699: UserWarning: Training interrupted by user.\n",
            "  warnings.warn(\"Training interrupted by user.\")\n"
          ]
        },
        {
          "output_type": "stream",
          "name": "stdout",
          "text": [
            "The slowest run took 9.45 times longer than the fastest. This could mean that an intermediate result is being cached.\n",
            "1 loop, best of 5: 2.73 s per loop\n",
            "100 loops, best of 5: 6.45 ms per loop\n",
            "              precision    recall  f1-score   support\n",
            "\n",
            "         neg       0.76      0.75      0.75       251\n",
            "         pos       0.75      0.76      0.75       249\n",
            "\n",
            "    accuracy                           0.75       500\n",
            "   macro avg       0.75      0.75      0.75       500\n",
            "weighted avg       0.75      0.75      0.75       500\n",
            "\n"
          ]
        },
        {
          "output_type": "execute_result",
          "data": {
            "text/plain": [
              "Text(33.0, 0.5, 'Actual')"
            ]
          },
          "metadata": {},
          "execution_count": 22
        },
        {
          "output_type": "display_data",
          "data": {
            "image/png": "[encoded data removed]",
            "text/plain": [
              "<Figure size 432x288 with 2 Axes>"
            ]
          },
          "metadata": {
            "needs_background": "light"
          }
        }
      ]
    },
    {
      "cell_type": "code",
      "source": [
        "mlp_clf = MLPClassifier(hidden_layer_sizes=(50,), random_state=1, max_iter=1000, activation='logistic')\n",
        "\n",
        "%timeit model = mlp_clf.fit(Xtrain, y_train)\n",
        "%timeit y_predicted = model.predict(Xtest)\n",
        "\n",
        "print(metrics.classification_report(y_test, y_predicted,\n",
        "                                    target_names=dataset.target_names))\n",
        "\n",
        "cm = metrics.confusion_matrix(y_test, y_predicted)\n",
        "x = sns.heatmap(cm, vmin=0, vmax=163, annot=True, fmt=\"d\", linewidths=0, cmap=\"GnBu\")\n",
        "x.xaxis.tick_top()\n",
        "x.set_title('Predicted', size=11)\n",
        "x.set_ylabel('Actual', size=11)"
      ],
      "metadata": {
        "id": "uGYoMkiS3FQg",
        "outputId": "01c4230f-04de-44f3-d173-384cd0c1da27",
        "colab": {
          "base_uri": "https://localhost:8080/",
          "height": 694
        }
      },
      "execution_count": null,
      "outputs": [
        {
          "output_type": "stream",
          "name": "stderr",
          "text": [
            "/usr/local/lib/python3.7/dist-packages/sklearn/neural_network/_multilayer_perceptron.py:699: UserWarning: Training interrupted by user.\n",
            "  warnings.warn(\"Training interrupted by user.\")\n",
            "/usr/local/lib/python3.7/dist-packages/sklearn/neural_network/_multilayer_perceptron.py:699: UserWarning: Training interrupted by user.\n",
            "  warnings.warn(\"Training interrupted by user.\")\n",
            "/usr/local/lib/python3.7/dist-packages/sklearn/neural_network/_multilayer_perceptron.py:699: UserWarning: Training interrupted by user.\n",
            "  warnings.warn(\"Training interrupted by user.\")\n",
            "/usr/local/lib/python3.7/dist-packages/sklearn/neural_network/_multilayer_perceptron.py:699: UserWarning: Training interrupted by user.\n",
            "  warnings.warn(\"Training interrupted by user.\")\n",
            "/usr/local/lib/python3.7/dist-packages/sklearn/neural_network/_multilayer_perceptron.py:699: UserWarning: Training interrupted by user.\n",
            "  warnings.warn(\"Training interrupted by user.\")\n",
            "/usr/local/lib/python3.7/dist-packages/sklearn/neural_network/_multilayer_perceptron.py:699: UserWarning: Training interrupted by user.\n",
            "  warnings.warn(\"Training interrupted by user.\")\n"
          ]
        },
        {
          "output_type": "stream",
          "name": "stdout",
          "text": [
            "The slowest run took 13.36 times longer than the fastest. This could mean that an intermediate result is being cached.\n",
            "1 loop, best of 5: 256 ms per loop\n"
          ]
        },
        {
          "output_type": "error",
          "ename": "KeyboardInterrupt",
          "evalue": "ignored",
          "traceback": [
            "\u001b[0;31m---------------------------------------------------------------------------\u001b[0m",
            "\u001b[0;31mKeyboardInterrupt\u001b[0m                         Traceback (most recent call last)",
            "\u001b[0;32m<ipython-input-23-54a205015675>\u001b[0m in \u001b[0;36m<module>\u001b[0;34m()\u001b[0m\n\u001b[1;32m      2\u001b[0m \u001b[0;34m\u001b[0m\u001b[0m\n\u001b[1;32m      3\u001b[0m \u001b[0mget_ipython\u001b[0m\u001b[0;34m(\u001b[0m\u001b[0;34m)\u001b[0m\u001b[0;34m.\u001b[0m\u001b[0mmagic\u001b[0m\u001b[0;34m(\u001b[0m\u001b[0;34m'timeit model = mlp_clf.fit(Xtrain, y_train)'\u001b[0m\u001b[0;34m)\u001b[0m\u001b[0;34m\u001b[0m\u001b[0;34m\u001b[0m\u001b[0m\n\u001b[0;32m----> 4\u001b[0;31m \u001b[0mget_ipython\u001b[0m\u001b[0;34m(\u001b[0m\u001b[0;34m)\u001b[0m\u001b[0;34m.\u001b[0m\u001b[0mmagic\u001b[0m\u001b[0;34m(\u001b[0m\u001b[0;34m'timeit y_predicted = model.predict(Xtest)'\u001b[0m\u001b[0;34m)\u001b[0m\u001b[0;34m\u001b[0m\u001b[0;34m\u001b[0m\u001b[0m\n\u001b[0m\u001b[1;32m      5\u001b[0m \u001b[0;34m\u001b[0m\u001b[0m\n\u001b[1;32m      6\u001b[0m print(metrics.classification_report(y_test, y_predicted,\n",
            "\u001b[0;32m/usr/local/lib/python3.7/dist-packages/IPython/core/interactiveshell.py\u001b[0m in \u001b[0;36mmagic\u001b[0;34m(self, arg_s)\u001b[0m\n\u001b[1;32m   2158\u001b[0m         \u001b[0mmagic_name\u001b[0m\u001b[0;34m,\u001b[0m \u001b[0m_\u001b[0m\u001b[0;34m,\u001b[0m \u001b[0mmagic_arg_s\u001b[0m \u001b[0;34m=\u001b[0m \u001b[0marg_s\u001b[0m\u001b[0;34m.\u001b[0m\u001b[0mpartition\u001b[0m\u001b[0;34m(\u001b[0m\u001b[0;34m' '\u001b[0m\u001b[0;34m)\u001b[0m\u001b[0;34m\u001b[0m\u001b[0;34m\u001b[0m\u001b[0m\n\u001b[1;32m   2159\u001b[0m         \u001b[0mmagic_name\u001b[0m \u001b[0;34m=\u001b[0m \u001b[0mmagic_name\u001b[0m\u001b[0;34m.\u001b[0m\u001b[0mlstrip\u001b[0m\u001b[0;34m(\u001b[0m\u001b[0mprefilter\u001b[0m\u001b[0;34m.\u001b[0m\u001b[0mESC_MAGIC\u001b[0m\u001b[0;34m)\u001b[0m\u001b[0;34m\u001b[0m\u001b[0;34m\u001b[0m\u001b[0m\n\u001b[0;32m-> 2160\u001b[0;31m         \u001b[0;32mreturn\u001b[0m \u001b[0mself\u001b[0m\u001b[0;34m.\u001b[0m\u001b[0mrun_line_magic\u001b[0m\u001b[0;34m(\u001b[0m\u001b[0mmagic_name\u001b[0m\u001b[0;34m,\u001b[0m \u001b[0mmagic_arg_s\u001b[0m\u001b[0;34m)\u001b[0m\u001b[0;34m\u001b[0m\u001b[0;34m\u001b[0m\u001b[0m\n\u001b[0m\u001b[1;32m   2161\u001b[0m \u001b[0;34m\u001b[0m\u001b[0m\n\u001b[1;32m   2162\u001b[0m     \u001b[0;31m#-------------------------------------------------------------------------\u001b[0m\u001b[0;34m\u001b[0m\u001b[0;34m\u001b[0m\u001b[0;34m\u001b[0m\u001b[0m\n",
            "\u001b[0;32m/usr/local/lib/python3.7/dist-packages/IPython/core/interactiveshell.py\u001b[0m in \u001b[0;36mrun_line_magic\u001b[0;34m(self, magic_name, line)\u001b[0m\n\u001b[1;32m   2079\u001b[0m                 \u001b[0mkwargs\u001b[0m\u001b[0;34m[\u001b[0m\u001b[0;34m'local_ns'\u001b[0m\u001b[0;34m]\u001b[0m \u001b[0;34m=\u001b[0m \u001b[0msys\u001b[0m\u001b[0;34m.\u001b[0m\u001b[0m_getframe\u001b[0m\u001b[0;34m(\u001b[0m\u001b[0mstack_depth\u001b[0m\u001b[0;34m)\u001b[0m\u001b[0;34m.\u001b[0m\u001b[0mf_locals\u001b[0m\u001b[0;34m\u001b[0m\u001b[0;34m\u001b[0m\u001b[0m\n\u001b[1;32m   2080\u001b[0m             \u001b[0;32mwith\u001b[0m \u001b[0mself\u001b[0m\u001b[0;34m.\u001b[0m\u001b[0mbuiltin_trap\u001b[0m\u001b[0;34m:\u001b[0m\u001b[0;34m\u001b[0m\u001b[0;34m\u001b[0m\u001b[0m\n\u001b[0;32m-> 2081\u001b[0;31m                 \u001b[0mresult\u001b[0m \u001b[0;34m=\u001b[0m \u001b[0mfn\u001b[0m\u001b[0;34m(\u001b[0m\u001b[0;34m*\u001b[0m\u001b[0margs\u001b[0m\u001b[0;34m,\u001b[0m\u001b[0;34m**\u001b[0m\u001b[0mkwargs\u001b[0m\u001b[0;34m)\u001b[0m\u001b[0;34m\u001b[0m\u001b[0;34m\u001b[0m\u001b[0m\n\u001b[0m\u001b[1;32m   2082\u001b[0m             \u001b[0;32mreturn\u001b[0m \u001b[0mresult\u001b[0m\u001b[0;34m\u001b[0m\u001b[0;34m\u001b[0m\u001b[0m\n\u001b[1;32m   2083\u001b[0m \u001b[0;34m\u001b[0m\u001b[0m\n",
            "\u001b[0;32m<decorator-gen-52>\u001b[0m in \u001b[0;36mtimeit\u001b[0;34m(self, line, cell)\u001b[0m\n",
            "\u001b[0;32m/usr/local/lib/python3.7/dist-packages/IPython/core/magic.py\u001b[0m in \u001b[0;36m<lambda>\u001b[0;34m(f, *a, **k)\u001b[0m\n\u001b[1;32m    186\u001b[0m     \u001b[0;31m# but it's overkill for just that one bit of state.\u001b[0m\u001b[0;34m\u001b[0m\u001b[0;34m\u001b[0m\u001b[0;34m\u001b[0m\u001b[0m\n\u001b[1;32m    187\u001b[0m     \u001b[0;32mdef\u001b[0m \u001b[0mmagic_deco\u001b[0m\u001b[0;34m(\u001b[0m\u001b[0marg\u001b[0m\u001b[0;34m)\u001b[0m\u001b[0;34m:\u001b[0m\u001b[0;34m\u001b[0m\u001b[0;34m\u001b[0m\u001b[0m\n\u001b[0;32m--> 188\u001b[0;31m         \u001b[0mcall\u001b[0m \u001b[0;34m=\u001b[0m \u001b[0;32mlambda\u001b[0m \u001b[0mf\u001b[0m\u001b[0;34m,\u001b[0m \u001b[0;34m*\u001b[0m\u001b[0ma\u001b[0m\u001b[0;34m,\u001b[0m \u001b[0;34m**\u001b[0m\u001b[0mk\u001b[0m\u001b[0;34m:\u001b[0m \u001b[0mf\u001b[0m\u001b[0;34m(\u001b[0m\u001b[0;34m*\u001b[0m\u001b[0ma\u001b[0m\u001b[0;34m,\u001b[0m \u001b[0;34m**\u001b[0m\u001b[0mk\u001b[0m\u001b[0;34m)\u001b[0m\u001b[0;34m\u001b[0m\u001b[0;34m\u001b[0m\u001b[0m\n\u001b[0m\u001b[1;32m    189\u001b[0m \u001b[0;34m\u001b[0m\u001b[0m\n\u001b[1;32m    190\u001b[0m         \u001b[0;32mif\u001b[0m \u001b[0mcallable\u001b[0m\u001b[0;34m(\u001b[0m\u001b[0marg\u001b[0m\u001b[0;34m)\u001b[0m\u001b[0;34m:\u001b[0m\u001b[0;34m\u001b[0m\u001b[0;34m\u001b[0m\u001b[0m\n",
            "\u001b[0;32m/usr/local/lib/python3.7/dist-packages/IPython/core/magics/execution.py\u001b[0m in \u001b[0;36mtimeit\u001b[0;34m(self, line, cell)\u001b[0m\n\u001b[1;32m   1060\u001b[0m                     \u001b[0;32mbreak\u001b[0m\u001b[0;34m\u001b[0m\u001b[0;34m\u001b[0m\u001b[0m\n\u001b[1;32m   1061\u001b[0m                 \u001b[0mnumber\u001b[0m \u001b[0;34m*=\u001b[0m \u001b[0;36m10\u001b[0m\u001b[0;34m\u001b[0m\u001b[0;34m\u001b[0m\u001b[0m\n\u001b[0;32m-> 1062\u001b[0;31m         \u001b[0mall_runs\u001b[0m \u001b[0;34m=\u001b[0m \u001b[0mtimer\u001b[0m\u001b[0;34m.\u001b[0m\u001b[0mrepeat\u001b[0m\u001b[0;34m(\u001b[0m\u001b[0mrepeat\u001b[0m\u001b[0;34m,\u001b[0m \u001b[0mnumber\u001b[0m\u001b[0;34m)\u001b[0m\u001b[0;34m\u001b[0m\u001b[0;34m\u001b[0m\u001b[0m\n\u001b[0m\u001b[1;32m   1063\u001b[0m         \u001b[0mbest\u001b[0m \u001b[0;34m=\u001b[0m \u001b[0mmin\u001b[0m\u001b[0;34m(\u001b[0m\u001b[0mall_runs\u001b[0m\u001b[0;34m)\u001b[0m \u001b[0;34m/\u001b[0m \u001b[0mnumber\u001b[0m\u001b[0;34m\u001b[0m\u001b[0;34m\u001b[0m\u001b[0m\n\u001b[1;32m   1064\u001b[0m \u001b[0;34m\u001b[0m\u001b[0m\n",
            "\u001b[0;32m/usr/lib/python3.7/timeit.py\u001b[0m in \u001b[0;36mrepeat\u001b[0;34m(self, repeat, number)\u001b[0m\n\u001b[1;32m    203\u001b[0m         \u001b[0mr\u001b[0m \u001b[0;34m=\u001b[0m \u001b[0;34m[\u001b[0m\u001b[0;34m]\u001b[0m\u001b[0;34m\u001b[0m\u001b[0;34m\u001b[0m\u001b[0m\n\u001b[1;32m    204\u001b[0m         \u001b[0;32mfor\u001b[0m \u001b[0mi\u001b[0m \u001b[0;32min\u001b[0m \u001b[0mrange\u001b[0m\u001b[0;34m(\u001b[0m\u001b[0mrepeat\u001b[0m\u001b[0;34m)\u001b[0m\u001b[0;34m:\u001b[0m\u001b[0;34m\u001b[0m\u001b[0;34m\u001b[0m\u001b[0m\n\u001b[0;32m--> 205\u001b[0;31m             \u001b[0mt\u001b[0m \u001b[0;34m=\u001b[0m \u001b[0mself\u001b[0m\u001b[0;34m.\u001b[0m\u001b[0mtimeit\u001b[0m\u001b[0;34m(\u001b[0m\u001b[0mnumber\u001b[0m\u001b[0;34m)\u001b[0m\u001b[0;34m\u001b[0m\u001b[0;34m\u001b[0m\u001b[0m\n\u001b[0m\u001b[1;32m    206\u001b[0m             \u001b[0mr\u001b[0m\u001b[0;34m.\u001b[0m\u001b[0mappend\u001b[0m\u001b[0;34m(\u001b[0m\u001b[0mt\u001b[0m\u001b[0;34m)\u001b[0m\u001b[0;34m\u001b[0m\u001b[0;34m\u001b[0m\u001b[0m\n\u001b[1;32m    207\u001b[0m         \u001b[0;32mreturn\u001b[0m \u001b[0mr\u001b[0m\u001b[0;34m\u001b[0m\u001b[0;34m\u001b[0m\u001b[0m\n",
            "\u001b[0;32m/usr/local/lib/python3.7/dist-packages/IPython/core/magics/execution.py\u001b[0m in \u001b[0;36mtimeit\u001b[0;34m(self, number)\u001b[0m\n\u001b[1;32m    137\u001b[0m         \u001b[0mgc\u001b[0m\u001b[0;34m.\u001b[0m\u001b[0mdisable\u001b[0m\u001b[0;34m(\u001b[0m\u001b[0;34m)\u001b[0m\u001b[0;34m\u001b[0m\u001b[0;34m\u001b[0m\u001b[0m\n\u001b[1;32m    138\u001b[0m         \u001b[0;32mtry\u001b[0m\u001b[0;34m:\u001b[0m\u001b[0;34m\u001b[0m\u001b[0;34m\u001b[0m\u001b[0m\n\u001b[0;32m--> 139\u001b[0;31m             \u001b[0mtiming\u001b[0m \u001b[0;34m=\u001b[0m \u001b[0mself\u001b[0m\u001b[0;34m.\u001b[0m\u001b[0minner\u001b[0m\u001b[0;34m(\u001b[0m\u001b[0mit\u001b[0m\u001b[0;34m,\u001b[0m \u001b[0mself\u001b[0m\u001b[0;34m.\u001b[0m\u001b[0mtimer\u001b[0m\u001b[0;34m)\u001b[0m\u001b[0;34m\u001b[0m\u001b[0;34m\u001b[0m\u001b[0m\n\u001b[0m\u001b[1;32m    140\u001b[0m         \u001b[0;32mfinally\u001b[0m\u001b[0;34m:\u001b[0m\u001b[0;34m\u001b[0m\u001b[0;34m\u001b[0m\u001b[0m\n\u001b[1;32m    141\u001b[0m             \u001b[0;32mif\u001b[0m \u001b[0mgcold\u001b[0m\u001b[0;34m:\u001b[0m\u001b[0;34m\u001b[0m\u001b[0;34m\u001b[0m\u001b[0m\n",
            "\u001b[0;32m<magic-timeit>\u001b[0m in \u001b[0;36minner\u001b[0;34m(_it, _timer)\u001b[0m\n",
            "\u001b[0;32m/usr/local/lib/python3.7/dist-packages/sklearn/neural_network/_multilayer_perceptron.py\u001b[0m in \u001b[0;36mpredict\u001b[0;34m(self, X)\u001b[0m\n\u001b[1;32m   1165\u001b[0m         \"\"\"\n\u001b[1;32m   1166\u001b[0m         \u001b[0mcheck_is_fitted\u001b[0m\u001b[0;34m(\u001b[0m\u001b[0mself\u001b[0m\u001b[0;34m)\u001b[0m\u001b[0;34m\u001b[0m\u001b[0;34m\u001b[0m\u001b[0m\n\u001b[0;32m-> 1167\u001b[0;31m         \u001b[0my_pred\u001b[0m \u001b[0;34m=\u001b[0m \u001b[0mself\u001b[0m\u001b[0;34m.\u001b[0m\u001b[0m_forward_pass_fast\u001b[0m\u001b[0;34m(\u001b[0m\u001b[0mX\u001b[0m\u001b[0;34m)\u001b[0m\u001b[0;34m\u001b[0m\u001b[0;34m\u001b[0m\u001b[0m\n\u001b[0m\u001b[1;32m   1168\u001b[0m \u001b[0;34m\u001b[0m\u001b[0m\n\u001b[1;32m   1169\u001b[0m         \u001b[0;32mif\u001b[0m \u001b[0mself\u001b[0m\u001b[0;34m.\u001b[0m\u001b[0mn_outputs_\u001b[0m \u001b[0;34m==\u001b[0m \u001b[0;36m1\u001b[0m\u001b[0;34m:\u001b[0m\u001b[0;34m\u001b[0m\u001b[0;34m\u001b[0m\u001b[0m\n",
            "\u001b[0;32m/usr/local/lib/python3.7/dist-packages/sklearn/neural_network/_multilayer_perceptron.py\u001b[0m in \u001b[0;36m_forward_pass_fast\u001b[0;34m(self, X)\u001b[0m\n\u001b[1;32m    165\u001b[0m         \u001b[0mhidden_activation\u001b[0m \u001b[0;34m=\u001b[0m \u001b[0mACTIVATIONS\u001b[0m\u001b[0;34m[\u001b[0m\u001b[0mself\u001b[0m\u001b[0;34m.\u001b[0m\u001b[0mactivation\u001b[0m\u001b[0;34m]\u001b[0m\u001b[0;34m\u001b[0m\u001b[0;34m\u001b[0m\u001b[0m\n\u001b[1;32m    166\u001b[0m         \u001b[0;32mfor\u001b[0m \u001b[0mi\u001b[0m \u001b[0;32min\u001b[0m \u001b[0mrange\u001b[0m\u001b[0;34m(\u001b[0m\u001b[0mself\u001b[0m\u001b[0;34m.\u001b[0m\u001b[0mn_layers_\u001b[0m \u001b[0;34m-\u001b[0m \u001b[0;36m1\u001b[0m\u001b[0;34m)\u001b[0m\u001b[0;34m:\u001b[0m\u001b[0;34m\u001b[0m\u001b[0;34m\u001b[0m\u001b[0m\n\u001b[0;32m--> 167\u001b[0;31m             \u001b[0mactivation\u001b[0m \u001b[0;34m=\u001b[0m \u001b[0msafe_sparse_dot\u001b[0m\u001b[0;34m(\u001b[0m\u001b[0mactivation\u001b[0m\u001b[0;34m,\u001b[0m \u001b[0mself\u001b[0m\u001b[0;34m.\u001b[0m\u001b[0mcoefs_\u001b[0m\u001b[0;34m[\u001b[0m\u001b[0mi\u001b[0m\u001b[0;34m]\u001b[0m\u001b[0;34m)\u001b[0m\u001b[0;34m\u001b[0m\u001b[0;34m\u001b[0m\u001b[0m\n\u001b[0m\u001b[1;32m    168\u001b[0m             \u001b[0mactivation\u001b[0m \u001b[0;34m+=\u001b[0m \u001b[0mself\u001b[0m\u001b[0;34m.\u001b[0m\u001b[0mintercepts_\u001b[0m\u001b[0;34m[\u001b[0m\u001b[0mi\u001b[0m\u001b[0;34m]\u001b[0m\u001b[0;34m\u001b[0m\u001b[0;34m\u001b[0m\u001b[0m\n\u001b[1;32m    169\u001b[0m             \u001b[0;32mif\u001b[0m \u001b[0mi\u001b[0m \u001b[0;34m!=\u001b[0m \u001b[0mself\u001b[0m\u001b[0;34m.\u001b[0m\u001b[0mn_layers_\u001b[0m \u001b[0;34m-\u001b[0m \u001b[0;36m2\u001b[0m\u001b[0;34m:\u001b[0m\u001b[0;34m\u001b[0m\u001b[0;34m\u001b[0m\u001b[0m\n",
            "\u001b[0;32m/usr/local/lib/python3.7/dist-packages/sklearn/utils/extmath.py\u001b[0m in \u001b[0;36msafe_sparse_dot\u001b[0;34m(a, b, dense_output)\u001b[0m\n\u001b[1;32m    151\u001b[0m             \u001b[0mret\u001b[0m \u001b[0;34m=\u001b[0m \u001b[0mnp\u001b[0m\u001b[0;34m.\u001b[0m\u001b[0mdot\u001b[0m\u001b[0;34m(\u001b[0m\u001b[0ma\u001b[0m\u001b[0;34m,\u001b[0m \u001b[0mb\u001b[0m\u001b[0;34m)\u001b[0m\u001b[0;34m\u001b[0m\u001b[0;34m\u001b[0m\u001b[0m\n\u001b[1;32m    152\u001b[0m     \u001b[0;32melse\u001b[0m\u001b[0;34m:\u001b[0m\u001b[0;34m\u001b[0m\u001b[0;34m\u001b[0m\u001b[0m\n\u001b[0;32m--> 153\u001b[0;31m         \u001b[0mret\u001b[0m \u001b[0;34m=\u001b[0m \u001b[0ma\u001b[0m \u001b[0;34m@\u001b[0m \u001b[0mb\u001b[0m\u001b[0;34m\u001b[0m\u001b[0;34m\u001b[0m\u001b[0m\n\u001b[0m\u001b[1;32m    154\u001b[0m \u001b[0;34m\u001b[0m\u001b[0m\n\u001b[1;32m    155\u001b[0m     if (\n",
            "\u001b[0;31mKeyboardInterrupt\u001b[0m: "
          ]
        }
      ]
    },
    {
      "cell_type": "code",
      "source": [
        "mlp_clf = MLPClassifier(hidden_layer_sizes=(50,), random_state=1, max_iter=500, activation='tanh')\n",
        "\n",
        "%timeit model = mlp_clf.fit(Xtrain, y_train)\n",
        "%timeit y_predicted = model.predict(Xtest)\n",
        "\n",
        "print(metrics.classification_report(y_test, y_predicted,\n",
        "                                    target_names=dataset.target_names))\n",
        "\n",
        "cm = metrics.confusion_matrix(y_test, y_predicted)\n",
        "x = sns.heatmap(cm, vmin=0, vmax=163, annot=True, fmt=\"d\", linewidths=0, cmap=\"GnBu\")\n",
        "x.xaxis.tick_top()\n",
        "x.set_title('Predicted', size=11)\n",
        "x.set_ylabel('Actual', size=11)"
      ],
      "metadata": {
        "id": "iV6cAl3q3NEX"
      },
      "execution_count": null,
      "outputs": []
    },
    {
      "cell_type": "markdown",
      "metadata": {
        "collapsed": true,
        "id": "o0bcrrUzQtfX"
      },
      "source": [
        "\n",
        "## Problem 6 (20 points): Business question"
      ]
    },
    {
      "cell_type": "markdown",
      "metadata": {
        "id": "j8VZdOxfQtfX"
      },
      "source": [
        "* Suppose you had a machine learning algorithm that could detect the sentiment of tweets that was highly accurate.  What kind of business could you build around that?\n",
        "* Who would be your competitors, and what are their sizes?\n",
        "* What would be the size of the market for your product?\n",
        "* In addition, assume that your machine learning was slow to train, but fast in making predictions on new data.  How would that affect your business plan?\n",
        "* How could you use the cloud to support your product?"
      ]
    },
    {
      "cell_type": "markdown",
      "source": [
        "#Problem 6\n",
        "\n",
        "###1. What business?\n",
        "We decided to continue with the business we designed in CS2. Our business model lies in the creation of a tool that can be used by businesses to design a perfect \"disruptive\" product. \n",
        "\n",
        "##ASSUMPTION: the assumption is that twitter is actually a good platform for product analysis but it isn't. For example, if we were doing CS2 again, to analyze people sentiment about restaurants we would use Yelp. If we do phone analysis we will use a site that specializes in reviewing technology. If we do product reviews we would use a massive retailer site and analyze reviews there. But, since we have to use twitter, let's just imagine it is actually good for product analysis. At the end of the day, the model is transferrable to any sort of platform with text reviews.\n",
        "\n",
        "We collect sentiment of people about a particular topic, relevant to the new business, and then analyze the positive and negative tweets to determine any important stake features the newcoming product must have, or any breakthrough features it has to include to beat the competition. E.g. if the newcomer wants to start a phone business, we collect tweets about phones. Look for positive tweets and negative tweets. Then look for common features (most common words) among negative tweets and then common features (most common words) among positive tweets.\n",
        "Perhaps, it is important to note that we would have to perform a more accurate n-gram selection to amke this work. We would have to only look for subject - action (SA) and action - object (AO) n-gram pairs, which is achieved by first filtering the stopwords and then applying SOME business acumen and human intelligence to determine common actions performed with the given product. There is, however, potential for improvement of the business model to automatically identify key action words itself.\n",
        "\n",
        "###2. Who's the competitors?\n",
        "Our competition is consulting firms. They have massive sizes and departments but they charge more money for the services and their approach is based on interviews / business model analysis and other legacy ways of doing consulting. Our consulting approach is done purely with the help of Big Data analysis, which makes it quicker, cheaper, and more empirically accurate.\n",
        "\n",
        "###3. Size of the market?\n",
        "We would begin with targeting ventures that are a part of the StartUp Worcester cohort. The size of this market is about 10 new companies each year. These are usually new, up and coming companies that cannot afford standard consulting services but certainly need help with market penetration with their new product. Importantly, they need to penetrate the market with a disruptive design, since developing a product that is just \"marginally\" better than competition, won't help them gain market share against established big firms.\n",
        "\n",
        "###4. ML training is slow but testing is quick.\n",
        "That wouldn't really influence our business model. The standard consulting time is going to be longer anyway and our end result depends on the accuraccy of our testing results. The key is training here, since we are using deep learning to perform a consultant's job, so maybe long training times would even further emphasize the benefit and complexity of our approach to the customer and allow us to charge them even more.\n",
        "\n",
        "###5. Cloud to support product.\n",
        "We would want to gather customer reviews into the cloud most likely. This would allow us to aggreggate large amounts of data into logical groups e.g. twitter data, yelp data, google review data, amazon data, etc. and overcome the limitations of free API (limited number of calls in a time period) by aggreggating calls across several months."
      ],
      "metadata": {
        "id": "IMljIrhX8KSC"
      }
    },
    {
      "cell_type": "markdown",
      "metadata": {
        "id": "EhHQoH_KQtfX"
      },
      "source": [
        "# Slides (for a 5-8 minute presentation) (20 points)\n",
        "\n",
        "\n",
        "1. (5 points) Motivation about the data collection, why the topic is interesting to you. \n",
        "\n",
        "2. (10 points) Communicating Results (figure/table)\n",
        "\n",
        "3. (5 points) Story telling (How all the parts (data, analysis, result) fit together as a story?)"
      ]
    },
    {
      "cell_type": "markdown",
      "metadata": {
        "id": "kl5sy8EUQtfY"
      },
      "source": [
        "\n",
        "# Done\n",
        "\n",
        "All set! \n",
        "\n",
        "** What do you need to submit?**\n",
        "\n",
        "* **Notebook File**: Save this IPython notebook, and find the notebook file in your folder (for example, \"filename.ipynb\"). This is the file you need to submit. Please make sure all the plotted tables and figures are in the notebook. If you used \"ipython notebook --pylab=inline\" to open the notebook, all the figures and tables should have shown up in the notebook.\n",
        "\n",
        "\n",
        "* **PPT Slides**: please prepare PPT slides (for 10 minutes' talk) to present about the case study . We will ask two teams which are randomly selected to present their case studies in class for this case study. \n",
        "\n",
        "* **Report**: please prepare a report (less than 10 pages) to report what you found in the data.\n",
        "    * What data you collected? \n",
        "    * Why this topic is interesting or important to you? (Motivations)\n",
        "    * How did you analyse the data?\n",
        "    * What did you find in the data? \n",
        " \n",
        "     (please include figures or tables in the report, but no source code)\n",
        "\n",
        "\n",
        "*Please compress all the files into a single zipped file.*\n",
        "\n",
        "\n",
        "** How to submit: **\n",
        "\n",
        "        Please submit through canvas.wpi.edu\n",
        "\n",
        "### DS3010 Case Study 3 Team ??\n",
        "\n",
        "#### where ?? is your team number.\n",
        "        \n",
        "** Note: Each team just needs to submits one submission **"
      ]
    },
    {
      "cell_type": "markdown",
      "metadata": {
        "collapsed": true,
        "id": "HylAvN1gQtfY"
      },
      "source": [
        "# Grading Criteria:\n",
        "\n",
        "**Total Points: 100**\n",
        "\n",
        "\n",
        "---------------------------------------------------------------------------\n",
        "**Notebook results:**\n",
        "    Points: 80\n",
        "\n",
        "\n",
        "    -----------------------------------\n",
        "    Question 1:\n",
        "    Points: 10\n",
        "    -----------------------------------\n",
        "    \n",
        "    -----------------------------------\n",
        "    Question 2:\n",
        "    Points: 10\n",
        "    -----------------------------------\n",
        "        \n",
        "    -----------------------------------\n",
        "    Question 3:\n",
        "    Points: 15 \n",
        "    -----------------------------------\n",
        "  \n",
        "    -----------------------------------\n",
        "    Question 4:  \n",
        "    Points: 15\n",
        "    -----------------------------------\n",
        "\n",
        "    -----------------------------------\n",
        "    Question 5:  \n",
        "    Points: 10\n",
        "    -----------------------------------\n",
        "\n",
        "    -----------------------------------\n",
        "    Question 6:  \n",
        "    Points: 20\n",
        "    -----------------------------------\n",
        "\n",
        "---------------------------------------------------------------------------\n",
        "**Slides (for a 5-8 minute presentation): Story-telling**\n",
        "    Points: 20\n",
        "\n",
        "\n",
        "1. Motivation about the data collection, why the topic is interesting to you.\n",
        "    Points: 5 \n",
        "\n",
        "2. Communicating Results (figure/table)\n",
        "    Points: 10 \n",
        "\n",
        "3. Story telling (How all the parts (data, analysis, result) fit together as a story?)\n",
        "    Points: 5 \n"
      ]
    },
    {
      "cell_type": "code",
      "execution_count": null,
      "metadata": {
        "id": "ch582GFeQtfY"
      },
      "outputs": [],
      "source": [
        ""
      ]
    }
  ],
  "metadata": {
    "kernel_info": {
      "name": "python3"
    },
    "kernelspec": {
      "display_name": "Python 3",
      "language": "python",
      "name": "python3"
    },
    "language_info": {
      "codemirror_mode": {
        "name": "ipython",
        "version": 3
      },
      "file_extension": ".py",
      "mimetype": "text/x-python",
      "name": "python",
      "nbconvert_exporter": "python",
      "pygments_lexer": "ipython3",
      "version": "3.8.5"
    },
    "nteract": {
      "version": "0.2.0"
    },
    "colab": {
      "name": "CaseStudy3.ipynb",
      "provenance": [],
      "include_colab_link": true
    }
  },
  "nbformat": 4,
  "nbformat_minor": 0
}