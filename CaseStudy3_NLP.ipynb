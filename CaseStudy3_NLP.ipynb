{
  "cells": [
    {
      "cell_type": "markdown",
      "metadata": {
        "id": "view-in-github",
        "colab_type": "text"
      },
      "source": [
        "<a href=\"https://colab.research.google.com/github/GTWFam/Group7_DS3010/blob/main/CaseStudy3_NLP.ipynb\" target=\"_parent\"><img src=\"https://colab.research.google.com/assets/colab-badge.svg\" alt=\"Open In Colab\"/></a>"
      ]
    },
    {
      "cell_type": "markdown",
      "metadata": {
        "id": "e3AaPphVQtfQ"
      },
      "source": [
        "# Case Study 3 : Textual analysis of movie reviews"
      ]
    },
    {
      "cell_type": "markdown",
      "metadata": {
        "id": "v9xFcGCJQtfS"
      },
      "source": [
        "**Due Date: February 22, 2020, BEFORE the beginning of class at 2:00pm ET**\n",
        "\n",
        "NOTE: There are always last minute issues submitting the case studies. DO NOT WAIT UNTIL THE LAST MINUTE!"
      ]
    },
    {
      "cell_type": "markdown",
      "metadata": {
        "id": "W96Ki3enQtfT"
      },
      "source": [
        "<img src=\"https://getthematic.com/wp-content/uploads/2018/03/Harris-Word-Cloud-e1522406279125.png\">"
      ]
    },
    {
      "cell_type": "markdown",
      "metadata": {
        "id": "0z6U9nIKQtfT"
      },
      "source": [
        "**TEAM Members:** Please EDIT this cell and add the names of all the team members in your team\n",
        "\n",
        "    Jacob Bissonette\n",
        "    Austin Franklin \n",
        "    Yuriy Kamenivskyy \n",
        "    Garrett McMerriman\n",
        "    Bill Hoang Pham"
      ]
    },
    {
      "cell_type": "markdown",
      "metadata": {
        "id": "SeewMOzEQtfT"
      },
      "source": [
        "**Desired outcome of the case study.**\n",
        "* In this case study we will look at movie reviews from the v2.0 polarity dataset comes from\n",
        "the http://www.cs.cornell.edu/people/pabo/movie-review-data.\n",
        "    * It contains written reviews of movies divided into positive and negative reviews.\n",
        "* As in Case Study 2 idea is to *analyze* the data set, make *conjectures*, support or refute those conjectures with *data*, and *tell a story* about the data!\n",
        "    \n",
        "**Required Readings:** \n",
        "* This case study will be based upon the scikit-learn Python library\n",
        "* We will build upon the tutorial \"Working With Text Data\" which can be found at http://scikit-learn.org/stable/tutorial/text_analytics/working_with_text_data.html\n",
        "* In particular, this case study is quite similar to \"Exercise 2: Sentiment Analysis on movie reviews\" on the above web page.\n",
        "* Read about deep learning at https://scikit-learn.org/stable/modules/neural_networks_supervised.html\n",
        "\n",
        "\n",
        "**Case study assumptions:**\n",
        "* You have access to a python installation\n",
        "\n",
        "**Required Python libraries:**\n",
        "* Numpy (www.numpy.org) (should already be installed from Case Study 2)\n",
        "* Matplotlib (matplotlib.org) (should already be installed from Case Study 2)\n",
        "* Scikit-learn (scikit-learn.org).\n",
        "* You are also welcome to use the Python Natural Language Processing Toolkit (www.nltk.org) (though it is not required).\n",
        "\n",
        "** NOTE **\n",
        "* Please don't forget to save the notebook frequently when working in IPython Notebook, otherwise the changes you made can be lost."
      ]
    },
    {
      "cell_type": "markdown",
      "source": [
        "# Getting the data onto Colab example."
      ],
      "metadata": {
        "id": "WQQrXatF30aY"
      }
    },
    {
      "cell_type": "code",
      "source": [
        "! wget https://www.cs.cornell.edu/people/pabo/movie-review-data/review_polarity.tar.gz"
      ],
      "metadata": {
        "colab": {
          "base_uri": "https://localhost:8080/"
        },
        "id": "ludq2Spg3zdC",
        "outputId": "80b1d3f6-ce2e-4342-ac11-8738d378d0c9"
      },
      "execution_count": 3,
      "outputs": [
        {
          "output_type": "stream",
          "name": "stdout",
          "text": [
            "--2022-02-20 14:37:09--  https://www.cs.cornell.edu/people/pabo/movie-review-data/review_polarity.tar.gz\n",
            "Resolving www.cs.cornell.edu (www.cs.cornell.edu)... 132.236.207.36\n",
            "Connecting to www.cs.cornell.edu (www.cs.cornell.edu)|132.236.207.36|:443... connected.\n",
            "HTTP request sent, awaiting response... 200 OK\n",
            "Length: 3127238 (3.0M) [application/x-gzip]\n",
            "Saving to: ‘review_polarity.tar.gz.1’\n",
            "\n",
            "review_polarity.tar 100%[===================>]   2.98M  15.0MB/s    in 0.2s    \n",
            "\n",
            "2022-02-20 14:37:09 (15.0 MB/s) - ‘review_polarity.tar.gz.1’ saved [3127238/3127238]\n",
            "\n"
          ]
        }
      ]
    },
    {
      "cell_type": "markdown",
      "source": [
        "Look for the directory txt_sentoken"
      ],
      "metadata": {
        "id": "j6lyvK0T4HCk"
      }
    },
    {
      "cell_type": "code",
      "source": [
        "! tar xzf review_polarity.tar.gz\n",
        "! ls"
      ],
      "metadata": {
        "id": "QqAfVpEJ4A0P",
        "outputId": "a7342395-1b47-4a4b-e77d-eac5b5a8b4bf",
        "colab": {
          "base_uri": "https://localhost:8080/"
        }
      },
      "execution_count": 4,
      "outputs": [
        {
          "output_type": "stream",
          "name": "stdout",
          "text": [
            "poldata.README.2.0\treview_polarity.tar.gz.1  txt_sentoken\n",
            "review_polarity.tar.gz\tsample_data\n"
          ]
        }
      ]
    },
    {
      "cell_type": "markdown",
      "metadata": {
        "id": "7m-jzLoyQtfU"
      },
      "source": [
        "## Problem 1 (10 points): Complete Exercise 2: Sentiment Analysis on movie reviews from http://scikit-learn.org/stable/tutorial/text_analytics/working_with_text_data.html"
      ]
    },
    {
      "cell_type": "markdown",
      "metadata": {
        "id": "QyZeq4COQtfU"
      },
      "source": [
        "* Installing scikit-learn using Anaconda does not necessarily download the example source-code.\n",
        "* Accordingly, you may need to download these directly from Github at https://github.com/scikit-learn/scikit-learn:\n",
        "    * The data can be downloaded using doc/tutorial/text_analytics/data/movie_reviews/fetch_data.py\n",
        "    * A skeleton for the solution can be found in doc/tutorial/text_analytics/skeletons/exercise_02_sentiment.py\n",
        "    * A completed solution can be found in doc/tutorial/text_analytics/solutions/exercise_02_sentiment.py\n",
        "* Here is a direct link to the code to help you out:  https://github.com/scikit-learn/scikit-learn/tree/main/doc/tutorial/text_analytics\n",
        "* **It is ok to use the solution provided in the scikit-learn distribution as a starting place for your work.**\n",
        "\n",
        "### Modify the solution to Exercise 2 so that it can run in this iPython notebook\n",
        "* This will likely involve moving around data files and/or small modifications to the script."
      ]
    },
    {
      "cell_type": "code",
      "execution_count": 5,
      "metadata": {
        "id": "x9rv82MAQtfV"
      },
      "outputs": [],
      "source": [
        "# Imports\n",
        "\n",
        "from sklearn.datasets import load_files\n",
        "from sklearn.feature_extraction.text import TfidfVectorizer\n",
        "from sklearn.svm import LinearSVC\n",
        "from sklearn.svm import SVC\n",
        "from sklearn.pipeline import Pipeline\n",
        "from sklearn.model_selection import GridSearchCV\n",
        "from sklearn.datasets import load_files\n",
        "from sklearn.model_selection import train_test_split\n",
        "from sklearn import metrics\n",
        "from sklearn.preprocessing import StandardScaler\n",
        "from sklearn.metrics import confusion_matrix\n",
        "import seaborn as sns"
      ]
    },
    {
      "cell_type": "code",
      "source": [
        "# Data Load\n",
        "\n",
        "movie_reviews_data_folder = \"/content/txt_sentoken\"\n",
        "dataset = load_files(movie_reviews_data_folder, shuffle=False)\n",
        "print(\"n_samples: %d\" % len(dataset.data))"
      ],
      "metadata": {
        "id": "Oqrdpl-FdT2t",
        "outputId": "33c44169-20f3-4b62-82d6-9646ebe3ba5a",
        "colab": {
          "base_uri": "https://localhost:8080/"
        }
      },
      "execution_count": 6,
      "outputs": [
        {
          "output_type": "stream",
          "name": "stdout",
          "text": [
            "n_samples: 2000\n"
          ]
        }
      ]
    },
    {
      "cell_type": "code",
      "source": [
        "# Training and Testing split\n",
        " \n",
        "docs_train, docs_test, y_train, y_test = train_test_split(\n",
        "        dataset.data, dataset.target, test_size=0.25, random_state=None)"
      ],
      "metadata": {
        "id": "t7K9POlxdZ03"
      },
      "execution_count": 7,
      "outputs": []
    },
    {
      "cell_type": "code",
      "source": [
        "pipeline = Pipeline([\n",
        "        ('vect', TfidfVectorizer(min_df=3, max_df=0.95)),\n",
        "        ('clf', SVC(C=1000)),\n",
        "    ])\n",
        "\n",
        "parameters = {\n",
        "        'vect__ngram_range': [(1, 1), (1, 2)],\n",
        "    }\n",
        "grid_search = GridSearchCV(pipeline, parameters, n_jobs=-1)\n",
        "grid_search.fit(docs_train, y_train)\n",
        "\n",
        "n_candidates = len(grid_search.cv_results_['params'])\n",
        "for i in range(n_candidates):\n",
        "    print(i, 'params - %s; mean - %0.2f; std - %0.2f'\n",
        "                % (grid_search.cv_results_['params'][i],\n",
        "                grid_search.cv_results_['mean_test_score'][i],\n",
        "                grid_search.cv_results_['std_test_score'][i]))\n",
        "    \n",
        "y_predicted = grid_search.predict(docs_test)\n",
        "\n",
        "# Print the classification report\n",
        "print(metrics.classification_report(y_test, y_predicted,\n",
        "                                    target_names=dataset.target_names))\n",
        "\n",
        "# Print and plot the confusion matrix\n",
        "cm = confusion_matrix(y_test, y_predicted)\n",
        "x = sns.heatmap(cm, vmin=0, vmax=163, annot=True,fmt=\"d\", linewidths=0, cmap=\"GnBu\")\n",
        "x.xaxis.tick_top()\n",
        "x.set_title('Predicted', size=11)\n",
        "x.set_ylabel('Actual', size=11)"
      ],
      "metadata": {
        "id": "ZN1q9Kk5dslm",
        "outputId": "f8a055d0-7f26-4001-e478-bdf38b07639c",
        "colab": {
          "base_uri": "https://localhost:8080/",
          "height": 505
        }
      },
      "execution_count": 8,
      "outputs": [
        {
          "output_type": "stream",
          "name": "stdout",
          "text": [
            "0 params - {'vect__ngram_range': (1, 1)}; mean - 0.85; std - 0.01\n",
            "1 params - {'vect__ngram_range': (1, 2)}; mean - 0.84; std - 0.01\n",
            "              precision    recall  f1-score   support\n",
            "\n",
            "         neg       0.86      0.83      0.85       246\n",
            "         pos       0.84      0.87      0.86       254\n",
            "\n",
            "    accuracy                           0.85       500\n",
            "   macro avg       0.85      0.85      0.85       500\n",
            "weighted avg       0.85      0.85      0.85       500\n",
            "\n"
          ]
        },
        {
          "output_type": "execute_result",
          "data": {
            "text/plain": [
              "Text(33.0, 0.5, 'Actual')"
            ]
          },
          "metadata": {},
          "execution_count": 8
        },
        {
          "output_type": "display_data",
          "data": {
            "image/png": "[encoded data removed]",
            "text/plain": [
              "<Figure size 432x288 with 2 Axes>"
            ]
          },
          "metadata": {
            "needs_background": "light"
          }
        }
      ]
    },
    {
      "cell_type": "markdown",
      "metadata": {
        "id": "-1cVyJKHQtfV"
      },
      "source": [
        "## Problem 2 (10 points): Explore the scikit-learn TfidVectorizer class\n",
        "\n",
        "**Read the documentation for the TfidVectorizer class at http://scikit-learn.org/stable/modules/generated/sklearn.feature_extraction.text.TfidfVectorizer.html.** \n",
        "* Define the term frequency–inverse document frequency (TF-IDF) statistic (http://en.wikipedia.org/wiki/Tf%E2%80%93idf will likely help).\n",
        "* Run the TfidVectorizer class on the training data above (docs_train).\n",
        "* Explore the min_df and max_df parameters of TfidVectorizer.  What do they mean? How do they change the features you get?\n",
        "* Explore the ngram_range parameter of TfidVectorizer.  What does it mean? How does it change the features you get? (Note, large values  of ngram_range may take a long time to run!)"
      ]
    },
    {
      "cell_type": "code",
      "execution_count": 9,
      "metadata": {
        "collapsed": true,
        "id": "YGCOW1yjQtfW",
        "outputId": "2bb54537-6903-49f0-edc6-633f42c9742d",
        "colab": {
          "base_uri": "https://localhost:8080/",
          "height": 524
        }
      },
      "outputs": [
        {
          "output_type": "stream",
          "name": "stdout",
          "text": [
            "0 params - {'vect__ngram_range': (1, 1)}; mean - 0.74; std - 0.03\n",
            "1 params - {'vect__ngram_range': (1, 2)}; mean - 0.76; std - 0.04\n",
            "2 params - {'vect__ngram_range': (3, 3)}; mean - 0.55; std - 0.02\n",
            "              precision    recall  f1-score   support\n",
            "\n",
            "         neg       0.76      0.77      0.76       246\n",
            "         pos       0.78      0.76      0.77       254\n",
            "\n",
            "    accuracy                           0.77       500\n",
            "   macro avg       0.77      0.77      0.77       500\n",
            "weighted avg       0.77      0.77      0.77       500\n",
            "\n"
          ]
        },
        {
          "output_type": "execute_result",
          "data": {
            "text/plain": [
              "Text(33.0, 0.5, 'Actual')"
            ]
          },
          "metadata": {},
          "execution_count": 9
        },
        {
          "output_type": "display_data",
          "data": {
            "image/png": "[encoded data removed]",
            "text/plain": [
              "<Figure size 432x288 with 2 Axes>"
            ]
          },
          "metadata": {
            "needs_background": "light"
          }
        }
      ],
      "source": [
        "# min is 1/4 of 1500 which train and max is 3/4 of 1500\n",
        "pipeline = Pipeline([\n",
        "        ('vect', TfidfVectorizer(min_df=0.25, max_df=0.75)),\n",
        "        ('clf', SVC(C=1000)),\n",
        "    ])\n",
        "\n",
        "parameters = {\n",
        "        'vect__ngram_range': [(1, 1), (1, 2), (3, 3)],\n",
        "    }\n",
        "grid_search = GridSearchCV(pipeline, parameters, n_jobs=-1)\n",
        "grid_search.fit(docs_train, y_train)\n",
        "\n",
        "n_candidates = len(grid_search.cv_results_['params'])\n",
        "for i in range(n_candidates):\n",
        "    print(i, 'params - %s; mean - %0.2f; std - %0.2f'\n",
        "                % (grid_search.cv_results_['params'][i],\n",
        "                grid_search.cv_results_['mean_test_score'][i],\n",
        "                grid_search.cv_results_['std_test_score'][i]))\n",
        "    \n",
        "y_predicted = grid_search.predict(docs_test)\n",
        "\n",
        "# Print the classification report\n",
        "print(metrics.classification_report(y_test, y_predicted,\n",
        "                                    target_names=dataset.target_names))\n",
        "\n",
        "# Print and plot the confusion matrix\n",
        "cm = metrics.confusion_matrix(y_test, y_predicted)\n",
        "x = sns.heatmap(cm, vmin=0, vmax=163, annot=True,fmt=\"d\", linewidths=0, cmap=\"GnBu\")\n",
        "x.xaxis.tick_top()\n",
        "x.set_title('Predicted', size=11)\n",
        "x.set_ylabel('Actual', size=11)"
      ]
    },
    {
      "cell_type": "markdown",
      "metadata": {
        "id": "jVWQAJmsQtfW"
      },
      "source": [
        "## Problem 3 (15 points): Machine learning algorithms\n"
      ]
    },
    {
      "cell_type": "markdown",
      "metadata": {
        "id": "PNt6Ue6-QtfW"
      },
      "source": [
        "* Based upon Problem 2 pick some parameters for TfidfVectorizer\n",
        "    * \"fit\" your TfidfVectorizer using docs_train\n",
        "    * Compute \"Xtrain\", a Tf-idf-weighted document-term matrix using the transform function on docs_train\n",
        "    * Compute \"Xtest\", a Tf-idf-weighted document-term matrix using the transform function on docs_test\n",
        "    * Note, be sure to use the same Tf-idf-weighted class (**\"fit\" using docs_train**) to transform **both** docs_test and docs_train\n",
        "* Examine two classifiers provided by scikit-learn \n",
        "    * LinearSVC\n",
        "    * KNeighborsClassifier\n",
        "    * Why do you think it might be working better?\n",
        "* For a particular choice of parameters and classifier, look at 2 examples where the prediction was incorrect.\n",
        "    * Can you conjecture on why the classifier made a mistake for this prediction?"
      ]
    },
    {
      "cell_type": "markdown",
      "source": [
        "## Linear SVC\n",
        "\n",
        "The linear SVC works well, since the optimal seperation line will most likely result the similar number of false positive and false negative values on the each side of the line. We experiment with the regularization parametor since its value \"controls the trade off between smooth decision boundary and classifying training points correctly.\"\n",
        "https://towardsdatascience.com/https-medium-com-pupalerushikesh-svm-f4b42800e989\n",
        "Which means that high value of parametor would overfit the training data, so we changed our C from 100 to 1 which gave us best testing accuracy."
      ],
      "metadata": {
        "id": "99u_DPkrpB4X"
      }
    },
    {
      "cell_type": "code",
      "source": [
        "vectorizer = TfidfVectorizer(min_df=0.10, max_df=0.90, ngram_range=(1,2))\n",
        "Xtrain = vectorizer.fit_transform(docs_train)\n",
        "Xtest = vectorizer.transform(docs_test)\n",
        "\n",
        "svc_clf = LinearSVC(C=1, max_iter=5000)\n",
        "\n",
        "model = svc_clf.fit(Xtrain, y_train)\n",
        "y_predicted = model.predict(Xtest)\n",
        "\n",
        "print(metrics.classification_report(y_test, y_predicted,\n",
        "                                    target_names=dataset.target_names))\n",
        "\n",
        "cm = metrics.confusion_matrix(y_test, y_predicted)\n",
        "x = sns.heatmap(cm, vmin=0, vmax=163, annot=True, fmt=\"d\", linewidths=0, cmap=\"GnBu\")\n",
        "x.xaxis.tick_top()\n",
        "x.set_title('Predicted', size=11)\n",
        "x.set_ylabel('Actual', size=11)"
      ],
      "metadata": {
        "id": "1lLkFckGx4L-",
        "outputId": "d6450f4c-fb39-4ff6-fb62-1b587528696d",
        "colab": {
          "base_uri": "https://localhost:8080/",
          "height": 469
        }
      },
      "execution_count": 40,
      "outputs": [
        {
          "output_type": "stream",
          "name": "stdout",
          "text": [
            "              precision    recall  f1-score   support\n",
            "\n",
            "         neg       0.78      0.78      0.78       246\n",
            "         pos       0.79      0.78      0.79       254\n",
            "\n",
            "    accuracy                           0.78       500\n",
            "   macro avg       0.78      0.78      0.78       500\n",
            "weighted avg       0.78      0.78      0.78       500\n",
            "\n"
          ]
        },
        {
          "output_type": "execute_result",
          "data": {
            "text/plain": [
              "Text(33.0, 0.5, 'Actual')"
            ]
          },
          "metadata": {},
          "execution_count": 40
        },
        {
          "output_type": "display_data",
          "data": {
            "image/png": "[encoded data removed]",
            "text/plain": [
              "<Figure size 432x288 with 2 Axes>"
            ]
          },
          "metadata": {
            "needs_background": "light"
          }
        }
      ]
    },
    {
      "cell_type": "markdown",
      "source": [
        "## KNN Classefier\n",
        "The false positive is increasing as the number of neighbours are increasing. Even though the small number of neighbours result in similar number of errors, it produces a weak accuracy. Therefore, we tried to change the dimension of the vector because knn works better with smaller dimensions."
      ],
      "metadata": {
        "id": "coQ17sUJpfDj"
      }
    },
    {
      "cell_type": "code",
      "source": [
        "from sklearn.neighbors import KNeighborsClassifier\n",
        "\n",
        "vectorizer = TfidfVectorizer(min_df=0.10, max_df=0.90, ngram_range=(1,2))\n",
        "Xtrain = vectorizer.fit_transform(docs_train)\n",
        "Xtest = vectorizer.transform(docs_test)\n",
        "\n",
        "knn_clf = KNeighborsClassifier(n_neighbors=50)\n",
        "\n",
        "model = knn_clf.fit(Xtrain, y_train)\n",
        "y_predicted = model.predict(Xtest)\n",
        "\n",
        "print(metrics.classification_report(y_test, y_predicted,\n",
        "                                    target_names=dataset.target_names))\n",
        "\n",
        "cm = metrics.confusion_matrix(y_test, y_predicted)\n",
        "x = sns.heatmap(cm, vmin=0, vmax=163, annot=True, fmt=\"d\", linewidths=0, cmap=\"GnBu\")\n",
        "x.xaxis.tick_top()\n",
        "x.set_title('Predicted', size=11)\n",
        "x.set_ylabel('Actual', size=11)"
      ],
      "metadata": {
        "id": "Zph4CmNirAu2",
        "outputId": "9c0b0505-2752-4e56-ac9b-fd78ab58b128",
        "colab": {
          "base_uri": "https://localhost:8080/",
          "height": 469
        }
      },
      "execution_count": 38,
      "outputs": [
        {
          "output_type": "stream",
          "name": "stdout",
          "text": [
            "              precision    recall  f1-score   support\n",
            "\n",
            "         neg       0.78      0.48      0.60       246\n",
            "         pos       0.63      0.87      0.73       254\n",
            "\n",
            "    accuracy                           0.68       500\n",
            "   macro avg       0.71      0.67      0.66       500\n",
            "weighted avg       0.70      0.68      0.67       500\n",
            "\n"
          ]
        },
        {
          "output_type": "execute_result",
          "data": {
            "text/plain": [
              "Text(33.0, 0.5, 'Actual')"
            ]
          },
          "metadata": {},
          "execution_count": 38
        },
        {
          "output_type": "display_data",
          "data": {
            "image/png": "[encoded data removed]",
            "text/plain": [
              "<Figure size 432x288 with 2 Axes>"
            ]
          },
          "metadata": {
            "needs_background": "light"
          }
        }
      ]
    },
    {
      "cell_type": "code",
      "source": [
        "vectorizer = TfidfVectorizer(min_df=0.30, max_df=0.70, ngram_range=(1,2))\n",
        "Xtrain = vectorizer.fit_transform(docs_train)\n",
        "Xtest = vectorizer.transform(docs_test)\n",
        "\n",
        "knn_clf = KNeighborsClassifier(n_neighbors=50)\n",
        "\n",
        "model = knn_clf.fit(Xtrain, y_train)\n",
        "y_predicted = model.predict(Xtest)\n",
        "\n",
        "print(metrics.classification_report(y_test, y_predicted,\n",
        "                                    target_names=dataset.target_names))\n",
        "\n",
        "cm = metrics.confusion_matrix(y_test, y_predicted)\n",
        "x = sns.heatmap(cm, vmin=0, vmax=163, annot=True, fmt=\"d\", linewidths=0, cmap=\"GnBu\")\n",
        "x.xaxis.tick_top()\n",
        "x.set_title('Predicted', size=11)\n",
        "x.set_ylabel('Actual', size=11)"
      ],
      "metadata": {
        "colab": {
          "base_uri": "https://localhost:8080/",
          "height": 469
        },
        "id": "dqEJCHR2jiE1",
        "outputId": "35365409-f6b1-4877-d802-23d7a716f3ed"
      },
      "execution_count": 37,
      "outputs": [
        {
          "output_type": "stream",
          "name": "stdout",
          "text": [
            "              precision    recall  f1-score   support\n",
            "\n",
            "         neg       0.76      0.65      0.70       246\n",
            "         pos       0.71      0.80      0.75       254\n",
            "\n",
            "    accuracy                           0.73       500\n",
            "   macro avg       0.73      0.73      0.73       500\n",
            "weighted avg       0.73      0.73      0.73       500\n",
            "\n"
          ]
        },
        {
          "output_type": "execute_result",
          "data": {
            "text/plain": [
              "Text(33.0, 0.5, 'Actual')"
            ]
          },
          "metadata": {},
          "execution_count": 37
        },
        {
          "output_type": "display_data",
          "data": {
            "image/png": "[encoded data removed]",
            "text/plain": [
              "<Figure size 432x288 with 2 Axes>"
            ]
          },
          "metadata": {
            "needs_background": "light"
          }
        }
      ]
    },
    {
      "cell_type": "markdown",
      "metadata": {
        "id": "BoicR0YeQx5x"
      },
      "source": [
        "## Problem 4 (15 points): Use a Multi-Layer Perceptron (MLP) for classifying the reviews.  Explore the parameters for the MLP and compare the accuracies against your baseline algorithms in Problem 1.\n",
        "\n",
        "**Read the documentation for the MLPClassifier class at https://scikit-learn.org/stable/modules/generated/sklearn.neural_network.MLPClassifier.html#sklearn.neural_network.MLPClassifier.** \n",
        "* Note: This is *very similar* to using the LinearSVC and KNeighborsClassifier classes above!\n",
        "* Try different values for \"hidden_layer_sizes\".  What do you observe in terms of accuracy?\n",
        "* Try different values for \"activation\". What do you observe in terms of accuracy?\n"
      ]
    },
    {
      "cell_type": "code",
      "source": [
        "vectorizer = TfidfVectorizer(min_df=0.10, max_df=0.90, ngram_range=(1,2))\n",
        "Xtrain = vectorizer.fit_transform(docs_train)\n",
        "Xtest = vectorizer.transform(docs_test)"
      ],
      "metadata": {
        "id": "i2IUb8MLu4BV"
      },
      "execution_count": 47,
      "outputs": []
    },
    {
      "cell_type": "code",
      "execution_count": 52,
      "metadata": {
        "id": "LaDYg8XNQx5y",
        "outputId": "33ff09e2-37e4-4fa2-ebfc-261da93d0196",
        "colab": {
          "base_uri": "https://localhost:8080/",
          "height": 469
        }
      },
      "outputs": [
        {
          "output_type": "stream",
          "name": "stdout",
          "text": [
            "              precision    recall  f1-score   support\n",
            "\n",
            "         neg       0.75      0.78      0.76       246\n",
            "         pos       0.78      0.75      0.76       254\n",
            "\n",
            "    accuracy                           0.76       500\n",
            "   macro avg       0.76      0.76      0.76       500\n",
            "weighted avg       0.76      0.76      0.76       500\n",
            "\n"
          ]
        },
        {
          "output_type": "execute_result",
          "data": {
            "text/plain": [
              "Text(33.0, 0.5, 'Actual')"
            ]
          },
          "metadata": {},
          "execution_count": 52
        },
        {
          "output_type": "display_data",
          "data": {
            "image/png": "[encoded data removed]",
            "text/plain": [
              "<Figure size 432x288 with 2 Axes>"
            ]
          },
          "metadata": {
            "needs_background": "light"
          }
        }
      ],
      "source": [
        "from sklearn.neural_network import MLPClassifier\n",
        "\n",
        "mlp_clf = MLPClassifier(random_state=1, max_iter=500)\n",
        "\n",
        "model = mlp_clf.fit(Xtrain, y_train)\n",
        "y_predicted = model.predict(Xtest)\n",
        "\n",
        "print(metrics.classification_report(y_test, y_predicted,\n",
        "                                    target_names=dataset.target_names))\n",
        "\n",
        "cm = metrics.confusion_matrix(y_test, y_predicted)\n",
        "x = sns.heatmap(cm, vmin=0, vmax=163, annot=True, fmt=\"d\", linewidths=0, cmap=\"GnBu\")\n",
        "x.xaxis.tick_top()\n",
        "x.set_title('Predicted', size=11)\n",
        "x.set_ylabel('Actual', size=11)"
      ]
    },
    {
      "cell_type": "code",
      "source": [
        "mlp_clf = MLPClassifier(hidden_layer_sizes=(200,), random_state=1, max_iter=300)\n",
        "\n",
        "model = mlp_clf.fit(Xtrain, y_train)\n",
        "y_predicted = model.predict(Xtest)\n",
        "\n",
        "print(metrics.classification_report(y_test, y_predicted,\n",
        "                                    target_names=dataset.target_names))\n",
        "\n",
        "cm = metrics.confusion_matrix(y_test, y_predicted)\n",
        "x = sns.heatmap(cm, vmin=0, vmax=163, annot=True, fmt=\"d\", linewidths=0, cmap=\"GnBu\")\n",
        "x.xaxis.tick_top()\n",
        "x.set_title('Predicted', size=11)\n",
        "x.set_ylabel('Actual', size=11)"
      ],
      "metadata": {
        "id": "caiulwMCzW0C",
        "outputId": "a13611bd-a880-4a91-b6e8-2277b311a3f6",
        "colab": {
          "base_uri": "https://localhost:8080/",
          "height": 469
        }
      },
      "execution_count": 13,
      "outputs": [
        {
          "output_type": "stream",
          "name": "stdout",
          "text": [
            "              precision    recall  f1-score   support\n",
            "\n",
            "         neg       0.76      0.79      0.78       246\n",
            "         pos       0.79      0.76      0.77       254\n",
            "\n",
            "    accuracy                           0.77       500\n",
            "   macro avg       0.77      0.77      0.77       500\n",
            "weighted avg       0.77      0.77      0.77       500\n",
            "\n"
          ]
        },
        {
          "output_type": "execute_result",
          "data": {
            "text/plain": [
              "Text(33.0, 0.5, 'Actual')"
            ]
          },
          "metadata": {},
          "execution_count": 13
        },
        {
          "output_type": "display_data",
          "data": {
            "image/png": "[encoded data removed]",
            "text/plain": [
              "<Figure size 432x288 with 2 Axes>"
            ]
          },
          "metadata": {
            "needs_background": "light"
          }
        }
      ]
    },
    {
      "cell_type": "code",
      "source": [
        "mlp_clf = MLPClassifier(hidden_layer_sizes=(50,),random_state=1, max_iter=500)\n",
        "\n",
        "model = mlp_clf.fit(Xtrain, y_train)\n",
        "y_predicted = model.predict(Xtest)\n",
        "\n",
        "print(metrics.classification_report(y_test, y_predicted,\n",
        "                                    target_names=dataset.target_names))\n",
        "\n",
        "cm = metrics.confusion_matrix(y_test, y_predicted)\n",
        "x = sns.heatmap(cm, vmin=0, vmax=163, annot=True, fmt=\"d\", linewidths=0, cmap=\"GnBu\")\n",
        "x.xaxis.tick_top()\n",
        "x.set_title('Predicted', size=11)\n",
        "x.set_ylabel('Actual', size=11)"
      ],
      "metadata": {
        "id": "MsOMXw_-zmAs",
        "outputId": "5661fe19-6b5c-4de0-8893-a3598883b4ab",
        "colab": {
          "base_uri": "https://localhost:8080/",
          "height": 469
        }
      },
      "execution_count": 48,
      "outputs": [
        {
          "output_type": "stream",
          "name": "stdout",
          "text": [
            "              precision    recall  f1-score   support\n",
            "\n",
            "         neg       0.75      0.78      0.76       246\n",
            "         pos       0.78      0.75      0.76       254\n",
            "\n",
            "    accuracy                           0.76       500\n",
            "   macro avg       0.76      0.76      0.76       500\n",
            "weighted avg       0.76      0.76      0.76       500\n",
            "\n"
          ]
        },
        {
          "output_type": "execute_result",
          "data": {
            "text/plain": [
              "Text(33.0, 0.5, 'Actual')"
            ]
          },
          "metadata": {},
          "execution_count": 48
        },
        {
          "output_type": "display_data",
          "data": {
            "image/png": "[encoded data removed]",
            "text/plain": [
              "<Figure size 432x288 with 2 Axes>"
            ]
          },
          "metadata": {
            "needs_background": "light"
          }
        }
      ]
    },
    {
      "cell_type": "code",
      "source": [
        "mlp_clf = MLPClassifier(random_state=1, max_iter=750, activation='logistic')\n",
        "\n",
        "model = mlp_clf.fit(Xtrain, y_train)\n",
        "y_predicted = model.predict(Xtest)\n",
        "\n",
        "print(metrics.classification_report(y_test, y_predicted,\n",
        "                                    target_names=dataset.target_names))\n",
        "\n",
        "cm = metrics.confusion_matrix(y_test, y_predicted)\n",
        "x = sns.heatmap(cm, vmin=0, vmax=163, annot=True, fmt=\"d\", linewidths=0, cmap=\"GnBu\")\n",
        "x.xaxis.tick_top()\n",
        "x.set_title('Predicted', size=11)\n",
        "x.set_ylabel('Actual', size=11)"
      ],
      "metadata": {
        "id": "lknMFu7im_2P",
        "outputId": "db36f2ae-810a-4e9d-a3b0-831e13e36afa",
        "colab": {
          "base_uri": "https://localhost:8080/",
          "height": 469
        }
      },
      "execution_count": 53,
      "outputs": [
        {
          "output_type": "stream",
          "name": "stdout",
          "text": [
            "              precision    recall  f1-score   support\n",
            "\n",
            "         neg       0.75      0.77      0.76       246\n",
            "         pos       0.77      0.75      0.76       254\n",
            "\n",
            "    accuracy                           0.76       500\n",
            "   macro avg       0.76      0.76      0.76       500\n",
            "weighted avg       0.76      0.76      0.76       500\n",
            "\n"
          ]
        },
        {
          "output_type": "execute_result",
          "data": {
            "text/plain": [
              "Text(33.0, 0.5, 'Actual')"
            ]
          },
          "metadata": {},
          "execution_count": 53
        },
        {
          "output_type": "display_data",
          "data": {
            "image/png": "[encoded data removed]",
            "text/plain": [
              "<Figure size 432x288 with 2 Axes>"
            ]
          },
          "metadata": {
            "needs_background": "light"
          }
        }
      ]
    },
    {
      "cell_type": "code",
      "source": [
        "mlp_clf = MLPClassifier(random_state=1, max_iter=750, activation='tanh')\n",
        "\n",
        "model = mlp_clf.fit(Xtrain, y_train)\n",
        "y_predicted = model.predict(Xtest)\n",
        "\n",
        "print(metrics.classification_report(y_test, y_predicted,\n",
        "                                    target_names=dataset.target_names))\n",
        "\n",
        "cm = metrics.confusion_matrix(y_test, y_predicted)\n",
        "x = sns.heatmap(cm, vmin=0, vmax=163, annot=True, fmt=\"d\", linewidths=0, cmap=\"GnBu\")\n",
        "x.xaxis.tick_top()\n",
        "x.set_title('Predicted', size=11)\n",
        "x.set_ylabel('Actual', size=11)"
      ],
      "metadata": {
        "id": "B4IFWxLYzWcO",
        "outputId": "a7afcd27-e864-4cb9-d4a5-b9580fdd6335",
        "colab": {
          "base_uri": "https://localhost:8080/",
          "height": 469
        }
      },
      "execution_count": 54,
      "outputs": [
        {
          "output_type": "stream",
          "name": "stdout",
          "text": [
            "              precision    recall  f1-score   support\n",
            "\n",
            "         neg       0.74      0.77      0.76       246\n",
            "         pos       0.77      0.74      0.75       254\n",
            "\n",
            "    accuracy                           0.75       500\n",
            "   macro avg       0.75      0.75      0.75       500\n",
            "weighted avg       0.75      0.75      0.75       500\n",
            "\n"
          ]
        },
        {
          "output_type": "execute_result",
          "data": {
            "text/plain": [
              "Text(33.0, 0.5, 'Actual')"
            ]
          },
          "metadata": {},
          "execution_count": 54
        },
        {
          "output_type": "display_data",
          "data": {
            "image/png": "[encoded data removed]",
            "text/plain": [
              "<Figure size 432x288 with 2 Axes>"
            ]
          },
          "metadata": {
            "needs_background": "light"
          }
        }
      ]
    },
    {
      "cell_type": "markdown",
      "metadata": {
        "id": "_G65MbRfQx5y"
      },
      "source": [
        "## Problem 5 (10 points): Accuracy is not everything!  How fast are the algorithms versus their accuracy?\n",
        "**Compare the runtime of your  baseline algorithms to the runtime of the MLPClassifier** \n",
        "\n",
        "**The jupyter command %timeit can be used to measure how long a calculation takes https://ipython.readthedocs.io/en/stable/interactive/magics.html.**\n",
        "* Try different values for \"hidden_layer_sizes\".  What do you observe in terms of runtime?\n",
        "* Try different values for \"activation\". What do you observe in terms of runtime?\n",
        "* How long does the \"fit\" function take as opposed to the \"predict\" function?  Can you explain why?"
      ]
    },
    {
      "cell_type": "code",
      "execution_count": 55,
      "metadata": {
        "id": "Smz1f8tyQtfX",
        "colab": {
          "base_uri": "https://localhost:8080/",
          "height": 505
        },
        "outputId": "479dcd05-7494-4137-cafc-0cd7ca07ef96"
      },
      "outputs": [
        {
          "output_type": "stream",
          "name": "stdout",
          "text": [
            "1 loop, best of 5: 24.9 s per loop\n",
            "100 loops, best of 5: 13.9 ms per loop\n",
            "              precision    recall  f1-score   support\n",
            "\n",
            "         neg       0.74      0.77      0.76       246\n",
            "         pos       0.77      0.74      0.75       254\n",
            "\n",
            "    accuracy                           0.75       500\n",
            "   macro avg       0.75      0.75      0.75       500\n",
            "weighted avg       0.75      0.75      0.75       500\n",
            "\n"
          ]
        },
        {
          "output_type": "execute_result",
          "data": {
            "text/plain": [
              "Text(33.0, 0.5, 'Actual')"
            ]
          },
          "metadata": {},
          "execution_count": 55
        },
        {
          "output_type": "display_data",
          "data": {
            "image/png": "[encoded data removed]",
            "text/plain": [
              "<Figure size 432x288 with 2 Axes>"
            ]
          },
          "metadata": {
            "needs_background": "light"
          }
        }
      ],
      "source": [
        "mlp_clf = MLPClassifier(random_state=1, max_iter=500)\n",
        "\n",
        "%timeit model = mlp_clf.fit(Xtrain, y_train)\n",
        "%timeit y_predicted = model.predict(Xtest)\n",
        "\n",
        "print(metrics.classification_report(y_test, y_predicted,\n",
        "                                    target_names=dataset.target_names))\n",
        "\n",
        "cm = metrics.confusion_matrix(y_test, y_predicted)\n",
        "x = sns.heatmap(cm, vmin=0, vmax=163, annot=True, fmt=\"d\", linewidths=0, cmap=\"GnBu\")\n",
        "x.xaxis.tick_top()\n",
        "x.set_title('Predicted', size=11)\n",
        "x.set_ylabel('Actual', size=11)"
      ]
    },
    {
      "cell_type": "code",
      "source": [
        "mlp_clf = MLPClassifier(hidden_layer_sizes=(200,), random_state=1, max_iter=500)\n",
        "\n",
        "%timeit model = mlp_clf.fit(Xtrain, y_train)\n",
        "%timeit y_predicted = model.predict(Xtest)\n",
        "\n",
        "print(metrics.classification_report(y_test, y_predicted,\n",
        "                                    target_names=dataset.target_names))\n",
        "\n",
        "cm = metrics.confusion_matrix(y_test, y_predicted)\n",
        "x = sns.heatmap(cm, vmin=0, vmax=163, annot=True, fmt=\"d\", linewidths=0, cmap=\"GnBu\")\n",
        "x.xaxis.tick_top()\n",
        "x.set_title('Predicted', size=11)\n",
        "x.set_ylabel('Actual', size=11)"
      ],
      "metadata": {
        "id": "B2JUMAJP0_u_",
        "outputId": "302fb15f-2c34-4715-91d4-3bd57d33b673",
        "colab": {
          "base_uri": "https://localhost:8080/",
          "height": 505
        }
      },
      "execution_count": 56,
      "outputs": [
        {
          "output_type": "stream",
          "name": "stdout",
          "text": [
            "1 loop, best of 5: 38.3 s per loop\n",
            "100 loops, best of 5: 13.9 ms per loop\n",
            "              precision    recall  f1-score   support\n",
            "\n",
            "         neg       0.74      0.77      0.76       246\n",
            "         pos       0.77      0.74      0.75       254\n",
            "\n",
            "    accuracy                           0.75       500\n",
            "   macro avg       0.75      0.75      0.75       500\n",
            "weighted avg       0.75      0.75      0.75       500\n",
            "\n"
          ]
        },
        {
          "output_type": "execute_result",
          "data": {
            "text/plain": [
              "Text(33.0, 0.5, 'Actual')"
            ]
          },
          "metadata": {},
          "execution_count": 56
        },
        {
          "output_type": "display_data",
          "data": {
            "image/png": "[encoded data removed]",
            "text/plain": [
              "<Figure size 432x288 with 2 Axes>"
            ]
          },
          "metadata": {
            "needs_background": "light"
          }
        }
      ]
    },
    {
      "cell_type": "code",
      "source": [
        "mlp_clf = MLPClassifier(hidden_layer_sizes=(50,), random_state=1, max_iter=500)\n",
        "\n",
        "%timeit model = mlp_clf.fit(Xtrain, y_train)\n",
        "%timeit y_predicted = model.predict(Xtest)\n",
        "\n",
        "print(metrics.classification_report(y_test, y_predicted,\n",
        "                                    target_names=dataset.target_names))\n",
        "\n",
        "cm = metrics.confusion_matrix(y_test, y_predicted)\n",
        "x = sns.heatmap(cm, vmin=0, vmax=163, annot=True, fmt=\"d\", linewidths=0, cmap=\"GnBu\")\n",
        "x.xaxis.tick_top()\n",
        "x.set_title('Predicted', size=11)\n",
        "x.set_ylabel('Actual', size=11)"
      ],
      "metadata": {
        "id": "2ma6b9bS1Iks",
        "outputId": "364669c7-1942-4076-9425-2f8c90b27162",
        "colab": {
          "base_uri": "https://localhost:8080/",
          "height": 505
        }
      },
      "execution_count": 57,
      "outputs": [
        {
          "output_type": "stream",
          "name": "stdout",
          "text": [
            "1 loop, best of 5: 18.1 s per loop\n",
            "100 loops, best of 5: 23.1 ms per loop\n",
            "              precision    recall  f1-score   support\n",
            "\n",
            "         neg       0.74      0.77      0.76       246\n",
            "         pos       0.77      0.74      0.75       254\n",
            "\n",
            "    accuracy                           0.75       500\n",
            "   macro avg       0.75      0.75      0.75       500\n",
            "weighted avg       0.75      0.75      0.75       500\n",
            "\n"
          ]
        },
        {
          "output_type": "execute_result",
          "data": {
            "text/plain": [
              "Text(33.0, 0.5, 'Actual')"
            ]
          },
          "metadata": {},
          "execution_count": 57
        },
        {
          "output_type": "display_data",
          "data": {
            "image/png": "[encoded data removed]",
            "text/plain": [
              "<Figure size 432x288 with 2 Axes>"
            ]
          },
          "metadata": {
            "needs_background": "light"
          }
        }
      ]
    },
    {
      "cell_type": "code",
      "source": [
        "mlp_clf = MLPClassifier(hidden_layer_sizes=(50,), random_state=1, max_iter=1000, activation='logistic')\n",
        "\n",
        "%timeit model = mlp_clf.fit(Xtrain, y_train)\n",
        "%timeit y_predicted = model.predict(Xtest)\n",
        "\n",
        "print(metrics.classification_report(y_test, y_predicted,\n",
        "                                    target_names=dataset.target_names))\n",
        "\n",
        "cm = metrics.confusion_matrix(y_test, y_predicted)\n",
        "x = sns.heatmap(cm, vmin=0, vmax=163, annot=True, fmt=\"d\", linewidths=0, cmap=\"GnBu\")\n",
        "x.xaxis.tick_top()\n",
        "x.set_title('Predicted', size=11)\n",
        "x.set_ylabel('Actual', size=11)"
      ],
      "metadata": {
        "id": "uGYoMkiS3FQg",
        "outputId": "bb67372b-4134-4ff8-ef1c-0cb328812f2c",
        "colab": {
          "base_uri": "https://localhost:8080/",
          "height": 505
        }
      },
      "execution_count": 59,
      "outputs": [
        {
          "output_type": "stream",
          "name": "stdout",
          "text": [
            "1 loop, best of 5: 38.9 s per loop\n",
            "100 loops, best of 5: 13.9 ms per loop\n",
            "              precision    recall  f1-score   support\n",
            "\n",
            "         neg       0.74      0.77      0.76       246\n",
            "         pos       0.77      0.74      0.75       254\n",
            "\n",
            "    accuracy                           0.75       500\n",
            "   macro avg       0.75      0.75      0.75       500\n",
            "weighted avg       0.75      0.75      0.75       500\n",
            "\n"
          ]
        },
        {
          "output_type": "execute_result",
          "data": {
            "text/plain": [
              "Text(33.0, 0.5, 'Actual')"
            ]
          },
          "metadata": {},
          "execution_count": 59
        },
        {
          "output_type": "display_data",
          "data": {
            "image/png": "[encoded data removed]",
            "text/plain": [
              "<Figure size 432x288 with 2 Axes>"
            ]
          },
          "metadata": {
            "needs_background": "light"
          }
        }
      ]
    },
    {
      "cell_type": "code",
      "source": [
        "mlp_clf = MLPClassifier(hidden_layer_sizes=(50,), random_state=1, max_iter=500, activation='tanh')\n",
        "\n",
        "%timeit model = mlp_clf.fit(Xtrain, y_train)\n",
        "%timeit y_predicted = model.predict(Xtest)\n",
        "\n",
        "print(metrics.classification_report(y_test, y_predicted,\n",
        "                                    target_names=dataset.target_names))\n",
        "\n",
        "cm = metrics.confusion_matrix(y_test, y_predicted)\n",
        "x = sns.heatmap(cm, vmin=0, vmax=163, annot=True, fmt=\"d\", linewidths=0, cmap=\"GnBu\")\n",
        "x.xaxis.tick_top()\n",
        "x.set_title('Predicted', size=11)\n",
        "x.set_ylabel('Actual', size=11)"
      ],
      "metadata": {
        "id": "iV6cAl3q3NEX",
        "outputId": "f7beaead-bdd2-4f43-f8b6-dc7cc6048ff3",
        "colab": {
          "base_uri": "https://localhost:8080/",
          "height": 505
        }
      },
      "execution_count": 60,
      "outputs": [
        {
          "output_type": "stream",
          "name": "stdout",
          "text": [
            "1 loop, best of 5: 19.7 s per loop\n",
            "100 loops, best of 5: 13.8 ms per loop\n",
            "              precision    recall  f1-score   support\n",
            "\n",
            "         neg       0.74      0.77      0.76       246\n",
            "         pos       0.77      0.74      0.75       254\n",
            "\n",
            "    accuracy                           0.75       500\n",
            "   macro avg       0.75      0.75      0.75       500\n",
            "weighted avg       0.75      0.75      0.75       500\n",
            "\n"
          ]
        },
        {
          "output_type": "execute_result",
          "data": {
            "text/plain": [
              "Text(33.0, 0.5, 'Actual')"
            ]
          },
          "metadata": {},
          "execution_count": 60
        },
        {
          "output_type": "display_data",
          "data": {
            "image/png": "[encoded data removed]",
            "text/plain": [
              "<Figure size 432x288 with 2 Axes>"
            ]
          },
          "metadata": {
            "needs_background": "light"
          }
        }
      ]
    },
    {
      "cell_type": "markdown",
      "metadata": {
        "collapsed": true,
        "id": "o0bcrrUzQtfX"
      },
      "source": [
        "\n",
        "## Problem 6 (20 points): Business question"
      ]
    },
    {
      "cell_type": "markdown",
      "metadata": {
        "id": "j8VZdOxfQtfX"
      },
      "source": [
        "* Suppose you had a machine learning algorithm that could detect the sentiment of tweets that was highly accurate.  What kind of business could you build around that?\n",
        "* Who would be your competitors, and what are their sizes?\n",
        "* What would be the size of the market for your product?\n",
        "* In addition, assume that your machine learning was slow to train, but fast in making predictions on new data.  How would that affect your business plan?\n",
        "* How could you use the cloud to support your product?"
      ]
    },
    {
      "cell_type": "code",
      "execution_count": 14,
      "metadata": {
        "id": "d-g3psMyQtfX"
      },
      "outputs": [],
      "source": [
        ""
      ]
    },
    {
      "cell_type": "markdown",
      "metadata": {
        "id": "EhHQoH_KQtfX"
      },
      "source": [
        "# Slides (for a 5-8 minute presentation) (20 points)\n",
        "\n",
        "\n",
        "1. (5 points) Motivation about the data collection, why the topic is interesting to you. \n",
        "\n",
        "2. (10 points) Communicating Results (figure/table)\n",
        "\n",
        "3. (5 points) Story telling (How all the parts (data, analysis, result) fit together as a story?)"
      ]
    },
    {
      "cell_type": "markdown",
      "metadata": {
        "id": "kl5sy8EUQtfY"
      },
      "source": [
        "\n",
        "# Done\n",
        "\n",
        "All set! \n",
        "\n",
        "** What do you need to submit?**\n",
        "\n",
        "* **Notebook File**: Save this IPython notebook, and find the notebook file in your folder (for example, \"filename.ipynb\"). This is the file you need to submit. Please make sure all the plotted tables and figures are in the notebook. If you used \"ipython notebook --pylab=inline\" to open the notebook, all the figures and tables should have shown up in the notebook.\n",
        "\n",
        "\n",
        "* **PPT Slides**: please prepare PPT slides (for 10 minutes' talk) to present about the case study . We will ask two teams which are randomly selected to present their case studies in class for this case study. \n",
        "\n",
        "* **Report**: please prepare a report (less than 10 pages) to report what you found in the data.\n",
        "    * What data you collected? \n",
        "    * Why this topic is interesting or important to you? (Motivations)\n",
        "    * How did you analyse the data?\n",
        "    * What did you find in the data? \n",
        " \n",
        "     (please include figures or tables in the report, but no source code)\n",
        "\n",
        "\n",
        "*Please compress all the files into a single zipped file.*\n",
        "\n",
        "\n",
        "** How to submit: **\n",
        "\n",
        "        Please submit through canvas.wpi.edu\n",
        "\n",
        "### DS3010 Case Study 3 Team ??\n",
        "\n",
        "#### where ?? is your team number.\n",
        "        \n",
        "** Note: Each team just needs to submits one submission **"
      ]
    },
    {
      "cell_type": "markdown",
      "metadata": {
        "collapsed": true,
        "id": "HylAvN1gQtfY"
      },
      "source": [
        "# Grading Criteria:\n",
        "\n",
        "**Total Points: 100**\n",
        "\n",
        "\n",
        "---------------------------------------------------------------------------\n",
        "**Notebook results:**\n",
        "    Points: 80\n",
        "\n",
        "\n",
        "    -----------------------------------\n",
        "    Question 1:\n",
        "    Points: 10\n",
        "    -----------------------------------\n",
        "    \n",
        "    -----------------------------------\n",
        "    Question 2:\n",
        "    Points: 10\n",
        "    -----------------------------------\n",
        "        \n",
        "    -----------------------------------\n",
        "    Question 3:\n",
        "    Points: 15 \n",
        "    -----------------------------------\n",
        "  \n",
        "    -----------------------------------\n",
        "    Question 4:  \n",
        "    Points: 15\n",
        "    -----------------------------------\n",
        "\n",
        "    -----------------------------------\n",
        "    Question 5:  \n",
        "    Points: 10\n",
        "    -----------------------------------\n",
        "\n",
        "    -----------------------------------\n",
        "    Question 6:  \n",
        "    Points: 20\n",
        "    -----------------------------------\n",
        "\n",
        "---------------------------------------------------------------------------\n",
        "**Slides (for a 5-8 minute presentation): Story-telling**\n",
        "    Points: 20\n",
        "\n",
        "\n",
        "1. Motivation about the data collection, why the topic is interesting to you.\n",
        "    Points: 5 \n",
        "\n",
        "2. Communicating Results (figure/table)\n",
        "    Points: 10 \n",
        "\n",
        "3. Story telling (How all the parts (data, analysis, result) fit together as a story?)\n",
        "    Points: 5 \n"
      ]
    },
    {
      "cell_type": "code",
      "execution_count": 14,
      "metadata": {
        "id": "ch582GFeQtfY"
      },
      "outputs": [],
      "source": [
        ""
      ]
    }
  ],
  "metadata": {
    "kernel_info": {
      "name": "python3"
    },
    "kernelspec": {
      "display_name": "Python 3",
      "language": "python",
      "name": "python3"
    },
    "language_info": {
      "codemirror_mode": {
        "name": "ipython",
        "version": 3
      },
      "file_extension": ".py",
      "mimetype": "text/x-python",
      "name": "python",
      "nbconvert_exporter": "python",
      "pygments_lexer": "ipython3",
      "version": "3.8.5"
    },
    "nteract": {
      "version": "0.2.0"
    },
    "colab": {
      "name": "CaseStudy3.ipynb",
      "provenance": [],
      "include_colab_link": true
    }
  },
  "nbformat": 4,
  "nbformat_minor": 0
}