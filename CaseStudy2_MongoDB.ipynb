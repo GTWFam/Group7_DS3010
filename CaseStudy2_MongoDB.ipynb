{
  "cells": [
    {
      "cell_type": "markdown",
      "metadata": {
        "id": "view-in-github",
        "colab_type": "text"
      },
      "source": [
        "<a href=\"https://colab.research.google.com/github/GTWFam/Group7_DS3010/blob/main/CaseStudy2_MongoDB.ipynb\" target=\"_parent\"><img src=\"https://colab.research.google.com/assets/colab-badge.svg\" alt=\"Open In Colab\"/></a>"
      ]
    },
    {
      "cell_type": "markdown",
      "metadata": {
        "id": "IQZqJy0gY6Dl"
      },
      "source": [
        "# Case Study 2 : Putting Twitter Data into the Cloud\n",
        "\n",
        "Due Date: 2/15/2020, **BEFORE the beginning of class at 2:00pm EST**\n",
        "\n",
        "## **NOTE: There are *always* last minute issues submitting the case studies.  DO NOT WAIT UNTIL THE LAST MINUTE!**"
      ]
    },
    {
      "cell_type": "markdown",
      "metadata": {
        "id": "JyNhpJN5Y6Dn"
      },
      "source": [
        "<a title=\"Fabián Alexis [CC BY-SA (https://creativecommons.org/licenses/by-sa/3.0)]\" href=\"https://commons.wikimedia.org/wiki/File:Antu_mongodb.svg\"><img width=\"50\" alt=\"Antu mongodb\" src=\"https://upload.wikimedia.org/wikipedia/commons/thumb/f/f9/Antu_mongodb.svg/512px-Antu_mongodb.svg.png\"></a>"
      ]
    },
    {
      "cell_type": "markdown",
      "metadata": {
        "id": "DhXEvLb5Y6Do"
      },
      "source": [
        "**TEAM Members:** Please EDIT this cell and add the names of all the team members in your team\n",
        "\n",
        "    Jacob Bissonette\n",
        "    Austin Franklin \n",
        "    Yuriy Kamenivskyy \n",
        "    Garrett McMerriman\n",
        "    Bill Hoang Pham"
      ]
    },
    {
      "cell_type": "markdown",
      "metadata": {
        "id": "IdtCbjp9Y6Do"
      },
      "source": [
        "**Don't forget!**\n",
        "* You will need to install the pymongo library to access MongoDB\n",
        " * pip install pymongo\n",
        "* You will also need to install dnspython to access the cloud version of MongoDB\n",
        " * pip install dnspython\n",
        "\n",
        "** NOTE **\n",
        "* **Please don't forget to save the notebook frequently when working in IPython Notebook, otherwise the changes you made can be lost**."
      ]
    },
    {
      "cell_type": "markdown",
      "metadata": {
        "id": "1R87hP_pY6Dq"
      },
      "source": [
        "# Problem 1 (20 points):  Get a cloud database account using MongoDB Atlas"
      ]
    },
    {
      "cell_type": "markdown",
      "metadata": {
        "id": "Q10TAFcOY6Dq"
      },
      "source": [
        "Get a free cloud hosted MongoDB database account at https://www.mongodb.com/atlas/database.  You will need to: \n",
        "\n",
        "* Create a database cluster using the MongoDB web interface\n",
        "* Get your MongoDB credentials\n",
        "* Create a document collection in MongoBD\n"
      ]
    },
    {
      "cell_type": "markdown",
      "metadata": {
        "id": "7dOckKukY6Ds"
      },
      "source": [
        "# Problem 2 (20 points):  Read Twitter data into your cloud MongoDB database"
      ]
    },
    {
      "cell_type": "markdown",
      "metadata": {
        "id": "-yQgleDnY6Ds"
      },
      "source": [
        "Gather Twitter data and upload it to your cloud database.  You will need to:\n",
        "\n",
        "* Get your cloubd MongoDB credentials using the MongoDB web interface\n",
        "* Insert those credentials into your Juypyter notebook using pymongo\n",
        "* Gather Twitter data as in Case Study 1\n",
        "* Upload your Twitter data to the MongoDB cloud document collection\n",
        "\n",
        "Note, to do you this question remember that you will need *two sets of credentials*\n",
        "\n",
        "* One set for the MongoDB Atlas database\n",
        "* One set for the Twitter developed API\n",
        "\n",
        "Of course, there are not the same!"
      ]
    },
    {
      "cell_type": "code",
      "source": [
        "! pip install pymongo\n",
        "! pip install dnspython\n"
      ],
      "metadata": {
        "id": "zHd0WyWXrT7g",
        "outputId": "d1f595a8-efc6-4dd2-a619-ba9280ab3b75",
        "colab": {
          "base_uri": "https://localhost:8080/"
        }
      },
      "execution_count": 1,
      "outputs": [
        {
          "output_type": "stream",
          "name": "stdout",
          "text": [
            "Requirement already satisfied: pymongo in /usr/local/lib/python3.7/dist-packages (4.0.1)\n",
            "Collecting dnspython\n",
            "  Downloading dnspython-2.2.0-py3-none-any.whl (266 kB)\n",
            "\u001b[K     |████████████████████████████████| 266 kB 5.5 MB/s \n",
            "\u001b[?25hInstalling collected packages: dnspython\n",
            "Successfully installed dnspython-2.2.0\n"
          ]
        }
      ]
    },
    {
      "cell_type": "code",
      "execution_count": 2,
      "metadata": {
        "id": "MO0paphxY6Dq",
        "outputId": "ab5a6907-fc3f-446b-9763-189f015652b4",
        "colab": {
          "base_uri": "https://localhost:8080/"
        }
      },
      "outputs": [
        {
          "output_type": "stream",
          "name": "stdout",
          "text": [
            "Mounted at /content/drive\n"
          ]
        }
      ],
      "source": [
        "#----------------------------------------------\n",
        "# Your code starts here\n",
        "#   Please add comments or text cells in between to explain the general idea of each block of the code.\n",
        "#   Please feel free to add more cells below this cell if necessary\n",
        "import pymongo\n",
        "import json\n",
        "\n",
        "from google.colab import drive\n",
        "\n",
        "drive.mount('/content/drive')\n",
        "\n",
        "data = {}\n",
        "    \n",
        "# Extracting the saved credentials from the drive\n",
        "with open('drive/MyDrive/ds3010_2022/credentials.txt', 'r') as f:\n",
        "    data = json.load(f)\n",
        "CONSUMER_KEY = data[\"consumer_key\"]\n",
        "CONSUMER_SECRET = data[\"consumer_secret\"]\n",
        "OAUTH_TOKEN = data[\"oauth_token\"]\n",
        "OAUTH_TOKEN_SECRET = data[\"oauth_token_secret\"]\n",
        "mongodb_url = data[\"mongodb_url\"]\n",
        "\n",
        "client = pymongo.MongoClient(mongodb_url)\n"
      ]
    },
    {
      "cell_type": "code",
      "source": [
        "# Getting the Database and Collection from MongoDB\n",
        "db = client['DS3010']\n",
        "coll = db['CS2']"
      ],
      "metadata": {
        "id": "w1p9Z5f3sctw"
      },
      "execution_count": 3,
      "outputs": []
    },
    {
      "cell_type": "code",
      "source": [
        "! pip install twitter"
      ],
      "metadata": {
        "id": "qD5dgzJlsTIC",
        "outputId": "72900806-fc46-4ac7-e07a-a26c394f8fab",
        "colab": {
          "base_uri": "https://localhost:8080/"
        }
      },
      "execution_count": 4,
      "outputs": [
        {
          "output_type": "stream",
          "name": "stdout",
          "text": [
            "Collecting twitter\n",
            "  Downloading twitter-1.19.3-py2.py3-none-any.whl (50 kB)\n",
            "\u001b[?25l\r\u001b[K     |██████▌                         | 10 kB 18.9 MB/s eta 0:00:01\r\u001b[K     |█████████████                   | 20 kB 15.3 MB/s eta 0:00:01\r\u001b[K     |███████████████████▋            | 30 kB 10.1 MB/s eta 0:00:01\r\u001b[K     |██████████████████████████      | 40 kB 8.6 MB/s eta 0:00:01\r\u001b[K     |████████████████████████████████| 50 kB 1.7 MB/s \n",
            "\u001b[?25hInstalling collected packages: twitter\n",
            "Successfully installed twitter-1.19.3\n"
          ]
        }
      ]
    },
    {
      "cell_type": "code",
      "execution_count": 5,
      "metadata": {
        "id": "my4IUYVvY6Ds"
      },
      "outputs": [],
      "source": [
        "#----------------------------------------------\n",
        "# Your code starts here\n",
        "#   Please add comments or text cells in between to explain the general idea of each block of the code.\n",
        "#   Please feel free to add more cells below this cell if necessary\n",
        "import twitter\n",
        "\n",
        "# See https://dev.twitter.com/docs/auth/oauth for more information \n",
        "# on Twitter's OAuth implementation.\n",
        "\n",
        "auth = twitter.oauth.OAuth(OAUTH_TOKEN, OAUTH_TOKEN_SECRET,\n",
        "                           CONSUMER_KEY, CONSUMER_SECRET)\n",
        "\n",
        "twitter_api = twitter.Twitter(auth=auth)"
      ]
    },
    {
      "cell_type": "code",
      "source": [
        "query = \"macbook pro 2021\"\n",
        "\n",
        "data = twitter_api.search.tweets(q=query, lang='en', count=100)\n",
        "\n",
        "min_id = data['statuses'][-1]['id']\n",
        "for i in range(7):\n",
        "    tweets = twitter_api.search.tweets(q=query, lang='en', max_id=min_id, count=100)\n",
        "    min_id = tweets['statuses'][-1]['id']\n",
        "    data['statuses'] += tweets['statuses']\n"
      ],
      "metadata": {
        "id": "8DgXTFziu12O"
      },
      "execution_count": 6,
      "outputs": []
    },
    {
      "cell_type": "code",
      "source": [
        "statuses = data['statuses']\n",
        "# coll.drop()\n",
        "# _ = coll.insert_many(statuses)"
      ],
      "metadata": {
        "id": "2ZdWGUR2vqZu"
      },
      "execution_count": 7,
      "outputs": []
    },
    {
      "cell_type": "markdown",
      "metadata": {
        "id": "Ui6DxP0lY6Dt"
      },
      "source": [
        "# Problem 3 (20 points):  Use a regular expression to read a subset of your Tweets out of MongoDB"
      ]
    },
    {
      "cell_type": "markdown",
      "metadata": {
        "id": "63qOpjc9Y6Dt"
      },
      "source": [
        "Use regular expressions to analyze properties of your data.  For example, you can \n",
        "\n",
        "* search for trends that have a large volume, \n",
        "* search for tweets with geotags, \n",
        "* search for tweets that can contain a certain string,\n",
        "* anything else you think might be useful for a product!"
      ]
    },
    {
      "cell_type": "code",
      "execution_count": 8,
      "metadata": {
        "id": "5W_39LCaY6Du",
        "outputId": "ccb0d9a3-5cc3-4f85-eb36-4bfd3935bb6c",
        "colab": {
          "base_uri": "https://localhost:8080/"
        }
      },
      "outputs": [
        {
          "output_type": "stream",
          "name": "stdout",
          "text": [
            "Apple Says Pro Display XDR and 2021 MacBook Pro Can Experience Limited Brightness in High Temperatures by @julipuli… https://t.co/gOTRx0lgA9\n",
            "2021 14 inch MacBook Pro \n",
            "M1 pro 16gb 512SSD \n",
            "GH₵ 14,399.95\n",
            "\n",
            "iPhone 11 128gb Factory Unlocked GH₵ 3,999.95\n",
            "\n",
            "☎️055-3… https://t.co/DDfpSEc47Q\n",
            "Legitimately one of the best feelings. I just bought this 2021 Macbook Pro and paid for it entirely with NFT profit… https://t.co/fyFxSQ3DTX\n"
          ]
        }
      ],
      "source": [
        "#----------------------------------------------\n",
        "# Your code starts here\n",
        "#   Please add comments or text cells in between to explain the general idea of each block of the code.\n",
        "#   Please feel free to add more cells below this cell if necessary\n",
        "\n",
        "query = { \"favorite_count\": { \"$gt\": 20 } }\n",
        "cursor = coll.find(query)\n",
        "\n",
        "for tweet in cursor:\n",
        "    print(tweet['text'])"
      ]
    },
    {
      "cell_type": "code",
      "source": [
        "query2 = { \"geo\": { \"$ne\": None } }\n",
        "cursor = coll.find(query2)\n",
        "\n",
        "for tweet in cursor:\n",
        "    print(tweet['text'])"
      ],
      "metadata": {
        "id": "CPd_H_VX7lDD",
        "outputId": "502d0055-96e2-4a1c-ef81-ef4366af2340",
        "colab": {
          "base_uri": "https://localhost:8080/"
        }
      },
      "execution_count": 9,
      "outputs": [
        {
          "output_type": "stream",
          "name": "stdout",
          "text": [
            "Two weeks used \n",
            "Battery Cycle Count 12 \n",
            "2021 MacBook Pro \n",
            "14 inch 16 GB 512 SSD \n",
            "Box with accessories\n",
            "Cool offer @… https://t.co/qtzSPqoWtR\n"
          ]
        }
      ]
    },
    {
      "cell_type": "code",
      "source": [
        "query3 = { \"text\": { '$regex': '^.*cool.*$', '$options': 'si' } }\n",
        "cursor = coll.find(query3)\n",
        "\n",
        "for tweet in cursor:\n",
        "    print(tweet['text'])"
      ],
      "metadata": {
        "colab": {
          "base_uri": "https://localhost:8080/"
        },
        "id": "zkvtx5Z242yQ",
        "outputId": "ea2ec437-29ff-4544-d8bd-2dba1c59ce72"
      },
      "execution_count": 10,
      "outputs": [
        {
          "output_type": "stream",
          "name": "stdout",
          "text": [
            "RT @AWereChicken: To help get closer to my surgery goal, I am willing to sell my MacBook Pro 2021 with touchbar, charger, and cool Ouija sk…\n",
            "RT @AWereChicken: To help get closer to my surgery goal, I am willing to sell my MacBook Pro 2021 with touchbar, charger, and cool Ouija sk…\n",
            "RT @AWereChicken: To help get closer to my surgery goal, I am willing to sell my MacBook Pro 2021 with touchbar, charger, and cool Ouija sk…\n",
            "RT @AWereChicken: To help get closer to my surgery goal, I am willing to sell my MacBook Pro 2021 with touchbar, charger, and cool Ouija sk…\n",
            "RT @AWereChicken: To help get closer to my surgery goal, I am willing to sell my MacBook Pro 2021 with touchbar, charger, and cool Ouija sk…\n",
            "RT @AWereChicken: To help get closer to my surgery goal, I am willing to sell my MacBook Pro 2021 with touchbar, charger, and cool Ouija sk…\n",
            "To help get closer to my surgery goal, I am willing to sell my MacBook Pro 2021 with touchbar, charger, and cool Ou… https://t.co/6aJFYR2wl4\n",
            "Two weeks used \n",
            "Battery Cycle Count 12 \n",
            "2021 MacBook Pro \n",
            "14 inch 16 GB 512 SSD \n",
            "Box with accessories\n",
            "Cool offer @… https://t.co/qtzSPqoWtR\n"
          ]
        }
      ]
    },
    {
      "cell_type": "code",
      "source": [
        "query4 = { \"text\": { '$regex': '^.*battery.*$', '$options': 'si' } }\n",
        "cursor = coll.find(query4)\n",
        "\n",
        "for tweet in cursor:\n",
        "    print(tweet['text'])"
      ],
      "metadata": {
        "id": "DGwFPOgWAOB7",
        "outputId": "eaaf2183-e91f-4d4b-9d02-d6eab404aa57",
        "colab": {
          "base_uri": "https://localhost:8080/"
        }
      },
      "execution_count": 11,
      "outputs": [
        {
          "output_type": "stream",
          "name": "stdout",
          "text": [
            "Apple’s 2021 MacBook Pro Lasts 60% Longer Than the Best High-End Notebook’s Battery Timing, Claims New Test https://t.co/q6gxK4gRQ0\n",
            "RT @wccftech: Apple’s 2021 MacBook Pro Lasts 60% Longer Than the Best High-End Notebook’s Battery Timing, Claims New Test https://t.co/NFvB…\n",
            "Apple’s 2021 MacBook Pro Lasts 60% Longer Than the Best High-End Notebook’s Battery Timing, Claims New Test https://t.co/AQlBlbz7rj\n",
            "Apple’s 2021 MacBook Pro Lasts 60% Longer Than the Best High-End Notebook’s Battery Timing, Claims New Test… https://t.co/WhbFZLMDud\n",
            "Design and battery life favour the 2021 edition of the Microsoft #SurfaceProX but the Apple Macbook Pro and Air may… https://t.co/4wJ2VPFauQ\n",
            "RT @Mint_Lounge: Design and battery life favour the 2021 edition of the Microsoft #SurfaceProX but the Apple Macbook Pro and Air may prove…\n",
            "RT @Mint_Lounge: Design and battery life favour the 2021 edition of the Microsoft #SurfaceProX but the Apple Macbook Pro and Air may prove…\n",
            "Two weeks used \n",
            "Battery Cycle Count 12 \n",
            "2021 MacBook Pro \n",
            "14 inch 16 GB 512 SSD \n",
            "Box with accessories\n",
            "Cool offer @… https://t.co/qtzSPqoWtR\n",
            "Design and battery life favour the 2021 edition of the Microsoft #SurfaceProX but the Apple Macbook Pro and Air may… https://t.co/pJA2MHv28f\n",
            "Design and battery life favour the 2021 edition of the Microsoft Surface Pro X but the Apple Macbook Pro and Air ma… https://t.co/wLZMrrGdit\n",
            "RT @Mint_Lounge: Design and battery life favour the 2021 edition of the Microsoft #SurfaceProX but the Apple Macbook Pro and Air may prove…\n",
            "Design and battery life favour the 2021 edition of the Microsoft #SurfaceProX but the Apple Macbook Pro and Air may… https://t.co/4NKBT9qqkT\n",
            "Design and battery life favour the 2021 edition of the Microsoft #SurfaceProX but the Apple Macbook Pro and Air may… https://t.co/PUsmVKetyC\n",
            "Apple MacBook Pro 15\" RAM,  Battery and trackpad replacement.  Apple Expert SA - ZA Support Apple Specialist South… https://t.co/58XvQ6qIKL\n",
            "Apple MacBook Pro 15\" Battery and trackpad replacement.  Apple Expert SA - ZA Support Apple Specialist South Africa… https://t.co/Bs8vtk8Nnd\n"
          ]
        }
      ]
    },
    {
      "cell_type": "markdown",
      "metadata": {
        "collapsed": true,
        "id": "n0iZmkh7Y6Du"
      },
      "source": [
        "# Problem 4 (20 points): Business question \n",
        "\n",
        "Run some additional experiments with your data to gain familiarity with the MongoDB.\n",
        "\n",
        "* Come up with a business question that Twitter data and MongoDB could help answer.\n",
        "* Decribe the business case.\n",
        "* How could MongoDB help a company to scale up its computation environment?"
      ]
    },
    {
      "cell_type": "markdown",
      "source": [
        "Our business lies in helping entrepreneurs better understand their market using twitter data, prior to them making an investing decision. Our research model is flexible and can be used to research just about any topic.\n",
        "\n",
        "The model is the following: \n",
        "1. We determine the market's underserved needs by analyzing negative sentiment tweets related to the business of choice. After collecting all negative sentiment tweets, we determine the most frequently occuring words, and then search for tweets containing these words to get an idea of what the problem / underserved need may be.\n",
        "2. We determine the market's table stakes–– needs that are satisfied by all the other competitors, and thus have to be satisfied by us as well–– to do this we follow an identical algorithm to problem 1, but now we query for tweets with a positive sentiment.\n",
        "3. We identify the creators of most liked and most retweeted positive tweets; and then look for overlapping accounts that they follow. These accounts will be our primary contacts for targeted advertisement of the new product.\n",
        "\n",
        "MongoDB helps us organize this data into different collection and use regular expressions to query data efficiently and accurately."
      ],
      "metadata": {
        "id": "X9QQ8ONpeJgh"
      }
    },
    {
      "cell_type": "markdown",
      "source": [
        "**1. Researching Negative attitude tweets. Pushing to a MongoDB dbs. Looking for most frequent words. Looking for tweets with a geotag to see if we can determine where did negative attitudes come from. Listing 10 sentences where each of the most frequent words occurs to get the idea of what people are unhappy about.**"
      ],
      "metadata": {
        "id": "pzjdfWPeYBkY"
      }
    },
    {
      "cell_type": "code",
      "execution_count": 26,
      "metadata": {
        "id": "Q_JRP_b5Y6Dv",
        "colab": {
          "base_uri": "https://localhost:8080/"
        },
        "outputId": "3508c73f-ab41-4eef-f83b-1b038db23edc"
      },
      "outputs": [
        {
          "output_type": "stream",
          "name": "stdout",
          "text": [
            "187\n"
          ]
        }
      ],
      "source": [
        "# Negative attitudes\n",
        "query1 = 'burger OR burgers :( -filter:retweets'\n",
        "\n",
        "data1 = twitter_api.search.tweets(q=query1, lang='en', count=100)\n",
        "\n",
        "min_id = data1['statuses'][-1]['id']\n",
        "for i in range(10):\n",
        "    tweets = twitter_api.search.tweets(q=query1, lang='en', max_id=min_id, count=100)\n",
        "    min_id = tweets['statuses'][-1]['id']\n",
        "    data1['statuses'] += tweets['statuses']\n",
        "\n",
        "statuses1 = data1['statuses']\n",
        "print(len(statuses1))\n",
        "coll_neg = db['cs2_coll_neg']\n",
        "# coll_neg.drop()\n",
        "# _ = coll_neg.insert_many(statuses1)"
      ]
    },
    {
      "cell_type": "code",
      "source": [
        "# Similar to Case Study 1, looking at most common words\n",
        "\n",
        "import re\n",
        "exclude = ['rt', 'in', 'the', 'for','of', 'to', 'and', 'a', 'is', 'are', 'on', 'from', 'that', 'this', 'these', 'with', 'what', 'it', 'if', 'or', 'but', 'your', 'be', 'you', 'my', 'at', 'd', 'its', 'i', 'so', 'was', 'he', 'me', 'no', 'about']\n",
        "\n",
        "tweet_texts_neg = [ re.sub(r\"[^\\w\\s'#@]\", \"\", tweets['text']) for tweets in statuses1 ]\n",
        "print(tweet_texts_neg[0])\n",
        "words_neg = [ w for t in tweet_texts_neg for w in t.lower().split() ]\n",
        "words_neg = list(filter(lambda x: x not in exclude, words_neg))\n",
        "print(words_neg[1])"
      ],
      "metadata": {
        "id": "w6eMTHwBUqgT",
        "outputId": "cfa03a1c-edab-4c52-eea7-64a19c653015",
        "colab": {
          "base_uri": "https://localhost:8080/"
        }
      },
      "execution_count": 33,
      "outputs": [
        {
          "output_type": "stream",
          "name": "stdout",
          "text": [
            "@potatorolls Wow this roll isnt even cut  what am I supposed to do put the burger on top httpstcoHYZI3hgMmP\n",
            "wow\n"
          ]
        }
      ]
    },
    {
      "cell_type": "code",
      "source": [
        "from prettytable import PrettyTable\n",
        "from collections import Counter\n",
        "\n",
        "c = Counter(words_neg)\n",
        "top_words_neg = c.most_common()[:10]\n",
        "print(top_words_neg) # top 10\n",
        "\n",
        "pt = PrettyTable(field_names=['Word', 'Count'])\n",
        "[ pt.add_row(kv) for kv in c.most_common()[:10] ]\n",
        "pt.align['Word'], pt.align['Count'] = 'l', 'r'\n",
        "print(pt)"
      ],
      "metadata": {
        "id": "G4TVsj3fVX5K",
        "outputId": "3b02196a-01d7-4c13-de02-615f24148daa",
        "colab": {
          "base_uri": "https://localhost:8080/"
        }
      },
      "execution_count": 34,
      "outputs": [
        {
          "output_type": "stream",
          "name": "stdout",
          "text": [
            "[('burger', 150), ('burgers', 25), ('im', 22), ('like', 19), ('shadow', 17), ('dedede', 17), ('update', 17), ('hammed', 17), ('want', 16), ('king', 14)]\n",
            "+---------+-------+\n",
            "| Word    | Count |\n",
            "+---------+-------+\n",
            "| burger  |   150 |\n",
            "| burgers |    25 |\n",
            "| im      |    22 |\n",
            "| like    |    19 |\n",
            "| shadow  |    17 |\n",
            "| dedede  |    17 |\n",
            "| update  |    17 |\n",
            "| hammed  |    17 |\n",
            "| want    |    16 |\n",
            "| king    |    14 |\n",
            "+---------+-------+\n"
          ]
        }
      ]
    },
    {
      "cell_type": "code",
      "source": [
        "# Attempt to look for negative sentiment tweets with a geo-tag. Might give us an idea of where competitors fail or make bad burgers\n",
        "query_neg1 = { \"geo\": { '$ne': None } }\n",
        "cursor = coll_neg.find(query_neg1)\n",
        "\n",
        "for tweet in cursor:\n",
        "    print(tweet['text'])"
      ],
      "metadata": {
        "id": "djfhuFZISA1t"
      },
      "execution_count": 35,
      "outputs": []
    },
    {
      "cell_type": "code",
      "source": [
        "# Looking at tweets that have the most used words\n",
        "for combo in top_words_neg:\n",
        "    print(combo[0])\n",
        "    query = { \"text\": { '$regex': '^.* '+ combo[0] + ' .*$', '$options': 'si' } }\n",
        "    cursor = coll_neg.find(query)\n",
        "    i = 0\n",
        "    # Printing first 10 tweets\n",
        "    for tweet in cursor:\n",
        "        if i >= 10:\n",
        "            break\n",
        "        print(tweet['text'], '\\n')\n",
        "        i += 1\n",
        "\n",
        "    print(\"-\"*100)"
      ],
      "metadata": {
        "id": "YORgp_sIbIB0",
        "outputId": "1164eaf5-e80d-49b2-a2b4-28d528e2cbc5",
        "colab": {
          "base_uri": "https://localhost:8080/"
        }
      },
      "execution_count": 36,
      "outputs": [
        {
          "output_type": "stream",
          "name": "stdout",
          "text": [
            "burger\n",
            "@potatorolls Wow, this roll isn’t even cut :( what am I supposed to do, put the burger on top? https://t.co/HYZI3hgMmP \n",
            "\n",
            "@gojosatoruism any time i've tried to have burger king since ive been a teenager, it just gives me the shits afterwards :( \n",
            "\n",
            "@Technicals_ What happened to burger time? :( \n",
            "\n",
            "@MYRIDOFFICIAL @jedwill1999 those are the thickest hot dog buns i've ever seen in my life :( they're like long burger buns im scared \n",
            "\n",
            "@Cranky_00 Stipend isn't a salary :( 4000 kay to main burger kha jati thi 😂.\n",
            "First salary should have been 15k but… https://t.co/MrRr0j4wQP \n",
            "\n",
            "@strwbrryrabbit It’s not like the burger making things I’m just making fruit salads n shit :( \n",
            "\n",
            "@BurgerKing do you still love me burger king :( https://t.co/beExz7mRt4 \n",
            "\n",
            "mia mag burger steak oy :( \n",
            "\n",
            "this burger is very expensive. leeknow is incredibly kind and will do anything for his members, I hope stay will st… https://t.co/LeqsLVf7Jh \n",
            "\n",
            "hyunho originally planned on eating the gordon ramsay burger together but they weren’t able to set a reservation so… https://t.co/KzAbjjXEYE \n",
            "\n",
            "----------------------------------------------------------------------------------------------------\n",
            "burgers\n",
            "I’m in hospital because I ate the chuckle sandwich burgers :( /j \n",
            "\n",
            "wdym lee know intentionally bought two burgers and saved one for hyunjin because gordon ramsay’s restaurants doesn’… https://t.co/wDKqo196ap \n",
            "\n",
            "@juzaluna okay but their burgers are good :(( \n",
            "\n",
            "@BAYC2745 Is it allowed to flip burgers tho? :( \n",
            "\n",
            "\"Unfair.\" :(\n",
            "\n",
            "Sad vampire noises, she wished she could eat burgers in the morning https://t.co/yPS0ceKfPl \n",
            "\n",
            "I haven’t watched Bob’s Burgers in many days :( \n",
            "\n",
            "I remember my uncle took me to see this movie then we picked up some burgers on the way home.. how I wish shit stay… https://t.co/znz7M95mXp \n",
            "\n",
            "@iHateToriSpring ass burgers :( \n",
            "\n",
            "@ataaashi it’s so bad , they don’t have wraps / burgers / paella :( \n",
            "\n",
            "@nataliasloam @msmarbles2017 @MeatlessFarm Beyond burgers were on offer on @ocado a couple of weeks ago for £3 a pa… https://t.co/OWXTK1R5sk \n",
            "\n",
            "----------------------------------------------------------------------------------------------------\n",
            "im\n",
            "@MYRIDOFFICIAL @jedwill1999 those are the thickest hot dog buns i've ever seen in my life :( they're like long burger buns im scared \n",
            "\n",
            "@howhighcanufly HEHE YAAAAY WENDYS WAT DID U GET FROM THERE? IM@GONNA GUESS A BURGER.. ALSO IM GOOD! im bORED JUST… https://t.co/rBRdLjEnfT \n",
            "\n",
            "yikes im sorry anon &lt;/3 i dont like pickles too they destroy the whole entire burger/sandwich sometimes :( but you… https://t.co/356Bfw0iCO \n",
            "\n",
            "@Grande_hii Im honestly not that big of a picky eater, but the burger was cold, the chicken wasnt well cooked AT AL… https://t.co/7VbFbHBXpJ \n",
            "\n",
            "wtf i want a burger now im hungy :( \n",
            "\n",
            "----------------------------------------------------------------------------------------------------\n",
            "like\n",
            "@MYRIDOFFICIAL @jedwill1999 those are the thickest hot dog buns i've ever seen in my life :( they're like long burger buns im scared \n",
            "\n",
            "@strwbrryrabbit It’s not like the burger making things I’m just making fruit salads n shit :( \n",
            "\n",
            "Why is there burger slander on my tl :( I like everything on my burger!!! \n",
            "\n",
            "@lesmis456 Depends. Do you want to bite into potatowedges and feel like ur eating a whole potato? Loblaws. You want… https://t.co/ZBxBTxIGs1 \n",
            "\n",
            "@lwashburn2 i used to get the one at mcnellies until i had one that tasted like they used plantains that were too r… https://t.co/N3NwIpaXUV \n",
            "\n",
            "@Chilly_Pat I actually don’t like any sort of fish :( I’ll try the nugget burger tho \n",
            "\n",
            "yikes im sorry anon &lt;/3 i dont like pickles too they destroy the whole entire burger/sandwich sometimes :( but you… https://t.co/356Bfw0iCO \n",
            "\n",
            "@pixeledpalace he looks like he would try to sell me on a 30 dollar burger reheated in a microwave :( \n",
            "\n",
            "Cancel me I don't like carrots in my burger :(\n",
            "Sorry Coarly \n",
            "\n",
            "@danielpape78 @FeagleLegal @cnnbrk Oh no my burger will cost $0.25 more because people don’t like crashing and dying on bridges :(( \n",
            "\n",
            "----------------------------------------------------------------------------------------------------\n",
            "shadow\n",
            "----------------------------------------------------------------------------------------------------\n",
            "dedede\n",
            "shadow dedede update! Hammed burger :( \n",
            "\n",
            "shadow dedede update! Hammed burger :( \n",
            "\n",
            "shadow dedede update! Hammed burger :( \n",
            "\n",
            "shadow dedede update! Hammed burger :( \n",
            "\n",
            "shadow dedede update! Hammed burger :( \n",
            "\n",
            "shadow dedede update! Hammed burger :( \n",
            "\n",
            "shadow dedede update! Hammed burger :( \n",
            "\n",
            "shadow dedede update! Hammed burger :( \n",
            "\n",
            "shadow dedede update! Hammed burger :( \n",
            "\n",
            "shadow dedede update! Hammed burger :( \n",
            "\n",
            "----------------------------------------------------------------------------------------------------\n",
            "update\n",
            "----------------------------------------------------------------------------------------------------\n",
            "hammed\n",
            "shadow dedede update! Hammed burger :( \n",
            "\n",
            "shadow dedede update! Hammed burger :( \n",
            "\n",
            "shadow dedede update! Hammed burger :( \n",
            "\n",
            "shadow dedede update! Hammed burger :( \n",
            "\n",
            "shadow dedede update! Hammed burger :( \n",
            "\n",
            "shadow dedede update! Hammed burger :( \n",
            "\n",
            "shadow dedede update! Hammed burger :( \n",
            "\n",
            "shadow dedede update! Hammed burger :( \n",
            "\n",
            "shadow dedede update! Hammed burger :( \n",
            "\n",
            "shadow dedede update! Hammed burger :( \n",
            "\n",
            "----------------------------------------------------------------------------------------------------\n",
            "want\n",
            "@SquishyBlooper Jojo now i want a burger and its your fault buy me one now pls :( \n",
            "\n",
            "@Justaethan oh okay :( i have a burger 🍔🍔 also do you want that? \n",
            "\n",
            "i want a burger :(( \n",
            "\n",
            "@lesmis456 Depends. Do you want to bite into potatowedges and feel like ur eating a whole potato? Loblaws. You want… https://t.co/ZBxBTxIGs1 \n",
            "\n",
            "i want a burger its 9:37 am :( \n",
            "\n",
            "i want my burger ramly and keropok lekor :( \n",
            "\n",
            "I eated 2 burger I want third but there is no third burger :(( \n",
            "\n",
            "the way my cravings change spontaneously. few mins ago I was craving a lamb burger and ordered one, now I want oxtail instead :( \n",
            "\n",
            "i want a burger so bad rn. with a bun :-( \n",
            "\n",
            "if i ever go to america i want to get mrbeast burger\n",
            "\n",
            "im not going if i wont get a dream burger &gt;:( \n",
            "\n",
            "----------------------------------------------------------------------------------------------------\n",
            "king\n",
            "@gojosatoruism any time i've tried to have burger king since ive been a teenager, it just gives me the shits afterwards :( \n",
            "\n",
            "@BurgerKing do you still love me burger king :( https://t.co/beExz7mRt4 \n",
            "\n",
            "@camilosroxiie oh :(( burger king instead? 👀 \n",
            "\n",
            "not burger king giving me the wrong order &gt;:((( \n",
            "\n",
            "drive thru worker @ burger king fucked up my order &gt;:((( wanted sammich, got fries &gt;:((((((( \n",
            "\n",
            "@maggiejayh this gave me the motivation to doordash burger king (no better burger places around :( ) \n",
            "\n",
            "@sundaesupreeme There is no Burger King here :(\n",
            "Ngl if there were I’d prob try it \n",
            "\n",
            "Every Starbucks in Lodi is closed :( so I’m getting an iced coffee from Burger King 😬😬😬 \n",
            "\n",
            "I miss burger king :(( \n",
            "\n",
            "2/2 I was really hungry so I got burger king on the way home from class :((( I'm sorry \n",
            "\n",
            "----------------------------------------------------------------------------------------------------\n"
          ]
        }
      ]
    },
    {
      "cell_type": "markdown",
      "source": [
        "**2. Researching Positive attitude tweets. Pushing to a MongoDB dbs. Looking for most frequent words. Looking for tweets with a geotag to see if we can determine where did positive attitudes come from. Listing 10 sentences where each of the most frequent words occurs to get the idea of what people are unhappy about.**"
      ],
      "metadata": {
        "id": "cQG8PjRVYlTY"
      }
    },
    {
      "cell_type": "code",
      "source": [
        "# Positive attitudes\n",
        "query2 = 'burger OR burgers :) -filter:retweets'\n",
        "\n",
        "data2 = twitter_api.search.tweets(q=query2, lang='en', count=100)\n",
        "\n",
        "min_id = data2['statuses'][-1]['id']\n",
        "for i in range(10):\n",
        "    tweets = twitter_api.search.tweets(q=query2, lang='en', max_id=min_id, count=100)\n",
        "    min_id = tweets['statuses'][-1]['id']\n",
        "    data2['statuses'] += tweets['statuses']\n",
        "\n",
        "statuses2 = data2['statuses']\n",
        "print(len(statuses2))\n",
        "coll_pos = db['cs2_coll_pos']\n",
        "# coll_pos.drop()\n",
        "# _ = coll_pos.insert_many(statuses2)"
      ],
      "metadata": {
        "id": "BQ0P-YVAO6lC",
        "colab": {
          "base_uri": "https://localhost:8080/"
        },
        "outputId": "e23008f8-b5eb-4d18-8d5c-e0de7948b273"
      },
      "execution_count": 37,
      "outputs": [
        {
          "output_type": "stream",
          "name": "stdout",
          "text": [
            "430\n"
          ]
        }
      ]
    },
    {
      "cell_type": "code",
      "source": [
        "tweet_texts_pos = [ re.sub(r\"[^\\w\\s'#@]\", \"\", tweets['text']) for tweets in statuses2 ]\n",
        "print(tweet_texts_pos[0])\n",
        "words_pos = [ w for t in tweet_texts_pos for w in t.lower().split() ]\n",
        "words_pos = list(filter(lambda x: x not in exclude, words_pos))\n",
        "print(words_pos[1])"
      ],
      "metadata": {
        "id": "sj9YLEBLWE43",
        "outputId": "97740bad-9547-47d1-cb72-1f0a1990c788",
        "colab": {
          "base_uri": "https://localhost:8080/"
        }
      },
      "execution_count": 38,
      "outputs": [
        {
          "output_type": "stream",
          "name": "stdout",
          "text": [
            "#KARL  wait burger i hardly know her\n",
            "\n",
            "and hes back with the i hardly know her jokes \n",
            "wait\n"
          ]
        }
      ]
    },
    {
      "cell_type": "code",
      "source": [
        "c = Counter(words_pos)\n",
        "top_words_pos = c.most_common()[:10]\n",
        "print(top_words_pos) # top 10\n",
        "\n",
        "pt = PrettyTable(field_names=['Word', 'Count'])\n",
        "[ pt.add_row(kv) for kv in c.most_common()[:10] ]\n",
        "pt.align['Word'], pt.align['Count'] = 'l', 'r'\n",
        "print(pt)"
      ],
      "metadata": {
        "id": "KAhY3xHFWLee",
        "outputId": "df0fe273-8167-494f-b469-b0e0b5437bcb",
        "colab": {
          "base_uri": "https://localhost:8080/"
        }
      },
      "execution_count": 39,
      "outputs": [
        {
          "output_type": "stream",
          "name": "stdout",
          "text": [
            "[('burger', 258), ('burgers', 101), ('like', 36), ('good', 35), ('king', 33), ('have', 31), ('eat', 26), ('just', 26), ('had', 25), ('we', 25)]\n",
            "+---------+-------+\n",
            "| Word    | Count |\n",
            "+---------+-------+\n",
            "| burger  |   258 |\n",
            "| burgers |   101 |\n",
            "| like    |    36 |\n",
            "| good    |    35 |\n",
            "| king    |    33 |\n",
            "| have    |    31 |\n",
            "| eat     |    26 |\n",
            "| just    |    26 |\n",
            "| had     |    25 |\n",
            "| we      |    25 |\n",
            "+---------+-------+\n"
          ]
        }
      ]
    },
    {
      "cell_type": "code",
      "source": [
        "# similar attempt to find positive \"burger\" tweets with a geotag\n",
        "query_pos1 = { \"geo\": { \"$ne\": None } }\n",
        "cursor = coll_pos.find(query_pos1)\n",
        "\n",
        "for tweet in cursor:\n",
        "    print(tweet['text'])"
      ],
      "metadata": {
        "id": "sl8ELQL8Shtv"
      },
      "execution_count": 40,
      "outputs": []
    },
    {
      "cell_type": "code",
      "source": [
        "for combo in top_words_pos:\n",
        "    print(combo[0])\n",
        "    query = { \"text\": { '$regex': '^.*'+ combo[0] + '.*$', '$options': 'si' } }\n",
        "    cursor = coll_pos.find(query)\n",
        "    i = 0\n",
        "    # Printing first 10 tweets\n",
        "    for tweet in cursor:\n",
        "        if i >= 10:\n",
        "            break\n",
        "        print(tweet['text'], '\\n')\n",
        "        i += 1\n",
        "\n",
        "    print(\"-\"*100)"
      ],
      "metadata": {
        "id": "kP1YxDCicvgK",
        "outputId": "e9587b9f-2eb8-4fa6-a1b2-f5ea0116ecb0",
        "colab": {
          "base_uri": "https://localhost:8080/"
        }
      },
      "execution_count": 41,
      "outputs": [
        {
          "output_type": "stream",
          "name": "stdout",
          "text": [
            "burger\n",
            "#KARL : wait burger? i hardly know her\n",
            "\n",
            "and… he’s back with the “i hardly know her” jokes :) \n",
            "\n",
            "@aapki_burger Here's your best friends :) https://t.co/f86ft2gZEp \n",
            "\n",
            "@Overthehillprop Our local chippy. They prepare everything from scratch - mince the burgers from a cut of beef, mak… https://t.co/vwSHFASKZU \n",
            "\n",
            "@JohnsonAtj226 @northchickenyeg They do a falafel burger and a bunch of sides that are veggie :) \n",
            "\n",
            "I'm afraid people will judge me so I order my sandwiches and burgers with lettuce only to take it off before I eat it. :) \n",
            "\n",
            "@charca it’s so good! maybe @chancethedev and i can hop a train and meet you up there. i think he’s looking for another go at that burger :) \n",
            "\n",
            "@Al_Bundy76 @wildaces27 @Dking001 @CP24 That's right! And when I need a burger,  McD knows exactly where to deliver… https://t.co/QJAIueneP8 \n",
            "\n",
            "@steeliebobs @BarnsleyBIC Is that your maggot protein burger machine?:-)\n",
            "Wood pellets &amp; burning biomass /renewable… https://t.co/69JtWg0Tff \n",
            "\n",
            "@NBL @HungryJacksAU @NBABeau I had breakfast when I was in Sydney, AU.  It was like having fast food at US Burger K… https://t.co/71Jck4L5JQ \n",
            "\n",
            "@GarySonnyChiba yeah the good ones are called \"14 day\" sweet pickles.\n",
            "it's really good, and like having a burger wi… https://t.co/2lwwFKvIir \n",
            "\n",
            "----------------------------------------------------------------------------------------------------\n",
            "burgers\n",
            "@Overthehillprop Our local chippy. They prepare everything from scratch - mince the burgers from a cut of beef, mak… https://t.co/vwSHFASKZU \n",
            "\n",
            "I'm afraid people will judge me so I order my sandwiches and burgers with lettuce only to take it off before I eat it. :) \n",
            "\n",
            "@_denisesalcedo and I'm getting burgers :D \n",
            "\n",
            "Ben Schwartz was in a episode of bobs burgers I just watched :D I love his voice acting so much \n",
            "\n",
            "@Hardcorehayleee @/burgers.and.burpees :) \n",
            "\n",
            "@Caithlin_mully they’re by far the best vegetarian burgers i’ve found, i’d recommend them to anyone :) \n",
            "\n",
            "Drop your self love affirmations burgers. As many as you want :)\n",
            "#TeamSehamOnKumu\n",
            "#kumuPh https://t.co/2SfyGUt41A \n",
            "\n",
            "@SNLSABRINA 🙋‍♀️ SNL, b99, new girl, bobs burgers, and 30 rock :) \n",
            "\n",
            "I am once again asking for good show recommendations :) I just finshed Bob's burgers 9/10 \n",
            "\n",
            "Love for Burgers (Welly's) and Hate for Elonmusk :) \n",
            "\n",
            "----------------------------------------------------------------------------------------------------\n",
            "like\n",
            "@NBL @HungryJacksAU @NBABeau I had breakfast when I was in Sydney, AU.  It was like having fast food at US Burger K… https://t.co/71Jck4L5JQ \n",
            "\n",
            "@GarySonnyChiba yeah the good ones are called \"14 day\" sweet pickles.\n",
            "it's really good, and like having a burger wi… https://t.co/2lwwFKvIir \n",
            "\n",
            "@ratemyplatenow so many replies :-) but to me it looks like a burger bun....really tasty tasy burger bun **** drible **** \n",
            "\n",
            "@SNLSABRINA hi!! i like new girl, snl, bobs burgers, and ted lasso :D \n",
            "\n",
            "@rose_bud_xoxo i ate dinner!! my dad made burgers :))\n",
            "it was just shitty and things like the fuel ed culture a lot… https://t.co/UX6GtLnM1B \n",
            "\n",
            "@NeonPixelTTV @yuuticio You’re telling me you don’t like putting soggy burger bread on top :) ? \n",
            "\n",
            "i need more snl and sitcom moots. so if you like snl, b99, abbott elementary, new girl, modern family, superstore,… https://t.co/ImIzYQuFmb \n",
            "\n",
            "-Do you like burgers?\n",
            "+Me: This is god, speaking to us through the food :)) https://t.co/enKt6GWtN2 \n",
            "\n",
            "@HistoriaLibra Just like there is only one burger and cupcake fox, there is only one Libra :D \n",
            "\n",
            "YOUTUBE!! HUH HUH i fell scroll serious :) recome a burger May i can you like literally everything in - finished do have \n",
            "\n",
            "----------------------------------------------------------------------------------------------------\n",
            "good\n",
            "@charca it’s so good! maybe @chancethedev and i can hop a train and meet you up there. i think he’s looking for another go at that burger :) \n",
            "\n",
            "@GarySonnyChiba yeah the good ones are called \"14 day\" sweet pickles.\n",
            "it's really good, and like having a burger wi… https://t.co/2lwwFKvIir \n",
            "\n",
            "@msarosh @NomanChaudharyy Will have good beef burger on week end or some Desi chaasks stuff :) \n",
            "\n",
            "@Kodyfwee It's a stretch to go from \"steal from the tax collector\" to 'juicy burger and unlimited fries\".\n",
            "Hope you made a good recovery :) \n",
            "\n",
            "I am once again asking for good show recommendations :) I just finshed Bob's burgers 9/10 \n",
            "\n",
            "@rektfoodfarmer A true FTM’er can’t choose one, there are too many good ones lol thats like someone at McDonald’s s… https://t.co/YGDe8Gxl8W \n",
            "\n",
            "btw, hoshi's burger pic looks so good and i'm currently fasting :)))))) \n",
            "\n",
            "@calpicostrawb currently comforting is murderville a new will arnett show :) bob's burgers is always a good choice \n",
            "\n",
            "@BT_BlackThunder Hey everyone, come check out my Dying Light 2 Let’s Play on PS5! I’m currently taking a good burge… https://t.co/v1dt0NEhHe \n",
            "\n",
            "The way a good burger cheers you up :) \n",
            "\n",
            "----------------------------------------------------------------------------------------------------\n",
            "king\n",
            "@charca it’s so good! maybe @chancethedev and i can hop a train and meet you up there. i think he’s looking for another go at that burger :) \n",
            "\n",
            "@Al_Bundy76 @wildaces27 @Dking001 @CP24 That's right! And when I need a burger,  McD knows exactly where to deliver… https://t.co/QJAIueneP8 \n",
            "\n",
            "@Lucy_the_bapey Burger King :) \n",
            "\n",
            "I am once again asking for good show recommendations :) I just finshed Bob's burgers 9/10 \n",
            "\n",
            "And the “eMplOyeRs sHoUld pAy yOu mOrE” argument is fucking stupid. If my employer paid me what I should be getting… https://t.co/VPxFkiPAy6 \n",
            "\n",
            "@georgeonthecob OH SORRY In my family we call dinner tea for some reason but we’re cooking burgers :D \n",
            "\n",
            "@almeidamarcell Burger King :) \n",
            "\n",
            "@Garyville_Girl Burger King stock just rose exponentially on this news :-) \n",
            "\n",
            "-Do you like burgers?\n",
            "+Me: This is god, speaking to us through the food :)) https://t.co/enKt6GWtN2 \n",
            "\n",
            "McDonalds o Burger King? :D \n",
            "\n",
            "----------------------------------------------------------------------------------------------------\n",
            "have\n",
            "@msarosh @NomanChaudharyy Will have good beef burger on week end or some Desi chaasks stuff :) \n",
            "\n",
            "@YVESSlE I kinda want some too now.. 😫 shall we have burger and fries date someday? ehe. :D how long?! twelve hours? 🧐 \n",
            "\n",
            "If I ever blow up, Ima make I have a McDonald’s meal.\n",
            "\n",
            "• Quarter Pounder Deluxe w/ No Onions, No Pickles, No Mustar… https://t.co/cfd9StpARQ \n",
            "\n",
            "i have burger burger burger :)) \n",
            "\n",
            "@seanced0wnbel0w I fuckin love pepper jack. I have switched to habenaro Jack tho! Esp for burgers. :) \n",
            "\n",
            "@tataru__ i did not have anything for breakfast but its 12am over here so im telling u what i had today !! i had pi… https://t.co/5Q972BhLTm \n",
            "\n",
            "@BurgerFi @USATODAY Just to clarify, we don't have a \"best burger chain\" category. :) It's an award for Best Fast Casual Restaurant! \n",
            "\n",
            "YOUTUBE!! HUH HUH i fell scroll serious :) recome a burger May i can you like literally everything in - finished do have \n",
            "\n",
            "🌙 do you have favorite brand that you like to eat?\n",
            "\n",
            "🐱: In &amp; Out Burger Jalapeno's a lot :))\n",
            "\n",
            "#레이븐 #oneus https://t.co/6zKzV4c87t \n",
            "\n",
            "🌙 do you have favorite brand that you like to eat?\n",
            "\n",
            "🐱: In &amp; Out Burger Jalapeno's a lot :))\n",
            "\n",
            "#레이븐 #oneus https://t.co/6zKzV4c87t \n",
            "\n",
            "----------------------------------------------------------------------------------------------------\n",
            "eat\n",
            "I'm afraid people will judge me so I order my sandwiches and burgers with lettuce only to take it off before I eat it. :) \n",
            "\n",
            "Jealous of the burger the boyfriends eating round about now :) \n",
            "\n",
            "@KweenJosie I went to college. The school was giving out burgers so I got one. I went to visit a great aunt in her… https://t.co/q3A6TsDDZy \n",
            "\n",
            "@CM147143 I'll give you time. Eat a burger or a chocolate-covered bacon while you think. :) \n",
            "\n",
            "Eating a butter burger to get out of my feelings :) \n",
            "\n",
            "@garyvee Ahahaha I landed in dubai already, now waiting my burger at SALT next to emirates towers :) join me, my treat \n",
            "\n",
            "@EmkyrieVibes @Phoeyu1 now draw her eating a burger! :D \n",
            "\n",
            "@bicharrac0 @OsakaJack I've had a veggie burger at Chili's Bar &amp; Grill with fried onion rings. Chili's is not great… https://t.co/xKPA5LCJmA \n",
            "\n",
            "@SaketSi42274211 @kaushikrj6 Really dude?! By tat logic, y are we wearing pants, coat suits, eating burgers pizzas… https://t.co/lQyQeZSgDh \n",
            "\n",
            "on a second floor of a mang inasal alone eating burger king :)) https://t.co/c1bgDMLrr4 \n",
            "\n",
            "----------------------------------------------------------------------------------------------------\n",
            "just\n",
            "mottourisart was cause my old gamer name was mottouri (doesn't mean anything, was just a random word) and :) 's art… https://t.co/hy8L3hC21M \n",
            "\n",
            "@JRNMX1 @Wendy &amp; at this point it’s honestly just kinda funny lolol. I bet Wendy probably deals with this multiple… https://t.co/RqYmHZTnJu \n",
            "\n",
            "Ben Schwartz was in a episode of bobs burgers I just watched :D I love his voice acting so much \n",
            "\n",
            "I am once again asking for good show recommendations :) I just finshed Bob's burgers 9/10 \n",
            "\n",
            "@AngelaBarnes @edfringe I was there a couple of months ago and found a veggie burger place that was just heaven. Yo… https://t.co/0KWoRu4tUR \n",
            "\n",
            "@rose_bud_xoxo i ate dinner!! my dad made burgers :))\n",
            "it was just shitty and things like the fuel ed culture a lot… https://t.co/UX6GtLnM1B \n",
            "\n",
            "I drew Pikachu from memory, just for funzies :) \n",
            "\n",
            "#art #digitalart #drawing #digitaldrawing #pokemon #pikachu… https://t.co/9qyoe9dxXP \n",
            "\n",
            "@Hero93438531 Thank you :) had burger &amp; homemade chips for dinner.. Just having a cuppa now \n",
            "\n",
            "@Garyville_Girl Burger King stock just rose exponentially on this news :-) \n",
            "\n",
            "@HistoriaLibra Just like there is only one burger and cupcake fox, there is only one Libra :D \n",
            "\n",
            "----------------------------------------------------------------------------------------------------\n",
            "had\n",
            "@suzanne_young My aunt had me order her a BLT with no lettuce or tomato and add mayo to it, which I think is way wo… https://t.co/iKo7yd7LMZ \n",
            "\n",
            "@NBL @HungryJacksAU @NBABeau I had breakfast when I was in Sydney, AU.  It was like having fast food at US Burger K… https://t.co/71Jck4L5JQ \n",
            "\n",
            "@tataru__ i did not have anything for breakfast but its 12am over here so im telling u what i had today !! i had pi… https://t.co/5Q972BhLTm \n",
            "\n",
            "walked 3 blocks to get pan dulce and they had none :))))))))) had to come back in the rain also 💯💯💯💯 \n",
            "\n",
            "@Hero93438531 Thank you :) had burger &amp; homemade chips for dinner.. Just having a cuppa now \n",
            "\n",
            "@bicharrac0 @OsakaJack I've had a veggie burger at Chili's Bar &amp; Grill with fried onion rings. Chili's is not great… https://t.co/xKPA5LCJmA \n",
            "\n",
            "Had Steak ‘n Shake for the first time today and was not disappointed :) I love trying burger places, who wants to take me to In ‘n Out next \n",
            "\n",
            "i had a burger, forgot which type, a pepsi and 3/4th of a choco lava cake. I'm capping the burger at 650 cals and t… https://t.co/bbm3TXOgCD \n",
            "\n",
            "i have sudden plans to meet my friends today! first time after almost 2 years! I'm so glad I've only had a glass of… https://t.co/gxYA8YTYEK \n",
            "\n",
            "@dream_bee1 I had a great day! Started out lazy watching my bf play pokemon and then i streamed Spore. Now I'm fini… https://t.co/5K2MMiZQf5 \n",
            "\n",
            "----------------------------------------------------------------------------------------------------\n",
            "we\n",
            "Woulda been better with a sweet Roll and maybe a thin grilled pineapple\n",
            "\n",
            "Grilled onion, queso fundido, ham, bacon b… https://t.co/B3VuYUh45Y \n",
            "\n",
            "@GarySonnyChiba yeah the good ones are called \"14 day\" sweet pickles.\n",
            "it's really good, and like having a burger wi… https://t.co/2lwwFKvIir \n",
            "\n",
            "@JRNMX1 @Wendy &amp; at this point it’s honestly just kinda funny lolol. I bet Wendy probably deals with this multiple… https://t.co/RqYmHZTnJu \n",
            "\n",
            "@msarosh @NomanChaudharyy Will have good beef burger on week end or some Desi chaasks stuff :) \n",
            "\n",
            "@DONATORSPH Burger :) \n",
            "\n",
            "24TH DONNY DAY SALUBONG\n",
            "\n",
            "#DonnyTurnsTwentyFour\n",
            "#RoadToTwentyFourWithDONNY \n",
            "\n",
            "@Kodyfwee It's a stretch to go from \"steal from the tax collector\" to 'juicy burger and unlimited fries\".\n",
            "Hope you made a good recovery :) \n",
            "\n",
            "And then we scale out around lunch time and wait what happens near burger open :)) \n",
            "\n",
            "@YVESSlE I kinda want some too now.. 😫 shall we have burger and fries date someday? ehe. :D how long?! twelve hours? 🧐 \n",
            "\n",
            "@TheReal_Tweezy1 @burger_crypto u can put some on chihuahua, might be a surprise or not , you never know :))) \n",
            "\n",
            "Love for Burgers (Welly's) and Hate for Elonmusk :) \n",
            "\n",
            "----------------------------------------------------------------------------------------------------\n"
          ]
        }
      ]
    },
    {
      "cell_type": "markdown",
      "source": [
        "**3. Finding 20 most popular retweeted tweets and 20 most liked tweets from positive attitude tweets. Looking for overlaps in who these people follow. Listing these accounts as primary contacts for targeted advertisement.**"
      ],
      "metadata": {
        "id": "_gx541IUY7bl"
      }
    },
    {
      "cell_type": "code",
      "source": [
        "tweets = [\n",
        "          (pop_tweet['retweet_count'], \n",
        "             pop_tweet['user']['screen_name'],\n",
        "             pop_tweet['text'])\n",
        "          for pop_tweet in statuses2\n",
        "            if 'retweeted_status' not in pop_tweet\n",
        "]\n",
        "pt = PrettyTable(field_names=['RT Count', 'Screen Name', 'Text'])\n",
        "[ pt.add_row(row) for row in sorted(tweets, reverse=True)[:20] ]\n",
        "pt.max_width['Text'] = 50\n",
        "pt.align= 'l'\n",
        "print(pt)"
      ],
      "metadata": {
        "colab": {
          "base_uri": "https://localhost:8080/"
        },
        "id": "7O6E-MROZz7K",
        "outputId": "f829ba30-3c31-482b-d286-aa69788ff4f1"
      },
      "execution_count": 45,
      "outputs": [
        {
          "output_type": "stream",
          "name": "stdout",
          "text": [
            "+----------+-----------------+----------------------------------------------------+\n",
            "| RT Count | Screen Name     | Text                                               |\n",
            "+----------+-----------------+----------------------------------------------------+\n",
            "| 165      | KikiTaiga       | Varsity Dream!                                     |\n",
            "|          |                 | He's eating a Dream burger &gt;:D                  |\n",
            "|          |                 | .                                                  |\n",
            "|          |                 | -retweets,likes,comments are cool-                 |\n",
            "|          |                 | #dreamfanart #mcyt #smiletwt                       |\n",
            "|          |                 | https://t.co/lNoClg5A9t                            |\n",
            "| 83       | taboo_comics    | so glad I'm done with this com, after months of    |\n",
            "|          |                 | being on hold :D                                   |\n",
            "|          |                 | #bunnygirl #reversebunnysuit #pinupgirl…           |\n",
            "|          |                 | https://t.co/eENC4OXMwZ                            |\n",
            "| 35       | AlEian_Sakalam  | \"bat ka nagulat sa burger\" - A                     |\n",
            "|          |                 |                                                    |\n",
            "|          |                 | See? Ganito lang happy nakami 'cuz we celebrate    |\n",
            "|          |                 | little things :)                                   |\n",
            "|          |                 |                                                    |\n",
            "|          |                 | UNITED AS ONE ALE… https://t.co/QqJGVaFj3J         |\n",
            "| 19       | SNLSABRINA      | i need more snl and sitcom moots. so if you like   |\n",
            "|          |                 | snl, b99, abbott elementary, new girl, modern      |\n",
            "|          |                 | family, superstore,… https://t.co/ImIzYQuFmb       |\n",
            "| 14       | TEAMSEHAMOFC    | Expect nothing prepare for the worst. If you       |\n",
            "|          |                 | didn’t know, Team Seham has a Donation Drive set   |\n",
            "|          |                 | up. Rest assured that… https://t.co/wZLNan0bHS     |\n",
            "| 8        | SehamDaghlasWW  | Drop your self love affirmations burgers. As many  |\n",
            "|          |                 | as you want :)                                     |\n",
            "|          |                 | #TeamSehamOnKumu                                   |\n",
            "|          |                 | #kumuPh https://t.co/2SfyGUt41A                    |\n",
            "| 7        | PeachyBeanInc   | I have good news! These adorable Burger Bear       |\n",
            "|          |                 | earrings were such a hit on our last drop that     |\n",
            "|          |                 | we've decided to add th… https://t.co/7ORLaspNMU   |\n",
            "| 5        | TEAMSEHAMOFC    | Lets start building our Voting Team Burgers! DM if |\n",
            "|          |                 | you’re willing to join a committed voting team for |\n",
            "|          |                 | Seham :D                                           |\n",
            "|          |                 |                                                    |\n",
            "|          |                 | SA… https://t.co/aF0BQJI5Ey                        |\n",
            "| 3        | KaceYoshida     | Want some burger?                                  |\n",
            "|          |                 |                                                    |\n",
            "|          |                 | Looking forward to the 3D version of them :D       |\n",
            "|          |                 |                                                    |\n",
            "|          |                 | Public mint of the 3D version Pacas is on Feb      |\n",
            "|          |                 | 12th… https://t.co/RgySQzc1Tr                      |\n",
            "| 3        | HelenJRaine     | @mikesharman It was for @OneMinuteBriefs. Here are |\n",
            "|          |                 | the other winning submissions :) the Burger King   |\n",
            "|          |                 | one is also fli… https://t.co/An6YE9lGOp           |\n",
            "| 2        | kayukomodo      | 🔴 LIVEE -- sorry I am late I was eating my burger |\n",
            "|          |                 | &gt;:)                                             |\n",
            "|          |                 |                                                    |\n",
            "|          |                 | https://t.co/pkjBSO8hGo                            |\n",
            "| 2        | RealWorldRyoshi | @SHIBjpn @shibainucafe Our CHEF loves JAPAN ... we |\n",
            "|          |                 | want to visit and meet maybe make a nice garden    |\n",
            "|          |                 | cafe in nice cit… https://t.co/he6l5uGbYo          |\n",
            "| 1        | willw           | @rava I made that burger gif :-) So nice seeing it |\n",
            "|          |                 | again                                              |\n",
            "| 1        | thinningdesire  | okay  guys  guys  im  going  to  burger  king  w   |\n",
            "|          |                 | my  friends  after  my  exam  what  do  i  get  ?? |\n",
            "|          |                 | i  get  to  l… https://t.co/iS3586e9Gx             |\n",
            "| 1        | illestbino      | Woulda been better with a sweet Roll and maybe a   |\n",
            "|          |                 | thin grilled pineapple                             |\n",
            "|          |                 |                                                    |\n",
            "|          |                 | Grilled onion, queso fundido, ham, bacon b…        |\n",
            "|          |                 | https://t.co/B3VuYUh45Y                            |\n",
            "| 1        | derekmross      | @lginfinitie17 @MarvinGamero @nayibbukele i never  |\n",
            "|          |                 | heard of chiltepe until last night :) i can get    |\n",
            "|          |                 | dried ones around… https://t.co/qCRIPjkscx         |\n",
            "| 1        | deathechef      | Burgers and grilled onions :))                     |\n",
            "|          |                 | https://t.co/zrF1ToqYqG                            |\n",
            "| 1        | SehamDaghlasWW  | Engage burgers :)                                  |\n",
            "|          |                 | Seham is....                                       |\n",
            "|          |                 |                                                    |\n",
            "|          |                 | KEEP CALM WithSEHAM https://t.co/l4aSSaJ5P4        |\n",
            "| 1        | Naggoob72       | @servicerotties You got a burger n fries :) Thats  |\n",
            "|          |                 | nice, I also had burger today :)                   |\n",
            "| 1        | MutatedAlias    | Going to do a Just Chatting cooking stream         |\n",
            "|          |                 | tonight! We're making BURGERS! 🍔 Hoping to start  |\n",
            "|          |                 | around 8! (Have to go b… https://t.co/oi6msv8Sb2   |\n",
            "+----------+-----------------+----------------------------------------------------+\n"
          ]
        }
      ]
    },
    {
      "cell_type": "code",
      "source": [
        "tweets = [\n",
        "          (pop_tweet['favorite_count'], \n",
        "             pop_tweet['user']['screen_name'],\n",
        "             pop_tweet['text'])\n",
        "          for pop_tweet in statuses2\n",
        "            if 'retweeted_status' not in pop_tweet\n",
        "]\n",
        "pt = PrettyTable(field_names=['Likes Count', 'Screen Name', 'Text'])\n",
        "[ pt.add_row(row) for row in sorted(tweets, reverse=True)[:20] ]\n",
        "pt.max_width['Text'] = 50\n",
        "pt.align= 'l'\n",
        "print(pt)"
      ],
      "metadata": {
        "colab": {
          "base_uri": "https://localhost:8080/"
        },
        "id": "5tdLg2M5dB8G",
        "outputId": "f658e960-f785-40ba-a68d-5fa49858fabc"
      },
      "execution_count": 43,
      "outputs": [
        {
          "output_type": "stream",
          "name": "stdout",
          "text": [
            "+-------------+-----------------+----------------------------------------------------+\n",
            "| Likes Count | Screen Name     | Text                                               |\n",
            "+-------------+-----------------+----------------------------------------------------+\n",
            "| 2842        | KikiTaiga       | Varsity Dream!                                     |\n",
            "|             |                 | He's eating a Dream burger &gt;:D                  |\n",
            "|             |                 | .                                                  |\n",
            "|             |                 | -retweets,likes,comments are cool-                 |\n",
            "|             |                 | #dreamfanart #mcyt #smiletwt                       |\n",
            "|             |                 | https://t.co/lNoClg5A9t                            |\n",
            "| 574         | taboo_comics    | so glad I'm done with this com, after months of    |\n",
            "|             |                 | being on hold :D                                   |\n",
            "|             |                 | #bunnygirl #reversebunnysuit #pinupgirl…           |\n",
            "|             |                 | https://t.co/eENC4OXMwZ                            |\n",
            "| 125         | SNLSABRINA      | i need more snl and sitcom moots. so if you like   |\n",
            "|             |                 | snl, b99, abbott elementary, new girl, modern      |\n",
            "|             |                 | family, superstore,… https://t.co/ImIzYQuFmb       |\n",
            "| 91          | AlEian_Sakalam  | \"bat ka nagulat sa burger\" - A                     |\n",
            "|             |                 |                                                    |\n",
            "|             |                 | See? Ganito lang happy nakami 'cuz we celebrate    |\n",
            "|             |                 | little things :)                                   |\n",
            "|             |                 |                                                    |\n",
            "|             |                 | UNITED AS ONE ALE… https://t.co/QqJGVaFj3J         |\n",
            "| 54          | markerguru      | Went to grab some Burger King last night. Got      |\n",
            "|             |                 | there at 8:45pm, They are open until 10pm. Drive   |\n",
            "|             |                 | thru, no answer. Fro… https://t.co/ZMfE2OgiQ9      |\n",
            "| 35          | kitty_mancer    | @YeetZmeN @Ghost_Burger @Wario64 it's a farming    |\n",
            "|             |                 | game like stardew valley :)                        |\n",
            "| 35          | GrantRous       | I guess my career isn't going as well as I thought |\n",
            "|             |                 | if my profile is one of interest XD                |\n",
            "|             |                 |                                                    |\n",
            "|             |                 | Oh well it's been fun, gonn…                       |\n",
            "|             |                 | https://t.co/69KpQ6k7Q0                            |\n",
            "| 27          | dunkinluvr420   | Leg day then Will made us burgers :)               |\n",
            "|             |                 | https://t.co/fiCvWTQaff                            |\n",
            "| 23          | PeachyBeanInc   | I have good news! These adorable Burger Bear       |\n",
            "|             |                 | earrings were such a hit on our last drop that     |\n",
            "|             |                 | we've decided to add th… https://t.co/7ORLaspNMU   |\n",
            "| 15          | R0ninTheWolf    | *puts you on a Burger King crown*                  |\n",
            "|             |                 | You are now da queen/king of burgers!! :D          |\n",
            "| 13          | pey_diddy       | @jalyn_phillips breakfast: sunny side, pot belly   |\n",
            "|             |                 | deli                                               |\n",
            "|             |                 |                                                    |\n",
            "|             |                 | lunch/dinner:                                      |\n",
            "|             |                 | loose change (burgers, sandwhiches/wraps)          |\n",
            "|             |                 | back… https://t.co/89vz88NL3J                      |\n",
            "| 12          | mercutiokin     | made burgers tonight. dressed with blueberry jam   |\n",
            "|             |                 | goat cheese arugula &gt;:)                         |\n",
            "| 12          | TEAMSEHAMOFC    | Expect nothing prepare for the worst. If you       |\n",
            "|             |                 | didn’t know, Team Seham has a Donation Drive set   |\n",
            "|             |                 | up. Rest assured that… https://t.co/wZLNan0bHS     |\n",
            "| 12          | KaceYoshida     | Want some burger?                                  |\n",
            "|             |                 |                                                    |\n",
            "|             |                 | Looking forward to the 3D version of them :D       |\n",
            "|             |                 |                                                    |\n",
            "|             |                 | Public mint of the 3D version Pacas is on Feb      |\n",
            "|             |                 | 12th… https://t.co/RgySQzc1Tr                      |\n",
            "| 11          | friesforBrice   | went out by myself today. 2 malls, no way home,    |\n",
            "|             |                 | burger king, 2 sticks :))) feeling good good :)))  |\n",
            "|             |                 | haven't done this in awhile :)))                   |\n",
            "| 10          | RPTexan         | @GoodmanHoops Stella's for good meal; Caprock (2   |\n",
            "|             |                 | locations) for burgers; Jazz for Cajun, Triple J   |\n",
            "|             |                 | for good meal, Ca… https://t.co/b2FLuWXvEj         |\n",
            "| 8           | diffusemoose    | @KibblesTheHusky @Biff_the_Moose @bumbl3_          |\n",
            "|             |                 | @GustShrugs @TkCoyote @BastianSnugs @NekoHaiku     |\n",
            "|             |                 | @ItsIanWatson @sonicgott L…                        |\n",
            "|             |                 | https://t.co/uYHF8PE30H                            |\n",
            "| 8           | darkindapark    | I think tonight I'll Lab burger dad :)             |\n",
            "| 8           | WusdisWusdat    | flips the burger patties in the pan with my bare   |\n",
            "|             |                 | hands because i have a caveman braincell :)        |\n",
            "| 8           | ReflectionsArt1 | gm fam :)                                          |\n",
            "|             |                 | i'm so hungover fml, i need a coffee drip and all  |\n",
            "|             |                 | the burgers in the world.                          |\n",
            "+-------------+-----------------+----------------------------------------------------+\n"
          ]
        }
      ]
    },
    {
      "cell_type": "markdown",
      "source": [
        "Unfortunately, upon closer examination of most liked and retweeted accounts that are related to burgers, we decided that this may be a poor tactic for determining accounts for advertisement. Unfortunately, most liked and most retweeted tweets that contain the word burger, are often related to something other than a burger."
      ],
      "metadata": {
        "id": "lHFjuJ1EdeZi"
      }
    },
    {
      "cell_type": "markdown",
      "metadata": {
        "id": "tD6h0TglY6Dv"
      },
      "source": [
        "*-----------------\n",
        "# Done\n",
        "\n",
        "All set! \n",
        "\n",
        "** What do you need to submit?**\n",
        "\n",
        "* **Notebook File**: Save this IPython notebook, and find the notebook file in your folder (for example, \"filename.ipynb\"). This is the file you need to submit. Please make sure all the plotted tables and figures are in the notebook. If you used \"ipython notebook --pylab=inline\" to open the notebook, all the figures and tables should have shown up in the notebook.\n",
        "\n",
        "\n",
        "* **PPT Slides**: please prepare PPT slides (for 15 minutes' talk) to present about the case study . We will ask *all* teams to present their case studies in class for this case study. \n",
        "\n",
        "* **Report**: please prepare a report (less than 10 pages) to report what you found in the data.\n",
        "    * What data you collected? \n",
        "    * Why this topic is interesting or important to you? (Motivations)\n",
        "    * How did you analyse the data?\n",
        "    * What did you find in the data? \n",
        " \n",
        "     (please include figures or tables in the report, but no source code)\n",
        "\n",
        "Please compress all the files in a zipped file.\n",
        "\n",
        "\n",
        "** How to submit: **\n",
        "\n",
        "        Please submit through canvas.wpi.edu\n",
        "\n"
      ]
    },
    {
      "cell_type": "markdown",
      "metadata": {
        "id": "-FvDoMzSY6Dv"
      },
      "source": [
        "# Grading Criteria:\n",
        "\n",
        "**Totoal Points: 100**\n",
        "\n",
        "\n",
        "---------------------------------------------------------------------------\n",
        "**Notebook results:**\n",
        "    Points: 80\n",
        "\n",
        "\n",
        "    -----------------------------------\n",
        "    Question 1:\n",
        "    Points: 20\n",
        "    -----------------------------------\n",
        "    \n",
        "    -----------------------------------\n",
        "    Question 2:\n",
        "    Points: 20\n",
        "    -----------------------------------\n",
        "        \n",
        "    -----------------------------------\n",
        "    Question 3:\n",
        "    Points: 20\n",
        "    -----------------------------------\n",
        "  \n",
        "    -----------------------------------\n",
        "    Question 4:  Business question\n",
        "    Points: 20\n",
        "    -----------------------------------\n",
        "\n",
        "\n",
        "---------------------------------------------------------------------------\n",
        "**Slides (for 5-10 minutes of presentation): Story-telling**\n",
        "    Points: 20\n",
        "\n",
        "\n",
        "1. Motivation about the data collection, why the topic is interesting to you.\n",
        "    Points: 5 \n",
        "\n",
        "2. Communicating Results (figure/table)\n",
        "    Points: 10 \n",
        "\n",
        "3. Story telling (How all the parts (data, analysis, result) fit together as a story?)\n",
        "    Points: 5 \n"
      ]
    },
    {
      "cell_type": "code",
      "execution_count": 43,
      "metadata": {
        "id": "2Wy1xam0Y6Dw"
      },
      "outputs": [],
      "source": [
        ""
      ]
    }
  ],
  "metadata": {
    "anaconda-cloud": {},
    "kernel_info": {
      "name": "python3"
    },
    "kernelspec": {
      "display_name": "Python 3",
      "language": "python",
      "name": "python3"
    },
    "language_info": {
      "codemirror_mode": {
        "name": "ipython",
        "version": 3
      },
      "file_extension": ".py",
      "mimetype": "text/x-python",
      "name": "python",
      "nbconvert_exporter": "python",
      "pygments_lexer": "ipython3",
      "version": "3.8.5"
    },
    "nteract": {
      "version": "0.2.0"
    },
    "colab": {
      "name": "CaseStudy2_MongoDB.ipynb",
      "provenance": [],
      "include_colab_link": true
    }
  },
  "nbformat": 4,
  "nbformat_minor": 0
}