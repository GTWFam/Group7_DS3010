{
  "cells": [
    {
      "cell_type": "markdown",
      "metadata": {
        "id": "view-in-github",
        "colab_type": "text"
      },
      "source": [
        "<a href=\"https://colab.research.google.com/github/GTWFam/Group7_DS3010/blob/main/CaseStudy2_MongoDB.ipynb\" target=\"_parent\"><img src=\"https://colab.research.google.com/assets/colab-badge.svg\" alt=\"Open In Colab\"/></a>"
      ]
    },
    {
      "cell_type": "markdown",
      "metadata": {
        "id": "IQZqJy0gY6Dl"
      },
      "source": [
        "# Case Study 2 : Putting Twitter Data into the Cloud\n",
        "\n",
        "Due Date: 2/15/2020, **BEFORE the beginning of class at 2:00pm EST**\n",
        "\n",
        "## **NOTE: There are *always* last minute issues submitting the case studies.  DO NOT WAIT UNTIL THE LAST MINUTE!**"
      ]
    },
    {
      "cell_type": "markdown",
      "metadata": {
        "id": "JyNhpJN5Y6Dn"
      },
      "source": [
        "<a title=\"Fabián Alexis [CC BY-SA (https://creativecommons.org/licenses/by-sa/3.0)]\" href=\"https://commons.wikimedia.org/wiki/File:Antu_mongodb.svg\"><img width=\"50\" alt=\"Antu mongodb\" src=\"https://upload.wikimedia.org/wikipedia/commons/thumb/f/f9/Antu_mongodb.svg/512px-Antu_mongodb.svg.png\"></a>"
      ]
    },
    {
      "cell_type": "markdown",
      "metadata": {
        "id": "DhXEvLb5Y6Do"
      },
      "source": [
        "**TEAM Members:** Please EDIT this cell and add the names of all the team members in your team\n",
        "\n",
        "    Jacob Bissonette\n",
        "    Austin Franklin \n",
        "    Yuriy Kamenivskyy \n",
        "    Garrett McMerriman\n",
        "    Bill Hoang Pham"
      ]
    },
    {
      "cell_type": "markdown",
      "metadata": {
        "id": "IdtCbjp9Y6Do"
      },
      "source": [
        "**Don't forget!**\n",
        "* You will need to install the pymongo library to access MongoDB\n",
        " * pip install pymongo\n",
        "* You will also need to install dnspython to access the cloud version of MongoDB\n",
        " * pip install dnspython\n",
        "\n",
        "** NOTE **\n",
        "* **Please don't forget to save the notebook frequently when working in IPython Notebook, otherwise the changes you made can be lost**."
      ]
    },
    {
      "cell_type": "markdown",
      "metadata": {
        "id": "1R87hP_pY6Dq"
      },
      "source": [
        "# Problem 1 (20 points):  Get a cloud database account using MongoDB Atlas"
      ]
    },
    {
      "cell_type": "markdown",
      "metadata": {
        "id": "Q10TAFcOY6Dq"
      },
      "source": [
        "Get a free cloud hosted MongoDB database account at https://www.mongodb.com/atlas/database.  You will need to: \n",
        "\n",
        "* Create a database cluster using the MongoDB web interface\n",
        "* Get your MongoDB credentials\n",
        "* Create a document collection in MongoBD\n"
      ]
    },
    {
      "cell_type": "markdown",
      "metadata": {
        "id": "7dOckKukY6Ds"
      },
      "source": [
        "# Problem 2 (20 points):  Read Twitter data into your cloud MongoDB database"
      ]
    },
    {
      "cell_type": "markdown",
      "metadata": {
        "id": "-yQgleDnY6Ds"
      },
      "source": [
        "Gather Twitter data and upload it to your cloud database.  You will need to:\n",
        "\n",
        "* Get your cloubd MongoDB credentials using the MongoDB web interface\n",
        "* Insert those credentials into your Juypyter notebook using pymongo\n",
        "* Gather Twitter data as in Case Study 1\n",
        "* Upload your Twitter data to the MongoDB cloud document collection\n",
        "\n",
        "Note, to do you this question remember that you will need *two sets of credentials*\n",
        "\n",
        "* One set for the MongoDB Atlas database\n",
        "* One set for the Twitter developed API\n",
        "\n",
        "Of course, there are not the same!"
      ]
    },
    {
      "cell_type": "code",
      "source": [
        "! pip install pymongo\n",
        "! pip install dnspython\n"
      ],
      "metadata": {
        "id": "zHd0WyWXrT7g",
        "outputId": "b726b34d-6803-4c9c-a2d2-8883bee3518b",
        "colab": {
          "base_uri": "https://localhost:8080/"
        }
      },
      "execution_count": 1,
      "outputs": [
        {
          "output_type": "stream",
          "name": "stdout",
          "text": [
            "Requirement already satisfied: pymongo in /usr/local/lib/python3.7/dist-packages (4.0.1)\n",
            "Collecting dnspython\n",
            "  Downloading dnspython-2.2.0-py3-none-any.whl (266 kB)\n",
            "\u001b[K     |████████████████████████████████| 266 kB 5.5 MB/s \n",
            "\u001b[?25hInstalling collected packages: dnspython\n",
            "Successfully installed dnspython-2.2.0\n"
          ]
        }
      ]
    },
    {
      "cell_type": "code",
      "execution_count": 2,
      "metadata": {
        "id": "MO0paphxY6Dq",
        "outputId": "a27e8923-7e71-4a00-ffd5-f0ec3e6d624d",
        "colab": {
          "base_uri": "https://localhost:8080/"
        }
      },
      "outputs": [
        {
          "output_type": "stream",
          "name": "stdout",
          "text": [
            "Mounted at /content/drive\n"
          ]
        }
      ],
      "source": [
        "#----------------------------------------------\n",
        "# Your code starts here\n",
        "#   Please add comments or text cells in between to explain the general idea of each block of the code.\n",
        "#   Please feel free to add more cells below this cell if necessary\n",
        "import pymongo\n",
        "import json\n",
        "\n",
        "from google.colab import drive\n",
        "\n",
        "drive.mount('/content/drive')\n",
        "\n",
        "data = {}\n",
        "    \n",
        "# Extracting the saved credentials from the drive\n",
        "with open('drive/MyDrive/ds3010_2022/credentials.txt', 'r') as f:\n",
        "    data = json.load(f)\n",
        "CONSUMER_KEY = data[\"consumer_key\"]\n",
        "CONSUMER_SECRET = data[\"consumer_secret\"]\n",
        "OAUTH_TOKEN = data[\"oauth_token\"]\n",
        "OAUTH_TOKEN_SECRET = data[\"oauth_token_secret\"]\n",
        "mongodb_url = data[\"mongodb_url\"]\n",
        "\n",
        "client = pymongo.MongoClient(mongodb_url)\n"
      ]
    },
    {
      "cell_type": "code",
      "source": [
        "# Getting the Database and Collection from MongoDB\n",
        "db = client['DS3010']\n",
        "coll = db['CS2']"
      ],
      "metadata": {
        "id": "w1p9Z5f3sctw"
      },
      "execution_count": 3,
      "outputs": []
    },
    {
      "cell_type": "code",
      "source": [
        "! pip install twitter"
      ],
      "metadata": {
        "id": "qD5dgzJlsTIC",
        "outputId": "8342298a-a823-4d40-a516-36b938df142f",
        "colab": {
          "base_uri": "https://localhost:8080/"
        }
      },
      "execution_count": 4,
      "outputs": [
        {
          "output_type": "stream",
          "name": "stdout",
          "text": [
            "Collecting twitter\n",
            "  Downloading twitter-1.19.3-py2.py3-none-any.whl (50 kB)\n",
            "\u001b[?25l\r\u001b[K     |██████▌                         | 10 kB 25.7 MB/s eta 0:00:01\r\u001b[K     |█████████████                   | 20 kB 14.9 MB/s eta 0:00:01\r\u001b[K     |███████████████████▋            | 30 kB 10.7 MB/s eta 0:00:01\r\u001b[K     |██████████████████████████      | 40 kB 9.4 MB/s eta 0:00:01\r\u001b[K     |████████████████████████████████| 50 kB 2.8 MB/s \n",
            "\u001b[?25hInstalling collected packages: twitter\n",
            "Successfully installed twitter-1.19.3\n"
          ]
        }
      ]
    },
    {
      "cell_type": "code",
      "execution_count": 26,
      "metadata": {
        "id": "my4IUYVvY6Ds"
      },
      "outputs": [],
      "source": [
        "#----------------------------------------------\n",
        "# Your code starts here\n",
        "#   Please add comments or text cells in between to explain the general idea of each block of the code.\n",
        "#   Please feel free to add more cells below this cell if necessary\n",
        "import twitter\n",
        "\n",
        "# See https://dev.twitter.com/docs/auth/oauth for more information \n",
        "# on Twitter's OAuth implementation.\n",
        "\n",
        "auth = twitter.oauth.OAuth(OAUTH_TOKEN, OAUTH_TOKEN_SECRET,\n",
        "                           CONSUMER_KEY, CONSUMER_SECRET)\n",
        "\n",
        "twitter_api = twitter.Twitter(auth=auth)"
      ]
    },
    {
      "cell_type": "code",
      "source": [
        "query = \"macbook pro 2021\"\n",
        "\n",
        "data = twitter_api.search.tweets(q=query, lang='en', count=100)\n",
        "\n",
        "min_id = data['statuses'][-1]['id']\n",
        "for i in range(7):\n",
        "    tweets = twitter_api.search.tweets(q=query, lang='en', max_id=min_id, count=100)\n",
        "    min_id = tweets['statuses'][-1]['id']\n",
        "    data['statuses'] += tweets['statuses']\n"
      ],
      "metadata": {
        "id": "8DgXTFziu12O"
      },
      "execution_count": 27,
      "outputs": []
    },
    {
      "cell_type": "code",
      "source": [
        "statuses = data['statuses']\n",
        "coll.drop()\n",
        "_ = coll.insert_many(statuses)"
      ],
      "metadata": {
        "id": "2ZdWGUR2vqZu"
      },
      "execution_count": 28,
      "outputs": []
    },
    {
      "cell_type": "markdown",
      "metadata": {
        "id": "Ui6DxP0lY6Dt"
      },
      "source": [
        "# Problem 3 (20 points):  Use a regular expression to read a subset of your Tweets out of MongoDB"
      ]
    },
    {
      "cell_type": "markdown",
      "metadata": {
        "id": "63qOpjc9Y6Dt"
      },
      "source": [
        "Use regular expressions to analyze properties of your data.  For example, you can \n",
        "\n",
        "* search for trends that have a large volume, \n",
        "* search for tweets with geotags, \n",
        "* search for tweets that can contain a certain string,\n",
        "* anything else you think might be useful for a product!"
      ]
    },
    {
      "cell_type": "code",
      "execution_count": 29,
      "metadata": {
        "id": "5W_39LCaY6Du",
        "outputId": "d7925343-329f-49ee-fddb-1274e4fb3a6f",
        "colab": {
          "base_uri": "https://localhost:8080/"
        }
      },
      "outputs": [
        {
          "output_type": "stream",
          "name": "stdout",
          "text": [
            "Client’s MacBook Pro 14” 2021 model/16GB Ram/512GB SSD M1Pro chip - Ready 4 delivery/ More of this Still in stock… https://t.co/AzX70Jcqfh\n",
            "Nah!!! Apple is Goated for their User Experience\n",
            "\n",
            "Might fuck around and drop an extra $5K+ to pick up an iMac and u… https://t.co/22SciRqcZY\n",
            "This season, @xendfinance is giving out a brand new MacBook pro 2021, and a prize pool of $2,000, to 20 savers \n",
            "\n",
            "To… https://t.co/8bqmdhSbYb\n",
            "New saving challenge:\n",
            "\n",
            "You save N3,000 every day from now till February 28th, and at the end, you win a MacBook Pro… https://t.co/2YFPEiTmXY\n",
            "The battery life on the 2021 Macbook Pro is wild y'all... I've been using my computer for an hour &amp; it still says t… https://t.co/vtoMoLyDj5\n",
            "In the spirit of love &amp; financial responsibility, @xendfinance is giving out a BRAND NEW MacBook Pro 2021, and priz… https://t.co/YPXNlAV5sZ\n",
            "The 2021 MacBook pro is such a beautiful and powerful machine 🥰\n",
            "\n",
            "AND @Xendfinance WANTS TO DASH YOU A BRAND NEW ONE… https://t.co/k9XnLj3KYa\n",
            "Client’s MacBook Pro 13inch/512GB SSD/ 2021 model delivered / Thank u Signum Advocates 4 the orders\n",
            "\n",
            "Contact us for… https://t.co/6c2BasfiSX\n"
          ]
        }
      ],
      "source": [
        "#----------------------------------------------\n",
        "# Your code starts here\n",
        "#   Please add comments or text cells in between to explain the general idea of each block of the code.\n",
        "#   Please feel free to add more cells below this cell if necessary\n",
        "\n",
        "query = { \"favorite_count\": { \"$gt\": 20 } }\n",
        "cursor = coll.find(query)\n",
        "\n",
        "for tweet in cursor:\n",
        "    print(tweet['text'])"
      ]
    },
    {
      "cell_type": "markdown",
      "source": [
        "### There are no tweets that has a geotag"
      ],
      "metadata": {
        "id": "yr-d93Db4iUX"
      }
    },
    {
      "cell_type": "code",
      "source": [
        "query2 = { \"geo\": { \"$ne\": None } }\n",
        "cursor = coll.find(query2)\n",
        "\n",
        "for tweet in cursor:\n",
        "    print(tweet['text'])"
      ],
      "metadata": {
        "id": "CPd_H_VX7lDD"
      },
      "execution_count": 30,
      "outputs": []
    },
    {
      "cell_type": "code",
      "source": [
        "query3 = { \"text\": { '$regex': '^.*cool.*$', '$options': 'si' } }\n",
        "cursor = coll.find(query3)\n",
        "\n",
        "for tweet in cursor:\n",
        "    print(tweet['text'])"
      ],
      "metadata": {
        "colab": {
          "base_uri": "https://localhost:8080/"
        },
        "id": "zkvtx5Z242yQ",
        "outputId": "d288d02e-87ec-4b62-9534-29792aaaaa58"
      },
      "execution_count": 31,
      "outputs": [
        {
          "output_type": "stream",
          "name": "stdout",
          "text": [
            "TECOOL Custodia per 2021 MacBook Pro 14, MacBook Air/Pro 13, 13,5 Surface Laptop, 14” Huawei Matebook, ASUS Zenbook… https://t.co/H9wSWkPrpD\n"
          ]
        }
      ]
    },
    {
      "cell_type": "code",
      "source": [
        "query4 = { \"text\": { '$regex': '^.*battery.*$', '$options': 'si' } }\n",
        "cursor = coll.find(query4)\n",
        "\n",
        "for tweet in cursor:\n",
        "    print(tweet['text'])"
      ],
      "metadata": {
        "id": "DGwFPOgWAOB7",
        "outputId": "7061a9ee-b575-4104-c137-0791b9b7ab98",
        "colab": {
          "base_uri": "https://localhost:8080/"
        }
      },
      "execution_count": 11,
      "outputs": [
        {
          "output_type": "stream",
          "name": "stdout",
          "text": [
            "Apple’s 2021 MacBook Pro Lasts 60% Longer Than the Best High-End Notebook’s Battery Timing, Claims New Test https://t.co/q6gxK4gRQ0\n",
            "RT @wccftech: Apple’s 2021 MacBook Pro Lasts 60% Longer Than the Best High-End Notebook’s Battery Timing, Claims New Test https://t.co/NFvB…\n",
            "Apple’s 2021 MacBook Pro Lasts 60% Longer Than the Best High-End Notebook’s Battery Timing, Claims New Test https://t.co/AQlBlbz7rj\n",
            "Apple’s 2021 MacBook Pro Lasts 60% Longer Than the Best High-End Notebook’s Battery Timing, Claims New Test… https://t.co/WhbFZLMDud\n",
            "Design and battery life favour the 2021 edition of the Microsoft #SurfaceProX but the Apple Macbook Pro and Air may… https://t.co/4wJ2VPFauQ\n",
            "RT @Mint_Lounge: Design and battery life favour the 2021 edition of the Microsoft #SurfaceProX but the Apple Macbook Pro and Air may prove…\n",
            "RT @Mint_Lounge: Design and battery life favour the 2021 edition of the Microsoft #SurfaceProX but the Apple Macbook Pro and Air may prove…\n",
            "Two weeks used \n",
            "Battery Cycle Count 12 \n",
            "2021 MacBook Pro \n",
            "14 inch 16 GB 512 SSD \n",
            "Box with accessories\n",
            "Cool offer @… https://t.co/qtzSPqoWtR\n",
            "Design and battery life favour the 2021 edition of the Microsoft #SurfaceProX but the Apple Macbook Pro and Air may… https://t.co/pJA2MHv28f\n",
            "Design and battery life favour the 2021 edition of the Microsoft Surface Pro X but the Apple Macbook Pro and Air ma… https://t.co/wLZMrrGdit\n",
            "RT @Mint_Lounge: Design and battery life favour the 2021 edition of the Microsoft #SurfaceProX but the Apple Macbook Pro and Air may prove…\n",
            "Design and battery life favour the 2021 edition of the Microsoft #SurfaceProX but the Apple Macbook Pro and Air may… https://t.co/4NKBT9qqkT\n",
            "Design and battery life favour the 2021 edition of the Microsoft #SurfaceProX but the Apple Macbook Pro and Air may… https://t.co/PUsmVKetyC\n",
            "Apple MacBook Pro 15\" RAM,  Battery and trackpad replacement.  Apple Expert SA - ZA Support Apple Specialist South… https://t.co/58XvQ6qIKL\n",
            "Apple MacBook Pro 15\" Battery and trackpad replacement.  Apple Expert SA - ZA Support Apple Specialist South Africa… https://t.co/Bs8vtk8Nnd\n"
          ]
        }
      ]
    },
    {
      "cell_type": "markdown",
      "metadata": {
        "collapsed": true,
        "id": "n0iZmkh7Y6Du"
      },
      "source": [
        "# Problem 4 (20 points): Business question \n",
        "\n",
        "Run some additional experiments with your data to gain familiarity with the MongoDB.\n",
        "\n",
        "* Come up with a business question that Twitter data and MongoDB could help answer.\n",
        "* Decribe the business case.\n",
        "* How could MongoDB help a company to scale up its computation environment?"
      ]
    },
    {
      "cell_type": "markdown",
      "source": [
        "Our business lies in helping entrepreneurs better understand their market using twitter data, prior to them making an investing decision. Our research model is flexible and can be used to research just about any topic.\n",
        "\n",
        "The model is the following: \n",
        "1. We determine the market's underserved needs by analyzing negative sentiment tweets related to the business of choice. After collecting all negative sentiment tweets, we determine the most frequently occuring words, and then search for tweets containing these words to get an idea of what the problem / underserved need may be.\n",
        "2. We determine the market's table stakes–– needs that are satisfied by all the other competitors, and thus have to be satisfied by us as well–– to do this we follow an identical algorithm to problem 1, but now we query for tweets with a positive sentiment.\n",
        "3. We identify the creators of most liked and most retweeted positive tweets; and then look for overlapping accounts that they follow. These accounts will be our primary contacts for targeted advertisement of the new product.\n",
        "\n",
        "MongoDB helps us organize this data into different collection and use regular expressions to query data efficiently and accurately."
      ],
      "metadata": {
        "id": "X9QQ8ONpeJgh"
      }
    },
    {
      "cell_type": "markdown",
      "source": [
        "**1. Researching Negative attitude tweets. Pushing to a MongoDB dbs. Looking for most frequent words. Looking for tweets with a geotag to see if we can determine where did negative attitudes come from. Listing 10 sentences where each of the most frequent words occurs to get the idea of what people are unhappy about.**"
      ],
      "metadata": {
        "id": "pzjdfWPeYBkY"
      }
    },
    {
      "cell_type": "code",
      "execution_count": 12,
      "metadata": {
        "id": "Q_JRP_b5Y6Dv",
        "colab": {
          "base_uri": "https://localhost:8080/"
        },
        "outputId": "9203a403-fa55-4ce1-b016-5f94eb3c1625"
      },
      "outputs": [
        {
          "output_type": "stream",
          "name": "stdout",
          "text": [
            "194\n"
          ]
        }
      ],
      "source": [
        "# Negative attitudes\n",
        "query1 = 'burger OR burgers :( -filter:retweets'\n",
        "\n",
        "data1 = twitter_api.search.tweets(q=query1, lang='en', count=100)\n",
        "\n",
        "min_id = data1['statuses'][-1]['id']\n",
        "for i in range(10):\n",
        "    tweets = twitter_api.search.tweets(q=query1, lang='en', max_id=min_id, count=100)\n",
        "    min_id = tweets['statuses'][-1]['id']\n",
        "    data1['statuses'] += tweets['statuses']\n",
        "\n",
        "statuses1 = data1['statuses']\n",
        "print(len(statuses1))\n",
        "coll_neg = db['cs2_coll_neg']\n",
        "# coll_neg.drop()\n",
        "# _ = coll_neg.insert_many(statuses1)"
      ]
    },
    {
      "cell_type": "code",
      "source": [
        "# Similar to Case Study 1, looking at most common words\n",
        "\n",
        "import re\n",
        "exclude = ['rt', 'in', 'the', 'for','of', 'to', 'and', 'a', 'is', 'are', 'on', 'from', 'that', 'this', 'these', 'with', 'what', 'it', 'if', 'or', 'but', 'your', 'be', 'you', 'my', 'at', 'd', 'its', 'i', 'so', 'was', 'he', 'me', 'no', 'about']\n",
        "\n",
        "tweet_texts_neg = [ re.sub(r\"[^\\w\\s'#@]\", \"\", tweets['text']) for tweets in statuses1 ]\n",
        "print(tweet_texts_neg[0])\n",
        "words_neg = [ w for t in tweet_texts_neg for w in t.lower().split() ]\n",
        "words_neg = list(filter(lambda x: x not in exclude, words_neg))\n",
        "print(words_neg[1])"
      ],
      "metadata": {
        "id": "w6eMTHwBUqgT",
        "outputId": "6037866d-8992-4911-9801-4fd5490fd53d",
        "colab": {
          "base_uri": "https://localhost:8080/"
        }
      },
      "execution_count": 13,
      "outputs": [
        {
          "output_type": "stream",
          "name": "stdout",
          "text": [
            "P Terrys got rid of their hatch green chile burger \n",
            "terrys\n"
          ]
        }
      ]
    },
    {
      "cell_type": "code",
      "source": [
        "from prettytable import PrettyTable\n",
        "from collections import Counter\n",
        "\n",
        "c = Counter(words_neg)\n",
        "top_words_neg = c.most_common()[:10]\n",
        "print(top_words_neg) # top 10\n",
        "\n",
        "pt = PrettyTable(field_names=['Word', 'Count'])\n",
        "[ pt.add_row(kv) for kv in c.most_common()[:10] ]\n",
        "pt.align['Word'], pt.align['Count'] = 'l', 'r'\n",
        "print(pt)"
      ],
      "metadata": {
        "id": "G4TVsj3fVX5K",
        "outputId": "9bbee307-b5a4-460c-abbb-2f6d1a842afc",
        "colab": {
          "base_uri": "https://localhost:8080/"
        }
      },
      "execution_count": 14,
      "outputs": [
        {
          "output_type": "stream",
          "name": "stdout",
          "text": [
            "[('burger', 154), ('burgers', 23), ('like', 20), ('one', 19), ('im', 19), ('want', 17), ('there', 17), ('king', 16), ('had', 14), ('bacon', 14)]\n",
            "+---------+-------+\n",
            "| Word    | Count |\n",
            "+---------+-------+\n",
            "| burger  |   154 |\n",
            "| burgers |    23 |\n",
            "| like    |    20 |\n",
            "| one     |    19 |\n",
            "| im      |    19 |\n",
            "| want    |    17 |\n",
            "| there   |    17 |\n",
            "| king    |    16 |\n",
            "| had     |    14 |\n",
            "| bacon   |    14 |\n",
            "+---------+-------+\n"
          ]
        }
      ]
    },
    {
      "cell_type": "code",
      "source": [
        "# Attempt to look for negative sentiment tweets with a geo-tag. Might give us an idea of where competitors fail or make bad burgers\n",
        "query_neg1 = { \"geo\": { '$ne': None } }\n",
        "cursor = coll_neg.find(query_neg1)\n",
        "\n",
        "for tweet in cursor:\n",
        "    print(tweet['text'])"
      ],
      "metadata": {
        "id": "djfhuFZISA1t"
      },
      "execution_count": 15,
      "outputs": []
    },
    {
      "cell_type": "code",
      "source": [
        "# Looking at tweets that have the most used words\n",
        "for combo in top_words_neg:\n",
        "    print(combo[0])\n",
        "    query = { \"text\": { '$regex': '^.* '+ combo[0] + ' .*$', '$options': 'si' } }\n",
        "    cursor = coll_neg.find(query)\n",
        "    i = 0\n",
        "    # Printing first 10 tweets\n",
        "    for tweet in cursor:\n",
        "        if \"@winnersusedrugs\" in tweet['text']:\n",
        "            continue\n",
        "        if i >= 10:\n",
        "            break\n",
        "        print(tweet['text'], '\\n')\n",
        "        i += 1\n",
        "\n",
        "    print(\"-\"*100)"
      ],
      "metadata": {
        "id": "YORgp_sIbIB0",
        "outputId": "a424bff4-9763-48fd-b125-0ed5f1756ca5",
        "colab": {
          "base_uri": "https://localhost:8080/"
        }
      },
      "execution_count": 25,
      "outputs": [
        {
          "output_type": "stream",
          "name": "stdout",
          "text": [
            "burger\n",
            "P. Terry’s got rid of their hatch green chile burger :( \n",
            "\n",
            "I hate my bf rn, he ate my burger I’ve been saving all night bc I was drunk :( \n",
            "\n",
            "shadow dedede update! Hammed burger :( \n",
            "\n",
            "i had a burger yest :( https://t.co/JROObe7Bke \n",
            "\n",
            "hobi is eating a burger i want one too :( \n",
            "\n",
            "Wanted to try the @JackBox Heinz Dip and Crunch Bacon Cheeseburger tonight - ended up with a dry burger and no dip… https://t.co/D75PKV7ngh \n",
            "\n",
            "@Harry1T6 I LOVE Burger Priest, I would have got it instead but I just had it yesterday lmao. My go to is the Doubl… https://t.co/V3s8EPmUZa \n",
            "\n",
            "Checking Etsy to see if anyone's made the burger shirt from the cover of Nona the Ninth yet. Can't find one. :( \n",
            "\n",
            "@bludsex burger king :( https://t.co/Rs1SFNwcxf \n",
            "\n",
            "til to melt vegan cheese on ur burger in the oven bc otherwise it will slide away :( \n",
            "\n",
            "----------------------------------------------------------------------------------------------------\n",
            "burgers\n",
            "@imnickintl I've mainly had their pasta and It was bad :( and the burgers ok! \n",
            "\n",
            "@kbbyhoon but I want to flip burgers :( \n",
            "\n",
            "Come on I need burgers I'm starving :( https://t.co/JKttxdNyr1 \n",
            "\n",
            "@ayarane I wish I knew earlier before I chose burgers :( \n",
            "\n",
            "I’m in hospital because I ate the chuckle sandwich burgers :( /j \n",
            "\n",
            "wdym lee know intentionally bought two burgers and saved one for hyunjin because gordon ramsay’s restaurants doesn’… https://t.co/wDKqo196ap \n",
            "\n",
            "@juzaluna okay but their burgers are good :(( \n",
            "\n",
            "@BAYC2745 Is it allowed to flip burgers tho? :( \n",
            "\n",
            "\"Unfair.\" :(\n",
            "\n",
            "Sad vampire noises, she wished she could eat burgers in the morning https://t.co/yPS0ceKfPl \n",
            "\n",
            "I haven’t watched Bob’s Burgers in many days :( \n",
            "\n",
            "----------------------------------------------------------------------------------------------------\n",
            "like\n",
            "@bluberrycream Oh no poor boy :( Holds Springter gently like hammed burger :( \n",
            "\n",
            "I feel like a burger :( \n",
            "\n",
            "I like earthbound but all I do is lose hp. I know it’s america but why is the healthcare so expensive :( guess I’ll just eated a burger \n",
            "\n",
            "@MYRIDOFFICIAL @jedwill1999 those are the thickest hot dog buns i've ever seen in my life :( they're like long burger buns im scared \n",
            "\n",
            "@strwbrryrabbit It’s not like the burger making things I’m just making fruit salads n shit :( \n",
            "\n",
            "Why is there burger slander on my tl :( I like everything on my burger!!! \n",
            "\n",
            "@lesmis456 Depends. Do you want to bite into potatowedges and feel like ur eating a whole potato? Loblaws. You want… https://t.co/ZBxBTxIGs1 \n",
            "\n",
            "@lwashburn2 i used to get the one at mcnellies until i had one that tasted like they used plantains that were too r… https://t.co/N3NwIpaXUV \n",
            "\n",
            "@Chilly_Pat I actually don’t like any sort of fish :( I’ll try the nugget burger tho \n",
            "\n",
            "yikes im sorry anon &lt;/3 i dont like pickles too they destroy the whole entire burger/sandwich sometimes :( but you… https://t.co/356Bfw0iCO \n",
            "\n",
            "----------------------------------------------------------------------------------------------------\n",
            "one\n",
            "hobi is eating a burger i want one too :( \n",
            "\n",
            "wdym lee know intentionally bought two burgers and saved one for hyunjin because gordon ramsay’s restaurants doesn’… https://t.co/wDKqo196ap \n",
            "\n",
            "@SquishyBlooper Jojo now i want a burger and its your fault buy me one now pls :( \n",
            "\n",
            "hoshi, you made me crave for burger :(( now parcel me one RN :&lt; \n",
            "\n",
            "@lwashburn2 i used to get the one at mcnellies until i had one that tasted like they used plantains that were too r… https://t.co/N3NwIpaXUV \n",
            "\n",
            "@BookitHQ @Wendys @CSUMBasketball It was a rough night only could get one burger :( \n",
            "\n",
            "@winnersusedrugs I was once at a burger restaurant with a Muslim colleague. There was one with bacon and a beyond m… https://t.co/UreBaYgDg2 \n",
            "\n",
            "@winnersusedrugs I was once at a burger restaurant with a Muslim colleague. There was one with bacon and a beyond m… https://t.co/UreBaYgDg2 \n",
            "\n",
            "@winnersusedrugs I was once at a burger restaurant with a Muslim colleague. There was one with bacon and a beyond m… https://t.co/UreBaYgDg2 \n",
            "\n",
            "@winnersusedrugs I was once at a burger restaurant with a Muslim colleague. There was one with bacon and a beyond m… https://t.co/UreBaYgDg2 \n",
            "\n",
            "----------------------------------------------------------------------------------------------------\n",
            "im\n",
            "@MYRIDOFFICIAL @jedwill1999 those are the thickest hot dog buns i've ever seen in my life :( they're like long burger buns im scared \n",
            "\n",
            "@howhighcanufly HEHE YAAAAY WENDYS WAT DID U GET FROM THERE? IM@GONNA GUESS A BURGER.. ALSO IM GOOD! im bORED JUST… https://t.co/rBRdLjEnfT \n",
            "\n",
            "yikes im sorry anon &lt;/3 i dont like pickles too they destroy the whole entire burger/sandwich sometimes :( but you… https://t.co/356Bfw0iCO \n",
            "\n",
            "@Grande_hii Im honestly not that big of a picky eater, but the burger was cold, the chicken wasnt well cooked AT AL… https://t.co/7VbFbHBXpJ \n",
            "\n",
            "----------------------------------------------------------------------------------------------------\n",
            "want\n",
            "hobi is eating a burger i want one too :( \n",
            "\n",
            "@kbbyhoon but I want to flip burgers :( \n",
            "\n",
            "@HwanniePromotes i want to eat burger and share it with fam :(( \n",
            "\n",
            "i want sum burger king but they closed :( \n",
            "\n",
            "@SquishyBlooper Jojo now i want a burger and its your fault buy me one now pls :( \n",
            "\n",
            "@Justaethan oh okay :( i have a burger 🍔🍔 also do you want that? \n",
            "\n",
            "i want a burger :(( \n",
            "\n",
            "@lesmis456 Depends. Do you want to bite into potatowedges and feel like ur eating a whole potato? Loblaws. You want… https://t.co/ZBxBTxIGs1 \n",
            "\n",
            "i want a burger its 9:37 am :( \n",
            "\n",
            "i want my burger ramly and keropok lekor :( \n",
            "\n",
            "----------------------------------------------------------------------------------------------------\n",
            "there\n",
            "Oh no, I just found this out. There goes my local burger place :( https://t.co/PANnHHWZlG \n",
            "\n",
            "Why is there burger slander on my tl :( I like everything on my burger!!! \n",
            "\n",
            "I eated 2 burger I want third but there is no third burger :(( \n",
            "\n",
            "@PhilJamesson It's right up there with awesomesauce. \n",
            "\n",
            "Feel like in hell every meal is a nothing burger with awesomesauce. :( \n",
            "\n",
            "@sundaesupreeme There is no Burger King here :(\n",
            "Ngl if there were I’d prob try it \n",
            "\n",
            "@winnersusedrugs I was once at a burger restaurant with a Muslim colleague. There was one with bacon and a beyond m… https://t.co/UreBaYgDg2 \n",
            "\n",
            "@winnersusedrugs I was once at a burger restaurant with a Muslim colleague. There was one with bacon and a beyond m… https://t.co/UreBaYgDg2 \n",
            "\n",
            "@winnersusedrugs I was once at a burger restaurant with a Muslim colleague. There was one with bacon and a beyond m… https://t.co/UreBaYgDg2 \n",
            "\n",
            "@winnersusedrugs I was once at a burger restaurant with a Muslim colleague. There was one with bacon and a beyond m… https://t.co/UreBaYgDg2 \n",
            "\n",
            "@winnersusedrugs I was once at a burger restaurant with a Muslim colleague. There was one with bacon and a beyond m… https://t.co/UreBaYgDg2 \n",
            "\n",
            "----------------------------------------------------------------------------------------------------\n",
            "king\n",
            "@bludsex burger king :( https://t.co/Rs1SFNwcxf \n",
            "\n",
            "My body is rejecting Burger King :( \n",
            "\n",
            "@HwanniePromotes Usto ko burger king :( \n",
            "\n",
            "i want sum burger king but they closed :( \n",
            "\n",
            "Im going to need someone to buy me some Burger King and yes idk why I’m craving Burger King out of all things :( \n",
            "\n",
            "@gojosatoruism any time i've tried to have burger king since ive been a teenager, it just gives me the shits afterwards :( \n",
            "\n",
            "@BurgerKing do you still love me burger king :( https://t.co/beExz7mRt4 \n",
            "\n",
            "@camilosroxiie oh :(( burger king instead? 👀 \n",
            "\n",
            "not burger king giving me the wrong order &gt;:((( \n",
            "\n",
            "drive thru worker @ burger king fucked up my order &gt;:((( wanted sammich, got fries &gt;:((((((( \n",
            "\n",
            "----------------------------------------------------------------------------------------------------\n",
            "had\n",
            "i had a burger yest :( https://t.co/JROObe7Bke \n",
            "\n",
            "@imnickintl I've mainly had their pasta and It was bad :( and the burgers ok! \n",
            "\n",
            "@Harry1T6 I LOVE Burger Priest, I would have got it instead but I just had it yesterday lmao. My go to is the Doubl… https://t.co/V3s8EPmUZa \n",
            "\n",
            "@WaYBaORaps u said that was the best burger u ever had &gt;:( \n",
            "\n",
            "@TheFrontBottoms God I wish I had the money :( I’ve had to make my own merch all the time lol but this looks so cool!!!!! \n",
            "\n",
            "@lwashburn2 i used to get the one at mcnellies until i had one that tasted like they used plantains that were too r… https://t.co/N3NwIpaXUV \n",
            "\n",
            "then when i woke up i had to throw the burger and fries in the trash :(((( \n",
            "\n",
            "@nrnvan You're having burger? Should've invited me tho :( i had salad just now which is bland \n",
            "\n",
            "@redrobinburgers I had a bad experience. Actually a no experience. On my birthday nonetheless. Need transparency on… https://t.co/PygMan4OZL \n",
            "\n",
            "@burger_sha @DynamoSuperX I had my vice principal make me dump my ketone strips out and explain to everyone what they were for :( \n",
            "\n",
            "----------------------------------------------------------------------------------------------------\n",
            "bacon\n",
            "Wanted to try the @JackBox Heinz Dip and Crunch Bacon Cheeseburger tonight - ended up with a dry burger and no dip… https://t.co/D75PKV7ngh \n",
            "\n",
            "@atIasboink @ltsAllSunny i never got my 4 for 4 bacon cheese burger and bbq sauce for the nuggets :( \n",
            "\n",
            "Accidentally added bacon instead of cheese on my veggie burger :( why is that even an option I’m gonna kms \n",
            "\n",
            "Wow not only are these “new” fries not hot and crispy, but I ordered 2 big bacon classic combos and got cold burger… https://t.co/8GfO5Bwg48 \n",
            "\n",
            "@winnersusedrugs I was once at a burger restaurant with a Muslim colleague. There was one with bacon and a beyond m… https://t.co/UreBaYgDg2 \n",
            "\n",
            "@winnersusedrugs I was once at a burger restaurant with a Muslim colleague. There was one with bacon and a beyond m… https://t.co/UreBaYgDg2 \n",
            "\n",
            "@winnersusedrugs I was once at a burger restaurant with a Muslim colleague. There was one with bacon and a beyond m… https://t.co/UreBaYgDg2 \n",
            "\n",
            "@winnersusedrugs I was once at a burger restaurant with a Muslim colleague. There was one with bacon and a beyond m… https://t.co/UreBaYgDg2 \n",
            "\n",
            "@winnersusedrugs I was once at a burger restaurant with a Muslim colleague. There was one with bacon and a beyond m… https://t.co/UreBaYgDg2 \n",
            "\n",
            "@winnersusedrugs I was once at a burger restaurant with a Muslim colleague. There was one with bacon and a beyond m… https://t.co/UreBaYgDg2 \n",
            "\n",
            "----------------------------------------------------------------------------------------------------\n"
          ]
        }
      ]
    },
    {
      "cell_type": "markdown",
      "source": [
        "**2. Researching Positive attitude tweets. Pushing to a MongoDB dbs. Looking for most frequent words. Looking for tweets with a geotag to see if we can determine where did positive attitudes come from. Listing 10 sentences where each of the most frequent words occurs to get the idea of what people are unhappy about.**"
      ],
      "metadata": {
        "id": "cQG8PjRVYlTY"
      }
    },
    {
      "cell_type": "code",
      "source": [
        "# Positive attitudes\n",
        "query2 = 'burger OR burgers :) -filter:retweets'\n",
        "\n",
        "data2 = twitter_api.search.tweets(q=query2, lang='en', count=100)\n",
        "\n",
        "min_id = data2['statuses'][-1]['id']\n",
        "for i in range(10):\n",
        "    tweets = twitter_api.search.tweets(q=query2, lang='en', max_id=min_id, count=100)\n",
        "    min_id = tweets['statuses'][-1]['id']\n",
        "    data2['statuses'] += tweets['statuses']\n",
        "\n",
        "statuses2 = data2['statuses']\n",
        "print(len(statuses2))\n",
        "coll_pos = db['cs2_coll_pos']\n",
        "# coll_pos.drop()\n",
        "# _ = coll_pos.insert_many(statuses2)"
      ],
      "metadata": {
        "id": "BQ0P-YVAO6lC",
        "colab": {
          "base_uri": "https://localhost:8080/"
        },
        "outputId": "71130a47-548a-4943-aa2c-8a4132053ceb"
      },
      "execution_count": 17,
      "outputs": [
        {
          "output_type": "stream",
          "name": "stdout",
          "text": [
            "431\n"
          ]
        }
      ]
    },
    {
      "cell_type": "code",
      "source": [
        "tweet_texts_pos = [ re.sub(r\"[^\\w\\s'#@]\", \"\", tweets['text']) for tweets in statuses2 ]\n",
        "print(tweet_texts_pos[0])\n",
        "words_pos = [ w for t in tweet_texts_pos for w in t.lower().split() ]\n",
        "words_pos = list(filter(lambda x: x not in exclude, words_pos))\n",
        "print(words_pos[1])"
      ],
      "metadata": {
        "id": "sj9YLEBLWE43",
        "outputId": "e43818ac-08e4-4a1a-9561-f395db47faa9",
        "colab": {
          "base_uri": "https://localhost:8080/"
        }
      },
      "execution_count": 18,
      "outputs": [
        {
          "output_type": "stream",
          "name": "stdout",
          "text": [
            "@ItsDrMordecai @BurgerKing One of my favorite things to order is a homemade veggie burger  bacon I always get a weird look \n",
            "@burgerking\n"
          ]
        }
      ]
    },
    {
      "cell_type": "code",
      "source": [
        "c = Counter(words_pos)\n",
        "top_words_pos = c.most_common()[:10]\n",
        "print(top_words_pos) # top 10\n",
        "\n",
        "pt = PrettyTable(field_names=['Word', 'Count'])\n",
        "[ pt.add_row(kv) for kv in c.most_common()[:10] ]\n",
        "pt.align['Word'], pt.align['Count'] = 'l', 'r'\n",
        "print(pt)"
      ],
      "metadata": {
        "id": "KAhY3xHFWLee",
        "outputId": "b4f60d78-8669-403b-a124-5832b28e2fc9",
        "colab": {
          "base_uri": "https://localhost:8080/"
        }
      },
      "execution_count": 19,
      "outputs": [
        {
          "output_type": "stream",
          "name": "stdout",
          "text": [
            "[('burger', 248), ('burgers', 113), ('good', 32), ('king', 32), ('have', 30), ('like', 29), ('we', 27), ('just', 26), ('had', 24), ('get', 23)]\n",
            "+---------+-------+\n",
            "| Word    | Count |\n",
            "+---------+-------+\n",
            "| burger  |   248 |\n",
            "| burgers |   113 |\n",
            "| good    |    32 |\n",
            "| king    |    32 |\n",
            "| have    |    30 |\n",
            "| like    |    29 |\n",
            "| we      |    27 |\n",
            "| just    |    26 |\n",
            "| had     |    24 |\n",
            "| get     |    23 |\n",
            "+---------+-------+\n"
          ]
        }
      ]
    },
    {
      "cell_type": "code",
      "source": [
        "# similar attempt to find positive \"burger\" tweets with a geotag\n",
        "query_pos1 = { \"geo\": { \"$ne\": None } }\n",
        "cursor = coll_pos.find(query_pos1)\n",
        "\n",
        "for tweet in cursor:\n",
        "    print(tweet['text'])"
      ],
      "metadata": {
        "id": "sl8ELQL8Shtv"
      },
      "execution_count": 20,
      "outputs": []
    },
    {
      "cell_type": "code",
      "source": [
        "for combo in top_words_pos:\n",
        "    print(combo[0])\n",
        "    query = { \"text\": { '$regex': '^.*'+ combo[0] + '.*$', '$options': 'si' } }\n",
        "    cursor = coll_pos.find(query)\n",
        "    i = 0\n",
        "    # Printing first 10 tweets\n",
        "    for tweet in cursor:\n",
        "        if i >= 10:\n",
        "            break\n",
        "        print(tweet['text'], '\\n')\n",
        "        i += 1\n",
        "\n",
        "    print(\"-\"*100)"
      ],
      "metadata": {
        "id": "kP1YxDCicvgK",
        "outputId": "bbe764a0-e4f9-407b-d9a9-8e6f1f2414c9",
        "colab": {
          "base_uri": "https://localhost:8080/"
        }
      },
      "execution_count": 21,
      "outputs": [
        {
          "output_type": "stream",
          "name": "stdout",
          "text": [
            "burger\n",
            "@ItsDrMordecai @BurgerKing One of my favorite things to order is a homemade veggie burger + bacon. I always get a weird look :) \n",
            "\n",
            "Q: Your burgers started tasting a little different to me in 2018. Am I going nuts?\n",
            "A: Relax, you’re not nuts! :) In… https://t.co/QDIKqnR1kI \n",
            "\n",
            "@xhmaknae it was good! i had my korean class, ate a burger, and spent my time with my fam. hbu kakkk? :D \n",
            "\n",
            "@StevieStacks84 I have never tried it but I love burgers and sunny side up eggs so I bet it is good :) \n",
            "\n",
            "\"Burgers..!\" :D \n",
            "\n",
            "@IshikaGuha2 Home made burgers! :) Want some? \n",
            "\n",
            "@Keeshond71 @calischaa @HarveysCanada Lol that's Deerfoot x 2 to get burgers ... No :) \n",
            "\n",
            "The only reason i favour Mcdonald over the street side burger wala is that coz its easy to eat a mcD burger while e… https://t.co/EAfw5Ugc6i \n",
            "\n",
            "@ishyungshi fries n burger from mcdo po ate :) \n",
            "\n",
            "@ishyungshi fries and burger po ate from mcdo :) \n",
            "\n",
            "----------------------------------------------------------------------------------------------------\n",
            "burgers\n",
            "Q: Your burgers started tasting a little different to me in 2018. Am I going nuts?\n",
            "A: Relax, you’re not nuts! :) In… https://t.co/QDIKqnR1kI \n",
            "\n",
            "@StevieStacks84 I have never tried it but I love burgers and sunny side up eggs so I bet it is good :) \n",
            "\n",
            "\"Burgers..!\" :D \n",
            "\n",
            "@IshikaGuha2 Home made burgers! :) Want some? \n",
            "\n",
            "@Keeshond71 @calischaa @HarveysCanada Lol that's Deerfoot x 2 to get burgers ... No :) \n",
            "\n",
            "@McDonaldsUK I didn't. I love chicken burgers but it was bland and boring. I'll stick with the other chicken altern… https://t.co/HHtxvw5EnR \n",
            "\n",
            "@CharterhouseCla We're impressed that we managed to upstage the burgers! and so happy that you enjoyed it :) \n",
            "\n",
            "kaya natin 'to Cookies, Charmers, and Burgers. Tweet lang ng tweet! :) \n",
            "\n",
            "FRIDATE WITH ZACHAM\n",
            "#PBBInTheNameOfLove https://t.co/xNV6qES15l \n",
            "\n",
            "@CatValentine382 Bobs burgers, friends, Brooklyn 99, modem family, Gilmore girls all binge worthy :) \n",
            "\n",
            "Good afternoon burgers. Pls use team ZacHam official tagline :) \n",
            "\n",
            "FRIDATE WITH ZACHAM \n",
            "\n",
            "----------------------------------------------------------------------------------------------------\n",
            "good\n",
            "@xhmaknae it was good! i had my korean class, ate a burger, and spent my time with my fam. hbu kakkk? :D \n",
            "\n",
            "@StevieStacks84 I have never tried it but I love burgers and sunny side up eggs so I bet it is good :) \n",
            "\n",
            "Good afternoon burgers. Pls use team ZacHam official tagline :) \n",
            "\n",
            "FRIDATE WITH ZACHAM \n",
            "\n",
            "@MrBeast good burger though! :D https://t.co/lHawho5a8n \n",
            "\n",
            "Good morning burgers :)\n",
            "\n",
            "#TeamSehamOnKumu\n",
            "#KumuPh https://t.co/JklMxgQXrL \n",
            "\n",
            "@RobbMoreiraVO We haven't had a meat burger in so long... The Beyond Meat &amp; Impossible are both so good - I really… https://t.co/pLrlEihV45 \n",
            "\n",
            "@burger_sha I'm doing pretty good, thanks for asking :) \n",
            "\n",
            "@charca it’s so good! maybe @chancethedev and i can hop a train and meet you up there. i think he’s looking for another go at that burger :) \n",
            "\n",
            "@GarySonnyChiba yeah the good ones are called \"14 day\" sweet pickles.\n",
            "it's really good, and like having a burger wi… https://t.co/2lwwFKvIir \n",
            "\n",
            "@msarosh @NomanChaudharyy Will have good beef burger on week end or some Desi chaasks stuff :) \n",
            "\n",
            "----------------------------------------------------------------------------------------------------\n",
            "king\n",
            "@ItsDrMordecai @BurgerKing One of my favorite things to order is a homemade veggie burger + bacon. I always get a weird look :) \n",
            "\n",
            "@BurgerKingZA Am I cheating if I say ALL of them. It is Burger King or nothing. :)) \n",
            "\n",
            "@Wendys I love you, Burger King, and McDonald’s are trash. You so cute. :) \n",
            "\n",
            "@SafeMoonRich Burger King! :D \n",
            "\n",
            "8th: we got burger king for dinner !! I got veggie nuggets and onion rings it was great nuggets r the best &lt;3 also… https://t.co/jzOPdvs7S4 \n",
            "\n",
            "Nike, nesquik y burger king :) \n",
            "\n",
            "making turkey burgers and fries :-) \n",
            "\n",
            "@welpclaps I just got out of Krogers and going through Burger King currently :) FLOORBOO \n",
            "\n",
            "@zomato @zomatocare @ZomatoProHelp Thankyou  for delivering chilled burgers zomato I m liking it. Even your deliver… https://t.co/1JPtphwSUy \n",
            "\n",
            "@burger_sha I'm doing pretty good, thanks for asking :) \n",
            "\n",
            "----------------------------------------------------------------------------------------------------\n",
            "have\n",
            "@StevieStacks84 I have never tried it but I love burgers and sunny side up eggs so I bet it is good :) \n",
            "\n",
            "Awwwww I have a burger waffle waiting for me at home :) \n",
            "\n",
            "it's me when I don't have clients\n",
            "\"Hello, How can I help u? We are offering a free cheese burger  :)\"\n",
            "WAGMI TO THE… https://t.co/mTAVmIVuVT \n",
            "\n",
            "@contrarianEPS Aap nahi samjoge,  you have enough money.\n",
            "\n",
            "This is so that people can give bigger parties on birthda… https://t.co/KlFy4rpXfP \n",
            "\n",
            "@KristiNoem Oh what utter nonsense.   I will have ketchup and pickles with that nothing burger you are slinging.  :P \n",
            "\n",
            "@Whalesa88 Claire is a vegetarian, but if she can have a big black bean burger with fake bacon on it, she's extreme… https://t.co/SYnNWHOwS2 \n",
            "\n",
            "@RobbMoreiraVO We haven't had a meat burger in so long... The Beyond Meat &amp; Impossible are both so good - I really… https://t.co/pLrlEihV45 \n",
            "\n",
            "@321Lost yeah i’m from the uk! we have like fried veggie sticks which are yum and the new mc plant which is a vegan burger :) \n",
            "\n",
            "@msarosh @NomanChaudharyy Will have good beef burger on week end or some Desi chaasks stuff :) \n",
            "\n",
            "@YVESSlE I kinda want some too now.. 😫 shall we have burger and fries date someday? ehe. :D how long?! twelve hours? 🧐 \n",
            "\n",
            "----------------------------------------------------------------------------------------------------\n",
            "like\n",
            "Looks like they hired @jpegned, but not to flip any burgers &gt; : ) https://t.co/e111ttexVb \n",
            "\n",
            "@zenonclaw I like my burgers with lettuce, diced onions, tomatos, and cheese :) \n",
            "\n",
            "@321Lost yeah i’m from the uk! we have like fried veggie sticks which are yum and the new mc plant which is a vegan burger :) \n",
            "\n",
            "going to school straight from work smelling like burgers and aggressively irritated. With two tests to take. :) \n",
            "\n",
            "@NBL @HungryJacksAU @NBABeau I had breakfast when I was in Sydney, AU.  It was like having fast food at US Burger K… https://t.co/71Jck4L5JQ \n",
            "\n",
            "@GarySonnyChiba yeah the good ones are called \"14 day\" sweet pickles.\n",
            "it's really good, and like having a burger wi… https://t.co/2lwwFKvIir \n",
            "\n",
            "@ratemyplatenow so many replies :-) but to me it looks like a burger bun....really tasty tasy burger bun **** drible **** \n",
            "\n",
            "@SNLSABRINA hi!! i like new girl, snl, bobs burgers, and ted lasso :D \n",
            "\n",
            "@rose_bud_xoxo i ate dinner!! my dad made burgers :))\n",
            "it was just shitty and things like the fuel ed culture a lot… https://t.co/UX6GtLnM1B \n",
            "\n",
            "@NeonPixelTTV @yuuticio You’re telling me you don’t like putting soggy burger bread on top :) ? \n",
            "\n",
            "----------------------------------------------------------------------------------------------------\n",
            "we\n",
            "@ItsDrMordecai @BurgerKing One of my favorite things to order is a homemade veggie burger + bacon. I always get a weird look :) \n",
            "\n",
            "@CharterhouseCla We're impressed that we managed to upstage the burgers! and so happy that you enjoyed it :) \n",
            "\n",
            "kaya natin 'to Cookies, Charmers, and Burgers. Tweet lang ng tweet! :) \n",
            "\n",
            "FRIDATE WITH ZACHAM\n",
            "#PBBInTheNameOfLove https://t.co/xNV6qES15l \n",
            "\n",
            "@billbison77 Sounds nice :) I’ll take w burger and if you need help with website i can help you build one with a takeout option 😍✌️ \n",
            "\n",
            "@x3ideRaven @mikeycryptolife @junoswapdex @JunoNetwork Short answer: Because the community will decide how this tok… https://t.co/g3aPbxNZ8Z \n",
            "\n",
            "Accidentally hit Go Live while switching pages on my Stream Deck, so I GUESS WE'RE GOING LIVE WITH SOME LOST ARK! :… https://t.co/ilrLIHAuVJ \n",
            "\n",
            "@Wendys I love you, Burger King, and McDonald’s are trash. You so cute. :) \n",
            "\n",
            "@mold_time @KirkegaardEmil @RCAFDM So you'd say that it's not that food is more palatable, but that we are overeati… https://t.co/KdPYy5ouuJ \n",
            "\n",
            "@mrmikeMTL Sweet potato burgers with salad :) \n",
            "\n",
            "it's me when I don't have clients\n",
            "\"Hello, How can I help u? We are offering a free cheese burger  :)\"\n",
            "WAGMI TO THE… https://t.co/mTAVmIVuVT \n",
            "\n",
            "----------------------------------------------------------------------------------------------------\n",
            "just\n",
            "This lil dude dreams about burgers just as much as me, we're gonna get along just fine :) https://t.co/oK9FfnK77z \n",
            "\n",
            "I’m in LA and I just drove past an in and out burger and I’ve never seen one before so it made me really really happy :))) \n",
            "\n",
            "@welpclaps I just got out of Krogers and going through Burger King currently :) FLOORBOO \n",
            "\n",
            "@SloCan68 I went nothing burger because after over 6 years I'm just too jaded to ever get my hopes up - luckily I'm… https://t.co/Q7p3XCDInG \n",
            "\n",
            "mottourisart was cause my old gamer name was mottouri (doesn't mean anything, was just a random word) and :) 's art… https://t.co/hy8L3hC21M \n",
            "\n",
            "@JRNMX1 @Wendy &amp; at this point it’s honestly just kinda funny lolol. I bet Wendy probably deals with this multiple… https://t.co/RqYmHZTnJu \n",
            "\n",
            "Ben Schwartz was in a episode of bobs burgers I just watched :D I love his voice acting so much \n",
            "\n",
            "I am once again asking for good show recommendations :) I just finshed Bob's burgers 9/10 \n",
            "\n",
            "@AngelaBarnes @edfringe I was there a couple of months ago and found a veggie burger place that was just heaven. Yo… https://t.co/0KWoRu4tUR \n",
            "\n",
            "@rose_bud_xoxo i ate dinner!! my dad made burgers :))\n",
            "it was just shitty and things like the fuel ed culture a lot… https://t.co/UX6GtLnM1B \n",
            "\n",
            "----------------------------------------------------------------------------------------------------\n",
            "had\n",
            "@xhmaknae it was good! i had my korean class, ate a burger, and spent my time with my fam. hbu kakkk? :D \n",
            "\n",
            "@RobbMoreiraVO We haven't had a meat burger in so long... The Beyond Meat &amp; Impossible are both so good - I really… https://t.co/pLrlEihV45 \n",
            "\n",
            "@suzanne_young My aunt had me order her a BLT with no lettuce or tomato and add mayo to it, which I think is way wo… https://t.co/iKo7yd7LMZ \n",
            "\n",
            "@NBL @HungryJacksAU @NBABeau I had breakfast when I was in Sydney, AU.  It was like having fast food at US Burger K… https://t.co/71Jck4L5JQ \n",
            "\n",
            "@tataru__ i did not have anything for breakfast but its 12am over here so im telling u what i had today !! i had pi… https://t.co/5Q972BhLTm \n",
            "\n",
            "walked 3 blocks to get pan dulce and they had none :))))))))) had to come back in the rain also 💯💯💯💯 \n",
            "\n",
            "@Hero93438531 Thank you :) had burger &amp; homemade chips for dinner.. Just having a cuppa now \n",
            "\n",
            "@bicharrac0 @OsakaJack I've had a veggie burger at Chili's Bar &amp; Grill with fried onion rings. Chili's is not great… https://t.co/xKPA5LCJmA \n",
            "\n",
            "Had Steak ‘n Shake for the first time today and was not disappointed :) I love trying burger places, who wants to take me to In ‘n Out next \n",
            "\n",
            "i had a burger, forgot which type, a pepsi and 3/4th of a choco lava cake. I'm capping the burger at 650 cals and t… https://t.co/bbm3TXOgCD \n",
            "\n",
            "----------------------------------------------------------------------------------------------------\n",
            "get\n",
            "@ItsDrMordecai @BurgerKing One of my favorite things to order is a homemade veggie burger + bacon. I always get a weird look :) \n",
            "\n",
            "@Keeshond71 @calischaa @HarveysCanada Lol that's Deerfoot x 2 to get burgers ... No :) \n",
            "\n",
            "@rachlilyanne chicken nuggets &amp; chips or chicken burger and chips, mushy peas and onion rings :) \n",
            "\n",
            "@MissDeusGeek Each burger gonna be an NFT so the food doesn't get mixed up. :D \n",
            "\n",
            "mob at mobdonalds: i think i'll get... \n",
            "me: a burger menu? :) \n",
            "mob: oh, hanazawa, how did you know? \n",
            "me, on my phon… https://t.co/dQlrhS1FKG \n",
            "\n",
            "mob at mobdonalds: i think i'll get... \n",
            "me: a burger menu? :) \n",
            "mob: oh, hanazawa, how did you know? \n",
            "me, on my phon… https://t.co/3uA5gdj7as \n",
            "\n",
            "This lil dude dreams about burgers just as much as me, we're gonna get along just fine :) https://t.co/oK9FfnK77z \n",
            "\n",
            "8th: we got burger king for dinner !! I got veggie nuggets and onion rings it was great nuggets r the best &lt;3 also… https://t.co/jzOPdvs7S4 \n",
            "\n",
            "@Whalesa88 Claire is a vegetarian, but if she can have a big black bean burger with fake bacon on it, she's extreme… https://t.co/SYnNWHOwS2 \n",
            "\n",
            "mob at mobdonalds: i think i'll get... \n",
            "me: a burger menu? :) \n",
            "mob: oh, hanazawa, how did you know? \n",
            "me, on my phon… https://t.co/TxmiMdGubX \n",
            "\n",
            "----------------------------------------------------------------------------------------------------\n"
          ]
        }
      ]
    },
    {
      "cell_type": "markdown",
      "source": [
        "**3. Finding 20 most popular retweeted tweets and 20 most liked tweets from positive attitude tweets. Looking for overlaps in who these people follow. Listing these accounts as primary contacts for targeted advertisement.**"
      ],
      "metadata": {
        "id": "_gx541IUY7bl"
      }
    },
    {
      "cell_type": "code",
      "source": [
        "tweets = [\n",
        "          (pop_tweet['retweet_count'], \n",
        "             pop_tweet['user']['screen_name'],\n",
        "             pop_tweet['text'])\n",
        "          for pop_tweet in statuses2\n",
        "            if 'retweeted_status' not in pop_tweet\n",
        "]\n",
        "pt = PrettyTable(field_names=['RT Count', 'Screen Name', 'Text'])\n",
        "[ pt.add_row(row) for row in sorted(tweets, reverse=True)[:20] ]\n",
        "pt.max_width['Text'] = 50\n",
        "pt.align= 'l'\n",
        "print(pt)"
      ],
      "metadata": {
        "colab": {
          "base_uri": "https://localhost:8080/"
        },
        "id": "7O6E-MROZz7K",
        "outputId": "257e730e-9733-4b49-d0ef-ca0b65567448"
      },
      "execution_count": 22,
      "outputs": [
        {
          "output_type": "stream",
          "name": "stdout",
          "text": [
            "+----------+-----------------+----------------------------------------------------+\n",
            "| RT Count | Screen Name     | Text                                               |\n",
            "+----------+-----------------+----------------------------------------------------+\n",
            "| 167      | KikiTaiga       | Varsity Dream!                                     |\n",
            "|          |                 | He's eating a Dream burger &gt;:D                  |\n",
            "|          |                 | .                                                  |\n",
            "|          |                 | -retweets,likes,comments are cool-                 |\n",
            "|          |                 | #dreamfanart #mcyt #smiletwt                       |\n",
            "|          |                 | https://t.co/lNoClg5A9t                            |\n",
            "| 82       | taboo_comics    | so glad I'm done with this com, after months of    |\n",
            "|          |                 | being on hold :D                                   |\n",
            "|          |                 | #bunnygirl #reversebunnysuit #pinupgirl…           |\n",
            "|          |                 | https://t.co/eENC4OXMwZ                            |\n",
            "| 35       | AlEian_Sakalam  | \"bat ka nagulat sa burger\" - A                     |\n",
            "|          |                 |                                                    |\n",
            "|          |                 | See? Ganito lang happy nakami 'cuz we celebrate    |\n",
            "|          |                 | little things :)                                   |\n",
            "|          |                 |                                                    |\n",
            "|          |                 | UNITED AS ONE ALE… https://t.co/QqJGVaFj3J         |\n",
            "| 21       | SNLSABRINA      | i need more snl and sitcom moots. so if you like   |\n",
            "|          |                 | snl, b99, abbott elementary, new girl, modern      |\n",
            "|          |                 | family, superstore,… https://t.co/ImIzYQuFmb       |\n",
            "| 15       | SehamDaghlasWW  | Good afternoon burgers. Pls use team ZacHam        |\n",
            "|          |                 | official tagline :)                                |\n",
            "|          |                 |                                                    |\n",
            "|          |                 | FRIDATE WITH ZACHAM                                |\n",
            "| 14       | TEAMSEHAMOFC    | Expect nothing prepare for the worst. If you       |\n",
            "|          |                 | didn’t know, Team Seham has a Donation Drive set   |\n",
            "|          |                 | up. Rest assured that… https://t.co/wZLNan0bHS     |\n",
            "| 8        | SehamDaghlasWW  | Good morning burgers :)                            |\n",
            "|          |                 |                                                    |\n",
            "|          |                 | #TeamSehamOnKumu                                   |\n",
            "|          |                 | #KumuPh https://t.co/JklMxgQXrL                    |\n",
            "| 8        | SehamDaghlasWW  | Drop your self love affirmations burgers. As many  |\n",
            "|          |                 | as you want :)                                     |\n",
            "|          |                 | #TeamSehamOnKumu                                   |\n",
            "|          |                 | #kumuPh https://t.co/2SfyGUt41A                    |\n",
            "| 7        | mochijapa       | 👆An useful expression related to the above        |\n",
            "|          |                 |                                                    |\n",
            "|          |                 | ✅X派=X ha= X person                               |\n",
            "|          |                 |                                                    |\n",
            "|          |                 | Use X派 when you want to say “I prefer X than      |\n",
            "|          |                 | compet… https://t.co/SmgzfY0YnA                    |\n",
            "| 6        | gnfdreaming     | hi @MrBeast.                                       |\n",
            "|          |                 |                                                    |\n",
            "|          |                 | hi my friend  @dreamwastaken loves Beast Burgers,  |\n",
            "|          |                 | games, youtube and money ! he's streaming rn on…   |\n",
            "|          |                 | https://t.co/GICpR9HEb1                            |\n",
            "| 6        | gnfdreaming     | hi @MrBeast.                                       |\n",
            "|          |                 |                                                    |\n",
            "|          |                 | hi my friend  @dreamwastaken loves Beast Burgers,  |\n",
            "|          |                 | games, youtube and money ! he's streaming rn on…   |\n",
            "|          |                 | https://t.co/GICpR9HEb1                            |\n",
            "| 5        | TEAMSEHAMOFC    | Lets start building our Voting Team Burgers! DM if |\n",
            "|          |                 | you’re willing to join a committed voting team for |\n",
            "|          |                 | Seham :D                                           |\n",
            "|          |                 |                                                    |\n",
            "|          |                 | SA… https://t.co/aF0BQJI5Ey                        |\n",
            "| 3        | zachupido       | kaya natin 'to Cookies, Charmers, and Burgers.     |\n",
            "|          |                 | Tweet lang ng tweet! :)                            |\n",
            "|          |                 |                                                    |\n",
            "|          |                 | FRIDATE WITH ZACHAM                                |\n",
            "|          |                 | #PBBInTheNameOfLove https://t.co/xNV6qES15l        |\n",
            "| 3        | TEAMSEHAMOFC    | Follow for follow Burgers! Help you fellow burgers |\n",
            "|          |                 | reach one hundred followers :D                     |\n",
            "|          |                 |                                                    |\n",
            "|          |                 | #TeamSehamOnKumu #KumuPh https://t.co/OG3uS6bWUa   |\n",
            "| 3        | KaceYoshida     | Want some burger?                                  |\n",
            "|          |                 |                                                    |\n",
            "|          |                 | Looking forward to the 3D version of them :D       |\n",
            "|          |                 |                                                    |\n",
            "|          |                 | Public mint of the 3D version Pacas is on Feb      |\n",
            "|          |                 | 12th… https://t.co/RgySQzc1Tr                      |\n",
            "| 3        | HelenJRaine     | @mikesharman It was for @OneMinuteBriefs. Here are |\n",
            "|          |                 | the other winning submissions :) the Burger King   |\n",
            "|          |                 | one is also fli… https://t.co/An6YE9lGOp           |\n",
            "| 2        | kayukomodo      | 🔴 LIVEE -- sorry I am late I was eating my burger |\n",
            "|          |                 | &gt;:)                                             |\n",
            "|          |                 |                                                    |\n",
            "|          |                 | https://t.co/pkjBSO8hGo                            |\n",
            "| 2        | YellingMadman   | This lil dude dreams about burgers just as much as |\n",
            "|          |                 | me, we're gonna get along just fine :)             |\n",
            "|          |                 | https://t.co/oK9FfnK77z                            |\n",
            "| 2        | RealWorldRyoshi | @SHIBjpn @shibainucafe Our CHEF loves JAPAN ... we |\n",
            "|          |                 | want to visit and meet maybe make a nice garden    |\n",
            "|          |                 | cafe in nice cit… https://t.co/he6l5uGbYo          |\n",
            "| 1        | willw           | @rava I made that burger gif :-) So nice seeing it |\n",
            "|          |                 | again                                              |\n",
            "+----------+-----------------+----------------------------------------------------+\n"
          ]
        }
      ]
    },
    {
      "cell_type": "code",
      "source": [
        "tweets = [\n",
        "          (pop_tweet['favorite_count'], \n",
        "             pop_tweet['user']['screen_name'],\n",
        "             pop_tweet['text'])\n",
        "          for pop_tweet in statuses2\n",
        "            if 'retweeted_status' not in pop_tweet\n",
        "]\n",
        "pt = PrettyTable(field_names=['Likes Count', 'Screen Name', 'Text'])\n",
        "[ pt.add_row(row) for row in sorted(tweets, reverse=True)[:20] ]\n",
        "pt.max_width['Text'] = 50\n",
        "pt.align= 'l'\n",
        "print(pt)"
      ],
      "metadata": {
        "colab": {
          "base_uri": "https://localhost:8080/"
        },
        "id": "5tdLg2M5dB8G",
        "outputId": "f748f37e-058a-41f9-b381-b23d0c009c70"
      },
      "execution_count": 23,
      "outputs": [
        {
          "output_type": "stream",
          "name": "stdout",
          "text": [
            "+-------------+-----------------+----------------------------------------------------+\n",
            "| Likes Count | Screen Name     | Text                                               |\n",
            "+-------------+-----------------+----------------------------------------------------+\n",
            "| 2846        | KikiTaiga       | Varsity Dream!                                     |\n",
            "|             |                 | He's eating a Dream burger &gt;:D                  |\n",
            "|             |                 | .                                                  |\n",
            "|             |                 | -retweets,likes,comments are cool-                 |\n",
            "|             |                 | #dreamfanart #mcyt #smiletwt                       |\n",
            "|             |                 | https://t.co/lNoClg5A9t                            |\n",
            "| 589         | taboo_comics    | so glad I'm done with this com, after months of    |\n",
            "|             |                 | being on hold :D                                   |\n",
            "|             |                 | #bunnygirl #reversebunnysuit #pinupgirl…           |\n",
            "|             |                 | https://t.co/eENC4OXMwZ                            |\n",
            "| 136         | SNLSABRINA      | i need more snl and sitcom moots. so if you like   |\n",
            "|             |                 | snl, b99, abbott elementary, new girl, modern      |\n",
            "|             |                 | family, superstore,… https://t.co/ImIzYQuFmb       |\n",
            "| 90          | AlEian_Sakalam  | \"bat ka nagulat sa burger\" - A                     |\n",
            "|             |                 |                                                    |\n",
            "|             |                 | See? Ganito lang happy nakami 'cuz we celebrate    |\n",
            "|             |                 | little things :)                                   |\n",
            "|             |                 |                                                    |\n",
            "|             |                 | UNITED AS ONE ALE… https://t.co/QqJGVaFj3J         |\n",
            "| 44          | gnfdreaming     | hi @MrBeast.                                       |\n",
            "|             |                 |                                                    |\n",
            "|             |                 | hi my friend  @dreamwastaken loves Beast Burgers,  |\n",
            "|             |                 | games, youtube and money ! he's streaming rn on…   |\n",
            "|             |                 | https://t.co/GICpR9HEb1                            |\n",
            "| 44          | gnfdreaming     | hi @MrBeast.                                       |\n",
            "|             |                 |                                                    |\n",
            "|             |                 | hi my friend  @dreamwastaken loves Beast Burgers,  |\n",
            "|             |                 | games, youtube and money ! he's streaming rn on…   |\n",
            "|             |                 | https://t.co/GICpR9HEb1                            |\n",
            "| 37          | kitty_mancer    | @YeetZmeN @Ghost_Burger @Wario64 it's a farming    |\n",
            "|             |                 | game like stardew valley :)                        |\n",
            "| 35          | GrantRous       | I guess my career isn't going as well as I thought |\n",
            "|             |                 | if my profile is one of interest XD                |\n",
            "|             |                 |                                                    |\n",
            "|             |                 | Oh well it's been fun, gonn…                       |\n",
            "|             |                 | https://t.co/69KpQ6k7Q0                            |\n",
            "| 31          | BillyStevens999 | I’m in LA and I just drove past an in and out      |\n",
            "|             |                 | burger and I’ve never seen one before so it made   |\n",
            "|             |                 | me really really happy :)))                        |\n",
            "| 27          | mochijapa       | 👆An useful expression related to the above        |\n",
            "|             |                 |                                                    |\n",
            "|             |                 | ✅X派=X ha= X person                               |\n",
            "|             |                 |                                                    |\n",
            "|             |                 | Use X派 when you want to say “I prefer X than      |\n",
            "|             |                 | compet… https://t.co/SmgzfY0YnA                    |\n",
            "| 27          | dunkinluvr420   | Leg day then Will made us burgers :)               |\n",
            "|             |                 | https://t.co/fiCvWTQaff                            |\n",
            "| 15          | R0ninTheWolf    | *puts you on a Burger King crown*                  |\n",
            "|             |                 | You are now da queen/king of burgers!! :D          |\n",
            "| 15          | ChanelMurder    | making turkey burgers and fries :-)                |\n",
            "| 13          | pey_diddy       | @jalyn_phillips breakfast: sunny side, pot belly   |\n",
            "|             |                 | deli                                               |\n",
            "|             |                 |                                                    |\n",
            "|             |                 | lunch/dinner:                                      |\n",
            "|             |                 | loose change (burgers, sandwhiches/wraps)          |\n",
            "|             |                 | back… https://t.co/89vz88NL3J                      |\n",
            "| 12          | miskaknapek     | @mjtech01 @guido_burger @Philips Crypto mining in  |\n",
            "|             |                 | your toothbrush :-)                                |\n",
            "| 12          | mercutiokin     | made burgers tonight. dressed with blueberry jam   |\n",
            "|             |                 | goat cheese arugula &gt;:)                         |\n",
            "| 12          | TEAMSEHAMOFC    | Expect nothing prepare for the worst. If you       |\n",
            "|             |                 | didn’t know, Team Seham has a Donation Drive set   |\n",
            "|             |                 | up. Rest assured that… https://t.co/wZLNan0bHS     |\n",
            "| 12          | KaceYoshida     | Want some burger?                                  |\n",
            "|             |                 |                                                    |\n",
            "|             |                 | Looking forward to the 3D version of them :D       |\n",
            "|             |                 |                                                    |\n",
            "|             |                 | Public mint of the 3D version Pacas is on Feb      |\n",
            "|             |                 | 12th… https://t.co/RgySQzc1Tr                      |\n",
            "| 11          | friesforBrice   | went out by myself today. 2 malls, no way home,    |\n",
            "|             |                 | burger king, 2 sticks :))) feeling good good :)))  |\n",
            "|             |                 | haven't done this in awhile :)))                   |\n",
            "| 11          | SehamDaghlasWW  | Good morning burgers :)                            |\n",
            "|             |                 |                                                    |\n",
            "|             |                 | #TeamSehamOnKumu                                   |\n",
            "|             |                 | #KumuPh https://t.co/JklMxgQXrL                    |\n",
            "+-------------+-----------------+----------------------------------------------------+\n"
          ]
        }
      ]
    },
    {
      "cell_type": "markdown",
      "source": [
        "Unfortunately, upon closer examination of most liked and retweeted accounts that are related to burgers, we decided that this may be a poor tactic for determining accounts for advertisement. Unfortunately, most liked and most retweeted tweets that contain the word burger, are often related to something other than a burger."
      ],
      "metadata": {
        "id": "lHFjuJ1EdeZi"
      }
    },
    {
      "cell_type": "markdown",
      "metadata": {
        "id": "tD6h0TglY6Dv"
      },
      "source": [
        "*-----------------\n",
        "# Done\n",
        "\n",
        "All set! \n",
        "\n",
        "** What do you need to submit?**\n",
        "\n",
        "* **Notebook File**: Save this IPython notebook, and find the notebook file in your folder (for example, \"filename.ipynb\"). This is the file you need to submit. Please make sure all the plotted tables and figures are in the notebook. If you used \"ipython notebook --pylab=inline\" to open the notebook, all the figures and tables should have shown up in the notebook.\n",
        "\n",
        "\n",
        "* **PPT Slides**: please prepare PPT slides (for 15 minutes' talk) to present about the case study . We will ask *all* teams to present their case studies in class for this case study. \n",
        "\n",
        "* **Report**: please prepare a report (less than 10 pages) to report what you found in the data.\n",
        "    * What data you collected? \n",
        "    * Why this topic is interesting or important to you? (Motivations)\n",
        "    * How did you analyse the data?\n",
        "    * What did you find in the data? \n",
        " \n",
        "     (please include figures or tables in the report, but no source code)\n",
        "\n",
        "Please compress all the files in a zipped file.\n",
        "\n",
        "\n",
        "** How to submit: **\n",
        "\n",
        "        Please submit through canvas.wpi.edu\n",
        "\n"
      ]
    },
    {
      "cell_type": "markdown",
      "metadata": {
        "id": "-FvDoMzSY6Dv"
      },
      "source": [
        "# Grading Criteria:\n",
        "\n",
        "**Totoal Points: 100**\n",
        "\n",
        "\n",
        "---------------------------------------------------------------------------\n",
        "**Notebook results:**\n",
        "    Points: 80\n",
        "\n",
        "\n",
        "    -----------------------------------\n",
        "    Question 1:\n",
        "    Points: 20\n",
        "    -----------------------------------\n",
        "    \n",
        "    -----------------------------------\n",
        "    Question 2:\n",
        "    Points: 20\n",
        "    -----------------------------------\n",
        "        \n",
        "    -----------------------------------\n",
        "    Question 3:\n",
        "    Points: 20\n",
        "    -----------------------------------\n",
        "  \n",
        "    -----------------------------------\n",
        "    Question 4:  Business question\n",
        "    Points: 20\n",
        "    -----------------------------------\n",
        "\n",
        "\n",
        "---------------------------------------------------------------------------\n",
        "**Slides (for 5-10 minutes of presentation): Story-telling**\n",
        "    Points: 20\n",
        "\n",
        "\n",
        "1. Motivation about the data collection, why the topic is interesting to you.\n",
        "    Points: 5 \n",
        "\n",
        "2. Communicating Results (figure/table)\n",
        "    Points: 10 \n",
        "\n",
        "3. Story telling (How all the parts (data, analysis, result) fit together as a story?)\n",
        "    Points: 5 \n"
      ]
    },
    {
      "cell_type": "code",
      "execution_count": 23,
      "metadata": {
        "id": "2Wy1xam0Y6Dw"
      },
      "outputs": [],
      "source": [
        ""
      ]
    }
  ],
  "metadata": {
    "anaconda-cloud": {},
    "kernel_info": {
      "name": "python3"
    },
    "kernelspec": {
      "display_name": "Python 3",
      "language": "python",
      "name": "python3"
    },
    "language_info": {
      "codemirror_mode": {
        "name": "ipython",
        "version": 3
      },
      "file_extension": ".py",
      "mimetype": "text/x-python",
      "name": "python",
      "nbconvert_exporter": "python",
      "pygments_lexer": "ipython3",
      "version": "3.8.5"
    },
    "nteract": {
      "version": "0.2.0"
    },
    "colab": {
      "name": "CaseStudy2_MongoDB.ipynb",
      "provenance": [],
      "include_colab_link": true
    }
  },
  "nbformat": 4,
  "nbformat_minor": 0
}