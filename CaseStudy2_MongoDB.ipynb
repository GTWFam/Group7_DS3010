{
  "cells": [
    {
      "cell_type": "markdown",
      "metadata": {
        "id": "view-in-github",
        "colab_type": "text"
      },
      "source": [
        "<a href=\"https://colab.research.google.com/github/GTWFam/Group7_DS3010/blob/main/CaseStudy2_MongoDB.ipynb\" target=\"_parent\"><img src=\"https://colab.research.google.com/assets/colab-badge.svg\" alt=\"Open In Colab\"/></a>"
      ]
    },
    {
      "cell_type": "markdown",
      "metadata": {
        "id": "IQZqJy0gY6Dl"
      },
      "source": [
        "# Case Study 2 : Putting Twitter Data into the Cloud\n",
        "\n",
        "Due Date: 2/15/2020, **BEFORE the beginning of class at 2:00pm EST**\n",
        "\n",
        "## **NOTE: There are *always* last minute issues submitting the case studies.  DO NOT WAIT UNTIL THE LAST MINUTE!**"
      ]
    },
    {
      "cell_type": "markdown",
      "metadata": {
        "id": "JyNhpJN5Y6Dn"
      },
      "source": [
        "<a title=\"Fabián Alexis [CC BY-SA (https://creativecommons.org/licenses/by-sa/3.0)]\" href=\"https://commons.wikimedia.org/wiki/File:Antu_mongodb.svg\"><img width=\"50\" alt=\"Antu mongodb\" src=\"https://upload.wikimedia.org/wikipedia/commons/thumb/f/f9/Antu_mongodb.svg/512px-Antu_mongodb.svg.png\"></a>"
      ]
    },
    {
      "cell_type": "markdown",
      "metadata": {
        "id": "DhXEvLb5Y6Do"
      },
      "source": [
        "**TEAM Members:** Please EDIT this cell and add the names of all the team members in your team\n",
        "\n",
        "    Jacob Bissonette\n",
        "    Austin Franklin \n",
        "    Yuriy Kamenivskyy \n",
        "    Garrett McMerriman\n",
        "    Bill Hoang Pham"
      ]
    },
    {
      "cell_type": "markdown",
      "metadata": {
        "id": "IdtCbjp9Y6Do"
      },
      "source": [
        "**Don't forget!**\n",
        "* You will need to install the pymongo library to access MongoDB\n",
        " * pip install pymongo\n",
        "* You will also need to install dnspython to access the cloud version of MongoDB\n",
        " * pip install dnspython\n",
        "\n",
        "** NOTE **\n",
        "* **Please don't forget to save the notebook frequently when working in IPython Notebook, otherwise the changes you made can be lost**."
      ]
    },
    {
      "cell_type": "markdown",
      "metadata": {
        "id": "1R87hP_pY6Dq"
      },
      "source": [
        "# Problem 1 (20 points):  Get a cloud database account using MongoDB Atlas"
      ]
    },
    {
      "cell_type": "markdown",
      "metadata": {
        "id": "Q10TAFcOY6Dq"
      },
      "source": [
        "Get a free cloud hosted MongoDB database account at https://www.mongodb.com/atlas/database.  You will need to: \n",
        "\n",
        "* Create a database cluster using the MongoDB web interface\n",
        "* Get your MongoDB credentials\n",
        "* Create a document collection in MongoBD\n"
      ]
    },
    {
      "cell_type": "markdown",
      "metadata": {
        "id": "7dOckKukY6Ds"
      },
      "source": [
        "# Problem 2 (20 points):  Read Twitter data into your cloud MongoDB database"
      ]
    },
    {
      "cell_type": "markdown",
      "metadata": {
        "id": "-yQgleDnY6Ds"
      },
      "source": [
        "Gather Twitter data and upload it to your cloud database.  You will need to:\n",
        "\n",
        "* Get your cloubd MongoDB credentials using the MongoDB web interface\n",
        "* Insert those credentials into your Juypyter notebook using pymongo\n",
        "* Gather Twitter data as in Case Study 1\n",
        "* Upload your Twitter data to the MongoDB cloud document collection\n",
        "\n",
        "Note, to do you this question remember that you will need *two sets of credentials*\n",
        "\n",
        "* One set for the MongoDB Atlas database\n",
        "* One set for the Twitter developed API\n",
        "\n",
        "Of course, there are not the same!"
      ]
    },
    {
      "cell_type": "code",
      "source": [
        "! pip install pymongo\n",
        "! pip install dnspython\n"
      ],
      "metadata": {
        "id": "zHd0WyWXrT7g",
        "outputId": "20330081-9710-4656-db97-682086c56307",
        "colab": {
          "base_uri": "https://localhost:8080/"
        }
      },
      "execution_count": 1,
      "outputs": [
        {
          "output_type": "stream",
          "name": "stdout",
          "text": [
            "Requirement already satisfied: pymongo in /usr/local/lib/python3.7/dist-packages (4.0.1)\n",
            "Collecting dnspython\n",
            "  Downloading dnspython-2.2.0-py3-none-any.whl (266 kB)\n",
            "\u001b[K     |████████████████████████████████| 266 kB 27.6 MB/s \n",
            "\u001b[?25hInstalling collected packages: dnspython\n",
            "Successfully installed dnspython-2.2.0\n"
          ]
        }
      ]
    },
    {
      "cell_type": "code",
      "execution_count": 2,
      "metadata": {
        "id": "MO0paphxY6Dq",
        "outputId": "5412cd59-4824-474b-c108-2aeda8b2b3ce",
        "colab": {
          "base_uri": "https://localhost:8080/"
        }
      },
      "outputs": [
        {
          "output_type": "stream",
          "name": "stdout",
          "text": [
            "Mounted at /content/drive\n"
          ]
        }
      ],
      "source": [
        "#----------------------------------------------\n",
        "# Your code starts here\n",
        "#   Please add comments or text cells in between to explain the general idea of each block of the code.\n",
        "#   Please feel free to add more cells below this cell if necessary\n",
        "import pymongo\n",
        "import json\n",
        "\n",
        "from google.colab import drive\n",
        "\n",
        "drive.mount('/content/drive')\n",
        "\n",
        "data = {}\n",
        "    \n",
        "# Extracting the saved credentials from the drive\n",
        "with open('drive/MyDrive/ds3010_2022/credentials.txt', 'r') as f:\n",
        "    data = json.load(f)\n",
        "CONSUMER_KEY = data[\"consumer_key\"]\n",
        "CONSUMER_SECRET = data[\"consumer_secret\"]\n",
        "OAUTH_TOKEN = data[\"oauth_token\"]\n",
        "OAUTH_TOKEN_SECRET = data[\"oauth_token_secret\"]\n",
        "mongodb_url = data[\"mongodb_url\"]\n",
        "\n",
        "client = pymongo.MongoClient(mongodb_url)\n"
      ]
    },
    {
      "cell_type": "code",
      "source": [
        "# Getting the Database and Collection from MongoDB\n",
        "db = client['DS3010']\n",
        "coll = db['CS2']"
      ],
      "metadata": {
        "id": "w1p9Z5f3sctw"
      },
      "execution_count": 3,
      "outputs": []
    },
    {
      "cell_type": "code",
      "source": [
        "! pip install twitter"
      ],
      "metadata": {
        "id": "qD5dgzJlsTIC",
        "outputId": "e1adcd1d-896a-4f11-94bf-2dfa14be7ab9",
        "colab": {
          "base_uri": "https://localhost:8080/"
        }
      },
      "execution_count": 4,
      "outputs": [
        {
          "output_type": "stream",
          "name": "stdout",
          "text": [
            "Collecting twitter\n",
            "  Downloading twitter-1.19.3-py2.py3-none-any.whl (50 kB)\n",
            "\u001b[?25l\r\u001b[K     |██████▌                         | 10 kB 31.8 MB/s eta 0:00:01\r\u001b[K     |█████████████                   | 20 kB 37.3 MB/s eta 0:00:01\r\u001b[K     |███████████████████▋            | 30 kB 41.6 MB/s eta 0:00:01\r\u001b[K     |██████████████████████████      | 40 kB 27.6 MB/s eta 0:00:01\r\u001b[K     |████████████████████████████████| 50 kB 7.0 MB/s \n",
            "\u001b[?25hInstalling collected packages: twitter\n",
            "Successfully installed twitter-1.19.3\n"
          ]
        }
      ]
    },
    {
      "cell_type": "code",
      "execution_count": 5,
      "metadata": {
        "id": "my4IUYVvY6Ds"
      },
      "outputs": [],
      "source": [
        "#----------------------------------------------\n",
        "# Your code starts here\n",
        "#   Please add comments or text cells in between to explain the general idea of each block of the code.\n",
        "#   Please feel free to add more cells below this cell if necessary\n",
        "import twitter\n",
        "\n",
        "# See https://dev.twitter.com/docs/auth/oauth for more information \n",
        "# on Twitter's OAuth implementation.\n",
        "\n",
        "auth = twitter.oauth.OAuth(OAUTH_TOKEN, OAUTH_TOKEN_SECRET,\n",
        "                           CONSUMER_KEY, CONSUMER_SECRET)\n",
        "\n",
        "twitter_api = twitter.Twitter(auth=auth)"
      ]
    },
    {
      "cell_type": "code",
      "source": [
        "query = \"macbook pro 2021\"\n",
        "\n",
        "data = twitter_api.search.tweets(q=query, lang='en', count=100)\n",
        "\n",
        "min_id = data['statuses'][-1]['id']\n",
        "for i in range(7):\n",
        "    tweets = twitter_api.search.tweets(q=query, lang='en', max_id=min_id, count=100)\n",
        "    min_id = tweets['statuses'][-1]['id']\n",
        "    data['statuses'] += tweets['statuses']\n"
      ],
      "metadata": {
        "id": "8DgXTFziu12O"
      },
      "execution_count": null,
      "outputs": []
    },
    {
      "cell_type": "code",
      "source": [
        "statuses = data['statuses']\n",
        "# coll.drop()\n",
        "# _ = coll.insert_many(statuses)"
      ],
      "metadata": {
        "id": "2ZdWGUR2vqZu"
      },
      "execution_count": null,
      "outputs": []
    },
    {
      "cell_type": "markdown",
      "metadata": {
        "id": "Ui6DxP0lY6Dt"
      },
      "source": [
        "# Problem 3 (20 points):  Use a regular expression to read a subset of your Tweets out of MongoDB"
      ]
    },
    {
      "cell_type": "markdown",
      "metadata": {
        "id": "63qOpjc9Y6Dt"
      },
      "source": [
        "Use regular expressions to analyze properties of your data.  For example, you can \n",
        "\n",
        "* search for trends that have a large volume, \n",
        "* search for tweets with geotags, \n",
        "* search for tweets that can contain a certain string,\n",
        "* anything else you think might be useful for a product!"
      ]
    },
    {
      "cell_type": "code",
      "execution_count": null,
      "metadata": {
        "id": "5W_39LCaY6Du",
        "outputId": "033738f3-962b-49dc-ec26-a73d9abf9ba4",
        "colab": {
          "base_uri": "https://localhost:8080/"
        }
      },
      "outputs": [
        {
          "output_type": "stream",
          "name": "stdout",
          "text": [
            "Apple Says Pro Display XDR and 2021 MacBook Pro Can Experience Limited Brightness in High Temperatures by @julipuli… https://t.co/gOTRx0lgA9\n",
            "2021 14 inch MacBook Pro \n",
            "M1 pro 16gb 512SSD \n",
            "GH₵ 14,399.95\n",
            "\n",
            "iPhone 11 128gb Factory Unlocked GH₵ 3,999.95\n",
            "\n",
            "☎️055-3… https://t.co/DDfpSEc47Q\n",
            "Legitimately one of the best feelings. I just bought this 2021 Macbook Pro and paid for it entirely with NFT profit… https://t.co/fyFxSQ3DTX\n"
          ]
        }
      ],
      "source": [
        "#----------------------------------------------\n",
        "# Your code starts here\n",
        "#   Please add comments or text cells in between to explain the general idea of each block of the code.\n",
        "#   Please feel free to add more cells below this cell if necessary\n",
        "\n",
        "query = { \"favorite_count\": { \"$gt\": 20 } }\n",
        "cursor = coll.find(query)\n",
        "\n",
        "for tweet in cursor:\n",
        "    print(tweet['text'])"
      ]
    },
    {
      "cell_type": "code",
      "source": [
        "query2 = { \"geo\": { \"$ne\": None } }\n",
        "cursor = coll.find(query2)\n",
        "\n",
        "for tweet in cursor:\n",
        "    print(tweet['text'])"
      ],
      "metadata": {
        "id": "CPd_H_VX7lDD",
        "outputId": "fc0ede14-90ee-463d-ebe6-70c20ec2b68d",
        "colab": {
          "base_uri": "https://localhost:8080/"
        }
      },
      "execution_count": null,
      "outputs": [
        {
          "output_type": "stream",
          "name": "stdout",
          "text": [
            "Two weeks used \n",
            "Battery Cycle Count 12 \n",
            "2021 MacBook Pro \n",
            "14 inch 16 GB 512 SSD \n",
            "Box with accessories\n",
            "Cool offer @… https://t.co/qtzSPqoWtR\n"
          ]
        }
      ]
    },
    {
      "cell_type": "code",
      "source": [
        "query3 = { \"text\": { '$regex': '^.*cool.*$', '$options': 'si' } }\n",
        "cursor = coll.find(query3)\n",
        "\n",
        "for tweet in cursor:\n",
        "    print(tweet['text'])"
      ],
      "metadata": {
        "colab": {
          "base_uri": "https://localhost:8080/"
        },
        "id": "zkvtx5Z242yQ",
        "outputId": "1f72e118-a3f9-4ba1-8e6d-1a789a70953c"
      },
      "execution_count": null,
      "outputs": [
        {
          "output_type": "stream",
          "name": "stdout",
          "text": [
            "RT @AWereChicken: To help get closer to my surgery goal, I am willing to sell my MacBook Pro 2021 with touchbar, charger, and cool Ouija sk…\n",
            "RT @AWereChicken: To help get closer to my surgery goal, I am willing to sell my MacBook Pro 2021 with touchbar, charger, and cool Ouija sk…\n",
            "RT @AWereChicken: To help get closer to my surgery goal, I am willing to sell my MacBook Pro 2021 with touchbar, charger, and cool Ouija sk…\n",
            "RT @AWereChicken: To help get closer to my surgery goal, I am willing to sell my MacBook Pro 2021 with touchbar, charger, and cool Ouija sk…\n",
            "RT @AWereChicken: To help get closer to my surgery goal, I am willing to sell my MacBook Pro 2021 with touchbar, charger, and cool Ouija sk…\n",
            "RT @AWereChicken: To help get closer to my surgery goal, I am willing to sell my MacBook Pro 2021 with touchbar, charger, and cool Ouija sk…\n",
            "To help get closer to my surgery goal, I am willing to sell my MacBook Pro 2021 with touchbar, charger, and cool Ou… https://t.co/6aJFYR2wl4\n",
            "Two weeks used \n",
            "Battery Cycle Count 12 \n",
            "2021 MacBook Pro \n",
            "14 inch 16 GB 512 SSD \n",
            "Box with accessories\n",
            "Cool offer @… https://t.co/qtzSPqoWtR\n"
          ]
        }
      ]
    },
    {
      "cell_type": "code",
      "source": [
        "query4 = { \"text\": { '$regex': '^.*battery.*$', '$options': 'si' } }\n",
        "cursor = coll.find(query4)\n",
        "\n",
        "for tweet in cursor:\n",
        "    print(tweet['text'])"
      ],
      "metadata": {
        "id": "DGwFPOgWAOB7",
        "outputId": "51bdf71a-10cb-4373-b87b-a14f7285fde2",
        "colab": {
          "base_uri": "https://localhost:8080/"
        }
      },
      "execution_count": null,
      "outputs": [
        {
          "output_type": "stream",
          "name": "stdout",
          "text": [
            "Apple’s 2021 MacBook Pro Lasts 60% Longer Than the Best High-End Notebook’s Battery Timing, Claims New Test https://t.co/q6gxK4gRQ0\n",
            "RT @wccftech: Apple’s 2021 MacBook Pro Lasts 60% Longer Than the Best High-End Notebook’s Battery Timing, Claims New Test https://t.co/NFvB…\n",
            "Apple’s 2021 MacBook Pro Lasts 60% Longer Than the Best High-End Notebook’s Battery Timing, Claims New Test https://t.co/AQlBlbz7rj\n",
            "Apple’s 2021 MacBook Pro Lasts 60% Longer Than the Best High-End Notebook’s Battery Timing, Claims New Test… https://t.co/WhbFZLMDud\n",
            "Design and battery life favour the 2021 edition of the Microsoft #SurfaceProX but the Apple Macbook Pro and Air may… https://t.co/4wJ2VPFauQ\n",
            "RT @Mint_Lounge: Design and battery life favour the 2021 edition of the Microsoft #SurfaceProX but the Apple Macbook Pro and Air may prove…\n",
            "RT @Mint_Lounge: Design and battery life favour the 2021 edition of the Microsoft #SurfaceProX but the Apple Macbook Pro and Air may prove…\n",
            "Two weeks used \n",
            "Battery Cycle Count 12 \n",
            "2021 MacBook Pro \n",
            "14 inch 16 GB 512 SSD \n",
            "Box with accessories\n",
            "Cool offer @… https://t.co/qtzSPqoWtR\n",
            "Design and battery life favour the 2021 edition of the Microsoft #SurfaceProX but the Apple Macbook Pro and Air may… https://t.co/pJA2MHv28f\n",
            "Design and battery life favour the 2021 edition of the Microsoft Surface Pro X but the Apple Macbook Pro and Air ma… https://t.co/wLZMrrGdit\n",
            "RT @Mint_Lounge: Design and battery life favour the 2021 edition of the Microsoft #SurfaceProX but the Apple Macbook Pro and Air may prove…\n",
            "Design and battery life favour the 2021 edition of the Microsoft #SurfaceProX but the Apple Macbook Pro and Air may… https://t.co/4NKBT9qqkT\n",
            "Design and battery life favour the 2021 edition of the Microsoft #SurfaceProX but the Apple Macbook Pro and Air may… https://t.co/PUsmVKetyC\n",
            "Apple MacBook Pro 15\" RAM,  Battery and trackpad replacement.  Apple Expert SA - ZA Support Apple Specialist South… https://t.co/58XvQ6qIKL\n",
            "Apple MacBook Pro 15\" Battery and trackpad replacement.  Apple Expert SA - ZA Support Apple Specialist South Africa… https://t.co/Bs8vtk8Nnd\n"
          ]
        }
      ]
    },
    {
      "cell_type": "markdown",
      "metadata": {
        "collapsed": true,
        "id": "n0iZmkh7Y6Du"
      },
      "source": [
        "# Problem 4 (20 points): Business question \n",
        "\n",
        "Run some additional experiments with your data to gain familiarity with the MongoDB.\n",
        "\n",
        "* Come up with a business question that Twitter data and MongoDB could help answer.\n",
        "* Decribe the business case.\n",
        "* How could MongoDB help a company to scale up its computation environment?"
      ]
    },
    {
      "cell_type": "markdown",
      "source": [
        "Our business lies in helping entrepreneurs better understand their market using twitter data, prior to them making an investing decision. Our research model is flexible and can be used to research just about any topic.\n",
        "\n",
        "The model is the following: \n",
        "1. We determine the market's underserved needs by analyzing negative sentiment tweets related to the business of choice. After collecting all negative sentiment tweets, we determine the most frequently occuring words, and then search for tweets containing these words to get an idea of what the problem / underserved need may be.\n",
        "2. We determine the market's table stakes–– needs that are satisfied by all the other competitors, and thus have to be satisfied by us as well–– to do this we follow an identical algorithm to problem 1, but now we query for tweets with a positive sentiment.\n",
        "3. We identify the creators of most liked and most retweeted positive tweets; and then look for overlapping accounts that they follow. These accounts will be our primary contacts for targeted advertisement of the new product.\n",
        "\n",
        "MongoDB helps us organize this data into different collection and use regular expressions to query data efficiently and accurately."
      ],
      "metadata": {
        "id": "X9QQ8ONpeJgh"
      }
    },
    {
      "cell_type": "markdown",
      "source": [
        "**1. Researching Negative attitude tweets. Pushing to a MongoDB dbs. Looking for most frequent words. Looking for tweets with a geotag to see if we can determine where did negative attitudes come from. Listing 10 sentences where each of the most frequent words occurs to get the idea of what people are unhappy about.**"
      ],
      "metadata": {
        "id": "pzjdfWPeYBkY"
      }
    },
    {
      "cell_type": "code",
      "execution_count": 6,
      "metadata": {
        "id": "Q_JRP_b5Y6Dv",
        "colab": {
          "base_uri": "https://localhost:8080/"
        },
        "outputId": "53a3b7f2-c363-4ef7-ba12-a793e4e100c6"
      },
      "outputs": [
        {
          "output_type": "stream",
          "name": "stdout",
          "text": [
            "182\n"
          ]
        }
      ],
      "source": [
        "# Negative attitudes\n",
        "query1 = 'burger OR burgers :( -filter:retweets'\n",
        "\n",
        "data1 = twitter_api.search.tweets(q=query1, lang='en', count=100)\n",
        "\n",
        "min_id = data1['statuses'][-1]['id']\n",
        "for i in range(10):\n",
        "    tweets = twitter_api.search.tweets(q=query1, lang='en', max_id=min_id, count=100)\n",
        "    min_id = tweets['statuses'][-1]['id']\n",
        "    data1['statuses'] += tweets['statuses']\n",
        "\n",
        "statuses1 = data1['statuses']\n",
        "print(len(statuses1))\n",
        "coll_neg = db['cs2_coll_neg']\n",
        "coll_neg.drop()\n",
        "_ = coll_neg.insert_many(statuses1)"
      ]
    },
    {
      "cell_type": "code",
      "source": [
        "# Similar to Case Study 1, looking at most common words\n",
        "\n",
        "import re\n",
        "exclude = ['rt', 'in', 'the', 'for','of', 'to', 'and', 'a', 'is', 'are', 'on', 'from', 'that', 'this', 'these', 'with', 'what', 'it', 'if', 'or', 'but', 'your', 'be', 'you', 'my', 'at', 'd', 'its', 'i', 'so', 'was', 'he', 'me', 'no', 'about']\n",
        "\n",
        "tweet_texts_neg = [ re.sub(r'[^\\w\\s#@]', '', tweets['text']) for tweets in statuses1 ]\n",
        "print(tweet_texts_neg[0])\n",
        "words_neg = [ w for t in tweet_texts_neg for w in t.lower().split() ]\n",
        "words_neg = list(filter(lambda x: x not in exclude, words_neg))\n",
        "print(words_neg[1])"
      ],
      "metadata": {
        "id": "w6eMTHwBUqgT",
        "outputId": "3986c33b-0143-40fb-fff8-de263aa5521e",
        "colab": {
          "base_uri": "https://localhost:8080/"
        }
      },
      "execution_count": 8,
      "outputs": [
        {
          "output_type": "stream",
          "name": "stdout",
          "text": [
            "shadow dedede update Hammed burger \n",
            "dedede\n"
          ]
        }
      ]
    },
    {
      "cell_type": "code",
      "source": [
        "from prettytable import PrettyTable\n",
        "from collections import Counter\n",
        "\n",
        "c = Counter(words_neg)\n",
        "top_words_neg = c.most_common()[:10]\n",
        "print(top_words_neg) # top 10\n",
        "\n",
        "pt = PrettyTable(field_names=['Word', 'Count'])\n",
        "[ pt.add_row(kv) for kv in c.most_common()[:10] ]\n",
        "pt.align['Word'], pt.align['Count'] = 'l', 'r'\n",
        "print(pt)"
      ],
      "metadata": {
        "id": "G4TVsj3fVX5K",
        "outputId": "b612fc85-771c-456b-8f60-39534985a100",
        "colab": {
          "base_uri": "https://localhost:8080/"
        }
      },
      "execution_count": 12,
      "outputs": [
        {
          "output_type": "stream",
          "name": "stdout",
          "text": [
            "[('burger', 145), ('im', 29), ('burgers', 22), ('fries', 21), ('like', 18), ('want', 17), ('dont', 16), ('king', 14), ('just', 13), ('have', 12)]\n",
            "+---------+-------+\n",
            "| Word    | Count |\n",
            "+---------+-------+\n",
            "| burger  |   145 |\n",
            "| im      |    29 |\n",
            "| burgers |    22 |\n",
            "| fries   |    21 |\n",
            "| like    |    18 |\n",
            "| want    |    17 |\n",
            "| dont    |    16 |\n",
            "| king    |    14 |\n",
            "| just    |    13 |\n",
            "| have    |    12 |\n",
            "+---------+-------+\n"
          ]
        }
      ]
    },
    {
      "cell_type": "code",
      "source": [
        "# Attempt to look for negative sentiment tweets with a geo-tag. Might give us an idea of where competitors fail or make bad burgers\n",
        "query_neg1 = { \"geo\": { '$ne': None } }\n",
        "cursor = coll_neg.find(query_neg1)\n",
        "\n",
        "for tweet in cursor:\n",
        "    print(tweet['text'])"
      ],
      "metadata": {
        "id": "djfhuFZISA1t"
      },
      "execution_count": 20,
      "outputs": []
    },
    {
      "cell_type": "code",
      "source": [
        "# Looking at tweets that have the most used words\n",
        "for combo in top_words_neg:\n",
        "    print(combo[0])\n",
        "    query = { \"text\": { '$regex': '^.* '+ combo[0] + ' .*$', '$options': 'si' } }\n",
        "    cursor = coll_neg.find(query)\n",
        "    i = 0\n",
        "    # Printing first 10 tweets\n",
        "    for tweet in cursor:\n",
        "        if i >= 10:\n",
        "            break\n",
        "        print(tweet['text'], '\\n')\n",
        "        i += 1\n",
        "\n",
        "    print(\"-\"*100)"
      ],
      "metadata": {
        "id": "YORgp_sIbIB0",
        "outputId": "5cb18ed6-e467-4eb0-9a74-2dcc11e4e946",
        "colab": {
          "base_uri": "https://localhost:8080/"
        }
      },
      "execution_count": 26,
      "outputs": [
        {
          "output_type": "stream",
          "name": "stdout",
          "text": [
            "burger\n",
            "shadow dedede update! Hammed burger :( \n",
            "\n",
            "@willcookieosu https://t.co/VXBbOZsOHm I’m dookie burger :( \n",
            "\n",
            "@SquishyBlooper Jojo now i want a burger and its your fault buy me one now pls :( \n",
            "\n",
            "Why is there burger slander on my tl :( I like everything on my burger!!! \n",
            "\n",
            "my mom is making me eat a veggie burger with my salad for dinner and I wanna cry :(( my total calories today are 1,… https://t.co/ioEwW57LON \n",
            "\n",
            "@TMobile hi I’m not able to redeem my shake shack burger on your app :( \n",
            "\n",
            "@lady_ornge Burger and ribs from Applebees. It was probably delicious. :( \n",
            "\n",
            "Wtf happened to union burger on mlk? :( \n",
            "\n",
            "please don’t do this to burger :( https://t.co/eLPxGgLeze \n",
            "\n",
            "Sometimes big burger is too much for dinner :( \n",
            "\n",
            "----------------------------------------------------------------------------------------------------\n",
            "im\n",
            "@howhighcanufly HEHE YAAAAY WENDYS WAT DID U GET FROM THERE? IM@GONNA GUESS A BURGER.. ALSO IM GOOD! im bORED JUST… https://t.co/rBRdLjEnfT \n",
            "\n",
            "yikes im sorry anon &lt;/3 i dont like pickles too they destroy the whole entire burger/sandwich sometimes :( but you… https://t.co/356Bfw0iCO \n",
            "\n",
            "@Grande_hii Im honestly not that big of a picky eater, but the burger was cold, the chicken wasnt well cooked AT AL… https://t.co/7VbFbHBXpJ \n",
            "\n",
            "wtf i want a burger now im hungy :( \n",
            "\n",
            "----------------------------------------------------------------------------------------------------\n",
            "burgers\n",
            "@juzaluna okay but their burgers are good :(( \n",
            "\n",
            "@BAYC2745 Is it allowed to flip burgers tho? :( \n",
            "\n",
            "\"Unfair.\" :(\n",
            "\n",
            "Sad vampire noises, she wished she could eat burgers in the morning https://t.co/yPS0ceKfPl \n",
            "\n",
            "I haven’t watched Bob’s Burgers in many days :( \n",
            "\n",
            "I remember my uncle took me to see this movie then we picked up some burgers on the way home.. how I wish shit stay… https://t.co/znz7M95mXp \n",
            "\n",
            "@iHateToriSpring ass burgers :( \n",
            "\n",
            "@ataaashi it’s so bad , they don’t have wraps / burgers / paella :( \n",
            "\n",
            "@nataliasloam @msmarbles2017 @MeatlessFarm Beyond burgers were on offer on @ocado a couple of weeks ago for £3 a pa… https://t.co/OWXTK1R5sk \n",
            "\n",
            "Dont forget to interact with tag boosters burgers :((( \n",
            "\n",
            "KEEP CALM WithSEHAM \n",
            "\n",
            "still craving those burgers :( https://t.co/SYtNpeKCsr \n",
            "\n",
            "----------------------------------------------------------------------------------------------------\n",
            "fries\n",
            "Really hope they bring fries with my burger :( \n",
            "\n",
            "drive thru worker @ burger king fucked up my order &gt;:((( wanted sammich, got fries &gt;:((((((( \n",
            "\n",
            "then when i woke up i had to throw the burger and fries in the trash :(((( \n",
            "\n",
            "IM CRAVING A BIG BURGER WITH FRIES !! :( \n",
            "\n",
            "in the mood for burger and fries :(( \n",
            "\n",
            "Wow not only are these “new” fries not hot and crispy, but I ordered 2 big bacon classic combos and got cold burger… https://t.co/8GfO5Bwg48 \n",
            "\n",
            "my dad bought me fries &amp; burger :( \n",
            "\n",
            "@nekudotexe sorry I just spent it all on fries and burger :( \n",
            "\n",
            "The burger king people didn't tell me the fries were hot af and I burned my tongue :( \n",
            "\n",
            "----------------------------------------------------------------------------------------------------\n",
            "like\n",
            "Why is there burger slander on my tl :( I like everything on my burger!!! \n",
            "\n",
            "@lesmis456 Depends. Do you want to bite into potatowedges and feel like ur eating a whole potato? Loblaws. You want… https://t.co/ZBxBTxIGs1 \n",
            "\n",
            "@lwashburn2 i used to get the one at mcnellies until i had one that tasted like they used plantains that were too r… https://t.co/N3NwIpaXUV \n",
            "\n",
            "@Chilly_Pat I actually don’t like any sort of fish :( I’ll try the nugget burger tho \n",
            "\n",
            "yikes im sorry anon &lt;/3 i dont like pickles too they destroy the whole entire burger/sandwich sometimes :( but you… https://t.co/356Bfw0iCO \n",
            "\n",
            "@pixeledpalace he looks like he would try to sell me on a 30 dollar burger reheated in a microwave :( \n",
            "\n",
            "Cancel me I don't like carrots in my burger :(\n",
            "Sorry Coarly \n",
            "\n",
            "@danielpape78 @FeagleLegal @cnnbrk Oh no my burger will cost $0.25 more because people don’t like crashing and dying on bridges :(( \n",
            "\n",
            "@PhilJamesson It's right up there with awesomesauce. \n",
            "\n",
            "Feel like in hell every meal is a nothing burger with awesomesauce. :( \n",
            "\n",
            "@leafpilled Right, like Fat women could talk abt being constantly criticized, medical professionals supporting EDs,… https://t.co/MWcC5aPKhF \n",
            "\n",
            "----------------------------------------------------------------------------------------------------\n",
            "want\n",
            "@SquishyBlooper Jojo now i want a burger and its your fault buy me one now pls :( \n",
            "\n",
            "@Justaethan oh okay :( i have a burger 🍔🍔 also do you want that? \n",
            "\n",
            "i want a burger :(( \n",
            "\n",
            "@lesmis456 Depends. Do you want to bite into potatowedges and feel like ur eating a whole potato? Loblaws. You want… https://t.co/ZBxBTxIGs1 \n",
            "\n",
            "i want a burger its 9:37 am :( \n",
            "\n",
            "i want my burger ramly and keropok lekor :( \n",
            "\n",
            "I eated 2 burger I want third but there is no third burger :(( \n",
            "\n",
            "the way my cravings change spontaneously. few mins ago I was craving a lamb burger and ordered one, now I want oxtail instead :( \n",
            "\n",
            "i want a burger so bad rn. with a bun :-( \n",
            "\n",
            "if i ever go to america i want to get mrbeast burger\n",
            "\n",
            "im not going if i wont get a dream burger &gt;:( \n",
            "\n",
            "----------------------------------------------------------------------------------------------------\n",
            "dont\n",
            "shout out to my friend ■■■■■ last night saying \"no dont make dwayne do it :((((\" \n",
            "\n",
            "yikes im sorry anon &lt;/3 i dont like pickles too they destroy the whole entire burger/sandwich sometimes :( but you… https://t.co/356Bfw0iCO \n",
            "\n",
            "----------------------------------------------------------------------------------------------------\n",
            "king\n",
            "@camilosroxiie oh :(( burger king instead? 👀 \n",
            "\n",
            "not burger king giving me the wrong order &gt;:((( \n",
            "\n",
            "drive thru worker @ burger king fucked up my order &gt;:((( wanted sammich, got fries &gt;:((((((( \n",
            "\n",
            "@maggiejayh this gave me the motivation to doordash burger king (no better burger places around :( ) \n",
            "\n",
            "@sundaesupreeme There is no Burger King here :(\n",
            "Ngl if there were I’d prob try it \n",
            "\n",
            "Every Starbucks in Lodi is closed :( so I’m getting an iced coffee from Burger King 😬😬😬 \n",
            "\n",
            "Every Starbucks in Lodi is closed :( so I’m getting an iced coffee from Burger King 😬😬😬 \n",
            "\n",
            "I miss burger king :(( \n",
            "\n",
            "2/2 I was really hungry so I got burger king on the way home from class :((( I'm sorry \n",
            "\n",
            "@Bloxy_News I want the burger king crown :( \n",
            "\n",
            "----------------------------------------------------------------------------------------------------\n",
            "just\n",
            "📷 I just realize I forgot to bring a piece of cheese :((((( #LunchTime #LowCarb #lchf #keto #dirtyketo #burgers… https://t.co/3SQ37dsxwz \n",
            "\n",
            "@nrnvan You're having burger? Should've invited me tho :( i had salad just now which is bland \n",
            "\n",
            "I just seen some sad cows tied up on a truck :( how can I enjoy my burger now? \n",
            "\n",
            "@GrahfMetal Also, explosive-spamming enemies in Doom just reminds me WAY too much of Call of Duty. I’m the Doom Mar… https://t.co/oXR5hRma38 \n",
            "\n",
            "i just finished watching all of bobs burgers :(( \n",
            "\n",
            "@fujifinite I just wanted my kids burger and the happy meal toys :( \n",
            "\n",
            "@McDonaldsUK I am vegan and I went to buy a Mcplant burger meal. I received a fish burger and I just had a bite. Re… https://t.co/ULniPdttWw \n",
            "\n",
            "@nekudotexe sorry I just spent it all on fries and burger :( \n",
            "\n",
            "U ever just fall on ur ass in the street just so you can get a burger :( \n",
            "\n",
            "@EmersenLee If your gonna have tofu, just have tofu.  It's not bad, but tofu burger just seems like lying to yourself :( \n",
            "\n",
            "----------------------------------------------------------------------------------------------------\n",
            "have\n",
            "@Justaethan oh okay :( i have a burger 🍔🍔 also do you want that? \n",
            "\n",
            "When mr beast burger doesn’t have a restaurant in Spain :( \n",
            "\n",
            "@toprak_mim @oatly @MictheVegan @RyanLum In our dreams: @PatrikBaboumian \n",
            "When we wake up: \"We don't have Moving Mo… https://t.co/1QXJbBHgho \n",
            "\n",
            "@ataaashi it’s so bad , they don’t have wraps / burgers / paella :( \n",
            "\n",
            "I’ve always wanted to be an animator but I always have to do homework and go to school :( \n",
            "\n",
            "@thwimbooo @DynamoSuperX Jeez that’s terrible! Have you tried reporting that to the police or sue? They have no rig… https://t.co/mWtdM719xd \n",
            "\n",
            "@_TheKendrick going to the dining hall and seeing tater tot’s ruins me. but i can’t have a burger without some sort of potato :( \n",
            "\n",
            "@EchoTheNeko You can’t have my burger &gt;:( \n",
            "\n",
            "why does lark burger have to be the best burger but also the most expensive :( \n",
            "\n",
            "@EmersenLee If your gonna have tofu, just have tofu.  It's not bad, but tofu burger just seems like lying to yourself :( \n",
            "\n",
            "----------------------------------------------------------------------------------------------------\n"
          ]
        }
      ]
    },
    {
      "cell_type": "markdown",
      "source": [
        "**2. Researching Positive attitude tweets. Pushing to a MongoDB dbs. Looking for most frequent words. Looking for tweets with a geotag to see if we can determine where did positive attitudes come from. Listing 10 sentences where each of the most frequent words occurs to get the idea of what people are unhappy about.**"
      ],
      "metadata": {
        "id": "cQG8PjRVYlTY"
      }
    },
    {
      "cell_type": "code",
      "source": [
        "# Positive attitudes\n",
        "query2 = 'burger OR burgers :) -filter:retweets'\n",
        "\n",
        "data2 = twitter_api.search.tweets(q=query2, lang='en', count=100)\n",
        "\n",
        "min_id = data2['statuses'][-1]['id']\n",
        "for i in range(10):\n",
        "    tweets = twitter_api.search.tweets(q=query2, lang='en', max_id=min_id, count=100)\n",
        "    min_id = tweets['statuses'][-1]['id']\n",
        "    data2['statuses'] += tweets['statuses']\n",
        "\n",
        "statuses2 = data2['statuses']\n",
        "print(len(statuses2))\n",
        "coll_pos = db['cs2_coll_pos']\n",
        "coll_pos.drop()\n",
        "_ = coll_pos.insert_many(statuses2)"
      ],
      "metadata": {
        "id": "BQ0P-YVAO6lC",
        "colab": {
          "base_uri": "https://localhost:8080/"
        },
        "outputId": "f894d0d0-cdb3-405e-8896-e258ef468c6c"
      },
      "execution_count": 7,
      "outputs": [
        {
          "output_type": "stream",
          "name": "stdout",
          "text": [
            "412\n"
          ]
        }
      ]
    },
    {
      "cell_type": "code",
      "source": [
        "tweet_texts_pos = [ re.sub(r'[^\\w\\s#@]', '', tweets['text']) for tweets in statuses2 ]\n",
        "print(tweet_texts_pos[0])\n",
        "words_pos = [ w for t in tweet_texts_pos for w in t.lower().split() ]\n",
        "words_pos = list(filter(lambda x: x not in exclude, words_pos))\n",
        "print(words_pos[1])"
      ],
      "metadata": {
        "id": "sj9YLEBLWE43",
        "outputId": "61b91845-8669-4f55-be96-daa32a19c6f1",
        "colab": {
          "base_uri": "https://localhost:8080/"
        }
      },
      "execution_count": 11,
      "outputs": [
        {
          "output_type": "stream",
          "name": "stdout",
          "text": [
            "@TheReal_Tweezy1 @burger_crypto u can put some on chihuahua might be a surprise or not  you never know \n",
            "@burger_crypto\n"
          ]
        }
      ]
    },
    {
      "cell_type": "code",
      "source": [
        "c = Counter(words_pos)\n",
        "top_words_pos = c.most_common()[:10]\n",
        "print(top_words_pos) # top 10\n",
        "\n",
        "pt = PrettyTable(field_names=['Word', 'Count'])\n",
        "[ pt.add_row(kv) for kv in c.most_common()[:10] ]\n",
        "pt.align['Word'], pt.align['Count'] = 'l', 'r'\n",
        "print(pt)"
      ],
      "metadata": {
        "id": "KAhY3xHFWLee",
        "outputId": "35284f6c-386c-4f04-92ef-38ef54a8646f",
        "colab": {
          "base_uri": "https://localhost:8080/"
        }
      },
      "execution_count": 23,
      "outputs": [
        {
          "output_type": "stream",
          "name": "stdout",
          "text": [
            "[('burger', 241), ('burgers', 104), ('like', 33), ('king', 33), ('im', 32), ('good', 30), ('have', 28), ('had', 25), ('get', 23), ('we', 23)]\n",
            "+---------+-------+\n",
            "| Word    | Count |\n",
            "+---------+-------+\n",
            "| burger  |   241 |\n",
            "| burgers |   104 |\n",
            "| like    |    33 |\n",
            "| king    |    33 |\n",
            "| im      |    32 |\n",
            "| good    |    30 |\n",
            "| have    |    28 |\n",
            "| had     |    25 |\n",
            "| get     |    23 |\n",
            "| we      |    23 |\n",
            "+---------+-------+\n"
          ]
        }
      ]
    },
    {
      "cell_type": "code",
      "source": [
        "# similar attempt to find positive \"burger\" tweets with a geotag\n",
        "query_pos1 = { \"geo\": { \"$ne\": None } }\n",
        "cursor = coll_pos.find(query_pos1)\n",
        "\n",
        "for tweet in cursor:\n",
        "    print(tweet['text'])"
      ],
      "metadata": {
        "id": "sl8ELQL8Shtv"
      },
      "execution_count": 28,
      "outputs": []
    },
    {
      "cell_type": "code",
      "source": [
        "for combo in top_words_pos:\n",
        "    print(combo[0])\n",
        "    query = { \"text\": { '$regex': '^.*'+ combo[0] + '.*$', '$options': 'si' } }\n",
        "    cursor = coll_pos.find(query)\n",
        "    i = 0\n",
        "    # Printing first 10 tweets\n",
        "    for tweet in cursor:\n",
        "        if i >= 10:\n",
        "            break\n",
        "        print(tweet['text'], '\\n')\n",
        "        i += 1\n",
        "\n",
        "    print(\"-\"*100)"
      ],
      "metadata": {
        "id": "kP1YxDCicvgK",
        "outputId": "004e1322-fc46-481b-cacc-e88e7bc6529a",
        "colab": {
          "base_uri": "https://localhost:8080/"
        }
      },
      "execution_count": 25,
      "outputs": [
        {
          "output_type": "stream",
          "name": "stdout",
          "text": [
            "burger\n",
            "@TheReal_Tweezy1 @burger_crypto u can put some on chihuahua, might be a surprise or not , you never know :))) \n",
            "\n",
            "mob at mobdonalds: i think i'll get... \n",
            "me: a burger menu? :) \n",
            "mob: oh, hanazawa, how did you know? \n",
            "me, on my phon… https://t.co/TNdglSyV68 \n",
            "\n",
            "@Chris_De_Burger @AviationGin @RMcElhenney @VancityReynolds Mate its for all Wrexham fans and they don’t come more… https://t.co/JMzOkjumVb \n",
            "\n",
            "Love for Burgers (Welly's) and Hate for Elonmusk :) \n",
            "\n",
            "kinda wanna die na rin while eating this burger : ) i think i lost it \n",
            "\n",
            "cushioned header to didi the lfc legend :) mate he's jus a thick , tory , plastic flag waving cheese burger 😆🤣🤣 , p… https://t.co/VlnPTHWgyC \n",
            "\n",
            "@georgeonthecob OH SORRY In my family we call dinner tea for some reason but we’re cooking burgers :D \n",
            "\n",
            "@rondeaulivia •Bar/restaurant/club: Sidecar Social in Addison, TX\n",
            "•Liberty Burger in Addison, TX\n",
            "•Kura Revolving Su… https://t.co/nSCWDZLc8Y \n",
            "\n",
            "@SNLSABRINA hi!! i like new girl, snl, bobs burgers, and ted lasso :D \n",
            "\n",
            "Heya Kyle wanna a date for Valentine's day? I do it for a burger :D - Samuel — depends how old are you (i'm 17 and… https://t.co/7xdSHduV3S \n",
            "\n",
            "----------------------------------------------------------------------------------------------------\n",
            "burgers\n",
            "Love for Burgers (Welly's) and Hate for Elonmusk :) \n",
            "\n",
            "@georgeonthecob OH SORRY In my family we call dinner tea for some reason but we’re cooking burgers :D \n",
            "\n",
            "@SNLSABRINA hi!! i like new girl, snl, bobs burgers, and ted lasso :D \n",
            "\n",
            "@HellCatsup @yuuticio I prefer to consume my burgers as a gentleman and a fancy boi :) \n",
            "\n",
            "@KweenJosie I went to college. The school was giving out burgers so I got one. I went to visit a great aunt in her… https://t.co/q3A6TsDDZy \n",
            "\n",
            "@rose_bud_xoxo i ate dinner!! my dad made burgers :))\n",
            "it was just shitty and things like the fuel ed culture a lot… https://t.co/UX6GtLnM1B \n",
            "\n",
            "@seanced0wnbel0w I fuckin love pepper jack. I have switched to habenaro Jack tho! Esp for burgers. :) \n",
            "\n",
            "-Do you like burgers?\n",
            "+Me: This is god, speaking to us through the food :)) https://t.co/enKt6GWtN2 \n",
            "\n",
            "@SaketSi42274211 @kaushikrj6 Really dude?! By tat logic, y are we wearing pants, coat suits, eating burgers pizzas… https://t.co/lQyQeZSgDh \n",
            "\n",
            "Omg two boxes to go till I'm fully unpacked :-) four weeks till my birthday! Organising a lunch at Betty's burgers… https://t.co/hloR5RAoQT \n",
            "\n",
            "----------------------------------------------------------------------------------------------------\n",
            "like\n",
            "@SNLSABRINA hi!! i like new girl, snl, bobs burgers, and ted lasso :D \n",
            "\n",
            "@rose_bud_xoxo i ate dinner!! my dad made burgers :))\n",
            "it was just shitty and things like the fuel ed culture a lot… https://t.co/UX6GtLnM1B \n",
            "\n",
            "@NeonPixelTTV @yuuticio You’re telling me you don’t like putting soggy burger bread on top :) ? \n",
            "\n",
            "i need more snl and sitcom moots. so if you like snl, b99, abbott elementary, new girl, modern family, superstore,… https://t.co/ImIzYQuFmb \n",
            "\n",
            "-Do you like burgers?\n",
            "+Me: This is god, speaking to us through the food :)) https://t.co/enKt6GWtN2 \n",
            "\n",
            "@HistoriaLibra Just like there is only one burger and cupcake fox, there is only one Libra :D \n",
            "\n",
            "YOUTUBE!! HUH HUH i fell scroll serious :) recome a burger May i can you like literally everything in - finished do have \n",
            "\n",
            "also i’d like to say that hungry jacks is australian burger king :) \n",
            "\n",
            "@rektfoodfarmer A true FTM’er can’t choose one, there are too many good ones lol thats like someone at McDonald’s s… https://t.co/YGDe8Gxl8W \n",
            "\n",
            "@tlrpclock when something like, annoying happens, you can always say \"not this\"! its basically the same as \"this su… https://t.co/PsK5xAp9wD \n",
            "\n",
            "----------------------------------------------------------------------------------------------------\n",
            "king\n",
            "And the “eMplOyeRs sHoUld pAy yOu mOrE” argument is fucking stupid. If my employer paid me what I should be getting… https://t.co/VPxFkiPAy6 \n",
            "\n",
            "@georgeonthecob OH SORRY In my family we call dinner tea for some reason but we’re cooking burgers :D \n",
            "\n",
            "@almeidamarcell Burger King :) \n",
            "\n",
            "@Garyville_Girl Burger King stock just rose exponentially on this news :-) \n",
            "\n",
            "-Do you like burgers?\n",
            "+Me: This is god, speaking to us through the food :)) https://t.co/enKt6GWtN2 \n",
            "\n",
            "McDonalds o Burger King? :D \n",
            "\n",
            "also i’d like to say that hungry jacks is australian burger king :) \n",
            "\n",
            "on a second floor of a mang inasal alone eating burger king :)) https://t.co/c1bgDMLrr4 \n",
            "\n",
            "@singersrinivas @manujosephsan Exactly , active present is powerful and mysterious , imagine Usain Bolt thinking of… https://t.co/fxS3VI9VAq \n",
            "\n",
            "@IrlClefairy I GOT BURGER KING AND YES THIS WAS JANE INSPIRED!!! :D \n",
            "\n",
            "----------------------------------------------------------------------------------------------------\n",
            "im\n",
            "If I ever blow up, Ima make I have a McDonald’s meal.\n",
            "\n",
            "• Quarter Pounder Deluxe w/ No Onions, No Pickles, No Mustar… https://t.co/cfd9StpARQ \n",
            "\n",
            "@LauraOinAK Yaaaas!!! I tried that for the first time (on a burger) a few years ago and I’ve never looked back :) \n",
            "\n",
            "@tataru__ i did not have anything for breakfast but its 12am over here so im telling u what i had today !! i had pi… https://t.co/5Q972BhLTm \n",
            "\n",
            "@CM147143 I'll give you time. Eat a burger or a chocolate-covered bacon while you think. :) \n",
            "\n",
            "i need more snl and sitcom moots. so if you like snl, b99, abbott elementary, new girl, modern family, superstore,… https://t.co/ImIzYQuFmb \n",
            "\n",
            "@bicharrac0 @OsakaJack Vaguely Southwestern-food. Neither Mexicans nor actual-Southwestern-US residents were impres… https://t.co/416QA14EUB \n",
            "\n",
            "@singersrinivas @manujosephsan Exactly , active present is powerful and mysterious , imagine Usain Bolt thinking of… https://t.co/fxS3VI9VAq \n",
            "\n",
            "@nx1co_ hotdog and burger &gt;:D minus intimidating &lt;3 \n",
            "\n",
            "@Joanwestenberg Tried the burgers at Crowbar? search ULTIMATE PIG :) \n",
            "\n",
            "I only ever go to burger king for impossible burgers I'm so happy to finally have options even if it's minor :) \n",
            "\n",
            "----------------------------------------------------------------------------------------------------\n",
            "good\n",
            "@rektfoodfarmer A true FTM’er can’t choose one, there are too many good ones lol thats like someone at McDonald’s s… https://t.co/YGDe8Gxl8W \n",
            "\n",
            "btw, hoshi's burger pic looks so good and i'm currently fasting :)))))) \n",
            "\n",
            "@calpicostrawb currently comforting is murderville a new will arnett show :) bob's burgers is always a good choice \n",
            "\n",
            "@BT_BlackThunder Hey everyone, come check out my Dying Light 2 Let’s Play on PS5! I’m currently taking a good burge… https://t.co/v1dt0NEhHe \n",
            "\n",
            "The way a good burger cheers you up :) \n",
            "\n",
            "went out by myself today. 2 malls, no way home, burger king, 2 sticks :))) feeling good good :))) haven't done this in awhile :))) \n",
            "\n",
            "Today was a good day\n",
            "- Got to use a power tool (immediate 7/10)\n",
            "- Ate at my fav fast food burger place for lunch (I… https://t.co/GgGABqhbzG \n",
            "\n",
            "@mitchblevins To answer her question, sort of, give her a Tucker's onion burger. Looks and tastes like meat because it is meat. So good. :P \n",
            "\n",
            "@MarkCalc In fairness, you were eating. A burger :-)\n",
            "\n",
            "Your very good Open podcast somewhat blunted my memory. I sen… https://t.co/Elyt1smQbT \n",
            "\n",
            "@tanamarieberry @_Talesh that’s a very good question! I think it’s important to balance burgers from Parasol so we… https://t.co/8tZotgSBRx \n",
            "\n",
            "----------------------------------------------------------------------------------------------------\n",
            "have\n",
            "If I ever blow up, Ima make I have a McDonald’s meal.\n",
            "\n",
            "• Quarter Pounder Deluxe w/ No Onions, No Pickles, No Mustar… https://t.co/cfd9StpARQ \n",
            "\n",
            "i have burger burger burger :)) \n",
            "\n",
            "@seanced0wnbel0w I fuckin love pepper jack. I have switched to habenaro Jack tho! Esp for burgers. :) \n",
            "\n",
            "@tataru__ i did not have anything for breakfast but its 12am over here so im telling u what i had today !! i had pi… https://t.co/5Q972BhLTm \n",
            "\n",
            "@BurgerFi @USATODAY Just to clarify, we don't have a \"best burger chain\" category. :) It's an award for Best Fast Casual Restaurant! \n",
            "\n",
            "YOUTUBE!! HUH HUH i fell scroll serious :) recome a burger May i can you like literally everything in - finished do have \n",
            "\n",
            "🌙 do you have favorite brand that you like to eat?\n",
            "\n",
            "🐱: In &amp; Out Burger Jalapeno's a lot :))\n",
            "\n",
            "#레이븐 #oneus https://t.co/6zKzV4c87t \n",
            "\n",
            "I only ever go to burger king for impossible burgers I'm so happy to finally have options even if it's minor :) \n",
            "\n",
            "@absomarvilla You also don’t have a clue on how to spell my name! That said, when it comes to the #impossibleburger… https://t.co/Lcy5F3o6lv \n",
            "\n",
            "@radiodreading And now I want a burger, dammit. :) No, I have no clue and I will finish the manga before I dare put… https://t.co/PQuUvMJnp2 \n",
            "\n",
            "----------------------------------------------------------------------------------------------------\n",
            "had\n",
            "@tataru__ i did not have anything for breakfast but its 12am over here so im telling u what i had today !! i had pi… https://t.co/5Q972BhLTm \n",
            "\n",
            "walked 3 blocks to get pan dulce and they had none :))))))))) had to come back in the rain also 💯💯💯💯 \n",
            "\n",
            "@Hero93438531 Thank you :) had burger &amp; homemade chips for dinner.. Just having a cuppa now \n",
            "\n",
            "@bicharrac0 @OsakaJack I've had a veggie burger at Chili's Bar &amp; Grill with fried onion rings. Chili's is not great… https://t.co/xKPA5LCJmA \n",
            "\n",
            "Had Steak ‘n Shake for the first time today and was not disappointed :) I love trying burger places, who wants to take me to In ‘n Out next \n",
            "\n",
            "i had a burger, forgot which type, a pepsi and 3/4th of a choco lava cake. I'm capping the burger at 650 cals and t… https://t.co/bbm3TXOgCD \n",
            "\n",
            "i have sudden plans to meet my friends today! first time after almost 2 years! I'm so glad I've only had a glass of… https://t.co/gxYA8YTYEK \n",
            "\n",
            "@dream_bee1 I had a great day! Started out lazy watching my bf play pokemon and then i streamed Spore. Now I'm fini… https://t.co/5K2MMiZQf5 \n",
            "\n",
            "i have had today: a veggie burger, a small pizza, n tofu pad see ew &lt;3 my body is adjusting to the stretched lining… https://t.co/Nrouzg7ysh \n",
            "\n",
            "@servicerotties You got a burger n fries :) Thats nice, I also had burger today :) \n",
            "\n",
            "----------------------------------------------------------------------------------------------------\n",
            "get\n",
            "mob at mobdonalds: i think i'll get... \n",
            "me: a burger menu? :) \n",
            "mob: oh, hanazawa, how did you know? \n",
            "me, on my phon… https://t.co/TNdglSyV68 \n",
            "\n",
            "And the “eMplOyeRs sHoUld pAy yOu mOrE” argument is fucking stupid. If my employer paid me what I should be getting… https://t.co/VPxFkiPAy6 \n",
            "\n",
            "Eating a butter burger to get out of my feelings :) \n",
            "\n",
            "walked 3 blocks to get pan dulce and they had none :))))))))) had to come back in the rain also 💯💯💯💯 \n",
            "\n",
            "mob at mobdonalds: i think i'll get... \n",
            "me: a burger menu? :) \n",
            "mob: oh, hanazawa, how did you know? \n",
            "me, on my phon… https://t.co/06PsYck9g3 \n",
            "\n",
            "@breakcorefan420 @gum_mp3 Hahaha I remember calling in sick the day after getting Arby’s MEAT MOUNTAIN :p I’m scare… https://t.co/5wfWtsuD4M \n",
            "\n",
            "@Saskgal80 @MarkEllison06 Lol! Well she said she wanted s burger mail and meant burger meal so I didn’t get the fries and she was mad :) \n",
            "\n",
            "@CheekyVic Just get a non cheese burger 🍔 u are an intelligent girl don't panic!!!!:) \n",
            "\n",
            "@Kitsune__Spirit i wish for vegetarian burger :) \n",
            "\n",
            "mob at mobdonalds: i think i'll get... \n",
            "me: a burger menu? :) \n",
            "mob: oh, hanazawa, how did you know? \n",
            "me, on my phon… https://t.co/rUBUPKOrE3 \n",
            "\n",
            "----------------------------------------------------------------------------------------------------\n",
            "we\n",
            "@TheReal_Tweezy1 @burger_crypto u can put some on chihuahua, might be a surprise or not , you never know :))) \n",
            "\n",
            "Love for Burgers (Welly's) and Hate for Elonmusk :) \n",
            "\n",
            "@georgeonthecob OH SORRY In my family we call dinner tea for some reason but we’re cooking burgers :D \n",
            "\n",
            "@Sidskadee At first I thought it was a weird bun-less burger :p \n",
            "\n",
            "@KweenJosie I went to college. The school was giving out burgers so I got one. I went to visit a great aunt in her… https://t.co/q3A6TsDDZy \n",
            "\n",
            "@wishinguwellxo burger hit better with cheese :D \n",
            "\n",
            "@BurgerFi @USATODAY Just to clarify, we don't have a \"best burger chain\" category. :) It's an award for Best Fast Casual Restaurant! \n",
            "\n",
            "@garyvee Ahahaha I landed in dubai already, now waiting my burger at SALT next to emirates towers :) join me, my treat \n",
            "\n",
            "@bicharrac0 @OsakaJack Vaguely Southwestern-food. Neither Mexicans nor actual-Southwestern-US residents were impres… https://t.co/416QA14EUB \n",
            "\n",
            "@SaketSi42274211 @kaushikrj6 Really dude?! By tat logic, y are we wearing pants, coat suits, eating burgers pizzas… https://t.co/lQyQeZSgDh \n",
            "\n",
            "----------------------------------------------------------------------------------------------------\n"
          ]
        }
      ]
    },
    {
      "cell_type": "markdown",
      "source": [
        "**3. Finding 20 most popular retweeted tweets and 20 most liked tweets from positive attitude tweets. Looking for overlaps in who these people follow. Listing these accounts as primary contacts for targeted advertisement.**"
      ],
      "metadata": {
        "id": "_gx541IUY7bl"
      }
    },
    {
      "cell_type": "code",
      "source": [
        "tweets = [\n",
        "          (pop_tweet['retweet_count'], \n",
        "             pop_tweet['user']['screen_name'],\n",
        "             pop_tweet['text'])\n",
        "          for pop_tweet in statuses2\n",
        "            if 'retweeted_status' not in pop_tweet\n",
        "]\n",
        "pt = PrettyTable(field_names=['RT Count', 'Screen Name', 'Text'])\n",
        "[ pt.add_row(row) for row in sorted(tweets, reverse=True)[:20] ]\n",
        "pt.max_width['Text'] = 50\n",
        "pt.align= 'l'\n",
        "print(pt)"
      ],
      "metadata": {
        "colab": {
          "base_uri": "https://localhost:8080/"
        },
        "id": "7O6E-MROZz7K",
        "outputId": "fef3f6ae-612f-477f-c9c2-59808f0a20f9"
      },
      "execution_count": 36,
      "outputs": [
        {
          "output_type": "stream",
          "name": "stdout",
          "text": [
            "+----------+-----------------+----------------------------------------------------+\n",
            "| RT Count | Screen Name     | Text                                               |\n",
            "+----------+-----------------+----------------------------------------------------+\n",
            "| 165      | KikiTaiga       | Varsity Dream!                                     |\n",
            "|          |                 | He's eating a Dream burger &gt;:D                  |\n",
            "|          |                 | .                                                  |\n",
            "|          |                 | -retweets,likes,comments are cool-                 |\n",
            "|          |                 | #dreamfanart #mcyt #smiletwt                       |\n",
            "|          |                 | https://t.co/lNoClg5A9t                            |\n",
            "| 83       | taboo_comics    | so glad I'm done with this com, after months of    |\n",
            "|          |                 | being on hold :D                                   |\n",
            "|          |                 | #bunnygirl #reversebunnysuit #pinupgirl…           |\n",
            "|          |                 | https://t.co/eENC4OXMwZ                            |\n",
            "| 35       | AlEian_Sakalam  | \"bat ka nagulat sa burger\" - A                     |\n",
            "|          |                 |                                                    |\n",
            "|          |                 | See? Ganito lang happy nakami 'cuz we celebrate    |\n",
            "|          |                 | little things :)                                   |\n",
            "|          |                 |                                                    |\n",
            "|          |                 | UNITED AS ONE ALE… https://t.co/QqJGVaFj3J         |\n",
            "| 15       | SNLSABRINA      | i need more snl and sitcom moots. so if you like   |\n",
            "|          |                 | snl, b99, abbott elementary, new girl, modern      |\n",
            "|          |                 | family, superstore,… https://t.co/ImIzYQuFmb       |\n",
            "| 14       | TEAMSEHAMOFC    | Expect nothing prepare for the worst. If you       |\n",
            "|          |                 | didn’t know, Team Seham has a Donation Drive set   |\n",
            "|          |                 | up. Rest assured that… https://t.co/wZLNan0bHS     |\n",
            "| 7        | PeachyBeanInc   | I have good news! These adorable Burger Bear       |\n",
            "|          |                 | earrings were such a hit on our last drop that     |\n",
            "|          |                 | we've decided to add th… https://t.co/7ORLaspNMU   |\n",
            "| 6        | gnfdreaming     | hi @MrBeast.                                       |\n",
            "|          |                 |                                                    |\n",
            "|          |                 | hi my friend  @dreamwastaken loves Beast Burgers,  |\n",
            "|          |                 | games, youtube and money ! he's streaming rn on…   |\n",
            "|          |                 | https://t.co/GICpR9HEb1                            |\n",
            "| 5        | TEAMSEHAMOFC    | Lets start building our Voting Team Burgers! DM if |\n",
            "|          |                 | you’re willing to join a committed voting team for |\n",
            "|          |                 | Seham :D                                           |\n",
            "|          |                 |                                                    |\n",
            "|          |                 | SA… https://t.co/aF0BQJI5Ey                        |\n",
            "| 3        | NatalieRevolts  | \"wow that burger looks good :) im having a nice    |\n",
            "|          |                 | day\"                                               |\n",
            "|          |                 |                                                    |\n",
            "|          |                 | \"omfg you orientalist fascist piece of shit 🤬 i   |\n",
            "|          |                 | will line you… https://t.co/lCrfp2iw3A             |\n",
            "| 3        | KaceYoshida     | Want some burger?                                  |\n",
            "|          |                 |                                                    |\n",
            "|          |                 | Looking forward to the 3D version of them :D       |\n",
            "|          |                 |                                                    |\n",
            "|          |                 | Public mint of the 3D version Pacas is on Feb      |\n",
            "|          |                 | 12th… https://t.co/RgySQzc1Tr                      |\n",
            "| 3        | HelenJRaine     | @mikesharman It was for @OneMinuteBriefs. Here are |\n",
            "|          |                 | the other winning submissions :) the Burger King   |\n",
            "|          |                 | one is also fli… https://t.co/An6YE9lGOp           |\n",
            "| 2        | kayukomodo      | 🔴 LIVEE -- sorry I am late I was eating my burger |\n",
            "|          |                 | &gt;:)                                             |\n",
            "|          |                 |                                                    |\n",
            "|          |                 | https://t.co/pkjBSO8hGo                            |\n",
            "| 2        | RealWorldRyoshi | @SHIBjpn @shibainucafe Our CHEF loves JAPAN ... we |\n",
            "|          |                 | want to visit and meet maybe make a nice garden    |\n",
            "|          |                 | cafe in nice cit… https://t.co/he6l5uGbYo          |\n",
            "| 2        | Cass_Burger     | Just opened up a redbubble. Have a few collab      |\n",
            "|          |                 | pieces atm up now, but i also plan to post some of |\n",
            "|          |                 | my personal work a… https://t.co/nnYVUlC7kY        |\n",
            "| 1        | willw           | @rava I made that burger gif :-) So nice seeing it |\n",
            "|          |                 | again                                              |\n",
            "| 1        | thinningdesire  | okay  guys  guys  im  going  to  burger  king  w   |\n",
            "|          |                 | my  friends  after  my  exam  what  do  i  get  ?? |\n",
            "|          |                 | i  get  to  l… https://t.co/iS3586e9Gx             |\n",
            "| 1        | derekmross      | @lginfinitie17 @MarvinGamero @nayibbukele i never  |\n",
            "|          |                 | heard of chiltepe until last night :) i can get    |\n",
            "|          |                 | dried ones around… https://t.co/qCRIPjkscx         |\n",
            "| 1        | deathechef      | Burgers and grilled onions :))                     |\n",
            "|          |                 | https://t.co/zrF1ToqYqG                            |\n",
            "| 1        | SehamDaghlasWW  | Engage burgers :)                                  |\n",
            "|          |                 | Seham is....                                       |\n",
            "|          |                 |                                                    |\n",
            "|          |                 | KEEP CALM WithSEHAM https://t.co/l4aSSaJ5P4        |\n",
            "| 1        | Orbitcoin       | @nayibbukele Flipping burgers won't bring in the   |\n",
            "|          |                 | #Bitcoin :-)                                       |\n",
            "|          |                 | NFT (Bukele Pirates) issue x1,000,000 price 0.1    |\n",
            "|          |                 | BTC o… https://t.co/OGAP588LDC                     |\n",
            "+----------+-----------------+----------------------------------------------------+\n"
          ]
        }
      ]
    },
    {
      "cell_type": "code",
      "source": [
        "tweets = [\n",
        "          (pop_tweet['favorite_count'], \n",
        "             pop_tweet['user']['screen_name'],\n",
        "             pop_tweet['text'])\n",
        "          for pop_tweet in statuses2\n",
        "            if 'retweeted_status' not in pop_tweet\n",
        "]\n",
        "pt = PrettyTable(field_names=['Likes Count', 'Screen Name', 'Text'])\n",
        "[ pt.add_row(row) for row in sorted(tweets, reverse=True)[:20] ]\n",
        "pt.max_width['Text'] = 50\n",
        "pt.align= 'l'\n",
        "print(pt)"
      ],
      "metadata": {
        "colab": {
          "base_uri": "https://localhost:8080/"
        },
        "id": "5tdLg2M5dB8G",
        "outputId": "80e9f478-88e7-4640-e156-d6b449e9951f"
      },
      "execution_count": 37,
      "outputs": [
        {
          "output_type": "stream",
          "name": "stdout",
          "text": [
            "+-------------+----------------+----------------------------------------------------+\n",
            "| Likes Count | Screen Name    | Text                                               |\n",
            "+-------------+----------------+----------------------------------------------------+\n",
            "| 2838        | KikiTaiga      | Varsity Dream!                                     |\n",
            "|             |                | He's eating a Dream burger &gt;:D                  |\n",
            "|             |                | .                                                  |\n",
            "|             |                | -retweets,likes,comments are cool-                 |\n",
            "|             |                | #dreamfanart #mcyt #smiletwt                       |\n",
            "|             |                | https://t.co/lNoClg5A9t                            |\n",
            "| 570         | taboo_comics   | so glad I'm done with this com, after months of    |\n",
            "|             |                | being on hold :D                                   |\n",
            "|             |                | #bunnygirl #reversebunnysuit #pinupgirl…           |\n",
            "|             |                | https://t.co/eENC4OXMwZ                            |\n",
            "| 91          | AlEian_Sakalam | \"bat ka nagulat sa burger\" - A                     |\n",
            "|             |                |                                                    |\n",
            "|             |                | See? Ganito lang happy nakami 'cuz we celebrate    |\n",
            "|             |                | little things :)                                   |\n",
            "|             |                |                                                    |\n",
            "|             |                | UNITED AS ONE ALE… https://t.co/QqJGVaFj3J         |\n",
            "| 74          | SNLSABRINA     | i need more snl and sitcom moots. so if you like   |\n",
            "|             |                | snl, b99, abbott elementary, new girl, modern      |\n",
            "|             |                | family, superstore,… https://t.co/ImIzYQuFmb       |\n",
            "| 54          | markerguru     | Went to grab some Burger King last night. Got      |\n",
            "|             |                | there at 8:45pm, They are open until 10pm. Drive   |\n",
            "|             |                | thru, no answer. Fro… https://t.co/ZMfE2OgiQ9      |\n",
            "| 44          | gnfdreaming    | hi @MrBeast.                                       |\n",
            "|             |                |                                                    |\n",
            "|             |                | hi my friend  @dreamwastaken loves Beast Burgers,  |\n",
            "|             |                | games, youtube and money ! he's streaming rn on…   |\n",
            "|             |                | https://t.co/GICpR9HEb1                            |\n",
            "| 35          | kitty_mancer   | @YeetZmeN @Ghost_Burger @Wario64 it's a farming    |\n",
            "|             |                | game like stardew valley :)                        |\n",
            "| 35          | GrantRous      | I guess my career isn't going as well as I thought |\n",
            "|             |                | if my profile is one of interest XD                |\n",
            "|             |                |                                                    |\n",
            "|             |                | Oh well it's been fun, gonn…                       |\n",
            "|             |                | https://t.co/69KpQ6k7Q0                            |\n",
            "| 34          | NatalieRevolts | \"wow that burger looks good :) im having a nice    |\n",
            "|             |                | day\"                                               |\n",
            "|             |                |                                                    |\n",
            "|             |                | \"omfg you orientalist fascist piece of shit 🤬 i   |\n",
            "|             |                | will line you… https://t.co/lCrfp2iw3A             |\n",
            "| 27          | dunkinluvr420  | Leg day then Will made us burgers :)               |\n",
            "|             |                | https://t.co/fiCvWTQaff                            |\n",
            "| 23          | PeachyBeanInc  | I have good news! These adorable Burger Bear       |\n",
            "|             |                | earrings were such a hit on our last drop that     |\n",
            "|             |                | we've decided to add th… https://t.co/7ORLaspNMU   |\n",
            "| 15          | R0ninTheWolf   | *puts you on a Burger King crown*                  |\n",
            "|             |                | You are now da queen/king of burgers!! :D          |\n",
            "| 15          | PascalGaroute  | Not me taking my veggie burger patties out of the  |\n",
            "|             |                | oven to flip them over and then somehow completely |\n",
            "|             |                | forgetting the… https://t.co/NtyC7F3hbd            |\n",
            "| 13          | pey_diddy      | @jalyn_phillips breakfast: sunny side, pot belly   |\n",
            "|             |                | deli                                               |\n",
            "|             |                |                                                    |\n",
            "|             |                | lunch/dinner:                                      |\n",
            "|             |                | loose change (burgers, sandwhiches/wraps)          |\n",
            "|             |                | back… https://t.co/89vz88NL3J                      |\n",
            "| 12          | mercutiokin    | made burgers tonight. dressed with blueberry jam   |\n",
            "|             |                | goat cheese arugula &gt;:)                         |\n",
            "| 12          | TEAMSEHAMOFC   | Expect nothing prepare for the worst. If you       |\n",
            "|             |                | didn’t know, Team Seham has a Donation Drive set   |\n",
            "|             |                | up. Rest assured that… https://t.co/wZLNan0bHS     |\n",
            "| 12          | KaceYoshida    | Want some burger?                                  |\n",
            "|             |                |                                                    |\n",
            "|             |                | Looking forward to the 3D version of them :D       |\n",
            "|             |                |                                                    |\n",
            "|             |                | Public mint of the 3D version Pacas is on Feb      |\n",
            "|             |                | 12th… https://t.co/RgySQzc1Tr                      |\n",
            "| 11          | friesforBrice  | went out by myself today. 2 malls, no way home,    |\n",
            "|             |                | burger king, 2 sticks :))) feeling good good :)))  |\n",
            "|             |                | haven't done this in awhile :)))                   |\n",
            "| 10          | RPTexan        | @GoodmanHoops Stella's for good meal; Caprock (2   |\n",
            "|             |                | locations) for burgers; Jazz for Cajun, Triple J   |\n",
            "|             |                | for good meal, Ca… https://t.co/b2FLuWXvEj         |\n",
            "| 8           | diffusemoose   | @KibblesTheHusky @Biff_the_Moose @bumbl3_          |\n",
            "|             |                | @GustShrugs @TkCoyote @BastianSnugs @NekoHaiku     |\n",
            "|             |                | @ItsIanWatson @sonicgott L…                        |\n",
            "|             |                | https://t.co/uYHF8PE30H                            |\n",
            "+-------------+----------------+----------------------------------------------------+\n"
          ]
        }
      ]
    },
    {
      "cell_type": "markdown",
      "source": [
        "Unfortunately, upon closer examination of most liked and retweeted accounts that are related to burgers, we decided that this may be a poor tactic for determining accounts for advertisement. Unfortunately, most liked and most retweeted tweets that contain the word burger, are often related to something other than a burger."
      ],
      "metadata": {
        "id": "lHFjuJ1EdeZi"
      }
    },
    {
      "cell_type": "markdown",
      "metadata": {
        "id": "tD6h0TglY6Dv"
      },
      "source": [
        "*-----------------\n",
        "# Done\n",
        "\n",
        "All set! \n",
        "\n",
        "** What do you need to submit?**\n",
        "\n",
        "* **Notebook File**: Save this IPython notebook, and find the notebook file in your folder (for example, \"filename.ipynb\"). This is the file you need to submit. Please make sure all the plotted tables and figures are in the notebook. If you used \"ipython notebook --pylab=inline\" to open the notebook, all the figures and tables should have shown up in the notebook.\n",
        "\n",
        "\n",
        "* **PPT Slides**: please prepare PPT slides (for 15 minutes' talk) to present about the case study . We will ask *all* teams to present their case studies in class for this case study. \n",
        "\n",
        "* **Report**: please prepare a report (less than 10 pages) to report what you found in the data.\n",
        "    * What data you collected? \n",
        "    * Why this topic is interesting or important to you? (Motivations)\n",
        "    * How did you analyse the data?\n",
        "    * What did you find in the data? \n",
        " \n",
        "     (please include figures or tables in the report, but no source code)\n",
        "\n",
        "Please compress all the files in a zipped file.\n",
        "\n",
        "\n",
        "** How to submit: **\n",
        "\n",
        "        Please submit through canvas.wpi.edu\n",
        "\n"
      ]
    },
    {
      "cell_type": "markdown",
      "metadata": {
        "id": "-FvDoMzSY6Dv"
      },
      "source": [
        "# Grading Criteria:\n",
        "\n",
        "**Totoal Points: 100**\n",
        "\n",
        "\n",
        "---------------------------------------------------------------------------\n",
        "**Notebook results:**\n",
        "    Points: 80\n",
        "\n",
        "\n",
        "    -----------------------------------\n",
        "    Question 1:\n",
        "    Points: 20\n",
        "    -----------------------------------\n",
        "    \n",
        "    -----------------------------------\n",
        "    Question 2:\n",
        "    Points: 20\n",
        "    -----------------------------------\n",
        "        \n",
        "    -----------------------------------\n",
        "    Question 3:\n",
        "    Points: 20\n",
        "    -----------------------------------\n",
        "  \n",
        "    -----------------------------------\n",
        "    Question 4:  Business question\n",
        "    Points: 20\n",
        "    -----------------------------------\n",
        "\n",
        "\n",
        "---------------------------------------------------------------------------\n",
        "**Slides (for 5-10 minutes of presentation): Story-telling**\n",
        "    Points: 20\n",
        "\n",
        "\n",
        "1. Motivation about the data collection, why the topic is interesting to you.\n",
        "    Points: 5 \n",
        "\n",
        "2. Communicating Results (figure/table)\n",
        "    Points: 10 \n",
        "\n",
        "3. Story telling (How all the parts (data, analysis, result) fit together as a story?)\n",
        "    Points: 5 \n"
      ]
    },
    {
      "cell_type": "code",
      "execution_count": null,
      "metadata": {
        "id": "2Wy1xam0Y6Dw"
      },
      "outputs": [],
      "source": [
        ""
      ]
    }
  ],
  "metadata": {
    "anaconda-cloud": {},
    "kernel_info": {
      "name": "python3"
    },
    "kernelspec": {
      "display_name": "Python 3",
      "language": "python",
      "name": "python3"
    },
    "language_info": {
      "codemirror_mode": {
        "name": "ipython",
        "version": 3
      },
      "file_extension": ".py",
      "mimetype": "text/x-python",
      "name": "python",
      "nbconvert_exporter": "python",
      "pygments_lexer": "ipython3",
      "version": "3.8.5"
    },
    "nteract": {
      "version": "0.2.0"
    },
    "colab": {
      "name": "CaseStudy2_MongoDB.ipynb",
      "provenance": [],
      "include_colab_link": true
    }
  },
  "nbformat": 4,
  "nbformat_minor": 0
}