{
  "cells": [
    {
      "cell_type": "markdown",
      "metadata": {
        "id": "view-in-github",
        "colab_type": "text"
      },
      "source": [
        "<a href=\"https://colab.research.google.com/github/GTWFam/Group7_DS3010/blob/main/CaseStudy2_MongoDB.ipynb\" target=\"_parent\"><img src=\"https://colab.research.google.com/assets/colab-badge.svg\" alt=\"Open In Colab\"/></a>"
      ]
    },
    {
      "cell_type": "markdown",
      "metadata": {
        "id": "IQZqJy0gY6Dl"
      },
      "source": [
        "# Case Study 2 : Putting Twitter Data into the Cloud\n",
        "\n",
        "Due Date: 2/15/2020, **BEFORE the beginning of class at 2:00pm EST**\n",
        "\n",
        "## **NOTE: There are *always* last minute issues submitting the case studies.  DO NOT WAIT UNTIL THE LAST MINUTE!**"
      ]
    },
    {
      "cell_type": "markdown",
      "metadata": {
        "id": "JyNhpJN5Y6Dn"
      },
      "source": [
        "<a title=\"Fabián Alexis [CC BY-SA (https://creativecommons.org/licenses/by-sa/3.0)]\" href=\"https://commons.wikimedia.org/wiki/File:Antu_mongodb.svg\"><img width=\"50\" alt=\"Antu mongodb\" src=\"https://upload.wikimedia.org/wikipedia/commons/thumb/f/f9/Antu_mongodb.svg/512px-Antu_mongodb.svg.png\"></a>"
      ]
    },
    {
      "cell_type": "markdown",
      "metadata": {
        "id": "DhXEvLb5Y6Do"
      },
      "source": [
        "**TEAM Members:** Please EDIT this cell and add the names of all the team members in your team\n",
        "\n",
        "    Jacob Bissonette\n",
        "    Austin Franklin \n",
        "    Yuriy Kamenivskyy \n",
        "    Garrett McMerriman\n",
        "    Bill Hoang Pham"
      ]
    },
    {
      "cell_type": "markdown",
      "metadata": {
        "id": "IdtCbjp9Y6Do"
      },
      "source": [
        "**Don't forget!**\n",
        "* You will need to install the pymongo library to access MongoDB\n",
        " * pip install pymongo\n",
        "* You will also need to install dnspython to access the cloud version of MongoDB\n",
        " * pip install dnspython\n",
        "\n",
        "** NOTE **\n",
        "* **Please don't forget to save the notebook frequently when working in IPython Notebook, otherwise the changes you made can be lost**."
      ]
    },
    {
      "cell_type": "markdown",
      "metadata": {
        "id": "1R87hP_pY6Dq"
      },
      "source": [
        "# Problem 1 (20 points):  Get a cloud database account using MongoDB Atlas"
      ]
    },
    {
      "cell_type": "markdown",
      "metadata": {
        "id": "Q10TAFcOY6Dq"
      },
      "source": [
        "Get a free cloud hosted MongoDB database account at https://www.mongodb.com/atlas/database.  You will need to: \n",
        "\n",
        "* Create a database cluster using the MongoDB web interface\n",
        "* Get your MongoDB credentials\n",
        "* Create a document collection in MongoBD\n"
      ]
    },
    {
      "cell_type": "markdown",
      "metadata": {
        "id": "7dOckKukY6Ds"
      },
      "source": [
        "# Problem 2 (20 points):  Read Twitter data into your cloud MongoDB database"
      ]
    },
    {
      "cell_type": "markdown",
      "metadata": {
        "id": "-yQgleDnY6Ds"
      },
      "source": [
        "Gather Twitter data and upload it to your cloud database.  You will need to:\n",
        "\n",
        "* Get your cloubd MongoDB credentials using the MongoDB web interface\n",
        "* Insert those credentials into your Juypyter notebook using pymongo\n",
        "* Gather Twitter data as in Case Study 1\n",
        "* Upload your Twitter data to the MongoDB cloud document collection\n",
        "\n",
        "Note, to do you this question remember that you will need *two sets of credentials*\n",
        "\n",
        "* One set for the MongoDB Atlas database\n",
        "* One set for the Twitter developed API\n",
        "\n",
        "Of course, there are not the same!"
      ]
    },
    {
      "cell_type": "code",
      "source": [
        "! pip install pymongo\n",
        "! pip install dnspython\n"
      ],
      "metadata": {
        "id": "zHd0WyWXrT7g",
        "outputId": "87e02d20-7a7b-4a2f-e286-615ca26ad428",
        "colab": {
          "base_uri": "https://localhost:8080/"
        }
      },
      "execution_count": 1,
      "outputs": [
        {
          "output_type": "stream",
          "name": "stdout",
          "text": [
            "Requirement already satisfied: pymongo in /usr/local/lib/python3.7/dist-packages (4.0.1)\n",
            "Collecting dnspython\n",
            "  Downloading dnspython-2.2.0-py3-none-any.whl (266 kB)\n",
            "\u001b[K     |████████████████████████████████| 266 kB 4.3 MB/s \n",
            "\u001b[?25hInstalling collected packages: dnspython\n",
            "Successfully installed dnspython-2.2.0\n"
          ]
        }
      ]
    },
    {
      "cell_type": "code",
      "execution_count": 2,
      "metadata": {
        "id": "MO0paphxY6Dq",
        "outputId": "c2188ba8-c2d7-4e16-b3a5-01adf2302d95",
        "colab": {
          "base_uri": "https://localhost:8080/"
        }
      },
      "outputs": [
        {
          "output_type": "stream",
          "name": "stdout",
          "text": [
            "Mounted at /content/drive\n"
          ]
        }
      ],
      "source": [
        "#----------------------------------------------\n",
        "# Your code starts here\n",
        "#   Please add comments or text cells in between to explain the general idea of each block of the code.\n",
        "#   Please feel free to add more cells below this cell if necessary\n",
        "import pymongo\n",
        "import json\n",
        "\n",
        "from google.colab import drive\n",
        "\n",
        "drive.mount('/content/drive')\n",
        "\n",
        "data = {}\n",
        "    \n",
        "# Extracting the saved credentials from the drive\n",
        "with open('drive/MyDrive/ds3010_2022/credentials.txt', 'r') as f:\n",
        "    data = json.load(f)\n",
        "CONSUMER_KEY = data[\"consumer_key\"]\n",
        "CONSUMER_SECRET = data[\"consumer_secret\"]\n",
        "OAUTH_TOKEN = data[\"oauth_token\"]\n",
        "OAUTH_TOKEN_SECRET = data[\"oauth_token_secret\"]\n",
        "mongodb_url = data[\"mongodb_url\"]\n",
        "\n",
        "client = pymongo.MongoClient(mongodb_url)\n"
      ]
    },
    {
      "cell_type": "code",
      "source": [
        "# Getting the Database and Collection from MongoDB\n",
        "db = client['DS3010']\n",
        "coll = db['CS2']"
      ],
      "metadata": {
        "id": "w1p9Z5f3sctw"
      },
      "execution_count": 3,
      "outputs": []
    },
    {
      "cell_type": "code",
      "source": [
        "! pip install twitter"
      ],
      "metadata": {
        "id": "qD5dgzJlsTIC",
        "outputId": "d7da8157-bf38-42e8-90b5-94600231b5d7",
        "colab": {
          "base_uri": "https://localhost:8080/"
        }
      },
      "execution_count": 4,
      "outputs": [
        {
          "output_type": "stream",
          "name": "stdout",
          "text": [
            "Collecting twitter\n",
            "  Downloading twitter-1.19.3-py2.py3-none-any.whl (50 kB)\n",
            "\u001b[?25l\r\u001b[K     |██████▌                         | 10 kB 13.5 MB/s eta 0:00:01\r\u001b[K     |█████████████                   | 20 kB 11.6 MB/s eta 0:00:01\r\u001b[K     |███████████████████▋            | 30 kB 9.2 MB/s eta 0:00:01\r\u001b[K     |██████████████████████████      | 40 kB 7.9 MB/s eta 0:00:01\r\u001b[K     |████████████████████████████████| 50 kB 2.5 MB/s \n",
            "\u001b[?25hInstalling collected packages: twitter\n",
            "Successfully installed twitter-1.19.3\n"
          ]
        }
      ]
    },
    {
      "cell_type": "code",
      "execution_count": 5,
      "metadata": {
        "id": "my4IUYVvY6Ds"
      },
      "outputs": [],
      "source": [
        "#----------------------------------------------\n",
        "# Your code starts here\n",
        "#   Please add comments or text cells in between to explain the general idea of each block of the code.\n",
        "#   Please feel free to add more cells below this cell if necessary\n",
        "import twitter\n",
        "\n",
        "# See https://dev.twitter.com/docs/auth/oauth for more information \n",
        "# on Twitter's OAuth implementation.\n",
        "\n",
        "auth = twitter.oauth.OAuth(OAUTH_TOKEN, OAUTH_TOKEN_SECRET,\n",
        "                           CONSUMER_KEY, CONSUMER_SECRET)\n",
        "\n",
        "twitter_api = twitter.Twitter(auth=auth)"
      ]
    },
    {
      "cell_type": "code",
      "source": [
        "query = \"macbook pro 2021\"\n",
        "\n",
        "data = twitter_api.search.tweets(q=query, lang='en', count=100)\n",
        "\n",
        "min_id = data['statuses'][-1]['id']\n",
        "for i in range(7):\n",
        "    tweets = twitter_api.search.tweets(q=query, lang='en', max_id=min_id, count=100)\n",
        "    min_id = tweets['statuses'][-1]['id']\n",
        "    data['statuses'] += tweets['statuses']\n"
      ],
      "metadata": {
        "id": "8DgXTFziu12O"
      },
      "execution_count": 6,
      "outputs": []
    },
    {
      "cell_type": "code",
      "source": [
        "statuses = data['statuses']\n",
        "# coll.drop()\n",
        "# _ = coll.insert_many(statuses)"
      ],
      "metadata": {
        "id": "2ZdWGUR2vqZu"
      },
      "execution_count": 7,
      "outputs": []
    },
    {
      "cell_type": "markdown",
      "metadata": {
        "id": "Ui6DxP0lY6Dt"
      },
      "source": [
        "# Problem 3 (20 points):  Use a regular expression to read a subset of your Tweets out of MongoDB"
      ]
    },
    {
      "cell_type": "markdown",
      "metadata": {
        "id": "63qOpjc9Y6Dt"
      },
      "source": [
        "Use regular expressions to analyze properties of your data.  For example, you can \n",
        "\n",
        "* search for trends that have a large volume, \n",
        "* search for tweets with geotags, \n",
        "* search for tweets that can contain a certain string,\n",
        "* anything else you think might be useful for a product!"
      ]
    },
    {
      "cell_type": "code",
      "execution_count": 8,
      "metadata": {
        "id": "5W_39LCaY6Du",
        "outputId": "033738f3-962b-49dc-ec26-a73d9abf9ba4",
        "colab": {
          "base_uri": "https://localhost:8080/"
        }
      },
      "outputs": [
        {
          "output_type": "stream",
          "name": "stdout",
          "text": [
            "Apple Says Pro Display XDR and 2021 MacBook Pro Can Experience Limited Brightness in High Temperatures by @julipuli… https://t.co/gOTRx0lgA9\n",
            "2021 14 inch MacBook Pro \n",
            "M1 pro 16gb 512SSD \n",
            "GH₵ 14,399.95\n",
            "\n",
            "iPhone 11 128gb Factory Unlocked GH₵ 3,999.95\n",
            "\n",
            "☎️055-3… https://t.co/DDfpSEc47Q\n",
            "Legitimately one of the best feelings. I just bought this 2021 Macbook Pro and paid for it entirely with NFT profit… https://t.co/fyFxSQ3DTX\n"
          ]
        }
      ],
      "source": [
        "#----------------------------------------------\n",
        "# Your code starts here\n",
        "#   Please add comments or text cells in between to explain the general idea of each block of the code.\n",
        "#   Please feel free to add more cells below this cell if necessary\n",
        "\n",
        "query = { \"favorite_count\": { \"$gt\": 20 } }\n",
        "cursor = coll.find(query)\n",
        "\n",
        "for tweet in cursor:\n",
        "    print(tweet['text'])"
      ]
    },
    {
      "cell_type": "code",
      "source": [
        "query2 = { \"geo\": { \"$ne\": None } }\n",
        "cursor = coll.find(query2)\n",
        "\n",
        "for tweet in cursor:\n",
        "    print(tweet['text'])"
      ],
      "metadata": {
        "id": "CPd_H_VX7lDD",
        "outputId": "fc0ede14-90ee-463d-ebe6-70c20ec2b68d",
        "colab": {
          "base_uri": "https://localhost:8080/"
        }
      },
      "execution_count": 9,
      "outputs": [
        {
          "output_type": "stream",
          "name": "stdout",
          "text": [
            "Two weeks used \n",
            "Battery Cycle Count 12 \n",
            "2021 MacBook Pro \n",
            "14 inch 16 GB 512 SSD \n",
            "Box with accessories\n",
            "Cool offer @… https://t.co/qtzSPqoWtR\n"
          ]
        }
      ]
    },
    {
      "cell_type": "code",
      "source": [
        "query3 = { \"text\": { '$regex': '^.*cool.*$', '$options': 'si' } }\n",
        "cursor = coll.find(query3)\n",
        "\n",
        "for tweet in cursor:\n",
        "    print(tweet['text'])"
      ],
      "metadata": {
        "colab": {
          "base_uri": "https://localhost:8080/"
        },
        "id": "zkvtx5Z242yQ",
        "outputId": "1f72e118-a3f9-4ba1-8e6d-1a789a70953c"
      },
      "execution_count": 10,
      "outputs": [
        {
          "output_type": "stream",
          "name": "stdout",
          "text": [
            "RT @AWereChicken: To help get closer to my surgery goal, I am willing to sell my MacBook Pro 2021 with touchbar, charger, and cool Ouija sk…\n",
            "RT @AWereChicken: To help get closer to my surgery goal, I am willing to sell my MacBook Pro 2021 with touchbar, charger, and cool Ouija sk…\n",
            "RT @AWereChicken: To help get closer to my surgery goal, I am willing to sell my MacBook Pro 2021 with touchbar, charger, and cool Ouija sk…\n",
            "RT @AWereChicken: To help get closer to my surgery goal, I am willing to sell my MacBook Pro 2021 with touchbar, charger, and cool Ouija sk…\n",
            "RT @AWereChicken: To help get closer to my surgery goal, I am willing to sell my MacBook Pro 2021 with touchbar, charger, and cool Ouija sk…\n",
            "RT @AWereChicken: To help get closer to my surgery goal, I am willing to sell my MacBook Pro 2021 with touchbar, charger, and cool Ouija sk…\n",
            "To help get closer to my surgery goal, I am willing to sell my MacBook Pro 2021 with touchbar, charger, and cool Ou… https://t.co/6aJFYR2wl4\n",
            "Two weeks used \n",
            "Battery Cycle Count 12 \n",
            "2021 MacBook Pro \n",
            "14 inch 16 GB 512 SSD \n",
            "Box with accessories\n",
            "Cool offer @… https://t.co/qtzSPqoWtR\n"
          ]
        }
      ]
    },
    {
      "cell_type": "code",
      "source": [
        "query4 = { \"text\": { '$regex': '^.*battery.*$', '$options': 'si' } }\n",
        "cursor = coll.find(query4)\n",
        "\n",
        "for tweet in cursor:\n",
        "    print(tweet['text'])"
      ],
      "metadata": {
        "id": "DGwFPOgWAOB7",
        "outputId": "51bdf71a-10cb-4373-b87b-a14f7285fde2",
        "colab": {
          "base_uri": "https://localhost:8080/"
        }
      },
      "execution_count": 11,
      "outputs": [
        {
          "output_type": "stream",
          "name": "stdout",
          "text": [
            "Apple’s 2021 MacBook Pro Lasts 60% Longer Than the Best High-End Notebook’s Battery Timing, Claims New Test https://t.co/q6gxK4gRQ0\n",
            "RT @wccftech: Apple’s 2021 MacBook Pro Lasts 60% Longer Than the Best High-End Notebook’s Battery Timing, Claims New Test https://t.co/NFvB…\n",
            "Apple’s 2021 MacBook Pro Lasts 60% Longer Than the Best High-End Notebook’s Battery Timing, Claims New Test https://t.co/AQlBlbz7rj\n",
            "Apple’s 2021 MacBook Pro Lasts 60% Longer Than the Best High-End Notebook’s Battery Timing, Claims New Test… https://t.co/WhbFZLMDud\n",
            "Design and battery life favour the 2021 edition of the Microsoft #SurfaceProX but the Apple Macbook Pro and Air may… https://t.co/4wJ2VPFauQ\n",
            "RT @Mint_Lounge: Design and battery life favour the 2021 edition of the Microsoft #SurfaceProX but the Apple Macbook Pro and Air may prove…\n",
            "RT @Mint_Lounge: Design and battery life favour the 2021 edition of the Microsoft #SurfaceProX but the Apple Macbook Pro and Air may prove…\n",
            "Two weeks used \n",
            "Battery Cycle Count 12 \n",
            "2021 MacBook Pro \n",
            "14 inch 16 GB 512 SSD \n",
            "Box with accessories\n",
            "Cool offer @… https://t.co/qtzSPqoWtR\n",
            "Design and battery life favour the 2021 edition of the Microsoft #SurfaceProX but the Apple Macbook Pro and Air may… https://t.co/pJA2MHv28f\n",
            "Design and battery life favour the 2021 edition of the Microsoft Surface Pro X but the Apple Macbook Pro and Air ma… https://t.co/wLZMrrGdit\n",
            "RT @Mint_Lounge: Design and battery life favour the 2021 edition of the Microsoft #SurfaceProX but the Apple Macbook Pro and Air may prove…\n",
            "Design and battery life favour the 2021 edition of the Microsoft #SurfaceProX but the Apple Macbook Pro and Air may… https://t.co/4NKBT9qqkT\n",
            "Design and battery life favour the 2021 edition of the Microsoft #SurfaceProX but the Apple Macbook Pro and Air may… https://t.co/PUsmVKetyC\n",
            "Apple MacBook Pro 15\" RAM,  Battery and trackpad replacement.  Apple Expert SA - ZA Support Apple Specialist South… https://t.co/58XvQ6qIKL\n",
            "Apple MacBook Pro 15\" Battery and trackpad replacement.  Apple Expert SA - ZA Support Apple Specialist South Africa… https://t.co/Bs8vtk8Nnd\n"
          ]
        }
      ]
    },
    {
      "cell_type": "markdown",
      "metadata": {
        "collapsed": true,
        "id": "n0iZmkh7Y6Du"
      },
      "source": [
        "# Problem 4 (20 points): Business question \n",
        "\n",
        "Run some additional experiments with your data to gain familiarity with the MongoDB.\n",
        "\n",
        "* Come up with a business question that Twitter data and MongoDB could help answer.\n",
        "* Decribe the business case.\n",
        "* How could MongoDB help a company to scale up its computation environment?"
      ]
    },
    {
      "cell_type": "markdown",
      "source": [
        "Our business model is looking at customer's sentiment for any subject. For instance, we looked at people's attitudes for burgers to help the local resturants to select best burger menu items.\n",
        "We collected both negative attitude tweets and positive attitude tweets.\n",
        "\n",
        "MongoDB helps us organize the data into different collection and search with regular expressions faster in the whole database."
      ],
      "metadata": {
        "id": "X9QQ8ONpeJgh"
      }
    },
    {
      "cell_type": "code",
      "execution_count": 131,
      "metadata": {
        "id": "Q_JRP_b5Y6Dv"
      },
      "outputs": [],
      "source": [
        "#----------------------------------------------\n",
        "# Your code starts here\n",
        "#   Please add comments or text cells in between to explain the general idea of each block of the code.\n",
        "#   Please feel free to add more cells below this cell if necessary\n",
        "\n",
        "# Negative attitudes\n",
        "query1 = 'burger OR burgers :( -filter:retweets'\n",
        "\n",
        "data1 = twitter_api.search.tweets(q=query1, lang='en', count=100)\n",
        "\n",
        "min_id = data1['statuses'][-1]['id']\n",
        "for i in range(7):\n",
        "    tweets = twitter_api.search.tweets(q=query1, lang='en', max_id=min_id, count=100)\n",
        "    min_id = tweets['statuses'][-1]['id']\n",
        "    data1['statuses'] += tweets['statuses']\n",
        "\n",
        "statuses1 = data1['statuses']\n",
        "print(len(statuses1))\n",
        "coll_neg = db['cs2_coll_neg']\n",
        "coll_neg.drop()\n",
        "_ = coll_neg.insert_many(statuses1)"
      ]
    },
    {
      "cell_type": "code",
      "source": [
        "# Positive attitudes\n",
        "query2 = 'burger OR burgers :) -filter:retweets'\n",
        "\n",
        "data2 = twitter_api.search.tweets(q=query2, lang='en', count=100)\n",
        "\n",
        "min_id = data2['statuses'][-1]['id']\n",
        "for i in range(8):\n",
        "    tweets = twitter_api.search.tweets(q=query2, lang='en', max_id=min_id, count=100)\n",
        "    min_id = tweets['statuses'][-1]['id']\n",
        "    data2['statuses'] += tweets['statuses']\n",
        "\n",
        "statuses2 = data2['statuses']\n",
        "print(len(statuses2))\n",
        "coll_pos = db['cs2_coll_pos']\n",
        "coll_pos.drop()\n",
        "_ = coll_pos.insert_many(statuses2)"
      ],
      "metadata": {
        "id": "BQ0P-YVAO6lC"
      },
      "execution_count": 139,
      "outputs": []
    },
    {
      "cell_type": "code",
      "source": [
        "# Similar to Case Study 1, looking at most common words\n",
        "\n",
        "import re\n",
        "exclude = ['rt', 'in', 'the', 'for','of', 'to', 'and', 'a', 'is', 'are', 'on', 'from', 'that', 'this', 'these', 'with', 'what', 'it', 'if', 'or', 'but', 'your', 'be', 'you', 'my', 'at', 'd', 'its', 'i', 'so', 'was', 'he', 'me', 'no', 'about']\n",
        "\n",
        "tweet_texts_neg = [ re.sub(r'[^\\w\\s#@]', '', tweets['text']) for tweets in statuses1 ]\n",
        "print(tweet_texts_neg[0])\n",
        "words_neg = [ w for t in tweet_texts_neg for w in t.lower().split() ]\n",
        "words_neg = list(filter(lambda x: x not in exclude, words_neg))\n",
        "print(words_neg[1])"
      ],
      "metadata": {
        "id": "w6eMTHwBUqgT",
        "outputId": "fd01cb9f-bfd3-4438-e94c-58c25ef94dfa",
        "colab": {
          "base_uri": "https://localhost:8080/"
        }
      },
      "execution_count": 154,
      "outputs": [
        {
          "output_type": "stream",
          "name": "stdout",
          "text": [
            "shadow dedede update Hammed burger \n",
            "dedede\n"
          ]
        }
      ]
    },
    {
      "cell_type": "code",
      "source": [
        "from prettytable import PrettyTable\n",
        "from collections import Counter\n",
        "\n",
        "c = Counter(words_neg)\n",
        "top_words_neg = c.most_common()[:10]\n",
        "print(top_words_neg) # top 10\n",
        "\n",
        "pt = PrettyTable(field_names=['Word', 'Count'])\n",
        "[ pt.add_row(kv) for kv in c.most_common()[:10] ]\n",
        "pt.align['Word'], pt.align['Count'] = 'l', 'r'\n",
        "print(pt)"
      ],
      "metadata": {
        "id": "G4TVsj3fVX5K",
        "outputId": "e94505ac-b7fa-4757-e09c-07c1654d7418",
        "colab": {
          "base_uri": "https://localhost:8080/"
        }
      },
      "execution_count": 142,
      "outputs": [
        {
          "output_type": "stream",
          "name": "stdout",
          "text": [
            "[('burger', 138), ('im', 26), ('burgers', 24), ('want', 21), ('like', 17), ('just', 15), ('fries', 14), ('dont', 13), ('king', 13), ('have', 12)]\n",
            "+---------+-------+\n",
            "| Word    | Count |\n",
            "+---------+-------+\n",
            "| burger  |   138 |\n",
            "| im      |    26 |\n",
            "| burgers |    24 |\n",
            "| want    |    21 |\n",
            "| like    |    17 |\n",
            "| just    |    15 |\n",
            "| fries   |    14 |\n",
            "| dont    |    13 |\n",
            "| king    |    13 |\n",
            "| have    |    12 |\n",
            "+---------+-------+\n"
          ]
        }
      ]
    },
    {
      "cell_type": "code",
      "source": [
        "tweet_texts_pos = [ re.sub(r'[^\\w\\s#@]', '', tweets['text']) for tweets in statuses2 ]\n",
        "print(tweet_texts_pos[0])\n",
        "words_pos = [ w for t in tweet_texts_pos for w in t.lower().split() ]\n",
        "words_pos = list(filter(lambda x: x not in exclude, words_pos))\n",
        "print(words_pos[1])"
      ],
      "metadata": {
        "id": "sj9YLEBLWE43",
        "outputId": "179ed18f-f6f7-4710-acf6-8642090c1bb4",
        "colab": {
          "base_uri": "https://localhost:8080/"
        }
      },
      "execution_count": 143,
      "outputs": [
        {
          "output_type": "stream",
          "name": "stdout",
          "text": [
            "@breakcorefan420 @gum_mp3 Hahaha I remember calling in sick the day after getting Arbys MEAT MOUNTAIN p Im scare httpstco5wfWtsuD4M\n",
            "@gum_mp3\n"
          ]
        }
      ]
    },
    {
      "cell_type": "code",
      "source": [
        "c = Counter(words_pos)\n",
        "top_words_pos = c.most_common()[:10]\n",
        "print(top_words_pos) # top 10\n",
        "\n",
        "pt = PrettyTable(field_names=['Word', 'Count'])\n",
        "[ pt.add_row(kv) for kv in c.most_common()[:10] ]\n",
        "pt.align['Word'], pt.align['Count'] = 'l', 'r'\n",
        "print(pt)"
      ],
      "metadata": {
        "id": "KAhY3xHFWLee",
        "outputId": "6f5727d2-827a-4f59-f453-562133b2122a",
        "colab": {
          "base_uri": "https://localhost:8080/"
        }
      },
      "execution_count": 144,
      "outputs": [
        {
          "output_type": "stream",
          "name": "stdout",
          "text": [
            "[('burger', 240), ('burgers', 93), ('king', 31), ('have', 30), ('im', 28), ('like', 27), ('good', 27), ('get', 25), ('know', 23), ('will', 22)]\n",
            "+---------+-------+\n",
            "| Word    | Count |\n",
            "+---------+-------+\n",
            "| burger  |   240 |\n",
            "| burgers |    93 |\n",
            "| king    |    31 |\n",
            "| have    |    30 |\n",
            "| im      |    28 |\n",
            "| like    |    27 |\n",
            "| good    |    27 |\n",
            "| get     |    25 |\n",
            "| know    |    23 |\n",
            "| will    |    22 |\n",
            "+---------+-------+\n"
          ]
        }
      ]
    },
    {
      "cell_type": "code",
      "source": [
        "# Looking at tweets that have the most used words\n",
        "for combo in top_words_neg:\n",
        "    print(combo[0])\n",
        "    query = { \"text\": { '$regex': '^.*'+ combo[0] + '.*$', '$options': 'si' } }\n",
        "    cursor = coll_neg.find(query)\n",
        "    i = 0\n",
        "    # Printing first 10 tweets\n",
        "    for tweet in cursor:\n",
        "        if i >= 10:\n",
        "            break\n",
        "        print(tweet['text'], '\\n')\n",
        "        i += 1\n",
        "\n",
        "    print(\"-\"*100)"
      ],
      "metadata": {
        "id": "YORgp_sIbIB0",
        "outputId": "586f29ef-2811-49fc-8e66-c2806bcfcfe6",
        "colab": {
          "base_uri": "https://localhost:8080/"
        }
      },
      "execution_count": 152,
      "outputs": [
        {
          "output_type": "stream",
          "name": "stdout",
          "text": [
            "burger\n",
            "shadow dedede update! Hammed burger :( \n",
            "\n",
            "Really hope they bring fries with my burger :( \n",
            "\n",
            "what #functional purpose do these serve than #appointing #puppets in their #gizmogazz #glitarati when a burger cost… https://t.co/DgAlPktKtK \n",
            "\n",
            "I miss Mooyah.. I miss everything about it! I miss their burgers, their chunky fries, their dense cheese sauce, the… https://t.co/0XsaX0NPzN \n",
            "\n",
            "@krikettt88 @DylanGelula I'm not vegan but hard agree on the sadness over the black bean burger loss at restaurants… https://t.co/wnMpoXy9ns \n",
            "\n",
            "@DDDunzo @MidKnig22605496 @SeaYou22 @K4TL0_Maiz @TheFunny_mp4 Please don't James Bond McDonald Burger my sister :( \n",
            "\n",
            "@Chilly_Pat I actually don’t like any sort of fish :( I’ll try the nugget burger tho \n",
            "\n",
            "I couldn’t finish the burger :( https://t.co/BzG51TLtKR \n",
            "\n",
            "This is so sad :( I remember being 20 and it absolutely popping at the burger joint right by the FBI building. With… https://t.co/vsuNqSrFiZ \n",
            "\n",
            "Accidentally added bacon instead of cheese on my veggie burger :( why is that even an option I’m gonna kms \n",
            "\n",
            "----------------------------------------------------------------------------------------------------\n",
            "im\n",
            "📷 I just realize I forgot to bring a piece of cheese :((((( #LunchTime #LowCarb #lchf #keto #dirtyketo #burgers… https://t.co/3SQ37dsxwz \n",
            "\n",
            "yikes im sorry anon &lt;/3 i dont like pickles too they destroy the whole entire burger/sandwich sometimes :( but you… https://t.co/356Bfw0iCO \n",
            "\n",
            "I’ve always wanted to be an animator but I always have to do homework and go to school :( \n",
            "\n",
            "IM CRAVING A BIG BURGER WITH FRIES !! :( \n",
            "\n",
            "IM GONNA GO EAT MY BURGER AND CRY :(( U GUYSSS \n",
            "\n",
            "if i ever go to america i want to get mrbeast burger\n",
            "\n",
            "im not going if i wont get a dream burger &gt;:( \n",
            "\n",
            "@thwimbooo @DynamoSuperX Jeez that’s terrible! Have you tried reporting that to the police or sue? They have no rig… https://t.co/mWtdM719xd \n",
            "\n",
            "im craving for burger steak &amp; spicy chicken ng jollibee :( \n",
            "\n",
            "@gbgghoststories Oh are the burgers actually good? I’ve never tried them because my parents were in legal matrimony when I was conceived :( \n",
            "\n",
            "@Grande_hii Im honestly not that big of a picky eater, but the burger was cold, the chicken wasnt well cooked AT AL… https://t.co/7VbFbHBXpJ \n",
            "\n",
            "----------------------------------------------------------------------------------------------------\n",
            "burgers\n",
            "I miss Mooyah.. I miss everything about it! I miss their burgers, their chunky fries, their dense cheese sauce, the… https://t.co/0XsaX0NPzN \n",
            "\n",
            "📷 I just realize I forgot to bring a piece of cheese :((((( #LunchTime #LowCarb #lchf #keto #dirtyketo #burgers… https://t.co/3SQ37dsxwz \n",
            "\n",
            "I remember my uncle took me to see this movie then we picked up some burgers on the way home.. how I wish shit stay… https://t.co/znz7M95mXp \n",
            "\n",
            "@iHateToriSpring ass burgers :( \n",
            "\n",
            "@ataaashi it’s so bad , they don’t have wraps / burgers / paella :( \n",
            "\n",
            "@AsheraCynthila Why settle for Big Macs when I can make homemade burgers? :( \n",
            "\n",
            "@nataliasloam @msmarbles2017 @MeatlessFarm Beyond burgers were on offer on @ocado a couple of weeks ago for £3 a pa… https://t.co/OWXTK1R5sk \n",
            "\n",
            "@redrobinburgers I had a bad experience. Actually a no experience. On my birthday nonetheless. Need transparency on… https://t.co/PygMan4OZL \n",
            "\n",
            "Dont forget to interact with tag boosters burgers :((( \n",
            "\n",
            "KEEP CALM WithSEHAM \n",
            "\n",
            "still craving those burgers :( https://t.co/SYtNpeKCsr \n",
            "\n",
            "----------------------------------------------------------------------------------------------------\n",
            "want\n",
            "i want a burger its 9:37 am :( \n",
            "\n",
            "i want my burger ramly and keropok lekor :( \n",
            "\n",
            "I forgot to say I wanted cheese on my burger :( &amp; this hoe is dry asf \n",
            "\n",
            "I eated 2 burger I want third but there is no third burger :(( \n",
            "\n",
            "drive thru worker @ burger king fucked up my order &gt;:((( wanted sammich, got fries &gt;:((((((( \n",
            "\n",
            "the way my cravings change spontaneously. few mins ago I was craving a lamb burger and ordered one, now I want oxtail instead :( \n",
            "\n",
            "I’ve always wanted to be an animator but I always have to do homework and go to school :( \n",
            "\n",
            "i want a burger so bad rn. with a bun :-( \n",
            "\n",
            "if i ever go to america i want to get mrbeast burger\n",
            "\n",
            "im not going if i wont get a dream burger &gt;:( \n",
            "\n",
            "Me: *watches the beast burger Instagram story* \n",
            "\n",
            "*gets hungry and wants beast burger* \n",
            "\n",
            "*remembers that the beast b… https://t.co/avup4h5xre \n",
            "\n",
            "----------------------------------------------------------------------------------------------------\n",
            "like\n",
            "@Chilly_Pat I actually don’t like any sort of fish :( I’ll try the nugget burger tho \n",
            "\n",
            "yikes im sorry anon &lt;/3 i dont like pickles too they destroy the whole entire burger/sandwich sometimes :( but you… https://t.co/356Bfw0iCO \n",
            "\n",
            "@pixeledpalace he looks like he would try to sell me on a 30 dollar burger reheated in a microwave :( \n",
            "\n",
            "@charisreid_ @OllyWrites I am unfortunately out of action for a week or 2 due to Covid most likely :(\n",
            "\n",
            "However, pos… https://t.co/nnhOOZ9xqb \n",
            "\n",
            "Cancel me I don't like carrots in my burger :(\n",
            "Sorry Coarly \n",
            "\n",
            "@danielpape78 @FeagleLegal @cnnbrk Oh no my burger will cost $0.25 more because people don’t like crashing and dying on bridges :(( \n",
            "\n",
            "@PhilJamesson It's right up there with awesomesauce. \n",
            "\n",
            "Feel like in hell every meal is a nothing burger with awesomesauce. :( \n",
            "\n",
            "@leafpilled Right, like Fat women could talk abt being constantly criticized, medical professionals supporting EDs,… https://t.co/MWcC5aPKhF \n",
            "\n",
            "@FanIroha Neat! :D\n",
            "I don't like burgers [unpatriotic I know! :(], but pickles and ketchup (and even cheese) are good! :) \n",
            "\n",
            "@alexbloor I do like the double Big Mac. I was initially excited about the chicken Big Mac but quickly realised it… https://t.co/oixo6icaTV \n",
            "\n",
            "----------------------------------------------------------------------------------------------------\n",
            "just\n",
            "📷 I just realize I forgot to bring a piece of cheese :((((( #LunchTime #LowCarb #lchf #keto #dirtyketo #burgers… https://t.co/3SQ37dsxwz \n",
            "\n",
            "@nrnvan You're having burger? Should've invited me tho :( i had salad just now which is bland \n",
            "\n",
            "I just seen some sad cows tied up on a truck :( how can I enjoy my burger now? \n",
            "\n",
            "@GrahfMetal Also, explosive-spamming enemies in Doom just reminds me WAY too much of Call of Duty. I’m the Doom Mar… https://t.co/oXR5hRma38 \n",
            "\n",
            "i just finished watching all of bobs burgers :(( \n",
            "\n",
            "@fujifinite I just wanted my kids burger and the happy meal toys :( \n",
            "\n",
            "@McDonaldsUK I am vegan and I went to buy a Mcplant burger meal. I received a fish burger and I just had a bite. Re… https://t.co/ULniPdttWw \n",
            "\n",
            "@nekudotexe sorry I just spent it all on fries and burger :( \n",
            "\n",
            "U ever just fall on ur ass in the street just so you can get a burger :( \n",
            "\n",
            "@EmersenLee If your gonna have tofu, just have tofu.  It's not bad, but tofu burger just seems like lying to yourself :( \n",
            "\n",
            "----------------------------------------------------------------------------------------------------\n",
            "fries\n",
            "Really hope they bring fries with my burger :( \n",
            "\n",
            "I miss Mooyah.. I miss everything about it! I miss their burgers, their chunky fries, their dense cheese sauce, the… https://t.co/0XsaX0NPzN \n",
            "\n",
            "drive thru worker @ burger king fucked up my order &gt;:((( wanted sammich, got fries &gt;:((((((( \n",
            "\n",
            "then when i woke up i had to throw the burger and fries in the trash :(((( \n",
            "\n",
            "IM CRAVING A BIG BURGER WITH FRIES !! :( \n",
            "\n",
            "when no cookout cheddar burger with fries, hush puppies, and a large dr pepper :( https://t.co/rQXvZvRFBU \n",
            "\n",
            "in the mood for burger and fries :(( \n",
            "\n",
            "Wow not only are these “new” fries not hot and crispy, but I ordered 2 big bacon classic combos and got cold burger… https://t.co/8GfO5Bwg48 \n",
            "\n",
            "my dad bought me fries &amp; burger :( \n",
            "\n",
            "@nekudotexe sorry I just spent it all on fries and burger :( \n",
            "\n",
            "----------------------------------------------------------------------------------------------------\n",
            "dont\n",
            "yikes im sorry anon &lt;/3 i dont like pickles too they destroy the whole entire burger/sandwich sometimes :( but you… https://t.co/356Bfw0iCO \n",
            "\n",
            "Dont forget to interact with tag boosters burgers :((( \n",
            "\n",
            "KEEP CALM WithSEHAM \n",
            "\n",
            "----------------------------------------------------------------------------------------------------\n",
            "king\n",
            "working in person is great because i can leave a bottle of sparkling on my desk without knowing burger will come an… https://t.co/ukfg4Pcayh \n",
            "\n",
            "not burger king giving me the wrong order &gt;:((( \n",
            "\n",
            "drive thru worker @ burger king fucked up my order &gt;:((( wanted sammich, got fries &gt;:((((((( \n",
            "\n",
            "@maggiejayh this gave me the motivation to doordash burger king (no better burger places around :( ) \n",
            "\n",
            "i keep randomly crying throughout the day ever since burger passed..\n",
            "i think since i'm not constantly taking care o… https://t.co/wr4HfR6XhV \n",
            "\n",
            "@Stoniebaby420 Ma'am this is a Burger King. We don't do that here :( https://t.co/m96BMdtpHE \n",
            "\n",
            "@sundaesupreeme There is no Burger King here :(\n",
            "Ngl if there were I’d prob try it \n",
            "\n",
            "Every Starbucks in Lodi is closed :( so I’m getting an iced coffee from Burger King 😬😬😬 \n",
            "\n",
            "@lilvarun @Kungumapubonda @CarlosR @vulxaNNN @aneruth2 @G2esports Cakes and Burgers are fucking delicious though :( \n",
            "\n",
            "I miss burger king :(( \n",
            "\n",
            "----------------------------------------------------------------------------------------------------\n",
            "have\n",
            "@ataaashi it’s so bad , they don’t have wraps / burgers / paella :( \n",
            "\n",
            "I’ve always wanted to be an animator but I always have to do homework and go to school :( \n",
            "\n",
            "what’s wrong babe? you haven’t touched your hello kitty burger :( https://t.co/a3FOBxwvJp \n",
            "\n",
            "@thwimbooo @DynamoSuperX Jeez that’s terrible! Have you tried reporting that to the police or sue? They have no rig… https://t.co/mWtdM719xd \n",
            "\n",
            "@_TheKendrick going to the dining hall and seeing tater tot’s ruins me. but i can’t have a burger without some sort of potato :( \n",
            "\n",
            "I miss my gol gappe n my anday wala burger from gerrad street :( I haven’t gone in so long \n",
            "\n",
            "@EchoTheNeko You can’t have my burger &gt;:( \n",
            "\n",
            "why does lark burger have to be the best burger but also the most expensive :( \n",
            "\n",
            "@EmersenLee If your gonna have tofu, just have tofu.  It's not bad, but tofu burger just seems like lying to yourself :( \n",
            "\n",
            "@Aviatoradam If you slip, guess who's gonna have fresh ground beef for burgers?\n",
            "\n",
            "Hint: it ain't you :( \n",
            "\n",
            "----------------------------------------------------------------------------------------------------\n"
          ]
        }
      ]
    },
    {
      "cell_type": "code",
      "source": [
        "for combo in top_words_pos:\n",
        "    print(combo[0])\n",
        "    query = { \"text\": { '$regex': '^.*'+ combo[0] + '.*$', '$options': 'si' } }\n",
        "    cursor = coll_pos.find(query)\n",
        "    i = 0\n",
        "    # Printing first 10 tweets\n",
        "    for tweet in cursor:\n",
        "        if i >= 10:\n",
        "            break\n",
        "        print(tweet['text'], '\\n')\n",
        "        i += 1\n",
        "\n",
        "    print(\"-\"*100)"
      ],
      "metadata": {
        "id": "kP1YxDCicvgK",
        "outputId": "9b8536a9-f43b-4717-f912-ec2bf21b840c",
        "colab": {
          "base_uri": "https://localhost:8080/"
        }
      },
      "execution_count": 153,
      "outputs": [
        {
          "output_type": "stream",
          "name": "stdout",
          "text": [
            "burger\n",
            "@allydrawsthings Burger and fries? :D \n",
            "\n",
            "Had Steak ‘n Shake for the first time today and was not disappointed :) I love trying burger places, who wants to take me to In ‘n Out next \n",
            "\n",
            "@Arceoptryx burger :) \n",
            "\n",
            "@absomarvilla You also don’t have a clue on how to spell my name! That said, when it comes to the #impossibleburger… https://t.co/Lcy5F3o6lv \n",
            "\n",
            "@acrackedmask @realkagehira Burger first then baby :) \n",
            "\n",
            "@Saskgal80 @MarkEllison06 Lol! Well she said she wanted s burger mail and meant burger meal so I didn’t get the fries and she was mad :) \n",
            "\n",
            "@radiodreading And now I want a burger, dammit. :) No, I have no clue and I will finish the manga before I dare put… https://t.co/PQuUvMJnp2 \n",
            "\n",
            "double cheese burger for the first time, i couldn’t finish it :) \n",
            "\n",
            "@CheekyVic Just get a non cheese burger 🍔 u are an intelligent girl don't panic!!!!:) \n",
            "\n",
            "@freshhmeatz @paradigmnft_ Negative. We only  have Burger King and McDonalds. :D \n",
            "\n",
            "----------------------------------------------------------------------------------------------------\n",
            "burgers\n",
            "@DylanGelula @katiebrenzel this happened to you once when I ordered burgers for the newsroom :) \n",
            "\n",
            "Quad Smash! This time on a plate :) \n",
            " \n",
            "#Burger #Burgers\n",
            " \n",
            "https://t.co/Knv2dpjrzr https://t.co/tqmAnlTfGj \n",
            "\n",
            "i think my total might be 1200 because my family is having... burgers... for dinner 🤡 but i burned 200 so it's alri… https://t.co/0412VkYgJt \n",
            "\n",
            "I can't wait to eat these. Since I can't have pickles anymore, these will go on my burgers. :) https://t.co/VXtXUBKeW1 \n",
            "\n",
            "watching bob’s burgers :))) \n",
            "\n",
            "@ChefGruel That’s awesome! Well done! And keep making those burgers! I am going to travel all the way to you one of these days for one. :) \n",
            "\n",
            "So I Erm ordered food :) chicken burgers to be exact and milkshakes 😋 \n",
            "\n",
            "Lets start building our Voting Team Burgers! DM if you’re willing to join a committed voting team for Seham :D \n",
            "\n",
            "SA… https://t.co/aF0BQJI5Ey \n",
            "\n",
            "@IROUTNOW @cz_binance He started early flipping burgers to help with family finances. He would know :) \n",
            "\n",
            "@Exist_th_ing i think wendy's ;-; i dont really eat burgers much. jsut got a recommendation from a friend though im… https://t.co/ouFiU7ZvKf \n",
            "\n",
            "----------------------------------------------------------------------------------------------------\n",
            "king\n",
            "@freshhmeatz @paradigmnft_ Negative. We only  have Burger King and McDonalds. :D \n",
            "\n",
            "okay  guys  guys  im  going  to  burger  king  w  my  friends  after  my  exam  what  do  i  get  ??  i  get  to  l… https://t.co/iS3586e9Gx \n",
            "\n",
            "@Sammyland6 I also love the old Burger King logo :) \n",
            "\n",
            "@MinishiFox Yeah Burger King has those :D \n",
            "\n",
            "@LacrimosaDeMag Burger king XDDD Sorry.... I just can't stop eating those damn cheese balls. I don't even care abou… https://t.co/svZVHuNcbk \n",
            "\n",
            "@ChefGruel That’s awesome! Well done! And keep making those burgers! I am going to travel all the way to you one of these days for one. :) \n",
            "\n",
            "went out by myself today. 2 malls, no way home, burger king, 2 sticks :))) feeling good good :))) haven't done this in awhile :))) \n",
            "\n",
            "@FalKoopa_ nice! i love burger king :D \n",
            "\n",
            "@mikesharman It was for @OneMinuteBriefs. Here are the other winning submissions :) the Burger King one is also fli… https://t.co/An6YE9lGOp \n",
            "\n",
            "Drinking hot chocolate, waiting for my train. Gonna get veggie burgers with Mandy and Dylan :) \n",
            "\n",
            "----------------------------------------------------------------------------------------------------\n",
            "have\n",
            "@absomarvilla You also don’t have a clue on how to spell my name! That said, when it comes to the #impossibleburger… https://t.co/Lcy5F3o6lv \n",
            "\n",
            "@radiodreading And now I want a burger, dammit. :) No, I have no clue and I will finish the manga before I dare put… https://t.co/PQuUvMJnp2 \n",
            "\n",
            "@freshhmeatz @paradigmnft_ Negative. We only  have Burger King and McDonalds. :D \n",
            "\n",
            "@So_Ethereal Is like they use toast 🤔\n",
            "I have tested burger on toast b4 it is cool :) \n",
            "\n",
            "i have sudden plans to meet my friends today! first time after almost 2 years! I'm so glad I've only had a glass of… https://t.co/gxYA8YTYEK \n",
            "\n",
            "i have had today: a veggie burger, a small pizza, n tofu pad see ew &lt;3 my body is adjusting to the stretched lining… https://t.co/Nrouzg7ysh \n",
            "\n",
            "I can't wait to eat these. Since I can't have pickles anymore, these will go on my burgers. :) https://t.co/VXtXUBKeW1 \n",
            "\n",
            "went out by myself today. 2 malls, no way home, burger king, 2 sticks :))) feeling good good :))) haven't done this in awhile :))) \n",
            "\n",
            "@banditocarly HIII this is my oc guy I made him very recently so I don’t rlly have that many drawings for him and I… https://t.co/84hKiq3WGu \n",
            "\n",
            "@scottew Beyond burgers take it for me\n",
            " Impossible burgers are fine, but the Beyond burgers have a better texture i… https://t.co/KShszWlAdc \n",
            "\n",
            "----------------------------------------------------------------------------------------------------\n",
            "im\n",
            "Had Steak ‘n Shake for the first time today and was not disappointed :) I love trying burger places, who wants to take me to In ‘n Out next \n",
            "\n",
            "@absomarvilla You also don’t have a clue on how to spell my name! That said, when it comes to the #impossibleburger… https://t.co/Lcy5F3o6lv \n",
            "\n",
            "double cheese burger for the first time, i couldn’t finish it :) \n",
            "\n",
            "Quad Smash! This time on a plate :) \n",
            " \n",
            "#Burger #Burgers\n",
            " \n",
            "https://t.co/Knv2dpjrzr https://t.co/tqmAnlTfGj \n",
            "\n",
            "i have sudden plans to meet my friends today! first time after almost 2 years! I'm so glad I've only had a glass of… https://t.co/gxYA8YTYEK \n",
            "\n",
            "okay  guys  guys  im  going  to  burger  king  w  my  friends  after  my  exam  what  do  i  get  ??  i  get  to  l… https://t.co/iS3586e9Gx \n",
            "\n",
            "Cool quotes &gt;:) \"if i find a burger tank in this place, ima be a one man cheeseburger apocalypse\" \n",
            "\n",
            "@LacrimosaDeMag Burger king XDDD Sorry.... I just can't stop eating those damn cheese balls. I don't even care abou… https://t.co/svZVHuNcbk \n",
            "\n",
            "@LlSTENlNG_PARTY @KevinMoyer @Burger_Meister6 @chrisdouridas @coreydu @earlimart Had a wonderful time :) thank you… https://t.co/4sWtj14A9F \n",
            "\n",
            "@Exist_th_ing i think wendy's ;-; i dont really eat burgers much. jsut got a recommendation from a friend though im… https://t.co/ouFiU7ZvKf \n",
            "\n",
            "----------------------------------------------------------------------------------------------------\n",
            "like\n",
            "@So_Ethereal Is like they use toast 🤔\n",
            "I have tested burger on toast b4 it is cool :) \n",
            "\n",
            "I've been craving for sandwich/burger na homemade for like weeks na :))))) \n",
            "\n",
            "@mitchblevins To answer her question, sort of, give her a Tucker's onion burger. Looks and tastes like meat because it is meat. So good. :P \n",
            "\n",
            "I saw a toy set that featured the Iron Man 3 IM suit and Happy Hogan and i was just like:\n",
            "\n",
            "\"Nah screw Iron man, i want Ham Burger Man :)\" \n",
            "\n",
            "@piyushchaudhry Then it would look like child of Pizza and Burger :) \n",
            "\n",
            "@burger_crypto @BitCannaGlobal calculated if you put 3000$ in bcna osmo you will receive like 1$ per day.  Bcna is… https://t.co/rUpl08UbYH \n",
            "\n",
            "@DrewNoles Like a signature burger :) x \n",
            "\n",
            "@YeetZmeN @Ghost_Burger @Wario64 it's a farming game like stardew valley :) \n",
            "\n",
            "@FanIroha Neat! :D\n",
            "I don't like burgers [unpatriotic I know! :(], but pickles and ketchup (and even cheese) are good! :) \n",
            "\n",
            "Varsity Dream! \n",
            "He's eating a Dream burger &gt;:D \n",
            ".\n",
            "-retweets,likes,comments are cool-\n",
            "#dreamfanart #mcyt #smiletwt https://t.co/lNoClg5A9t \n",
            "\n",
            "----------------------------------------------------------------------------------------------------\n",
            "good\n",
            "The way a good burger cheers you up :) \n",
            "\n",
            "went out by myself today. 2 malls, no way home, burger king, 2 sticks :))) feeling good good :))) haven't done this in awhile :))) \n",
            "\n",
            "Today was a good day\n",
            "- Got to use a power tool (immediate 7/10)\n",
            "- Ate at my fav fast food burger place for lunch (I… https://t.co/GgGABqhbzG \n",
            "\n",
            "@mitchblevins To answer her question, sort of, give her a Tucker's onion burger. Looks and tastes like meat because it is meat. So good. :P \n",
            "\n",
            "@MarkCalc In fairness, you were eating. A burger :-)\n",
            "\n",
            "Your very good Open podcast somewhat blunted my memory. I sen… https://t.co/Elyt1smQbT \n",
            "\n",
            "@tanamarieberry @_Talesh that’s a very good question! I think it’s important to balance burgers from Parasol so we… https://t.co/8tZotgSBRx \n",
            "\n",
            "@fromthebunkerjr @ChewsViews @frangeladuo But are they as good as the Impossible burger from Burger King though? We… https://t.co/3UXe8te3K6 \n",
            "\n",
            "@FanIroha Neat! :D\n",
            "I don't like burgers [unpatriotic I know! :(], but pickles and ketchup (and even cheese) are good! :) \n",
            "\n",
            "I forced my friend to watch Good Burger\n",
            "The movie is so bad to a point that it's so good\n",
            "It was a fun movie :) \n",
            "\n",
            "@Whaazz I've read a good tasty burger always helps to regenerate :D Take care ;) \n",
            "\n",
            "----------------------------------------------------------------------------------------------------\n",
            "get\n",
            "@breakcorefan420 @gum_mp3 Hahaha I remember calling in sick the day after getting Arby’s MEAT MOUNTAIN :p I’m scare… https://t.co/5wfWtsuD4M \n",
            "\n",
            "@Saskgal80 @MarkEllison06 Lol! Well she said she wanted s burger mail and meant burger meal so I didn’t get the fries and she was mad :) \n",
            "\n",
            "@CheekyVic Just get a non cheese burger 🍔 u are an intelligent girl don't panic!!!!:) \n",
            "\n",
            "@Kitsune__Spirit i wish for vegetarian burger :) \n",
            "\n",
            "mob at mobdonalds: i think i'll get... \n",
            "me: a burger menu? :) \n",
            "mob: oh, hanazawa, how did you know? \n",
            "me, on my phon… https://t.co/rUBUPKOrE3 \n",
            "\n",
            "okay  guys  guys  im  going  to  burger  king  w  my  friends  after  my  exam  what  do  i  get  ??  i  get  to  l… https://t.co/iS3586e9Gx \n",
            "\n",
            "@_dawnw81 @GordonRamsay Hehe right on :) just curious...what'd ya get? Burger, I presume? \n",
            "\n",
            "mob at mobdonalds: i think i'll get... \n",
            "me: a burger menu? :) \n",
            "mob: oh, hanazawa, how did you know? \n",
            "me, on my phon… https://t.co/aDCby3M4BU \n",
            "\n",
            "mob at mobdonalds: i think i'll get... \n",
            "me: a burger menu? :) \n",
            "mob: oh, hanazawa, how did you know? \n",
            "me, on my phon… https://t.co/ON3jNgRoRD \n",
            "\n",
            "Drinking hot chocolate, waiting for my train. Gonna get veggie burgers with Mandy and Dylan :) \n",
            "\n",
            "----------------------------------------------------------------------------------------------------\n",
            "know\n",
            "mob at mobdonalds: i think i'll get... \n",
            "me: a burger menu? :) \n",
            "mob: oh, hanazawa, how did you know? \n",
            "me, on my phon… https://t.co/rUBUPKOrE3 \n",
            "\n",
            "@mark_riedl Bad algorithm: Everyone knows  \"landscape ... stakes\" should match \"garden burger\" :) \n",
            "\n",
            "@IROUTNOW @cz_binance He started early flipping burgers to help with family finances. He would know :) \n",
            "\n",
            "mob at mobdonalds: i think i'll get... \n",
            "me: a burger menu? :) \n",
            "mob: oh, hanazawa, how did you know? \n",
            "me, on my phon… https://t.co/aDCby3M4BU \n",
            "\n",
            "Expect nothing prepare for the worst. If you didn’t know, Team Seham has a Donation Drive set up. Rest assured that… https://t.co/wZLNan0bHS \n",
            "\n",
            "mob at mobdonalds: i think i'll get... \n",
            "me: a burger menu? :) \n",
            "mob: oh, hanazawa, how did you know? \n",
            "me, on my phon… https://t.co/ON3jNgRoRD \n",
            "\n",
            "Seeing a lot of tweets for burgers, don’t forget how easy it is to make at home :) #knowhatsinyourfood \n",
            "\n",
            "@saintdle Thanks mate, it was so yummy. Next time you are around, let me know and I can bring you some :) while we… https://t.co/MGAnJcN1aD \n",
            "\n",
            "@saintdle Thanks mate, it was so yummy. Next time you are around, let me know and I can bring you some :) while we… https://t.co/MGAnJcN1aD \n",
            "\n",
            "@FanIroha Neat! :D\n",
            "I don't like burgers [unpatriotic I know! :(], but pickles and ketchup (and even cheese) are good! :) \n",
            "\n",
            "----------------------------------------------------------------------------------------------------\n",
            "will\n",
            "@radiodreading And now I want a burger, dammit. :) No, I have no clue and I will finish the manga before I dare put… https://t.co/PQuUvMJnp2 \n",
            "\n",
            "I can't wait to eat these. Since I can't have pickles anymore, these will go on my burgers. :) https://t.co/VXtXUBKeW1 \n",
            "\n",
            "Lets start building our Voting Team Burgers! DM if you’re willing to join a committed voting team for Seham :D \n",
            "\n",
            "SA… https://t.co/aF0BQJI5Ey \n",
            "\n",
            "streaming after i finish my burger :D fnaf 2 will be completed after tonight!!!!! + some news \n",
            "\n",
            "@bencanning87 The larger the burger, the more calories you will burn lifting the extra weight. It all evens out I am sure.... :) \n",
            "\n",
            "@burger_crypto @BitCannaGlobal calculated if you put 3000$ in bcna osmo you will receive like 1$ per day.  Bcna is… https://t.co/rUpl08UbYH \n",
            "\n",
            "[stream over!]\n",
            "\n",
            "WE DID IT!!! I will be eating a **DELICIOUS** burger live on stream sometime this month!! LETS GO!!… https://t.co/lUeZTshM1D \n",
            "\n",
            "i will never forget abt the time a customer ordered 23 burgers and 23 frosties right after we [my workplace] got a b*mb threat :D \n",
            "\n",
            "Don’t judge me for going to Burger King I know I’m gross jesus anyways when will people realize we know what they’r… https://t.co/vJCkiuGTIr \n",
            "\n",
            "Leg day then Will made us burgers :) https://t.co/fiCvWTQaff \n",
            "\n",
            "----------------------------------------------------------------------------------------------------\n"
          ]
        }
      ]
    },
    {
      "cell_type": "markdown",
      "metadata": {
        "id": "tD6h0TglY6Dv"
      },
      "source": [
        "*-----------------\n",
        "# Done\n",
        "\n",
        "All set! \n",
        "\n",
        "** What do you need to submit?**\n",
        "\n",
        "* **Notebook File**: Save this IPython notebook, and find the notebook file in your folder (for example, \"filename.ipynb\"). This is the file you need to submit. Please make sure all the plotted tables and figures are in the notebook. If you used \"ipython notebook --pylab=inline\" to open the notebook, all the figures and tables should have shown up in the notebook.\n",
        "\n",
        "\n",
        "* **PPT Slides**: please prepare PPT slides (for 15 minutes' talk) to present about the case study . We will ask *all* teams to present their case studies in class for this case study. \n",
        "\n",
        "* **Report**: please prepare a report (less than 10 pages) to report what you found in the data.\n",
        "    * What data you collected? \n",
        "    * Why this topic is interesting or important to you? (Motivations)\n",
        "    * How did you analyse the data?\n",
        "    * What did you find in the data? \n",
        " \n",
        "     (please include figures or tables in the report, but no source code)\n",
        "\n",
        "Please compress all the files in a zipped file.\n",
        "\n",
        "\n",
        "** How to submit: **\n",
        "\n",
        "        Please submit through canvas.wpi.edu\n",
        "\n"
      ]
    },
    {
      "cell_type": "markdown",
      "metadata": {
        "id": "-FvDoMzSY6Dv"
      },
      "source": [
        "# Grading Criteria:\n",
        "\n",
        "**Totoal Points: 100**\n",
        "\n",
        "\n",
        "---------------------------------------------------------------------------\n",
        "**Notebook results:**\n",
        "    Points: 80\n",
        "\n",
        "\n",
        "    -----------------------------------\n",
        "    Question 1:\n",
        "    Points: 20\n",
        "    -----------------------------------\n",
        "    \n",
        "    -----------------------------------\n",
        "    Question 2:\n",
        "    Points: 20\n",
        "    -----------------------------------\n",
        "        \n",
        "    -----------------------------------\n",
        "    Question 3:\n",
        "    Points: 20\n",
        "    -----------------------------------\n",
        "  \n",
        "    -----------------------------------\n",
        "    Question 4:  Business question\n",
        "    Points: 20\n",
        "    -----------------------------------\n",
        "\n",
        "\n",
        "---------------------------------------------------------------------------\n",
        "**Slides (for 5-10 minutes of presentation): Story-telling**\n",
        "    Points: 20\n",
        "\n",
        "\n",
        "1. Motivation about the data collection, why the topic is interesting to you.\n",
        "    Points: 5 \n",
        "\n",
        "2. Communicating Results (figure/table)\n",
        "    Points: 10 \n",
        "\n",
        "3. Story telling (How all the parts (data, analysis, result) fit together as a story?)\n",
        "    Points: 5 \n"
      ]
    },
    {
      "cell_type": "code",
      "execution_count": null,
      "metadata": {
        "id": "2Wy1xam0Y6Dw"
      },
      "outputs": [],
      "source": [
        ""
      ]
    }
  ],
  "metadata": {
    "anaconda-cloud": {},
    "kernel_info": {
      "name": "python3"
    },
    "kernelspec": {
      "display_name": "Python 3",
      "language": "python",
      "name": "python3"
    },
    "language_info": {
      "codemirror_mode": {
        "name": "ipython",
        "version": 3
      },
      "file_extension": ".py",
      "mimetype": "text/x-python",
      "name": "python",
      "nbconvert_exporter": "python",
      "pygments_lexer": "ipython3",
      "version": "3.8.5"
    },
    "nteract": {
      "version": "0.2.0"
    },
    "colab": {
      "name": "CaseStudy2_MongoDB.ipynb",
      "provenance": [],
      "include_colab_link": true
    }
  },
  "nbformat": 4,
  "nbformat_minor": 0
}