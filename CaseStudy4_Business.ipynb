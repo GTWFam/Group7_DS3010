{
  "cells": [
    {
      "cell_type": "markdown",
      "metadata": {
        "id": "view-in-github",
        "colab_type": "text"
      },
      "source": [
        "<a href=\"https://colab.research.google.com/github/GTWFam/Group7_DS3010/blob/main/CaseStudy4_Business.ipynb\" target=\"_parent\"><img src=\"https://colab.research.google.com/assets/colab-badge.svg\" alt=\"Open In Colab\"/></a>"
      ]
    },
    {
      "cell_type": "markdown",
      "metadata": {
        "id": "3SHVl4cWjgoO"
      },
      "source": [
        "### Case Study 4 :  Data Science Shark Tank:  Pitch Your Ideas\n",
        "\n",
        "**Due Date: March 1, 2022, BEFORE the beginning of class at 2:00pm ET**\n",
        "\n",
        "NOTE: There are always last minute issues submitting the case studies. DO NOT WAIT UNTIL THE LAST MINUTE!\n",
        "\n",
        "<img src=\"https://techcrunch.com/wp-content/uploads/2018/10/shark-tank.jpg?w=730&crop=1\" width=\"400px\"> "
      ]
    },
    {
      "cell_type": "markdown",
      "metadata": {
        "id": "SaAD7SdXjgoQ"
      },
      "source": [
        "After the previous three case studies,  your team is now equipped with a powerful set of data science skills. In this project, your team is going to make use of these skills to come up with an idea of a new business/startup based upon data science technology. Your goal is to design a service/solution, develop a prototype/demo and prepare a pitch for your idea.\n",
        "* Your team needs to decide which business problem is important for the market you are joining in (for example, social media market, housing market, search market, etc.).\n",
        "* Then design a data science approach to improve one of the current services or design a new service on any data that you choose.\n",
        "* The solution should include:\n",
        "  1. The use of Twitter data\n",
        "  1. The use of at least one other data set to combine with the Twitter data\n",
        "  1. The use of cloud resources\n",
        "  1. A 90 second elevator pitch\n",
        "  1. The normal longer present with a demo of your product\n",
        "* NOTE, as opposed to the first three case studies, case study 5 is much more open ended.  \n",
        "  * Business is the focus\n",
        "  * The precise balance of the various things we learned in class is up to you."
      ]
    },
    {
      "cell_type": "markdown",
      "metadata": {
        "id": "9rHMBNmVjgoR"
      },
      "source": [
        "# Background about Elevator Pitch (90 seconds) and Shark Tank"
      ]
    },
    {
      "cell_type": "code",
      "execution_count": null,
      "metadata": {
        "id": "kGMGqZy-jgoR",
        "outputId": "90a1b31b-537a-4c79-af4e-f00b289c7f9a"
      },
      "outputs": [
        {
          "data": {
            "image/jpeg": "[encoded data removed]",
            "text/html": [
              "\n",
              "        <iframe\n",
              "            width=\"400\"\n",
              "            height=\"300\"\n",
              "            src=\"https://www.youtube.com/embed/3UuFR4Y4uw8\"\n",
              "            frameborder=\"0\"\n",
              "            allowfullscreen\n",
              "        ></iframe>\n",
              "        "
            ],
            "text/plain": [
              "<IPython.lib.display.YouTubeVideo at 0x2869b800550>"
            ]
          },
          "execution_count": 3,
          "metadata": {},
          "output_type": "execute_result"
        }
      ],
      "source": [
        "from IPython.display import YouTubeVideo\n",
        "YouTubeVideo(\"3UuFR4Y4uw8\") "
      ]
    },
    {
      "cell_type": "markdown",
      "metadata": {
        "id": "So2FndUVjgoS"
      },
      "source": [
        "### Two videos on storytelling"
      ]
    },
    {
      "cell_type": "markdown",
      "metadata": {
        "id": "svbG59IejgoT"
      },
      "source": [
        "https://video.wpi.edu/Watch/g2T4NjBn"
      ]
    },
    {
      "cell_type": "markdown",
      "metadata": {
        "id": "_6TmKhyMjgoT"
      },
      "source": [
        "https://video.wpi.edu/Watch/q2A6Dbg3"
      ]
    },
    {
      "cell_type": "markdown",
      "metadata": {
        "id": "AjugdkxCjgoT"
      },
      "source": [
        "\n",
        "**Optional Readings:** \n",
        "* LinkedIn API: https://developer.linkedin.com/docs/rest-api\n",
        "* Zillow API: https://pypi.python.org/pypi/pyzillow\n",
        "* Google Map API: https://developers.google.com/api-client-library/python/apis/mapsengine/v1?hl=en\n",
        "* More APIs: https://github.com/ptwobrussell/Mining-the-Social-Web-2nd-Edition\n",
        "\n",
        "\n",
        "** Python libraries you may want to use:**\n",
        "* Scikit-learn (http://scikit-learn.org): machine learning tools in Python.\n",
        "\n",
        "** Data sources:**\n",
        "* UCI Machine Learning Repository: http://archive.ics.uci.edu/ml/ \n",
        "* Statlib datasets: http://lib.stat.cmu.edu/\n",
        "* Kaggel: www.kaggle.com \n",
        "* Open Gov. Data: www.data.gov, www.data.gov.uk, www.data.gov.fr, http://opengovernmentdata.org/data/catalogues/   \n",
        "\n",
        "** NOTE **\n",
        "* Please don't forget to save the notebook frequently when working in IPython Notebook, otherwise the changes you made can be lost.\n"
      ]
    },
    {
      "cell_type": "markdown",
      "metadata": {
        "id": "aUDxNVNUjgoT"
      },
      "source": [
        "### Problem 1 (20 points): the Business Part \n",
        " As a group, learn about the data science related business and research about the current markets: such as search, social media, advertisement, recommendation and so on.\n",
        "Pick one of the markets for further consideration, and design a new service  which you believe to be important in the market. \n",
        "Define precisely in the report and briefly in the cells below, what is the business problem that your team wants to solve.\n",
        "Why the problem is important to solve? \n",
        "Why you believe you could make a big difference with data science technology.\n",
        "How are you planing to persuade the investors to buy in your idea."
      ]
    },
    {
      "cell_type": "markdown",
      "metadata": {
        "id": "4NBY3_AojgoU"
      },
      "source": [
        "**Please describe here *briefly*  (please edit this cell)**\n",
        "\n",
        "1) Your business problem to solve:\n",
        "\n",
        "    \n",
        "\n",
        "2) Why the problem is important to solve? \n",
        "\n",
        "\n",
        "3) What is your idea to solve the problem? \n",
        "\n",
        "\n",
        "4) What differences you could make with your data science approach?\n",
        "\n",
        "\n",
        "5) Why do you believe the idea deserves the investment of the \"sharks\"?\n",
        "\n",
        "\n",
        "\n",
        "\n"
      ]
    },
    {
      "cell_type": "markdown",
      "metadata": {
        "id": "9bVjigvtjgoU"
      },
      "source": [
        "### Problem 2 (20 points): The Data Part "
      ]
    },
    {
      "cell_type": "markdown",
      "metadata": {
        "id": "fFCFnuvqjgoU"
      },
      "source": [
        "Define how Twitter data and at least one other dataset can be combined to make a Data Science product."
      ]
    },
    {
      "cell_type": "code",
      "source": [
        "! pip install twitter\n",
        "! pip install pymongo\n",
        "! pip install dnspython"
      ],
      "metadata": {
        "id": "FNE3Su15nfmB",
        "outputId": "d386d729-cbe1-41c1-a320-bf2b7332c204",
        "colab": {
          "base_uri": "https://localhost:8080/"
        }
      },
      "execution_count": 3,
      "outputs": [
        {
          "output_type": "stream",
          "name": "stdout",
          "text": [
            "Requirement already satisfied: twitter in /usr/local/lib/python3.7/dist-packages (1.19.3)\n",
            "Requirement already satisfied: pymongo in /usr/local/lib/python3.7/dist-packages (4.0.1)\n",
            "Requirement already satisfied: dnspython in /usr/local/lib/python3.7/dist-packages (2.2.0)\n"
          ]
        }
      ]
    },
    {
      "cell_type": "code",
      "execution_count": 4,
      "metadata": {
        "id": "kWhPkKM3jgoU",
        "outputId": "d8a5d2bb-bf13-4ed3-946d-6f0bc804fd3b",
        "colab": {
          "base_uri": "https://localhost:8080/"
        }
      },
      "outputs": [
        {
          "output_type": "stream",
          "name": "stdout",
          "text": [
            "Drive already mounted at /content/drive; to attempt to forcibly remount, call drive.mount(\"/content/drive\", force_remount=True).\n",
            "<class 'twitter.api.Twitter'>\n"
          ]
        }
      ],
      "source": [
        "# your code here\n",
        "import twitter\n",
        "import pymongo\n",
        "import json\n",
        "import pprint\n",
        "from google.colab import drive\n",
        "\n",
        "drive.mount('/content/drive')\n",
        "#---------------------------------------------\n",
        "# Define a Function to Login Twitter API\n",
        "def oauth_login():\n",
        "    # Prof. Paffenroth has a developer account for the class.  He will provide the Twitter access tokens for\n",
        "    # each team\n",
        "    # See https://developer.twitter.com/docs/auth/oauth for more information \n",
        "    # on Twitter's OAuth implementation.\n",
        "    data = {}\n",
        "    \n",
        "    # Extracting the saved credentials from the drive\n",
        "    with open('drive/MyDrive/ds3010_2022/credentials.txt', 'r') as f:\n",
        "        data = json.load(f)\n",
        "    CONSUMER_KEY = data[\"consumer_key\"]\n",
        "    CONSUMER_SECRET = data[\"consumer_secret\"]\n",
        "    OAUTH_TOKEN = data[\"oauth_token\"]\n",
        "    OAUTH_TOKEN_SECRET = data[\"oauth_token_secret\"]\n",
        "    mongodb_url = data[\"mongodb_url\"]\n",
        "\n",
        "    client = pymongo.MongoClient(mongodb_url)\n",
        "\n",
        "    auth = twitter.oauth.OAuth(OAUTH_TOKEN, OAUTH_TOKEN_SECRET,\n",
        "                               CONSUMER_KEY, CONSUMER_SECRET)\n",
        "    \n",
        "    twitter_api = twitter.Twitter(auth=auth)\n",
        "    return twitter_api, client\n",
        "\n",
        "twitter_api, client = oauth_login()\n",
        "print(type(twitter_api))"
      ]
    },
    {
      "cell_type": "code",
      "source": [
        "db = client['DS3010']\n",
        "twitter_coll_pos = db['CS4_twitter_pos']\n",
        "twitter_coll_neg = db['CS4_twitter_neg']\n",
        "kaggle_one = db[\"CS4_kaggle_one\"]"
      ],
      "metadata": {
        "id": "xPTIVTdRzT3V"
      },
      "execution_count": 5,
      "outputs": []
    },
    {
      "cell_type": "code",
      "source": [
        "query = \"disneyland :)\"\n",
        "\n",
        "data = twitter_api.search.tweets(q=query, lang='en', count=100)\n",
        "\n",
        "min_id = data['statuses'][-1]['id']\n",
        "for i in range(10):\n",
        "    tweets = twitter_api.search.tweets(q=query, lang='en', max_id=min_id, count=100)\n",
        "    min_id = tweets['statuses'][-1]['id']\n",
        "    data['statuses'] += tweets['statuses']\n",
        "print(len(data['statuses']))\n",
        "print(type(data['statuses']))"
      ],
      "metadata": {
        "id": "zzvDc1PToQAc",
        "outputId": "3cc99eaf-5468-4b56-b670-42fbf948a120",
        "colab": {
          "base_uri": "https://localhost:8080/"
        }
      },
      "execution_count": 6,
      "outputs": [
        {
          "output_type": "stream",
          "name": "stdout",
          "text": [
            "108\n",
            "<class 'list'>\n"
          ]
        }
      ]
    },
    {
      "cell_type": "markdown",
      "source": [
        "Using MongoDB services to aggregate new twitter data that comes in every two weeks"
      ],
      "metadata": {
        "id": "MbsHu40qrvfI"
      }
    },
    {
      "cell_type": "code",
      "source": [
        "statuses = data['statuses']\n",
        "# twitter_coll_pos.drop()\n",
        "_ = twitter_coll_pos.insert_many(statuses)"
      ],
      "metadata": {
        "id": "g0jBa0TgosOm"
      },
      "execution_count": 66,
      "outputs": []
    },
    {
      "cell_type": "code",
      "source": [
        "query = \"disneyland :(\"\n",
        "\n",
        "data = twitter_api.search.tweets(q=query, lang='en', count=100)\n",
        "\n",
        "min_id = data['statuses'][-1]['id']\n",
        "for i in range(10):\n",
        "    tweets = twitter_api.search.tweets(q=query, lang='en', max_id=min_id, count=100)\n",
        "    min_id = tweets['statuses'][-1]['id']\n",
        "    data['statuses'] += tweets['statuses']\n",
        "print(len(data['statuses']))\n",
        "print()"
      ],
      "metadata": {
        "id": "0QnTrHkfrOKj",
        "outputId": "3b51f3d6-b696-4797-ed76-a628f31c93b1",
        "colab": {
          "base_uri": "https://localhost:8080/"
        }
      },
      "execution_count": 7,
      "outputs": [
        {
          "output_type": "stream",
          "name": "stdout",
          "text": [
            "57\n",
            "\n"
          ]
        }
      ]
    },
    {
      "cell_type": "code",
      "source": [
        "statuses = data['statuses']\n",
        "# twitter_coll_neg.drop()\n",
        "_ = twitter_coll_neg.insert_many(statuses)"
      ],
      "metadata": {
        "id": "Gg9JWhmkrPVr"
      },
      "execution_count": 9,
      "outputs": []
    },
    {
      "cell_type": "code",
      "source": [
        "import pandas as pd\n",
        "import csv\n",
        "\n",
        "data = {}\n",
        "\n",
        "with open('drive/MyDrive/ds3010_2022/DisneylandReviews.csv', encoding='utf-8',  errors='replace') as csvf:\n",
        "    csvReader = csv.DictReader(csvf)\n",
        "        \n",
        "    for rows in csvReader:\n",
        "        key = rows[list(rows.keys())[0]]\n",
        "        data[key] = rows\n",
        "with open('drive/MyDrive/ds3010_2022/kaggle_json.txt', 'w', encoding='utf-8',  errors='replace') as jsonf:\n",
        "    jsonf.write(json.dumps(data, indent=4))\n",
        "\n",
        "data = {}\n",
        "    \n",
        "with open('drive/MyDrive/ds3010_2022/kaggle_json.txt', 'r') as f:\n",
        "    data = json.load(f)\n",
        "print(data[list(data.keys())[2]])\n"
      ],
      "metadata": {
        "id": "ldsseqQur4A_",
        "outputId": "010af27f-3048-441f-e7ca-80b9b7c2831d",
        "colab": {
          "base_uri": "https://localhost:8080/"
        }
      },
      "execution_count": 8,
      "outputs": [
        {
          "output_type": "stream",
          "name": "stdout",
          "text": [
            "{'Review_ID': '670623270', 'Rating': '4', 'Year_Month': '2019-4', 'Reviewer_Location': 'United Arab Emirates', 'Review_Text': 'Thanks God it wasn   t too hot or too humid when I was visiting the park   otherwise it would be a big issue (there is not a lot of shade).I have arrived around 10:30am and left at 6pm. Unfortunately I didn   t last until evening parade, but 8.5 hours was too much for me.There is plenty to do and everyone will find something interesting for themselves to enjoy.It wasn   t extremely busy and the longest time I had to queue for certain attractions was 45 minutes (which is really not that bad).Although I had an amazing time, I felt a bit underwhelmed with choice of rides and attractions. The park itself is quite small (I was really expecting something grand   even the main castle which was closed by the way was quite small).The food options are good, few coffee shops (including Starbucks) and plenty of gift shops. There was no issue with toilets as they are everywhere.All together it was a great day out and I really enjoyed it.', 'Branch': 'Disneyland_HongKong'}\n"
          ]
        }
      ]
    },
    {
      "cell_type": "code",
      "source": [
        "i = 0\n",
        "data_list = []\n",
        "for review in data:\n",
        "    data_list.append(data[review])"
      ],
      "metadata": {
        "id": "kYhe3bFn4jZn"
      },
      "execution_count": 9,
      "outputs": []
    },
    {
      "cell_type": "code",
      "source": [
        "kaggle_one.drop()\n",
        "_ = kaggle_one.insert_many(data_list)"
      ],
      "metadata": {
        "id": "BRKckH5ytkgz"
      },
      "execution_count": 10,
      "outputs": []
    },
    {
      "cell_type": "markdown",
      "metadata": {
        "id": "2na5JTirjgoV"
      },
      "source": [
        "### Problem 3 (20 points): The Demo Part  \n"
      ]
    },
    {
      "cell_type": "markdown",
      "metadata": {
        "id": "NZZXqVvKjgoV"
      },
      "source": [
        "Implement a small Demo/Prototype/experiment result figures for the \"product\" of your data science company. You could use this demo during the Pitch"
      ]
    },
    {
      "cell_type": "code",
      "execution_count": 11,
      "metadata": {
        "id": "djIYoO3ijgoV"
      },
      "outputs": [],
      "source": [
        "# your code here\n",
        "twitter_pos = twitter_coll_pos.find()\n",
        "twitter_neg = twitter_coll_neg.find()"
      ]
    },
    {
      "cell_type": "code",
      "source": [
        "twitter_pos_text = []\n",
        "for tweet in twitter_pos:\n",
        "    twitter_pos_text.append(tweet['text'])\n",
        "print(twitter_pos_text[0])\n",
        "\n",
        "twitter_neg_text = []\n",
        "for tweet in twitter_neg:\n",
        "    twitter_neg_text.append(tweet['text'])\n",
        "print(twitter_neg_text[0])"
      ],
      "metadata": {
        "id": "rJsRK12l6Mnh",
        "outputId": "e6685e56-a1e9-4418-d7ca-08aa454284d7",
        "colab": {
          "base_uri": "https://localhost:8080/"
        }
      },
      "execution_count": 12,
      "outputs": [
        {
          "output_type": "stream",
          "name": "stdout",
          "text": [
            "RT @lau_ren_s: I took so much time in the Alice in Wonderland area at Disneyland and my normie friends were like, \"wow u rly like alice huh…\n",
            "I want to go to Disneyland. I haven’t been there since I was 10 years old :(\n"
          ]
        }
      ]
    },
    {
      "cell_type": "code",
      "source": [
        "import re\n",
        "exclude = ['am', 'me', 'im', 'was', 'ive', 'ur', 'which', 'so', 'as', 'i', 'rt', 'in', 'the', 'for','of', 'to', 'and', 'a', 'is', 'are', 'on', 'from', 'that', 'this', 'these', 'with', 'what', 'it', 'if', 'or', 'but', 'your', 'be', 'you', 'my', 'at', 'its']\n",
        "\n",
        "tweet_texts = [ re.sub(r\"[^\\w\\s'#@]\", '', text) for text in twitter_pos_text ]\n",
        "print(tweet_texts[0])\n",
        "words = [ w for t in tweet_texts for w in t.lower().split() ]\n",
        "words = list(filter(lambda x: x not in exclude, words))\n",
        "\n",
        "from prettytable import PrettyTable\n",
        "from collections import Counter\n",
        "\n",
        "c = Counter(words)\n",
        "\n",
        "pt = PrettyTable(field_names=['Word', 'Count'])\n",
        "[ pt.add_row(kv) for kv in c.most_common()[:30] ]\n",
        "pt.align['Word'], pt.align['Count'] = 'l', 'r'\n",
        "print(pt)"
      ],
      "metadata": {
        "id": "jmO72G7h7ghu",
        "outputId": "a436bca5-a7ed-417c-bfb0-19871e8b0b36",
        "colab": {
          "base_uri": "https://localhost:8080/"
        }
      },
      "execution_count": 13,
      "outputs": [
        {
          "output_type": "stream",
          "name": "stdout",
          "text": [
            "RT @lau_ren_s I took so much time in the Alice in Wonderland area at Disneyland and my normie friends were like wow u rly like alice huh\n",
            "+-------------+-------+\n",
            "| Word        | Count |\n",
            "+-------------+-------+\n",
            "| disneyland  |    75 |\n",
            "| time        |    16 |\n",
            "| d           |    13 |\n",
            "| @disneyland |    13 |\n",
            "| go          |    12 |\n",
            "| somehow     |    12 |\n",
            "| both        |    12 |\n",
            "| like        |    11 |\n",
            "| @_embo      |    11 |\n",
            "| read        |    11 |\n",
            "| cup         |    11 |\n",
            "| parts       |    11 |\n",
            "| sounded     |    11 |\n",
            "| worrisome   |    11 |\n",
            "| deserved    |    11 |\n",
            "| same        |    11 |\n",
            "| just        |     9 |\n",
            "| have        |     9 |\n",
            "| one         |     8 |\n",
            "| going       |     8 |\n",
            "| no          |     8 |\n",
            "| disney      |     7 |\n",
            "| we          |     7 |\n",
            "| there       |     7 |\n",
            "| #disneyland |     6 |\n",
            "| had         |     6 |\n",
            "| been        |     6 |\n",
            "| much        |     5 |\n",
            "| friends     |     5 |\n",
            "| can         |     5 |\n",
            "+-------------+-------+\n"
          ]
        }
      ]
    },
    {
      "cell_type": "code",
      "source": [
        "twitter_pos_text_reduced = []\n",
        "for text in twitter_pos_text:\n",
        "    reduced = filter(lambda w: w not in exclude, re.split(r'\\W+', text.lower()))\n",
        "    txt = ' '.join(list(reduced))\n",
        "    twitter_pos_text_reduced.append(txt)\n",
        "print(twitter_pos_text_reduced)"
      ],
      "metadata": {
        "id": "xMsRCpgE_nIX",
        "outputId": "a3d5c630-11da-4415-b691-e03005cba638",
        "colab": {
          "base_uri": "https://localhost:8080/"
        }
      },
      "execution_count": 14,
      "outputs": [
        {
          "output_type": "stream",
          "name": "stdout",
          "text": [
            "['lau_ren_s took much time alice wonderland area disneyland normie friends were like wow u rly like alice huh ', 'send money can go disneyland thank', 'took much time alice wonderland area disneyland normie friends were like wow u rly like https t co 4fvo83q5mf', ' ruincrab hobbesq heck yeah old disney few years back we were disneyland roger rabbit ride closed th https t co urnvpywqld', 'disneyland world summer ', ' nathanbarry dang we try go each year even s just one night enjoyed 4 day trip disneyland last weekend ', 'went disneyland job fair whim got job happy friday everyone d', 'did know disneyland isn t only place southern california get blue bantha milk princesscruises calls https t co zrbjuwwt0s', 'looking visit disneyland pregnant come find out best tips keep happiest gestational place e https t co qw8chsggb5', ' ed92magic never had dinner there stay there almost everytime when go disneyland ok few nights', ' rudypineda24 realtor_ranferi some great places celebrate birthday disneyland las vegas https t co ebdt16qaib', 'elcentrodetodo we agree mojomoxie disneyland disneyparks mickey mouse says puerto rico ready disney world lockerz ', ' caexception17 eqca lisamiddletonca gregabbott_tx s disneyland making whole little area dedicate https t co owipirevum', ' acecreates_ also disneyland ', ' dapperprof2161 due tragic backstory don t have reflexes any game s not tetris m savi https t co nbeo7l8qig', 'some diz hiz hosts have been training become certified travel agents sandpiper travels more informa https t co 4ay6j8dny0', ' hanfalls4harry hi m disneyland ', 'hehe m going disneyland rn d', ' lana_bhad77 d like meet all friends someday tbh whether s just coffee disneyland meet up course ', 'm gonna busking outside disneyland may well put out cute pins aren t necessarily c https t co i8t67bjekx', ' royalsilver4 adrian27011997 italiobas comicbookaction thomasfan3751 dovahkiin3990 superstarm64 elitefive1 https t co ti0j08ga0b', 'couldn t have thought better way spend our anniversary ve been disneyland more than hav https t co sjpyqq4esv', 'anyone want go disneyland tuesday ', ' idenville yes interview shows him gushing over how much fun he had working disneyland generally merli https t co nsdbci0ybm', ' lanessavo havent done vo work disney have done some short childrens shows dreamworks also fo https t co yuawwrakwh', 'going disneyland paris going france ', 'first time 20 years disneyland https t co hqkpwjyxuz', 'tbh would love park photographer disneyland especially means chance see people s reactio https t co at2emxnzrc', 'winnie pooh closed too d d d disneyland disneydisappoints disneydisappointed https t co np2em0kwdj', ' vipey_ come disneyland will guide around ', 'see disneyland today sorry m awkward ', ' mrhopper mousterpiece disneyland one p', ' jackystacky don t need going disneyland today can t find anybody else ', ' 18whenimetyou hope re having fun disneyland ', 'chocolatelia_ know bby they say disneyland happiest place earth well apparently no one has ever been standing ', 'know bby they say disneyland happiest place earth well apparently no one has ever been stan https t co 35plmlbe2u', 'lilbabykara jayson_tanaka disneyland djmilkado let s go 11th 25th ', 'lilbabykara jayson_tanaka disneyland djmilkado let s go 11th 25th ', ' iovedbylwt can t remember certain about disneyland know universal lot rides have tester seats https t co 64d5thtuci', 'authentic hauntedmansion disneyland sweatshirt selling would make big difference life right now https t co aw9xnhvonu', ' jtwusky art gallery something provokes opinions can t caught dating someone don t understand https t co 8movyux4mf', ' tjberry thank last went november 2019 year had an ap down there three times https t co hbru9cjoep', ' disneyland hi there trying cancel reservation droid depot thursday night unable c https t co kt80wtejuf', 'flights booked disneyland april dad d', 'swear ever ride went yesterday disneyland can tell m new there cause didn t know came https t co lqzfw5ajrm', 'velezms themoviechaser disneyanimation disneyland disneyparks encantomovie disney oh no sweetie re mistaken encanto takes ', ' happysnugglefur thank much s nice bring animation cels back into world background vid https t co hh8o1ugihg', ' themoviechaser disneyanimation disneyland disneyparks encantomovie disney oh no sweetie re mistaken https t co uyttrsj3fg', ' briannacherry sophieascruggs eqla an amazing show especially since right by disneyland ', ' alexb6311 re not only one love disneyland too ', 'any socal homies end up disneyland come say hi ll there day ', ' sweetanita go disneyland qtcinderella please yall two funniest people watch even yall d https t co wlhzandmad', ' turboemmy nice 50 s asthetics reminds how mickey mouse became drawn like disneyland 1950s good work ', 'heyellieday shoeb_ot rtfktstudios magic actually combining emerging tech used places like disneyland tv show sound stage ', ' shoeb_ot rtfktstudios magic actually combining emerging tech used places like disneyland tv show sound stages elsewhere ', ' barcaworldwide teammessi disneyland he sneaks ball 4 5 man regular basis he will manage sneak disney land somehow d d', 'lostheroes13 okay sony hear out playstation land like disneyland all games instead galaxy s edge we can have th ', 'okay sony hear out playstation land like disneyland all games instead galaxy s edge we can h https t co w5fw0ihibc', ' johncampea cheaper expenses vs giving up disneyland nice beaches etc just depends re willing trade off ', 'hi disneyland today https t co aqewmj0nxb', ' bornferal hi megan childless adult whose entire personality predicated love disneyland nice interact ', ' rckchkhwk need some new shoes before our disneyland trip m just killing 2 birds one stone ', ' tristannasaurus hope enjoyed disneyland haven t been there yet their orlando properties wonderful ', ' teachntransform disneyland tacos both haha ', 'justflayre disney monorail collection continues grow finally monorail orange finally added collection still needin ', 'disney monorail collection continues grow finally monorail orange finally added collection stil https t co xrdvrhbo8v', ' ovrlyovrseaspak uzairyounus tabadlab pakistonomy miftahismail just make stance clear very muc https t co idwtnbvaw4', 'sorry no streams had lil trip disneyland may may not stream later though ', ' bornferal had one pre nuptial agreement husband would never have go disneyland anywhere like https t co tmhbz1mqac', ' adam_pearson no need embarrassed haven t already done should visit walt disney world fl https t co oefmcjtalg', 'time next month missus will plane heading towards disneyland not m counting down https t co j12hmvq2ew', ' _disneysdream said disneyland because s where our next flight taking us 4 months though last https t co g7dvqsfmvj', ' kellyjohns thanks always forget target s gc discount just got our tickets when we visit disneylan https t co bm7cfjtbx3', ' ben_337 sputnikint probably then state andy avoid no hollywood no california disneyland either just https t co pck9aratpf', 'smp goes disneyland again streamers streaming 9 00pm est go check them out ', ' wttm disneyland disneyparks disneylandap enjoy ', 'yay made disneyland d disneyland excitedddd ', 'hey honda sponsor autotopia disneyland show videos about tomorrowland could cars al https t co fzp8rqgabv', 'miss tokyo disneyland m thinking going next month again s easy ride many rides because s not busy https t co iggeswwhhx', 'disneyland minecraft kaeya have an elsa crown n doll happy rn', ' royalsilver4 re still excited about going disneyland huh bro lt ', 'disneyland next week d', ' pmelonhead3 incredible visual lt 3 fun god definitely chose right person s much worl https t co kykflbxcdz', 'okay made profile someone liked commented haz pass picture disneyland go https t co tslfznbdl7', 'bad news time go home disneyland ll probably get home by around 1 good news ve been editing https t co v8sqksefak', ' tasgvlogs disneyland after long flight wearing masks getting luggage finding an uber herding entire https t co ce4apygsdp', ' chadcluff haha take will fight we started taking our kids wdw when they were little they l https t co sdnbuablxt', 'finally anaheim need batteries camera tho disneyland tomorrrow ', ' jennietetreault lol ballz steel got baby dose d level least 2mg s disneyland https t co gjsgu2r0a3', 'plan getting drunk disneyland birthday year ', 'nerodivergent urge reality shift disneyland during halloween some friends just can let out inner child ', ' alex_moukala we re totally doing disneyland sebbywebztv thepontotv y all do too d', ' sasakitime disneyland one those ', 'any disneyland tips trying go here soon ', 'heyo just heads up gonna very inactive weekend going disneyland wont online whole lot ', ' joshelman d argue kid ve had way more memorable experiences online games friends vs disn https t co s5jq0ceo6r', 'going disneyland celebrate bday d editing will have wait ll work bday dtiys tomorrow ', ' _embo read cup disneyland parts sounded both worrisome somehow deserved same time ', ' _embo read cup disneyland parts sounded both worrisome somehow deserved same time ', ' _embo read cup disneyland parts sounded both worrisome somehow deserved same time ', ' _embo read cup disneyland parts sounded both worrisome somehow deserved same time ', ' _embo read cup disneyland parts sounded both worrisome somehow deserved same time ', ' _embo read cup disneyland parts sounded both worrisome somehow deserved same time ', ' _embo read cup disneyland parts sounded both worrisome somehow deserved same time ', ' _embo read cup disneyland parts sounded both worrisome somehow deserved same time ', ' _embo read cup disneyland parts sounded both worrisome somehow deserved same time ', ' _embo read cup disneyland parts sounded both worrisome somehow deserved same time ', ' _embo read cup disneyland parts sounded both worrisome somehow deserved same time ']\n"
          ]
        }
      ]
    },
    {
      "cell_type": "code",
      "source": [
        "tweet_texts = [ re.sub(r\"[^\\w\\s'#@]\", '', text) for text in twitter_neg_text ]\n",
        "print(tweet_texts[0])\n",
        "words = [ w for t in tweet_texts for w in t.lower().split() ]\n",
        "words = list(filter(lambda x: x not in exclude, words))\n",
        "\n",
        "c = Counter(words)\n",
        "\n",
        "pt = PrettyTable(field_names=['Word', 'Count'])\n",
        "[ pt.add_row(kv) for kv in c.most_common()[:30] ]\n",
        "pt.align['Word'], pt.align['Count'] = 'l', 'r'\n",
        "print(pt)"
      ],
      "metadata": {
        "id": "6Xay_tjD9Mjg",
        "outputId": "83251797-fcfb-41dd-c975-42d767640c5c",
        "colab": {
          "base_uri": "https://localhost:8080/"
        }
      },
      "execution_count": 15,
      "outputs": [
        {
          "output_type": "stream",
          "name": "stdout",
          "text": [
            "I want to go to Disneyland I havent been there since I was 10 years old \n",
            "+-------------+-------+\n",
            "| Word        | Count |\n",
            "+-------------+-------+\n",
            "| disneyland  |    53 |\n",
            "| go          |    25 |\n",
            "| going       |    14 |\n",
            "| miss        |    13 |\n",
            "| wanna       |    11 |\n",
            "| gm          |    11 |\n",
            "| gt          |     6 |\n",
            "| want        |     5 |\n",
            "| take        |     5 |\n",
            "| not         |     4 |\n",
            "| never       |     4 |\n",
            "| friends     |     4 |\n",
            "| been        |     3 |\n",
            "| there       |     3 |\n",
            "| bad         |     3 |\n",
            "| them        |     3 |\n",
            "| someone     |     3 |\n",
            "| @disneyland |     3 |\n",
            "| wanted      |     3 |\n",
            "| can         |     3 |\n",
            "| wish        |     3 |\n",
            "| currently   |     3 |\n",
            "| old         |     2 |\n",
            "| date        |     2 |\n",
            "| here        |     2 |\n",
            "| we          |     2 |\n",
            "| one         |     2 |\n",
            "| still       |     2 |\n",
            "| they        |     2 |\n",
            "| dont        |     2 |\n",
            "+-------------+-------+\n"
          ]
        }
      ]
    },
    {
      "cell_type": "code",
      "source": [
        "twitter_neg_text_reduced = []\n",
        "for text in twitter_neg_text:\n",
        "    reduced = filter(lambda w: w not in exclude, re.split(r'\\W+', text.lower()))\n",
        "    txt = ' '.join(list(reduced))\n",
        "    twitter_neg_text_reduced.append(txt)\n",
        "print(twitter_neg_text_reduced)"
      ],
      "metadata": {
        "id": "pkwt8fCT_aEv",
        "outputId": "7723150b-236a-4fbc-a03d-d02ee5c6a718",
        "colab": {
          "base_uri": "https://localhost:8080/"
        }
      },
      "execution_count": 16,
      "outputs": [
        {
          "output_type": "stream",
          "name": "stdout",
          "text": [
            "['want go disneyland haven t been there since 10 years old ', 'met girl taimi louisiana she s literally sweetest wtf she says she d take date https t co vaovf8pqjg', 'half people snap either bad bunny concert living their best life disneyland here https t co pborhm0rzh', 'y all remember those busses we would take band go disneyland hs yeah m one except m not going disneyland ', 'disneyland still miss bf ', ' timjdillon disneyland anaheim brea where dinosaurs all went die ', 'wanna go disneyland ve never been https t co wgqd2hkosq', 'kinda want go disneyland ', ' jillie_bee they don t m not sure mechanisms them still there they don t do them anymore https t co v3jyxgdlr5', 'someone take disneyland ve never been ', 'paobabyyyy ve always wanted take pic w eeyore disneyland can never find him ', 've always wanted take pic w eeyore disneyland can never find him ', 'wanna go disneyland ', 'every one boo taking them disneyland wish had boo', 'wish disneyland ', ' convomf might sounds childish tapi gue pengen bgt ke disneyland ', 'need more friends go disneyland ', ' vokaylee sorry idk any other spots only go over there disneyland haha', 'someone come disneyland ', 'sigh wanna go disneyland ', ' bananajamana found out can t buy disneyland tix today ', 'damn wanna go disneyland bad baby time ', ' disneyland every disney youtuber passhole going crowding parks week see return https t co ukk0amyfsi', ' distouristblog disneyland gets everything ', ' circusbear16 last trip disneyland 1995 m ready go back have great day ', 'ugh wanna go disneyland bad ', 'just want disneyland eating turkey leg ', 'found out pirates carribean ride gonna closed when go disneyland ride https t co hcm14fu3kv', ' themuppets disneyland especially frank oz s characters not much long after he left he explained an artic https t co 1bliqmrnlz', ' mysticbillage billlieofficial miss going disneyland amp universal studios sm billlie coming https t co ssm2uv3y4j', 'know s not great wish wanna go disneyland ', 'jphypp wanna go disneyland gt ', 'jphypp wanna go disneyland gt ', 'wanna go disneyland gt ', 'wanna go disneyland universal during spring break gt ', 'want go date blue bayou disneyland gt ', ' miloerbach pewdiepies old outro led neros day disneyland led nightcore we left eachother crossroads ', 'someone pay disneyland ticket can go friends celebrate her birthday ', 'cutesamthings baby just wanted go disneyland 2 17 heart amp 9 01 think gonna like here https t co ibipzxzp1e', 'wanna go disneyland too much ask ', 'op showed sunoo disneyland during fansign https t co pm50us7h8m', 'ryonilea currently wishing could go disneyland friends different states ', 'currently wishing could go disneyland friends different states ', 'irs pls run shit want go disneyland gt ', 'manager currently disneyland m jealous ', 'isabelcarpio_ go disneyland again ', 'gm miss going disneyland ', 'gm miss going disneyland ', 'gm miss going disneyland ', 'gm miss going disneyland ', 'gm miss going disneyland ', 'gm miss going disneyland ', 'gm miss going disneyland ', 'gm miss going disneyland ', 'gm miss going disneyland ', 'gm miss going disneyland ', 'gm miss going disneyland ']\n"
          ]
        }
      ]
    },
    {
      "cell_type": "code",
      "source": [
        "kaggle = kaggle_one.find()\n",
        "pos_reviews = []\n",
        "neg_reviews = []\n",
        "# Selecting only Disneyland from California\n",
        "for review in kaggle:\n",
        "    if review['Branch'] == \"Disneyland_California\":\n",
        "        if int(review['Rating']) > 3:\n",
        "            pos_reviews.append(review['Review_Text'])\n",
        "        else:\n",
        "            neg_reviews.append(review['Review_Text'])\n",
        "\n",
        "print(pos_reviews[0])\n",
        "print(neg_reviews[0])"
      ],
      "metadata": {
        "id": "MNo3_3kV9ham",
        "outputId": "80a76af2-10a4-4973-bf01-eb8fdfd89082",
        "colab": {
          "base_uri": "https://localhost:8080/"
        }
      },
      "execution_count": 17,
      "outputs": [
        {
          "output_type": "stream",
          "name": "stdout",
          "text": [
            "This place has always been and forever will be special. The feeling you get entering the park, seeing the characters and different attractions is just priceless. This is definitely a dream trip for all ages, especially young kids. Spend the money and go to Disneyland, you will NOT regret it\n",
            "Took my son to the Park on a weekend(Fri Sun). Very busy all over the places. My son enjoyed it, but he was very sad that he could not try a lot of attractions as the wait time was huge.....( ranging from 60 90 minutes) If you have a lot of time to waste waiting in the line for the attractions, FASTPASS system at the park is just a ripoff. You can have only one attraction added to your plan at any point, once you complete that attraction you can add one more. \n"
          ]
        }
      ]
    },
    {
      "cell_type": "code",
      "source": [
        "from sklearn.feature_extraction.text import TfidfVectorizer\n",
        "\n",
        "all_pos = twitter_pos_text + pos_reviews\n",
        "all_neg = twitter_neg_text + neg_reviews\n",
        "\n",
        "vectorizer = TfidfVectorizer(min_df=1, max_df=0.7, ngram_range=(1,2))\n",
        "pos_vector = vectorizer.fit_transform(all_pos)\n",
        "unique_words_pos = vectorizer.get_feature_names_out()\n",
        "neg_vector = vectorizer.fit_transform(all_neg)\n",
        "unique_words_neg = vectorizer.get_feature_names_out()"
      ],
      "metadata": {
        "id": "Yxq5Zvjw-O_R"
      },
      "execution_count": 18,
      "outputs": []
    },
    {
      "cell_type": "code",
      "source": [
        "y_pos = [1] * 16602\n",
        "y_neg = [0] * 2963"
      ],
      "metadata": {
        "id": "yCGSG-byQPZb"
      },
      "execution_count": null,
      "outputs": []
    },
    {
      "cell_type": "markdown",
      "source": [
        "https://scikit-learn.org/stable/modules/generated/sklearn.feature_selection.SelectKBest.html"
      ],
      "metadata": {
        "id": "m7WhNvvvOxmR"
      }
    },
    {
      "cell_type": "markdown",
      "metadata": {
        "id": "ibfjvbDjjgoV"
      },
      "source": [
        "### Problem 4 (20 points): Prepare a 90 second Pitch and *present* it in the class \n",
        "\n",
        "* Prepare the slide(s) for the Pitch (10 points)\n",
        "* Present it in the class (10 points).\n",
        "\n",
        "**Advice:  It should really only be one or two slides, but a really good one or two slides!  Also, it is ok to select one person on the team to give the 90 second pitch (though a very organized multi-person 90 second pitch can be very impressive!)**\n",
        "\n"
      ]
    },
    {
      "cell_type": "markdown",
      "metadata": {
        "id": "cVrKlg5zjgoW"
      },
      "source": [
        "# Slides (for 10 minutes of presentation) (20 points)\n",
        "\n",
        "\n",
        "1. (5 points) Motivation about the data collection, why the topic is interesting to you. \n",
        "\n",
        "2. (10 points) Communicating Results (figure/table)\n",
        "\n",
        "3. (5 points) Story telling (How all the parts (data, analysis, result) fit together as a story?)"
      ]
    },
    {
      "cell_type": "markdown",
      "metadata": {
        "id": "BLDadFWxjgoW"
      },
      "source": [
        "\n",
        "# Done\n",
        "\n",
        "All set! \n",
        "\n",
        "** What do you need to submit?**\n",
        "\n",
        "* **Notebook File**: Save this IPython notebook, and find the notebook file in your folder (for example, \"filename.ipynb\"). This is the file you need to submit. Please make sure all the plotted tables and figures are in the notebook. If you used \"ipython notebook --pylab=inline\" to open the notebook, all the figures and tables should have shown up in the notebook.\n",
        "\n",
        "\n",
        "* **PPT Slides**: **NOTE, for this Case Study you need to prepare two (2) PPT files!**  One for the 90 second Pitch and one for a normal 15 minute presentation.\n",
        "\n",
        "*Please compress all the files into a single zipped file.*\n",
        "\n",
        "\n",
        "** How to submit: **\n",
        "\n",
        "        Please submit through canvas.wpi.edu.\n",
        "\n",
        "### DS3010 Case Study 4 Team ??\n",
        "\n",
        "#### where ?? is your team number.\n",
        "        \n",
        "** Note: Each team just needs to submits one submission **"
      ]
    },
    {
      "cell_type": "markdown",
      "metadata": {
        "collapsed": true,
        "id": "frk3FfU2jgoW"
      },
      "source": [
        "# Grading Criteria:\n",
        "\n",
        "**Totoal Points: 100**\n",
        "\n",
        "\n",
        "---------------------------------------------------------------------------\n",
        "**Notebook results:**\n",
        "    Points: 80\n",
        "\n",
        "\n",
        "    -----------------------------------\n",
        "    Question 1:\n",
        "    Points: 20\n",
        "    -----------------------------------\n",
        "    \n",
        "    -----------------------------------\n",
        "    Question 2:\n",
        "    Points: 20\n",
        "    -----------------------------------\n",
        "        \n",
        "    -----------------------------------\n",
        "    Question 3:\n",
        "    Points: 20\n",
        "    -----------------------------------\n",
        "  \n",
        "    -----------------------------------\n",
        "    Question 4:  90 second product pitch\n",
        "    Points: 20\n",
        "    -----------------------------------\n",
        "      \n",
        "    -----------------------------------\n",
        "\n",
        "---------------------------------------------------------------------------\n",
        "**Slides (for 15 minutes of presentation): Story-telling**\n",
        "    Points: 20\n",
        "\n",
        "\n",
        "1. Motivation about the data collection, why the topic is interesting to you.\n",
        "    Points: 5 \n",
        "\n",
        "2. Communicating Results (figure/table)\n",
        "    Points: 10 \n",
        "\n",
        "3. Story telling (How all the parts (data, analysis, result) fit together as a story?)\n",
        "    Points: 5 \n"
      ]
    }
  ],
  "metadata": {
    "kernelspec": {
      "display_name": "Python 3",
      "language": "python",
      "name": "python3"
    },
    "language_info": {
      "codemirror_mode": {
        "name": "ipython",
        "version": 3
      },
      "file_extension": ".py",
      "mimetype": "text/x-python",
      "name": "python",
      "nbconvert_exporter": "python",
      "pygments_lexer": "ipython3",
      "version": "3.7.3"
    },
    "colab": {
      "name": "Case5.ipynb",
      "provenance": [],
      "include_colab_link": true
    }
  },
  "nbformat": 4,
  "nbformat_minor": 0
}